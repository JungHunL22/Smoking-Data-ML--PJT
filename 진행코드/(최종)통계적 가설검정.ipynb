{
 "cells": [
  {
   "cell_type": "markdown",
   "id": "b04fa75a",
   "metadata": {},
   "source": [
    "## 전처리"
   ]
  },
  {
   "cell_type": "code",
   "execution_count": 1,
   "id": "1f49c88e",
   "metadata": {
    "execution": {
     "iopub.execute_input": "2022-09-27T02:42:06.419644Z",
     "iopub.status.busy": "2022-09-27T02:42:06.419157Z",
     "iopub.status.idle": "2022-09-27T02:42:07.000417Z",
     "shell.execute_reply": "2022-09-27T02:42:06.999011Z",
     "shell.execute_reply.started": "2022-09-27T02:42:06.419597Z"
    }
   },
   "outputs": [
    {
     "name": "stderr",
     "output_type": "stream",
     "text": [
      "C:\\Users\\JungHun.DESKTOP-JRGUSS9\\AppData\\Roaming\\Python\\Python39\\site-packages\\pandas\\core\\computation\\expressions.py:21: UserWarning: Pandas requires version '2.8.4' or newer of 'numexpr' (version '2.8.1' currently installed).\n",
      "  from pandas.core.computation.check import NUMEXPR_INSTALLED\n",
      "C:\\Users\\JungHun.DESKTOP-JRGUSS9\\AppData\\Roaming\\Python\\Python39\\site-packages\\pandas\\core\\arrays\\masked.py:60: UserWarning: Pandas requires version '1.3.6' or newer of 'bottleneck' (version '1.3.4' currently installed).\n",
      "  from pandas.core import (\n"
     ]
    }
   ],
   "source": [
    "import pandas as pd\n",
    "import numpy as np\n",
    "from sklearn.preprocessing import LabelEncoder # for encoding\n",
    "from sklearn.preprocessing import MinMaxScaler, RobustScaler, StandardScaler #for standardization\n",
    "from sklearn.model_selection import train_test_split\n",
    "import time"
   ]
  },
  {
   "cell_type": "code",
   "execution_count": 2,
   "id": "efb4c4a0",
   "metadata": {},
   "outputs": [],
   "source": [
    "import plotly.graph_objects as go\n",
    "import plotly.express as px\n",
    "from scipy import stats\n",
    "from scipy.stats import chi2_contingency"
   ]
  },
  {
   "cell_type": "code",
   "execution_count": 3,
   "id": "17c9d278",
   "metadata": {
    "execution": {
     "iopub.execute_input": "2022-09-27T02:42:12.338846Z",
     "iopub.status.busy": "2022-09-27T02:42:12.338436Z",
     "iopub.status.idle": "2022-09-27T02:42:12.632754Z",
     "shell.execute_reply": "2022-09-27T02:42:12.631426Z",
     "shell.execute_reply.started": "2022-09-27T02:42:12.338815Z"
    },
    "scrolled": true
   },
   "outputs": [],
   "source": [
    "# competition_format\n",
    "x_train = pd.read_csv('./data/Smoking_raw/competition_format/x_train.csv')\n",
    "# x_test = pd.read_csv('./data/Smoking_raw/competition_format/x_test.csv')\n",
    "y_train = pd.read_csv('./data/Smoking_raw/competition_format/y_train.csv')\n",
    "# y_test = pd.read_csv('./data/Smoking_raw/competition_format/y_test.csv')"
   ]
  },
  {
   "cell_type": "code",
   "execution_count": 4,
   "id": "2c361254",
   "metadata": {},
   "outputs": [
    {
     "data": {
      "text/html": [
       "<div>\n",
       "<style scoped>\n",
       "    .dataframe tbody tr th:only-of-type {\n",
       "        vertical-align: middle;\n",
       "    }\n",
       "\n",
       "    .dataframe tbody tr th {\n",
       "        vertical-align: top;\n",
       "    }\n",
       "\n",
       "    .dataframe thead th {\n",
       "        text-align: right;\n",
       "    }\n",
       "</style>\n",
       "<table border=\"1\" class=\"dataframe\">\n",
       "  <thead>\n",
       "    <tr style=\"text-align: right;\">\n",
       "      <th></th>\n",
       "      <th>ID</th>\n",
       "      <th>gender</th>\n",
       "      <th>age</th>\n",
       "      <th>height(cm)</th>\n",
       "      <th>weight(kg)</th>\n",
       "      <th>waist(cm)</th>\n",
       "      <th>eyesight(left)</th>\n",
       "      <th>eyesight(right)</th>\n",
       "      <th>hearing(left)</th>\n",
       "      <th>hearing(right)</th>\n",
       "      <th>...</th>\n",
       "      <th>LDL</th>\n",
       "      <th>hemoglobin</th>\n",
       "      <th>Urine protein</th>\n",
       "      <th>serum creatinine</th>\n",
       "      <th>AST</th>\n",
       "      <th>ALT</th>\n",
       "      <th>Gtp</th>\n",
       "      <th>oral</th>\n",
       "      <th>dental caries</th>\n",
       "      <th>tartar</th>\n",
       "    </tr>\n",
       "  </thead>\n",
       "  <tbody>\n",
       "    <tr>\n",
       "      <th>0</th>\n",
       "      <td>0</td>\n",
       "      <td>F</td>\n",
       "      <td>40</td>\n",
       "      <td>155</td>\n",
       "      <td>60</td>\n",
       "      <td>81.3</td>\n",
       "      <td>1.2</td>\n",
       "      <td>1.0</td>\n",
       "      <td>1.0</td>\n",
       "      <td>1.0</td>\n",
       "      <td>...</td>\n",
       "      <td>126.0</td>\n",
       "      <td>12.9</td>\n",
       "      <td>1.0</td>\n",
       "      <td>0.7</td>\n",
       "      <td>18.0</td>\n",
       "      <td>19.0</td>\n",
       "      <td>27.0</td>\n",
       "      <td>Y</td>\n",
       "      <td>0.0</td>\n",
       "      <td>Y</td>\n",
       "    </tr>\n",
       "    <tr>\n",
       "      <th>1</th>\n",
       "      <td>1</td>\n",
       "      <td>F</td>\n",
       "      <td>40</td>\n",
       "      <td>160</td>\n",
       "      <td>60</td>\n",
       "      <td>81.0</td>\n",
       "      <td>0.8</td>\n",
       "      <td>0.6</td>\n",
       "      <td>1.0</td>\n",
       "      <td>1.0</td>\n",
       "      <td>...</td>\n",
       "      <td>127.0</td>\n",
       "      <td>12.7</td>\n",
       "      <td>1.0</td>\n",
       "      <td>0.6</td>\n",
       "      <td>22.0</td>\n",
       "      <td>19.0</td>\n",
       "      <td>18.0</td>\n",
       "      <td>Y</td>\n",
       "      <td>0.0</td>\n",
       "      <td>Y</td>\n",
       "    </tr>\n",
       "    <tr>\n",
       "      <th>2</th>\n",
       "      <td>2</td>\n",
       "      <td>M</td>\n",
       "      <td>55</td>\n",
       "      <td>170</td>\n",
       "      <td>60</td>\n",
       "      <td>80.0</td>\n",
       "      <td>0.8</td>\n",
       "      <td>0.8</td>\n",
       "      <td>1.0</td>\n",
       "      <td>1.0</td>\n",
       "      <td>...</td>\n",
       "      <td>151.0</td>\n",
       "      <td>15.8</td>\n",
       "      <td>1.0</td>\n",
       "      <td>1.0</td>\n",
       "      <td>21.0</td>\n",
       "      <td>16.0</td>\n",
       "      <td>22.0</td>\n",
       "      <td>Y</td>\n",
       "      <td>0.0</td>\n",
       "      <td>N</td>\n",
       "    </tr>\n",
       "    <tr>\n",
       "      <th>3</th>\n",
       "      <td>3</td>\n",
       "      <td>M</td>\n",
       "      <td>40</td>\n",
       "      <td>165</td>\n",
       "      <td>70</td>\n",
       "      <td>88.0</td>\n",
       "      <td>1.5</td>\n",
       "      <td>1.5</td>\n",
       "      <td>1.0</td>\n",
       "      <td>1.0</td>\n",
       "      <td>...</td>\n",
       "      <td>226.0</td>\n",
       "      <td>14.7</td>\n",
       "      <td>1.0</td>\n",
       "      <td>1.0</td>\n",
       "      <td>19.0</td>\n",
       "      <td>26.0</td>\n",
       "      <td>18.0</td>\n",
       "      <td>Y</td>\n",
       "      <td>0.0</td>\n",
       "      <td>Y</td>\n",
       "    </tr>\n",
       "    <tr>\n",
       "      <th>4</th>\n",
       "      <td>4</td>\n",
       "      <td>F</td>\n",
       "      <td>40</td>\n",
       "      <td>155</td>\n",
       "      <td>60</td>\n",
       "      <td>86.0</td>\n",
       "      <td>1.0</td>\n",
       "      <td>1.0</td>\n",
       "      <td>1.0</td>\n",
       "      <td>1.0</td>\n",
       "      <td>...</td>\n",
       "      <td>107.0</td>\n",
       "      <td>12.5</td>\n",
       "      <td>1.0</td>\n",
       "      <td>0.6</td>\n",
       "      <td>16.0</td>\n",
       "      <td>14.0</td>\n",
       "      <td>22.0</td>\n",
       "      <td>Y</td>\n",
       "      <td>0.0</td>\n",
       "      <td>N</td>\n",
       "    </tr>\n",
       "  </tbody>\n",
       "</table>\n",
       "<p>5 rows × 26 columns</p>\n",
       "</div>"
      ],
      "text/plain": [
       "   ID gender  age  height(cm)  weight(kg)  waist(cm)  eyesight(left)  \\\n",
       "0   0      F   40         155          60       81.3             1.2   \n",
       "1   1      F   40         160          60       81.0             0.8   \n",
       "2   2      M   55         170          60       80.0             0.8   \n",
       "3   3      M   40         165          70       88.0             1.5   \n",
       "4   4      F   40         155          60       86.0             1.0   \n",
       "\n",
       "   eyesight(right)  hearing(left)  hearing(right)  ...    LDL  hemoglobin  \\\n",
       "0              1.0            1.0             1.0  ...  126.0        12.9   \n",
       "1              0.6            1.0             1.0  ...  127.0        12.7   \n",
       "2              0.8            1.0             1.0  ...  151.0        15.8   \n",
       "3              1.5            1.0             1.0  ...  226.0        14.7   \n",
       "4              1.0            1.0             1.0  ...  107.0        12.5   \n",
       "\n",
       "   Urine protein  serum creatinine   AST   ALT   Gtp  oral  dental caries  \\\n",
       "0            1.0               0.7  18.0  19.0  27.0     Y            0.0   \n",
       "1            1.0               0.6  22.0  19.0  18.0     Y            0.0   \n",
       "2            1.0               1.0  21.0  16.0  22.0     Y            0.0   \n",
       "3            1.0               1.0  19.0  26.0  18.0     Y            0.0   \n",
       "4            1.0               0.6  16.0  14.0  22.0     Y            0.0   \n",
       "\n",
       "   tartar  \n",
       "0       Y  \n",
       "1       Y  \n",
       "2       N  \n",
       "3       Y  \n",
       "4       N  \n",
       "\n",
       "[5 rows x 26 columns]"
      ]
     },
     "execution_count": 4,
     "metadata": {},
     "output_type": "execute_result"
    }
   ],
   "source": [
    "x_train.head()"
   ]
  },
  {
   "cell_type": "code",
   "execution_count": 5,
   "id": "4ff0abd9",
   "metadata": {},
   "outputs": [
    {
     "data": {
      "text/html": [
       "<div>\n",
       "<style scoped>\n",
       "    .dataframe tbody tr th:only-of-type {\n",
       "        vertical-align: middle;\n",
       "    }\n",
       "\n",
       "    .dataframe tbody tr th {\n",
       "        vertical-align: top;\n",
       "    }\n",
       "\n",
       "    .dataframe thead th {\n",
       "        text-align: right;\n",
       "    }\n",
       "</style>\n",
       "<table border=\"1\" class=\"dataframe\">\n",
       "  <thead>\n",
       "    <tr style=\"text-align: right;\">\n",
       "      <th></th>\n",
       "      <th>ID</th>\n",
       "      <th>smoking</th>\n",
       "    </tr>\n",
       "  </thead>\n",
       "  <tbody>\n",
       "    <tr>\n",
       "      <th>0</th>\n",
       "      <td>0</td>\n",
       "      <td>0</td>\n",
       "    </tr>\n",
       "    <tr>\n",
       "      <th>1</th>\n",
       "      <td>1</td>\n",
       "      <td>0</td>\n",
       "    </tr>\n",
       "    <tr>\n",
       "      <th>2</th>\n",
       "      <td>2</td>\n",
       "      <td>1</td>\n",
       "    </tr>\n",
       "    <tr>\n",
       "      <th>3</th>\n",
       "      <td>3</td>\n",
       "      <td>0</td>\n",
       "    </tr>\n",
       "    <tr>\n",
       "      <th>4</th>\n",
       "      <td>4</td>\n",
       "      <td>0</td>\n",
       "    </tr>\n",
       "  </tbody>\n",
       "</table>\n",
       "</div>"
      ],
      "text/plain": [
       "   ID  smoking\n",
       "0   0        0\n",
       "1   1        0\n",
       "2   2        1\n",
       "3   3        0\n",
       "4   4        0"
      ]
     },
     "execution_count": 5,
     "metadata": {},
     "output_type": "execute_result"
    }
   ],
   "source": [
    "y_train.head()"
   ]
  },
  {
   "cell_type": "code",
   "execution_count": 6,
   "id": "026915e4",
   "metadata": {},
   "outputs": [
    {
     "name": "stdout",
     "output_type": "stream",
     "text": [
      "<class 'pandas.core.frame.DataFrame'>\n",
      "RangeIndex: 44553 entries, 0 to 44552\n",
      "Data columns (total 27 columns):\n",
      " #   Column               Non-Null Count  Dtype  \n",
      "---  ------               --------------  -----  \n",
      " 0   ID                   44553 non-null  int64  \n",
      " 1   gender               44553 non-null  object \n",
      " 2   age                  44553 non-null  int64  \n",
      " 3   height(cm)           44553 non-null  int64  \n",
      " 4   weight(kg)           44553 non-null  int64  \n",
      " 5   waist(cm)            44553 non-null  float64\n",
      " 6   eyesight(left)       44553 non-null  float64\n",
      " 7   eyesight(right)      44553 non-null  float64\n",
      " 8   hearing(left)        44553 non-null  float64\n",
      " 9   hearing(right)       44553 non-null  float64\n",
      " 10  systolic             44553 non-null  float64\n",
      " 11  relaxation           44553 non-null  float64\n",
      " 12  fasting blood sugar  44553 non-null  float64\n",
      " 13  Cholesterol          44553 non-null  float64\n",
      " 14  triglyceride         44553 non-null  float64\n",
      " 15  HDL                  44553 non-null  float64\n",
      " 16  LDL                  44553 non-null  float64\n",
      " 17  hemoglobin           44553 non-null  float64\n",
      " 18  Urine protein        44553 non-null  float64\n",
      " 19  serum creatinine     44553 non-null  float64\n",
      " 20  AST                  44553 non-null  float64\n",
      " 21  ALT                  44553 non-null  float64\n",
      " 22  Gtp                  44553 non-null  float64\n",
      " 23  oral                 44553 non-null  object \n",
      " 24  dental caries        44553 non-null  float64\n",
      " 25  tartar               44553 non-null  object \n",
      " 26  smoking              44553 non-null  int64  \n",
      "dtypes: float64(19), int64(5), object(3)\n",
      "memory usage: 9.2+ MB\n"
     ]
    }
   ],
   "source": [
    "train=x_train.merge(y_train,on='ID')\n",
    "train.info()"
   ]
  },
  {
   "cell_type": "markdown",
   "id": "7be2b7da",
   "metadata": {},
   "source": [
    "가설 검정 변수\n",
    "\n",
    "연속형 변수 : HDL,LDL,hemoglobin,triglyceride,fasting blood sugar,Gtp ( T검정으로 검정)\n",
    "\n",
    "\n",
    "범주형 변수 : dental caries, tartar (카이제곱으로 검정)\n",
    "\n"
   ]
  },
  {
   "cell_type": "code",
   "execution_count": 7,
   "id": "5a6f49ba",
   "metadata": {},
   "outputs": [],
   "source": [
    "cont_var=['HDL','LDL','hemoglobin','triglyceride','fasting blood sugar','Gtp']\n",
    "cate_var=['dental caries','tartar']"
   ]
  },
  {
   "cell_type": "markdown",
   "id": "9c461142",
   "metadata": {},
   "source": [
    "# T-test를 위한 연속형 변수 데이터 스플릿"
   ]
  },
  {
   "cell_type": "code",
   "execution_count": 8,
   "id": "604e15a6",
   "metadata": {},
   "outputs": [],
   "source": [
    "def group_split(df,var):\n",
    "    smoker=df[df['smoking']==1][var]\n",
    "    nonsmoker=df[df['smoking']==0][var]\n",
    "    \n",
    "    return smoker,nonsmoker"
   ]
  },
  {
   "cell_type": "markdown",
   "id": "b019ada0",
   "metadata": {},
   "source": [
    "# Chi-Test를 위한 범주형 변수 교차 테이블 생성"
   ]
  },
  {
   "cell_type": "code",
   "execution_count": 45,
   "id": "f1a5fccd",
   "metadata": {},
   "outputs": [],
   "source": [
    "def piv(df,var):\n",
    "    result=df.pivot_table(index='smoking',columns=var,aggfunc='size')\n",
    "    result.index=['non-smoker','smoker']\n",
    "    result.columns=['n','y']\n",
    "    return result"
   ]
  },
  {
   "cell_type": "markdown",
   "id": "acaa175f",
   "metadata": {},
   "source": [
    "# var_type에 따라 검정방법을 다르게하여 검정하는 함수\n",
    "**- var_type이 continuous면 연속형 변수로 T-test진행**  \n",
    "    1. 등분산 검정결과에 따라 t-test의 등분산을 가정할 것인지 판단  \n",
    "    2. equal_var=True면 분산이 같다고 판단하여 t-test진행/False이면 분산이 다르다고 판단하여 t-test진행  \n",
    "    \n",
    "\n",
    "**- var_type이 continuous가 아니면 범주형 변수로 Chi-test 진행**"
   ]
  },
  {
   "cell_type": "code",
   "execution_count": 10,
   "id": "3b675ebc",
   "metadata": {},
   "outputs": [],
   "source": [
    "# 연속형 변수와 범주형 변수로 나누어서 검정\n",
    "def test(var,var_type='continuous'):\n",
    "    smoker,nonsmoker=group_split(train,var)\n",
    "    if var_type=='continuous':\n",
    "        # 분산 동질성 검정\n",
    "        test_res1=stats.levene(smoker, nonsmoker)\n",
    "        \n",
    "        # 동질성 검정 결과에 따라 동분산가정 T-test여부 결정\n",
    "        if test_res1[1]>=0.05:\n",
    "            t_stat, p_value = stats.ttest_ind(smoker, nonsmoker, equal_var=True)\n",
    "            print('P-value:', p_value)\n",
    "            if p_value>=0.05:\n",
    "                print('귀무가설 채택 : p값이 0.05보다 크므로 흡연여부에 따라 통계적으로 차이가 없음.')\n",
    "            else :\n",
    "                print('대립가설 채택 : p값이 0.05보다 작으므로 흡연여부에 따라 통계적으로 차이가 있음.')\n",
    "        else :\n",
    "            t_stat, p_value = stats.ttest_ind(smoker, nonsmoker, equal_var=False)\n",
    "            print('P-value:', p_value)\n",
    "            if p_value>=0.05:\n",
    "                print('귀무가설 채택 : p값이 0.05보다 크므로 흡연여부에 따라 통계적으로 차이가 없음.')\n",
    "            else :\n",
    "                print('대립가설 채택 : p값이 0.05보다 작으므로 흡연여부에 따라 통계적으로 차이가 있음.')\n",
    "    else : \n",
    "        observed=piv(train,var)\n",
    "        chi,p_value,dof,exp=chi2_contingency(observed)\n",
    "        print('P-value:',p_value)\n",
    "        if p_value>=0.5:\n",
    "            print('귀무가설 채택 : p값이 0.05보다 크므로 흡연여부에 따라 통계적으로 연관성이 없음.')\n",
    "        else :\n",
    "            print('대립가설 채택 : p값이 0.05보다 작으므로 흡연여부에 따라 통계적으로 연관성이 있음.')"
   ]
  },
  {
   "cell_type": "markdown",
   "id": "7e872409",
   "metadata": {},
   "source": [
    "# 연속형 변수 가설검정"
   ]
  },
  {
   "cell_type": "code",
   "execution_count": 12,
   "id": "491846e0",
   "metadata": {},
   "outputs": [
    {
     "name": "stdout",
     "output_type": "stream",
     "text": [
      "HDL\n",
      "P-value: 3.20425221812743e-309\n",
      "대립가설 채택 : p값이 0.05보다 작으므로 흡연여부에 따라 통계적으로 차이가 있음.\n",
      "\n",
      "\n",
      "LDL\n",
      "P-value: 2.9618249246658e-20\n",
      "대립가설 채택 : p값이 0.05보다 작으므로 흡연여부에 따라 통계적으로 차이가 있음.\n",
      "\n",
      "\n",
      "hemoglobin\n",
      "P-value: 0.0\n",
      "대립가설 채택 : p값이 0.05보다 작으므로 흡연여부에 따라 통계적으로 차이가 있음.\n",
      "\n",
      "\n",
      "triglyceride\n",
      "P-value: 0.0\n",
      "대립가설 채택 : p값이 0.05보다 작으므로 흡연여부에 따라 통계적으로 차이가 있음.\n",
      "\n",
      "\n",
      "fasting blood sugar\n",
      "P-value: 4.564077325980962e-84\n",
      "대립가설 채택 : p값이 0.05보다 작으므로 흡연여부에 따라 통계적으로 차이가 있음.\n",
      "\n",
      "\n",
      "Gtp\n",
      "P-value: 0.0\n",
      "대립가설 채택 : p값이 0.05보다 작으므로 흡연여부에 따라 통계적으로 차이가 있음.\n",
      "\n",
      "\n"
     ]
    }
   ],
   "source": [
    "for i in cont_var:\n",
    "    print(i)\n",
    "    test(i)\n",
    "    print('\\n')"
   ]
  },
  {
   "cell_type": "code",
   "execution_count": 83,
   "id": "bd180701",
   "metadata": {},
   "outputs": [],
   "source": [
    "# 효과크기 직접계산\n",
    "def cohens_d(group1, group2):\n",
    "    mean1, mean2 = np.mean(group1), np.mean(group2)\n",
    "    std1, std2 = np.std(group1, ddof=1), np.std(group2, ddof=1)\n",
    "    pooled_std = np.sqrt(((len(group1) - 1) * std1**2 + (len(group2) - 1) * std2**2) / (len(group1) + len(group2) - 2))\n",
    "    cohens_d=(mean1 - mean2) / pooled_std\n",
    "    return cohens_d"
   ]
  },
  {
   "cell_type": "code",
   "execution_count": 86,
   "id": "40ea8783",
   "metadata": {},
   "outputs": [
    {
     "name": "stdout",
     "output_type": "stream",
     "text": [
      "HDL cohen's d : -0.3707052642080041\n",
      "LDL cohen's d : -0.09347475597439728\n",
      "hemoglobin cohen's d : 0.8981989212025849\n",
      "triglyceride cohen's d : 0.5377339713131515\n",
      "fasting blood sugar cohen's d : 0.20726418291531942\n",
      "Gtp cohen's d : 0.5014602936469544\n"
     ]
    }
   ],
   "source": [
    "for i in range(len(cont_var)):\n",
    "    smoker,nonsmoker=group_split(train,cont_var[i])\n",
    "    print(f\"{cont_var[i]} cohen's d : {cohens_d(smoker,nonsmoker)}\")\n",
    "    \n"
   ]
  },
  {
   "cell_type": "markdown",
   "id": "1b4a7ffa",
   "metadata": {},
   "source": [
    "# 범주형 변수 가설검정"
   ]
  },
  {
   "cell_type": "code",
   "execution_count": 11,
   "id": "5074968d",
   "metadata": {},
   "outputs": [
    {
     "name": "stdout",
     "output_type": "stream",
     "text": [
      "dental caries\n",
      "P-value: 2.682243235128026e-109\n",
      "대립가설 채택 : p값이 0.05보다 작으므로 흡연여부에 따라 통계적으로 차이가 있음.\n",
      "\n",
      "\n",
      "tartar\n",
      "P-value: 4.245470858017243e-104\n",
      "대립가설 채택 : p값이 0.05보다 작으므로 흡연여부에 따라 통계적으로 차이가 있음.\n",
      "\n",
      "\n"
     ]
    }
   ],
   "source": [
    "for i in cate_var:\n",
    "    print(i)\n",
    "    test(i,var_type='category')\n",
    "    print('\\n')"
   ]
  },
  {
   "cell_type": "code",
   "execution_count": 67,
   "id": "79f4d6ac",
   "metadata": {},
   "outputs": [],
   "source": [
    "def cramer(cr_df):\n",
    "    n = cr_df.values.sum()  # 전체 샘플 수\n",
    "    chi2, p, dof, expected = chi2_contingency(cr_df)\n",
    "    cramers_v = np.sqrt(chi2 / (n * min(cr_df.shape[0] - 1, cr_df.shape[1] - 1)))\n",
    "    print(f\"{cate_var[i]} Cramér's V: {cramers_v}\")"
   ]
  },
  {
   "cell_type": "code",
   "execution_count": 68,
   "id": "e0262897",
   "metadata": {},
   "outputs": [
    {
     "name": "stdout",
     "output_type": "stream",
     "text": [
      "dental caries Cramér's V: 0.10522811762768798\n",
      "tartar Cramér's V: 0.10264810555531649\n"
     ]
    }
   ],
   "source": [
    "for i in range(len(cate_var)):\n",
    "    df=piv(train,cate_var[i])\n",
    "    cramer(df)\n",
    "    "
   ]
  },
  {
   "cell_type": "markdown",
   "id": "c52378ac",
   "metadata": {},
   "source": [
    "# 효과크기 계산 라이브러리 예시\n",
    "(직접 계산하였으나 라이브러리도 존재)"
   ]
  },
  {
   "cell_type": "code",
   "execution_count": 3,
   "id": "710d7696",
   "metadata": {},
   "outputs": [
    {
     "name": "stderr",
     "output_type": "stream",
     "text": [
      "C:\\Users\\JungHun.DESKTOP-JRGUSS9\\AppData\\Roaming\\Python\\Python39\\site-packages\\pandas\\core\\computation\\expressions.py:21: UserWarning: Pandas requires version '2.8.4' or newer of 'numexpr' (version '2.8.1' currently installed).\n",
      "  from pandas.core.computation.check import NUMEXPR_INSTALLED\n",
      "C:\\Users\\JungHun.DESKTOP-JRGUSS9\\AppData\\Roaming\\Python\\Python39\\site-packages\\pandas\\core\\arrays\\masked.py:60: UserWarning: Pandas requires version '1.3.6' or newer of 'bottleneck' (version '1.3.4' currently installed).\n",
      "  from pandas.core import (\n"
     ]
    }
   ],
   "source": [
    "import pingouin"
   ]
  },
  {
   "cell_type": "code",
   "execution_count": 25,
   "id": "222a716b",
   "metadata": {},
   "outputs": [
    {
     "data": {
      "text/plain": [
       "0.5014602936469544"
      ]
     },
     "execution_count": 25,
     "metadata": {},
     "output_type": "execute_result"
    }
   ],
   "source": [
    "pingouin.compute_effsize(smoker, nonsmoker, eftype='cohen')"
   ]
  }
 ],
 "metadata": {
  "kernelspec": {
   "display_name": "Python 3 (ipykernel)",
   "language": "python",
   "name": "python3"
  },
  "language_info": {
   "codemirror_mode": {
    "name": "ipython",
    "version": 3
   },
   "file_extension": ".py",
   "mimetype": "text/x-python",
   "name": "python",
   "nbconvert_exporter": "python",
   "pygments_lexer": "ipython3",
   "version": "3.9.12"
  }
 },
 "nbformat": 4,
 "nbformat_minor": 5
}
