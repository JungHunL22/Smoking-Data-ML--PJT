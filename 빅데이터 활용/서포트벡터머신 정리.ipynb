{
 "cells": [
  {
   "cell_type": "markdown",
   "id": "303fb553",
   "metadata": {},
   "source": [
    "# 서포트벡터머신 개념 정리"
   ]
  },
  {
   "cell_type": "markdown",
   "id": "69a2395c",
   "metadata": {},
   "source": [
    "**서포트벡터머신** : 머신러닝 기법의 하나로 패턴인식,이진분류를 위한 비확률적 지도학습 모델\n",
    "    (주로 회귀와 분류문제 해결에 사용)\n",
    "- 장점\n",
    "    - 회귀와 분류에 모두 적용할 수 있음.\n",
    "    - 라벨을 직접 추정하기때문에 조건부확률로 예측하는 모형에 비해 예측력이 높음.\n",
    "    - 과적합의 가능성이 낮음.\n",
    "\n",
    "- 단점\n",
    "    - 데이터 스케일링에 민감함.\n",
    "    - 고차원으로 갈수록 여러 연산이 필요해서 학습속도가 느림.\n",
    "    - 다양한 하이퍼파라미터(커널,C,gamma)값을 여러 번 조합해 최적의 모델을 구해야함.\n",
    "    - 모형이 복잡해 결과에 대한 설명이 어려움.\n",
    "    \n",
    "\n",
    "**중요 하이퍼 파라미터**\n",
    "* Kernel : 주어진 데이터를 공간 상에서 분류하는 함수를 지정(linear,poly,RBF가 있음, 고차원 데이터는 선형분류로는 예측력이 매우 낮음)\n",
    "* C : 서포트벡터와 결정경계 사이의 마진(거리)을 설정(C가 클수록 마진이 좁아짐,하드마진)\n",
    "* gamma : 비선형 커널에서 결정경계의 곡률을 설정(높을수록 곡률이 큼,오차를 적게 허용)\n",
    "\n",
    "C와 gamma를 높게 설정할수록 오류를 덜 허용하여 과적합될 수도 있음"
   ]
  },
  {
   "cell_type": "markdown",
   "id": "b04fa75a",
   "metadata": {},
   "source": [
    "## 전처리"
   ]
  },
  {
   "cell_type": "code",
   "execution_count": 2,
   "id": "1f49c88e",
   "metadata": {
    "execution": {
     "iopub.execute_input": "2022-09-27T02:42:06.419644Z",
     "iopub.status.busy": "2022-09-27T02:42:06.419157Z",
     "iopub.status.idle": "2022-09-27T02:42:07.000417Z",
     "shell.execute_reply": "2022-09-27T02:42:06.999011Z",
     "shell.execute_reply.started": "2022-09-27T02:42:06.419597Z"
    }
   },
   "outputs": [],
   "source": [
    "import pandas as pd\n",
    "import numpy as np\n",
    "from sklearn.preprocessing import LabelEncoder # for encoding\n",
    "from sklearn.preprocessing import MinMaxScaler, RobustScaler, StandardScaler #for standardization\n",
    "from sklearn.model_selection import train_test_split\n",
    "import time"
   ]
  },
  {
   "cell_type": "code",
   "execution_count": 3,
   "id": "2a4eb060",
   "metadata": {
    "execution": {
     "iopub.execute_input": "2022-09-27T02:42:08.209431Z",
     "iopub.status.busy": "2022-09-27T02:42:08.209024Z",
     "iopub.status.idle": "2022-09-27T02:42:08.221475Z",
     "shell.execute_reply": "2022-09-27T02:42:08.219997Z",
     "shell.execute_reply.started": "2022-09-27T02:42:08.209399Z"
    }
   },
   "outputs": [],
   "source": [
    "def preprocessing(df_scaling, scaled_form = 'MinMaxScaler()'):\n",
    "    # 불필요한 컬럼 제거\n",
    "    if 'ID' in df_scaling:\n",
    "        df_scaling = df_scaling.drop(\"ID\", axis = 1)\n",
    "        if len(df_scaling.columns) == 1:\n",
    "            return df_scaling\n",
    "        \n",
    "        def func(x):\n",
    "            if x < 1.0 :\n",
    "                return 1\n",
    "            elif x < 1.6 :\n",
    "                return 2\n",
    "            elif x <= 2.0 :\n",
    "                return 3\n",
    "            else : \n",
    "                return 4\n",
    "        df_scaling['eyesight(left)'] = df_scaling['eyesight(left)'].apply(lambda x:func(x))    \n",
    "        df_scaling['eyesight(right)'] = df_scaling['eyesight(right)'].apply(lambda x:func(x))\n",
    "        \n",
    "        # Urine protein 범주화\n",
    "        df_scaling['Urine protein'] = df_scaling['Urine protein'].apply(lambda x : x-1 if x == 1.0 else x)\n",
    "        df_scaling['Urine protein'] = df_scaling['Urine protein'].apply(lambda x : x-1 if x == 2.0 else x)\n",
    "        df_scaling['Urine protein'] = df_scaling['Urine protein'].apply(lambda x : x-1 if x == 3.0 else x)\n",
    "        df_scaling['Urine protein'] = df_scaling['Urine protein'].apply(lambda x : x==2 if x > 3.0 else x)\n",
    "        \n",
    "        df_scaling = df_scaling.drop('oral', axis = 1) \n",
    "        # 범주형 피처 레이블 인코딩 \n",
    "        cate_features = df_scaling[['gender','tartar']]\n",
    "\n",
    "        lbe = LabelEncoder()\n",
    "        lbe.fit_transform(df_scaling[\"gender\"])\n",
    "        df_scaling[\"gender\"] = lbe.fit_transform(df_scaling[\"gender\"])\n",
    "\n",
    "        lbe = LabelEncoder()\n",
    "        lbe.fit_transform(df_scaling[\"tartar\"])\n",
    "        df_scaling[\"tartar\"] = lbe.fit_transform(df_scaling[\"tartar\"])\n",
    "        # hearing 피처 1, 2 => 1, 0으로 변환\n",
    "        df_scaling['hearing(left)'] = df_scaling['hearing(left)'].apply(lambda x: x-2 if x ==2.0 else x )\n",
    "        df_scaling['hearing(right)'] = df_scaling['hearing(right)'].apply(lambda x: x-2 if x ==2.0 else x )\n",
    "        \n",
    "        # BMI 지수 계산\n",
    "        # bmi = kg/m^2\n",
    "        #df_scaling['bmi'] = df_scaling['weight(kg)']/((df_scaling['height(cm)']*0.01)**2)\n",
    "        # wwi(비만 지수) 지수 계산\n",
    "        #df_scaling['wwi'] = df_scaling['waist(cm)']/(df_scaling['weight(kg)'].apply(np.sqrt))\n",
    "        return df_scaling"
   ]
  },
  {
   "cell_type": "code",
   "execution_count": 4,
   "id": "58b17048",
   "metadata": {},
   "outputs": [],
   "source": [
    "def scaling(train_data, test_data, scaled_form = 'MinMaxScaler()'):\n",
    "    # 형태 별 특성 구분\n",
    "    train_data = preprocessing(train_data)\n",
    "    test_data = preprocessing(test_data)\n",
    "    tr_cate_features = train_data[['gender', 'tartar', 'hearing(right)', 'hearing(left)', 'dental caries']]\n",
    "    tr_scaled_features = train_data.drop(tr_cate_features.columns, axis=1)\n",
    "    \n",
    "    ts_cate_features = test_data[['gender', 'tartar', 'hearing(right)', 'hearing(left)', 'dental caries']]\n",
    "    ts_scaled_features = test_data.drop(ts_cate_features.columns, axis=1)\n",
    "    \n",
    "    if scaled_form == 'StandardScaler()':\n",
    "        # Standard scaler\n",
    "        scaler = StandardScaler()\n",
    "        scaler.fit(tr_scaled_features) # 훈련 데이터에 fit() 적용\n",
    "        \n",
    "        # 훈련 데이터와 테스트 데이터에 transform()을 통해 변환\n",
    "        tr_scaled = scaler.transform(tr_scaled_features)\n",
    "        ts_scaled = scaler.transform(ts_scaled_features)\n",
    "        \n",
    "        train_std_scaled = pd.DataFrame(tr_scaled, columns=tr_scaled_features.columns)\n",
    "        train_std_scaled[tr_cate_features.columns] = tr_cate_features\n",
    "        \n",
    "        test_std_scaled = pd.DataFrame(ts_scaled, columns=ts_scaled_features.columns)\n",
    "        test_std_scaled[ts_cate_features.columns] = ts_cate_features\n",
    "        \n",
    "        return train_std_scaled, test_std_scaled\n",
    "    \n",
    "    elif scaled_form == 'RobustScaler()':\n",
    "        # Robust scaler\n",
    "        scaler = RobustScaler()\n",
    "        scaler.fit(tr_scaled_features) # 훈련 데이터에 fit() 적용\n",
    "        \n",
    "        # 훈련 데이터와 테스트 데이터에 transform()을 통해 변환\n",
    "        tr_scaled = scaler.transform(tr_scaled_features)\n",
    "        ts_scaled = scaler.transform(ts_scaled_features)\n",
    "        \n",
    "        # 데이터 프레임 형태로 변환\n",
    "        train_robust_scaled = pd.DataFrame(tr_scaled, columns=tr_scaled_features.columns)\n",
    "        train_robust_scaled[tr_cate_features.columns] = tr_cate_features\n",
    "        \n",
    "        test_robust_scaled = pd.DataFrame(ts_scaled, columns=ts_scaled_features.columns)\n",
    "        test_robust_scaled[ts_cate_features.columns] = ts_cate_features\n",
    "        \n",
    "        return train_robust_scaled, test_robust_scaled\n",
    "\n",
    "    \n",
    "    elif scaled_form == 'logScaler()' :\n",
    "        tr_scaled = np.log1p(tr_scaled_features)\n",
    "        ts_scaled = np.log1p(ts_scaled_features)\n",
    "         # 데이터 프레임 형태로 변환\n",
    "        train_log_scaled = pd.DataFrame(tr_scaled, columns = tr_scaled_features.columns)\n",
    "        train_log_scaled[tr_cate_features.columns] = tr_cate_features\n",
    "        \n",
    "        test_log_scaled = pd.DataFrame(ts_scaled,columns = ts_scaled_features.columns)\n",
    "        test_log_scaled[ts_cate_features.columns] = ts_cate_features \n",
    "        \n",
    "        return train_log_scaled, test_log_scaled\n",
    "        \n",
    "    else:\n",
    "        # MinMax scaler\n",
    "        scaler = MinMaxScaler()\n",
    "        scaler.fit(tr_scaled_features) # 훈련 데이터에 fit() 적용\n",
    "        \n",
    "        # 훈련 데이터와 테스트 데이터에 transform()을 통해 변환\n",
    "        tr_scaled = scaler.transform(tr_scaled_features)\n",
    "        ts_scaled = scaler.transform(ts_scaled_features)\n",
    "        \n",
    "        # 데이터 프레임 형태로 변환\n",
    "        train_mmx_scaled = pd.DataFrame(tr_scaled, columns = tr_scaled_features.columns)\n",
    "        train_mmx_scaled[tr_cate_features.columns] = tr_cate_features\n",
    "        \n",
    "        test_mmx_scaled = pd.DataFrame(ts_scaled,columns = ts_scaled_features.columns)\n",
    "        test_mmx_scaled[ts_cate_features.columns] = ts_cate_features\n",
    "\n",
    "        return train_mmx_scaled, test_mmx_scaled"
   ]
  },
  {
   "cell_type": "code",
   "execution_count": 5,
   "id": "17c9d278",
   "metadata": {
    "execution": {
     "iopub.execute_input": "2022-09-27T02:42:12.338846Z",
     "iopub.status.busy": "2022-09-27T02:42:12.338436Z",
     "iopub.status.idle": "2022-09-27T02:42:12.632754Z",
     "shell.execute_reply": "2022-09-27T02:42:12.631426Z",
     "shell.execute_reply.started": "2022-09-27T02:42:12.338815Z"
    },
    "scrolled": true
   },
   "outputs": [],
   "source": [
    "# competition_format\n",
    "x_train = pd.read_csv('./data/Smoking_raw/competition_format/x_train.csv')\n",
    "x_test = pd.read_csv('./data/Smoking_raw/competition_format/x_test.csv')\n",
    "y_train = pd.read_csv('./data/Smoking_raw/competition_format/y_train.csv')\n",
    "y_test = pd.read_csv('./data/Smoking_raw/competition_format/y_test.csv')"
   ]
  },
  {
   "cell_type": "code",
   "execution_count": 6,
   "id": "054a555f",
   "metadata": {
    "execution": {
     "iopub.execute_input": "2022-09-27T02:42:40.108817Z",
     "iopub.status.busy": "2022-09-27T02:42:40.108386Z",
     "iopub.status.idle": "2022-09-27T02:42:40.224687Z",
     "shell.execute_reply": "2022-09-27T02:42:40.223155Z",
     "shell.execute_reply.started": "2022-09-27T02:42:40.108787Z"
    }
   },
   "outputs": [],
   "source": [
    "scaled = scaling(x_train, x_test,scaled_form='StandardScaler()')"
   ]
  },
  {
   "cell_type": "code",
   "execution_count": 7,
   "id": "25232c63",
   "metadata": {
    "execution": {
     "iopub.execute_input": "2022-09-27T02:42:40.108817Z",
     "iopub.status.busy": "2022-09-27T02:42:40.108386Z",
     "iopub.status.idle": "2022-09-27T02:42:40.224687Z",
     "shell.execute_reply": "2022-09-27T02:42:40.223155Z",
     "shell.execute_reply.started": "2022-09-27T02:42:40.108787Z"
    }
   },
   "outputs": [],
   "source": [
    "x_train_s = pd.DataFrame(scaled[0])\n",
    "x_test_s = pd.DataFrame(scaled[1])\n",
    "y_train_s = preprocessing(y_train)\n",
    "y_test_s = preprocessing(y_test)"
   ]
  },
  {
   "cell_type": "code",
   "execution_count": 8,
   "id": "5160c304",
   "metadata": {
    "scrolled": true
   },
   "outputs": [
    {
     "data": {
      "text/html": [
       "<div>\n",
       "<style scoped>\n",
       "    .dataframe tbody tr th:only-of-type {\n",
       "        vertical-align: middle;\n",
       "    }\n",
       "\n",
       "    .dataframe tbody tr th {\n",
       "        vertical-align: top;\n",
       "    }\n",
       "\n",
       "    .dataframe thead th {\n",
       "        text-align: right;\n",
       "    }\n",
       "</style>\n",
       "<table border=\"1\" class=\"dataframe\">\n",
       "  <thead>\n",
       "    <tr style=\"text-align: right;\">\n",
       "      <th></th>\n",
       "      <th>age</th>\n",
       "      <th>height(cm)</th>\n",
       "      <th>weight(kg)</th>\n",
       "      <th>waist(cm)</th>\n",
       "      <th>eyesight(left)</th>\n",
       "      <th>eyesight(right)</th>\n",
       "      <th>systolic</th>\n",
       "      <th>relaxation</th>\n",
       "      <th>fasting blood sugar</th>\n",
       "      <th>Cholesterol</th>\n",
       "      <th>...</th>\n",
       "      <th>Urine protein</th>\n",
       "      <th>serum creatinine</th>\n",
       "      <th>AST</th>\n",
       "      <th>ALT</th>\n",
       "      <th>Gtp</th>\n",
       "      <th>gender</th>\n",
       "      <th>tartar</th>\n",
       "      <th>hearing(right)</th>\n",
       "      <th>hearing(left)</th>\n",
       "      <th>dental caries</th>\n",
       "    </tr>\n",
       "  </thead>\n",
       "  <tbody>\n",
       "    <tr>\n",
       "      <th>0</th>\n",
       "      <td>-0.348302</td>\n",
       "      <td>-1.049853</td>\n",
       "      <td>-0.458800</td>\n",
       "      <td>-0.083771</td>\n",
       "      <td>0.385691</td>\n",
       "      <td>-0.016643</td>\n",
       "      <td>-0.550024</td>\n",
       "      <td>-0.313914</td>\n",
       "      <td>-0.255217</td>\n",
       "      <td>0.494320</td>\n",
       "      <td>...</td>\n",
       "      <td>-0.214896</td>\n",
       "      <td>-0.823115</td>\n",
       "      <td>-0.430331</td>\n",
       "      <td>-0.254602</td>\n",
       "      <td>-0.257586</td>\n",
       "      <td>0</td>\n",
       "      <td>1</td>\n",
       "      <td>1.0</td>\n",
       "      <td>1.0</td>\n",
       "      <td>0.0</td>\n",
       "    </tr>\n",
       "    <tr>\n",
       "      <th>1</th>\n",
       "      <td>-0.348302</td>\n",
       "      <td>-0.506284</td>\n",
       "      <td>-0.458800</td>\n",
       "      <td>-0.116105</td>\n",
       "      <td>-0.433770</td>\n",
       "      <td>-0.835046</td>\n",
       "      <td>-0.184756</td>\n",
       "      <td>-0.623346</td>\n",
       "      <td>1.471806</td>\n",
       "      <td>-0.137158</td>\n",
       "      <td>...</td>\n",
       "      <td>-0.214896</td>\n",
       "      <td>-1.265418</td>\n",
       "      <td>-0.220763</td>\n",
       "      <td>-0.254602</td>\n",
       "      <td>-0.435020</td>\n",
       "      <td>0</td>\n",
       "      <td>1</td>\n",
       "      <td>1.0</td>\n",
       "      <td>1.0</td>\n",
       "      <td>0.0</td>\n",
       "    </tr>\n",
       "    <tr>\n",
       "      <th>2</th>\n",
       "      <td>0.892501</td>\n",
       "      <td>0.580854</td>\n",
       "      <td>-0.458800</td>\n",
       "      <td>-0.223885</td>\n",
       "      <td>-0.433770</td>\n",
       "      <td>-0.425844</td>\n",
       "      <td>1.203261</td>\n",
       "      <td>1.026958</td>\n",
       "      <td>-0.495081</td>\n",
       "      <td>1.235620</td>\n",
       "      <td>...</td>\n",
       "      <td>-0.214896</td>\n",
       "      <td>0.503794</td>\n",
       "      <td>-0.273155</td>\n",
       "      <td>-0.349076</td>\n",
       "      <td>-0.356161</td>\n",
       "      <td>1</td>\n",
       "      <td>0</td>\n",
       "      <td>1.0</td>\n",
       "      <td>1.0</td>\n",
       "      <td>0.0</td>\n",
       "    </tr>\n",
       "    <tr>\n",
       "      <th>3</th>\n",
       "      <td>-0.348302</td>\n",
       "      <td>0.037285</td>\n",
       "      <td>0.321016</td>\n",
       "      <td>0.638353</td>\n",
       "      <td>1.000286</td>\n",
       "      <td>1.006362</td>\n",
       "      <td>-1.572773</td>\n",
       "      <td>-1.654787</td>\n",
       "      <td>-0.159271</td>\n",
       "      <td>3.432064</td>\n",
       "      <td>...</td>\n",
       "      <td>-0.214896</td>\n",
       "      <td>0.503794</td>\n",
       "      <td>-0.377939</td>\n",
       "      <td>-0.034160</td>\n",
       "      <td>-0.435020</td>\n",
       "      <td>1</td>\n",
       "      <td>1</td>\n",
       "      <td>1.0</td>\n",
       "      <td>1.0</td>\n",
       "      <td>0.0</td>\n",
       "    </tr>\n",
       "    <tr>\n",
       "      <th>4</th>\n",
       "      <td>-0.348302</td>\n",
       "      <td>-1.049853</td>\n",
       "      <td>-0.458800</td>\n",
       "      <td>0.422793</td>\n",
       "      <td>-0.024040</td>\n",
       "      <td>-0.016643</td>\n",
       "      <td>-0.111703</td>\n",
       "      <td>-0.210770</td>\n",
       "      <td>-0.926837</td>\n",
       "      <td>-0.356803</td>\n",
       "      <td>...</td>\n",
       "      <td>-0.214896</td>\n",
       "      <td>-1.265418</td>\n",
       "      <td>-0.535115</td>\n",
       "      <td>-0.412060</td>\n",
       "      <td>-0.356161</td>\n",
       "      <td>0</td>\n",
       "      <td>0</td>\n",
       "      <td>1.0</td>\n",
       "      <td>1.0</td>\n",
       "      <td>0.0</td>\n",
       "    </tr>\n",
       "  </tbody>\n",
       "</table>\n",
       "<p>5 rows × 24 columns</p>\n",
       "</div>"
      ],
      "text/plain": [
       "        age  height(cm)  weight(kg)  waist(cm)  eyesight(left)  \\\n",
       "0 -0.348302   -1.049853   -0.458800  -0.083771        0.385691   \n",
       "1 -0.348302   -0.506284   -0.458800  -0.116105       -0.433770   \n",
       "2  0.892501    0.580854   -0.458800  -0.223885       -0.433770   \n",
       "3 -0.348302    0.037285    0.321016   0.638353        1.000286   \n",
       "4 -0.348302   -1.049853   -0.458800   0.422793       -0.024040   \n",
       "\n",
       "   eyesight(right)  systolic  relaxation  fasting blood sugar  Cholesterol  \\\n",
       "0        -0.016643 -0.550024   -0.313914            -0.255217     0.494320   \n",
       "1        -0.835046 -0.184756   -0.623346             1.471806    -0.137158   \n",
       "2        -0.425844  1.203261    1.026958            -0.495081     1.235620   \n",
       "3         1.006362 -1.572773   -1.654787            -0.159271     3.432064   \n",
       "4        -0.016643 -0.111703   -0.210770            -0.926837    -0.356803   \n",
       "\n",
       "   ...  Urine protein  serum creatinine       AST       ALT       Gtp  gender  \\\n",
       "0  ...      -0.214896         -0.823115 -0.430331 -0.254602 -0.257586       0   \n",
       "1  ...      -0.214896         -1.265418 -0.220763 -0.254602 -0.435020       0   \n",
       "2  ...      -0.214896          0.503794 -0.273155 -0.349076 -0.356161       1   \n",
       "3  ...      -0.214896          0.503794 -0.377939 -0.034160 -0.435020       1   \n",
       "4  ...      -0.214896         -1.265418 -0.535115 -0.412060 -0.356161       0   \n",
       "\n",
       "   tartar  hearing(right)  hearing(left)  dental caries  \n",
       "0       1             1.0            1.0            0.0  \n",
       "1       1             1.0            1.0            0.0  \n",
       "2       0             1.0            1.0            0.0  \n",
       "3       1             1.0            1.0            0.0  \n",
       "4       0             1.0            1.0            0.0  \n",
       "\n",
       "[5 rows x 24 columns]"
      ]
     },
     "execution_count": 8,
     "metadata": {},
     "output_type": "execute_result"
    }
   ],
   "source": [
    "x_train_s.head()"
   ]
  },
  {
   "cell_type": "code",
   "execution_count": 9,
   "id": "b0a014a8",
   "metadata": {},
   "outputs": [
    {
     "name": "stdout",
     "output_type": "stream",
     "text": [
      "<class 'pandas.core.frame.DataFrame'>\n",
      "RangeIndex: 44553 entries, 0 to 44552\n",
      "Data columns (total 24 columns):\n",
      " #   Column               Non-Null Count  Dtype  \n",
      "---  ------               --------------  -----  \n",
      " 0   age                  44553 non-null  float64\n",
      " 1   height(cm)           44553 non-null  float64\n",
      " 2   weight(kg)           44553 non-null  float64\n",
      " 3   waist(cm)            44553 non-null  float64\n",
      " 4   eyesight(left)       44553 non-null  float64\n",
      " 5   eyesight(right)      44553 non-null  float64\n",
      " 6   systolic             44553 non-null  float64\n",
      " 7   relaxation           44553 non-null  float64\n",
      " 8   fasting blood sugar  44553 non-null  float64\n",
      " 9   Cholesterol          44553 non-null  float64\n",
      " 10  triglyceride         44553 non-null  float64\n",
      " 11  HDL                  44553 non-null  float64\n",
      " 12  LDL                  44553 non-null  float64\n",
      " 13  hemoglobin           44553 non-null  float64\n",
      " 14  Urine protein        44553 non-null  float64\n",
      " 15  serum creatinine     44553 non-null  float64\n",
      " 16  AST                  44553 non-null  float64\n",
      " 17  ALT                  44553 non-null  float64\n",
      " 18  Gtp                  44553 non-null  float64\n",
      " 19  gender               44553 non-null  int32  \n",
      " 20  tartar               44553 non-null  int32  \n",
      " 21  hearing(right)       44553 non-null  float64\n",
      " 22  hearing(left)        44553 non-null  float64\n",
      " 23  dental caries        44553 non-null  float64\n",
      "dtypes: float64(22), int32(2)\n",
      "memory usage: 7.8 MB\n"
     ]
    }
   ],
   "source": [
    "x_train_s.info()"
   ]
  },
  {
   "cell_type": "code",
   "execution_count": 10,
   "id": "60f1b50c",
   "metadata": {},
   "outputs": [
    {
     "data": {
      "text/html": [
       "<div>\n",
       "<style scoped>\n",
       "    .dataframe tbody tr th:only-of-type {\n",
       "        vertical-align: middle;\n",
       "    }\n",
       "\n",
       "    .dataframe tbody tr th {\n",
       "        vertical-align: top;\n",
       "    }\n",
       "\n",
       "    .dataframe thead th {\n",
       "        text-align: right;\n",
       "    }\n",
       "</style>\n",
       "<table border=\"1\" class=\"dataframe\">\n",
       "  <thead>\n",
       "    <tr style=\"text-align: right;\">\n",
       "      <th></th>\n",
       "      <th>age</th>\n",
       "      <th>height(cm)</th>\n",
       "      <th>weight(kg)</th>\n",
       "      <th>waist(cm)</th>\n",
       "      <th>eyesight(left)</th>\n",
       "      <th>eyesight(right)</th>\n",
       "      <th>systolic</th>\n",
       "      <th>relaxation</th>\n",
       "      <th>fasting blood sugar</th>\n",
       "      <th>Cholesterol</th>\n",
       "      <th>...</th>\n",
       "      <th>Urine protein</th>\n",
       "      <th>serum creatinine</th>\n",
       "      <th>AST</th>\n",
       "      <th>ALT</th>\n",
       "      <th>Gtp</th>\n",
       "      <th>gender</th>\n",
       "      <th>tartar</th>\n",
       "      <th>hearing(right)</th>\n",
       "      <th>hearing(left)</th>\n",
       "      <th>dental caries</th>\n",
       "    </tr>\n",
       "  </thead>\n",
       "  <tbody>\n",
       "    <tr>\n",
       "      <th>0</th>\n",
       "      <td>2.960507</td>\n",
       "      <td>-0.506284</td>\n",
       "      <td>-0.068892</td>\n",
       "      <td>0.961692</td>\n",
       "      <td>-0.228905</td>\n",
       "      <td>-0.630445</td>\n",
       "      <td>-0.111703</td>\n",
       "      <td>0.408094</td>\n",
       "      <td>0.608295</td>\n",
       "      <td>-0.768636</td>\n",
       "      <td>...</td>\n",
       "      <td>-0.214896</td>\n",
       "      <td>0.503794</td>\n",
       "      <td>0.145981</td>\n",
       "      <td>-0.254602</td>\n",
       "      <td>-0.021007</td>\n",
       "      <td>1</td>\n",
       "      <td>0</td>\n",
       "      <td>1.0</td>\n",
       "      <td>1.0</td>\n",
       "      <td>0.0</td>\n",
       "    </tr>\n",
       "    <tr>\n",
       "      <th>1</th>\n",
       "      <td>-1.175504</td>\n",
       "      <td>0.037285</td>\n",
       "      <td>1.880649</td>\n",
       "      <td>1.716150</td>\n",
       "      <td>1.000286</td>\n",
       "      <td>1.006362</td>\n",
       "      <td>1.057153</td>\n",
       "      <td>0.717526</td>\n",
       "      <td>-0.159271</td>\n",
       "      <td>1.263075</td>\n",
       "      <td>...</td>\n",
       "      <td>-0.214896</td>\n",
       "      <td>0.061491</td>\n",
       "      <td>-0.325547</td>\n",
       "      <td>0.312248</td>\n",
       "      <td>-0.119581</td>\n",
       "      <td>1</td>\n",
       "      <td>0</td>\n",
       "      <td>1.0</td>\n",
       "      <td>1.0</td>\n",
       "      <td>0.0</td>\n",
       "    </tr>\n",
       "    <tr>\n",
       "      <th>2</th>\n",
       "      <td>-0.348302</td>\n",
       "      <td>0.580854</td>\n",
       "      <td>0.710924</td>\n",
       "      <td>-0.116105</td>\n",
       "      <td>1.000286</td>\n",
       "      <td>1.006362</td>\n",
       "      <td>1.203261</td>\n",
       "      <td>1.026958</td>\n",
       "      <td>-0.351163</td>\n",
       "      <td>-0.933369</td>\n",
       "      <td>...</td>\n",
       "      <td>-0.214896</td>\n",
       "      <td>-0.823115</td>\n",
       "      <td>-0.063587</td>\n",
       "      <td>0.154790</td>\n",
       "      <td>0.649301</td>\n",
       "      <td>1</td>\n",
       "      <td>0</td>\n",
       "      <td>1.0</td>\n",
       "      <td>1.0</td>\n",
       "      <td>0.0</td>\n",
       "    </tr>\n",
       "    <tr>\n",
       "      <th>3</th>\n",
       "      <td>-0.761903</td>\n",
       "      <td>1.124422</td>\n",
       "      <td>0.321016</td>\n",
       "      <td>-0.223885</td>\n",
       "      <td>-0.024040</td>\n",
       "      <td>-0.016643</td>\n",
       "      <td>2.810438</td>\n",
       "      <td>2.470975</td>\n",
       "      <td>0.032620</td>\n",
       "      <td>1.400353</td>\n",
       "      <td>...</td>\n",
       "      <td>-0.214896</td>\n",
       "      <td>-0.823115</td>\n",
       "      <td>0.198373</td>\n",
       "      <td>0.879098</td>\n",
       "      <td>0.195858</td>\n",
       "      <td>1</td>\n",
       "      <td>0</td>\n",
       "      <td>1.0</td>\n",
       "      <td>1.0</td>\n",
       "      <td>0.0</td>\n",
       "    </tr>\n",
       "    <tr>\n",
       "      <th>4</th>\n",
       "      <td>-0.761903</td>\n",
       "      <td>-0.506284</td>\n",
       "      <td>0.710924</td>\n",
       "      <td>1.177251</td>\n",
       "      <td>-0.024040</td>\n",
       "      <td>0.392559</td>\n",
       "      <td>0.253565</td>\n",
       "      <td>0.408094</td>\n",
       "      <td>0.848159</td>\n",
       "      <td>0.439408</td>\n",
       "      <td>...</td>\n",
       "      <td>-0.214896</td>\n",
       "      <td>0.946097</td>\n",
       "      <td>0.460333</td>\n",
       "      <td>0.973573</td>\n",
       "      <td>0.314147</td>\n",
       "      <td>1</td>\n",
       "      <td>0</td>\n",
       "      <td>1.0</td>\n",
       "      <td>1.0</td>\n",
       "      <td>0.0</td>\n",
       "    </tr>\n",
       "  </tbody>\n",
       "</table>\n",
       "<p>5 rows × 24 columns</p>\n",
       "</div>"
      ],
      "text/plain": [
       "        age  height(cm)  weight(kg)  waist(cm)  eyesight(left)  \\\n",
       "0  2.960507   -0.506284   -0.068892   0.961692       -0.228905   \n",
       "1 -1.175504    0.037285    1.880649   1.716150        1.000286   \n",
       "2 -0.348302    0.580854    0.710924  -0.116105        1.000286   \n",
       "3 -0.761903    1.124422    0.321016  -0.223885       -0.024040   \n",
       "4 -0.761903   -0.506284    0.710924   1.177251       -0.024040   \n",
       "\n",
       "   eyesight(right)  systolic  relaxation  fasting blood sugar  Cholesterol  \\\n",
       "0        -0.630445 -0.111703    0.408094             0.608295    -0.768636   \n",
       "1         1.006362  1.057153    0.717526            -0.159271     1.263075   \n",
       "2         1.006362  1.203261    1.026958            -0.351163    -0.933369   \n",
       "3        -0.016643  2.810438    2.470975             0.032620     1.400353   \n",
       "4         0.392559  0.253565    0.408094             0.848159     0.439408   \n",
       "\n",
       "   ...  Urine protein  serum creatinine       AST       ALT       Gtp  gender  \\\n",
       "0  ...      -0.214896          0.503794  0.145981 -0.254602 -0.021007       1   \n",
       "1  ...      -0.214896          0.061491 -0.325547  0.312248 -0.119581       1   \n",
       "2  ...      -0.214896         -0.823115 -0.063587  0.154790  0.649301       1   \n",
       "3  ...      -0.214896         -0.823115  0.198373  0.879098  0.195858       1   \n",
       "4  ...      -0.214896          0.946097  0.460333  0.973573  0.314147       1   \n",
       "\n",
       "   tartar  hearing(right)  hearing(left)  dental caries  \n",
       "0       0             1.0            1.0            0.0  \n",
       "1       0             1.0            1.0            0.0  \n",
       "2       0             1.0            1.0            0.0  \n",
       "3       0             1.0            1.0            0.0  \n",
       "4       0             1.0            1.0            0.0  \n",
       "\n",
       "[5 rows x 24 columns]"
      ]
     },
     "execution_count": 10,
     "metadata": {},
     "output_type": "execute_result"
    }
   ],
   "source": [
    "x_test_s.head()"
   ]
  },
  {
   "cell_type": "markdown",
   "id": "b93e6fdc",
   "metadata": {},
   "source": [
    "## 모델링"
   ]
  },
  {
   "cell_type": "markdown",
   "id": "27f5876e",
   "metadata": {},
   "source": [
    "### Standard Scaler"
   ]
  },
  {
   "cell_type": "code",
   "execution_count": 11,
   "id": "92c5e769",
   "metadata": {
    "execution": {
     "iopub.execute_input": "2022-09-27T02:42:53.155640Z",
     "iopub.status.busy": "2022-09-27T02:42:53.155246Z",
     "iopub.status.idle": "2022-09-27T02:42:53.229763Z",
     "shell.execute_reply": "2022-09-27T02:42:53.228488Z",
     "shell.execute_reply.started": "2022-09-27T02:42:53.155611Z"
    }
   },
   "outputs": [],
   "source": [
    "from sklearn.metrics import accuracy_score,f1_score, confusion_matrix, precision_recall_curve\n",
    "from sklearn.metrics import roc_curve,precision_score, recall_score, roc_auc_score\n",
    "from sklearn.svm import SVC\n"
   ]
  },
  {
   "cell_type": "markdown",
   "id": "d98b8b1d",
   "metadata": {},
   "source": [
    "### 선형 커널(linear)"
   ]
  },
  {
   "cell_type": "markdown",
   "id": "39b210d6",
   "metadata": {},
   "source": [
    "C만 설정"
   ]
  },
  {
   "cell_type": "code",
   "execution_count": 66,
   "id": "fdc57529",
   "metadata": {
    "execution": {
     "iopub.execute_input": "2022-09-27T02:37:41.251139Z",
     "iopub.status.busy": "2022-09-27T02:37:41.250428Z"
    },
    "scrolled": true
   },
   "outputs": [
    {
     "name": "stderr",
     "output_type": "stream",
     "text": [
      "C:\\ProgramData\\Anaconda3\\lib\\site-packages\\sklearn\\utils\\validation.py:993: DataConversionWarning: A column-vector y was passed when a 1d array was expected. Please change the shape of y to (n_samples, ), for example using ravel().\n",
      "  y = column_or_1d(y, warn=True)\n"
     ]
    },
    {
     "name": "stdout",
     "output_type": "stream",
     "text": [
      "model 훈련 점수 :  0.743\n",
      "model 테스트 점수 :  0.748\n"
     ]
    }
   ],
   "source": [
    "model1_s=SVC(kernel='linear',C=1.0).fit(x_train_s,y_train_s)\n",
    "score1=model1_s.score (x_train_s, y_train_s)\n",
    "score1_t=model1_s.score (x_test_s, y_test_s)\n",
    "print('model 훈련 점수 : {: .3f}'.format(score1))\n",
    "print('model 테스트 점수 : {: .3f}'.format(score1_t))"
   ]
  },
  {
   "cell_type": "code",
   "execution_count": 67,
   "id": "0e7a9a07",
   "metadata": {
    "execution": {
     "iopub.execute_input": "2022-09-27T02:25:46.887579Z",
     "iopub.status.busy": "2022-09-27T02:25:46.886343Z",
     "iopub.status.idle": "2022-09-27T02:27:50.624905Z",
     "shell.execute_reply": "2022-09-27T02:27:50.623484Z",
     "shell.execute_reply.started": "2022-09-27T02:25:46.887536Z"
    },
    "scrolled": true
   },
   "outputs": [
    {
     "name": "stderr",
     "output_type": "stream",
     "text": [
      "C:\\ProgramData\\Anaconda3\\lib\\site-packages\\sklearn\\utils\\validation.py:993: DataConversionWarning: A column-vector y was passed when a 1d array was expected. Please change the shape of y to (n_samples, ), for example using ravel().\n",
      "  y = column_or_1d(y, warn=True)\n"
     ]
    },
    {
     "name": "stdout",
     "output_type": "stream",
     "text": [
      "model 훈련 점수 :  0.743\n",
      "model 테스트 점수 :  0.748\n"
     ]
    }
   ],
   "source": [
    "# C=0.1\n",
    "model2_s=SVC(kernel='linear',C=0.1).fit(x_train_s,y_train_s)\n",
    "score2=model2_s.score (x_train_s, y_train_s)\n",
    "score2_t=model2_s.score (x_test_s, y_test_s)\n",
    "print('model 훈련 점수 : {: .3f}'.format(score2))\n",
    "print('model 테스트 점수 : {: .3f}'.format(score2_t))"
   ]
  },
  {
   "cell_type": "markdown",
   "id": "ed88a99d",
   "metadata": {},
   "source": [
    "### RBF 커널(RBF)"
   ]
  },
  {
   "cell_type": "markdown",
   "id": "edcdf090",
   "metadata": {},
   "source": [
    "C와 gamma 설정"
   ]
  },
  {
   "cell_type": "code",
   "execution_count": 11,
   "id": "27d3264b",
   "metadata": {
    "scrolled": true
   },
   "outputs": [
    {
     "name": "stderr",
     "output_type": "stream",
     "text": [
      "C:\\ProgramData\\Anaconda3\\lib\\site-packages\\sklearn\\utils\\validation.py:993: DataConversionWarning: A column-vector y was passed when a 1d array was expected. Please change the shape of y to (n_samples, ), for example using ravel().\n",
      "  y = column_or_1d(y, warn=True)\n"
     ]
    },
    {
     "name": "stdout",
     "output_type": "stream",
     "text": [
      "model 훈련 점수 :  1.000\n",
      "model 테스트 점수 :  1.000\n"
     ]
    }
   ],
   "source": [
    "model3_s=SVC(kernel='rbf',C=5,gamma=3).fit(x_train_s,y_train_s)\n",
    "score3=model3_s.score (x_train_s, y_train_s)\n",
    "score3_t=model3_s.score (x_test_s, y_test_s)\n",
    "print('model 훈련 점수 : {: .3f}'.format(score3))\n",
    "print('model 테스트 점수 : {: .3f}'.format(score3_t))"
   ]
  },
  {
   "cell_type": "code",
   "execution_count": 12,
   "id": "83ea8c0c",
   "metadata": {
    "execution": {
     "iopub.execute_input": "2022-09-27T02:32:10.504904Z",
     "iopub.status.busy": "2022-09-27T02:32:10.504110Z",
     "iopub.status.idle": "2022-09-27T02:32:10.581819Z",
     "shell.execute_reply": "2022-09-27T02:32:10.580293Z",
     "shell.execute_reply.started": "2022-09-27T02:32:10.504808Z"
    },
    "scrolled": true
   },
   "outputs": [
    {
     "name": "stderr",
     "output_type": "stream",
     "text": [
      "C:\\ProgramData\\Anaconda3\\lib\\site-packages\\sklearn\\utils\\validation.py:993: DataConversionWarning: A column-vector y was passed when a 1d array was expected. Please change the shape of y to (n_samples, ), for example using ravel().\n",
      "  y = column_or_1d(y, warn=True)\n"
     ]
    },
    {
     "name": "stdout",
     "output_type": "stream",
     "text": [
      "model 훈련 점수 :  1.000\n",
      "model 테스트 점수 :  1.000\n"
     ]
    }
   ],
   "source": [
    "# rbf\n",
    "# c=1 gamma=3\n",
    "model5_s=SVC(kernel='rbf',C=1.0,gamma=3).fit(x_train_s,y_train_s)\n",
    "score5=model5_s.score (x_train_s, y_train_s)\n",
    "score5_t=model5_s.score (x_test_s, y_test_s)\n",
    "\n",
    "print('model 훈련 점수 : {: .3f}'.format(score5))\n",
    "print('model 테스트 점수 : {: .3f}'.format(score5_t))"
   ]
  },
  {
   "cell_type": "markdown",
   "id": "75b63bdf",
   "metadata": {},
   "source": [
    "## 성능비교"
   ]
  },
  {
   "cell_type": "markdown",
   "id": "8035ec67",
   "metadata": {},
   "source": [
    "### 하드마진"
   ]
  },
  {
   "cell_type": "markdown",
   "id": "67ea33b8",
   "metadata": {},
   "source": [
    "### 비교적 성능(연산속도 and 정확도) 좋음(C=1,gamma=3)"
   ]
  },
  {
   "cell_type": "code",
   "execution_count": 23,
   "id": "6c6cd23f",
   "metadata": {
    "scrolled": false
   },
   "outputs": [
    {
     "name": "stderr",
     "output_type": "stream",
     "text": [
      "C:\\ProgramData\\Anaconda3\\lib\\site-packages\\sklearn\\utils\\validation.py:993: DataConversionWarning: A column-vector y was passed when a 1d array was expected. Please change the shape of y to (n_samples, ), for example using ravel().\n",
      "  y = column_or_1d(y, warn=True)\n"
     ]
    },
    {
     "name": "stdout",
     "output_type": "stream",
     "text": [
      "time : 625.5154197216034\n"
     ]
    }
   ],
   "source": [
    "start = time.time()\n",
    "model5_s=SVC(kernel='rbf',C=1.0,gamma=3).fit(x_train_s,y_train_s)\n",
    "print(\"time :\", time.time() - start)"
   ]
  },
  {
   "cell_type": "code",
   "execution_count": 24,
   "id": "bf62ca68",
   "metadata": {
    "scrolled": true
   },
   "outputs": [
    {
     "name": "stdout",
     "output_type": "stream",
     "text": [
      "model 훈련 점수 :  1.000\n",
      "model 테스트 점수 :  1.000\n",
      "time : 369.5849561691284\n"
     ]
    }
   ],
   "source": [
    "start = time.time()\n",
    "print('model 훈련 점수 : {: .3f}'.format(model5_s.score (x_train_s, y_train_s)))\n",
    "print('model 테스트 점수 : {: .3f}'.format(model5_s.score (x_test_s, y_test_s)))\n",
    "print(\"time :\", time.time() - start)"
   ]
  },
  {
   "cell_type": "markdown",
   "id": "0a103703",
   "metadata": {},
   "source": [
    "### 성능(연산속도 or 정확도) 낮음"
   ]
  },
  {
   "cell_type": "code",
   "execution_count": 25,
   "id": "82ac79bf",
   "metadata": {
    "scrolled": true
   },
   "outputs": [
    {
     "name": "stderr",
     "output_type": "stream",
     "text": [
      "C:\\ProgramData\\Anaconda3\\lib\\site-packages\\sklearn\\utils\\validation.py:993: DataConversionWarning: A column-vector y was passed when a 1d array was expected. Please change the shape of y to (n_samples, ), for example using ravel().\n",
      "  y = column_or_1d(y, warn=True)\n"
     ]
    },
    {
     "name": "stdout",
     "output_type": "stream",
     "text": [
      "time : 809.664076089859\n"
     ]
    }
   ],
   "source": [
    "start = time.time()\n",
    "model3_s=SVC(kernel='rbf',C=5,gamma=3).fit(x_train_s,y_train_s)\n",
    "print(\"time :\", time.time() - start)"
   ]
  },
  {
   "cell_type": "code",
   "execution_count": 26,
   "id": "70d40b3d",
   "metadata": {
    "scrolled": false
   },
   "outputs": [
    {
     "name": "stdout",
     "output_type": "stream",
     "text": [
      "model 훈련 점수 :  1.000\n",
      "model 테스트 점수 :  1.000\n",
      "time : 347.74681091308594\n"
     ]
    }
   ],
   "source": [
    "start = time.time()\n",
    "print('model 훈련 점수 : {: .3f}'.format(model3_s.score (x_train_s, y_train_s)))\n",
    "print('model 테스트 점수 : {: .3f}'.format(model3_s.score (x_test_s, y_test_s)))\n",
    "print(\"time :\", time.time() - start)"
   ]
  },
  {
   "cell_type": "markdown",
   "id": "f756fdb1",
   "metadata": {},
   "source": [
    "### 소프트마진"
   ]
  },
  {
   "cell_type": "code",
   "execution_count": 27,
   "id": "e1004d88",
   "metadata": {
    "scrolled": true
   },
   "outputs": [
    {
     "name": "stderr",
     "output_type": "stream",
     "text": [
      "C:\\ProgramData\\Anaconda3\\lib\\site-packages\\sklearn\\utils\\validation.py:993: DataConversionWarning: A column-vector y was passed when a 1d array was expected. Please change the shape of y to (n_samples, ), for example using ravel().\n",
      "  y = column_or_1d(y, warn=True)\n"
     ]
    },
    {
     "name": "stdout",
     "output_type": "stream",
     "text": [
      "time : 426.0434367656708\n"
     ]
    }
   ],
   "source": [
    "start = time.time()\n",
    "model4_s=SVC(kernel='rbf',C=0.5,gamma=1).fit(x_train_s,y_train_s)\n",
    "print(\"time :\", time.time() - start)"
   ]
  },
  {
   "cell_type": "code",
   "execution_count": 28,
   "id": "0e5fa8cd",
   "metadata": {
    "scrolled": false
   },
   "outputs": [
    {
     "name": "stdout",
     "output_type": "stream",
     "text": [
      "model 훈련 점수 :  0.722\n",
      "model 테스트 점수 :  0.721\n",
      "time : 302.6563632488251\n"
     ]
    }
   ],
   "source": [
    "start = time.time()\n",
    "print('model 훈련 점수 : {: .3f}'.format(model4_s.score (x_train_s, y_train_s)))\n",
    "print('model 테스트 점수 : {: .3f}'.format(model4_s.score (x_test_s, y_test_s)))\n",
    "print(\"time :\", time.time() - start)"
   ]
  },
  {
   "cell_type": "markdown",
   "id": "35b3695f",
   "metadata": {},
   "source": [
    "# 모델 평가(모든 피처 포함)"
   ]
  },
  {
   "cell_type": "markdown",
   "id": "78221c40",
   "metadata": {},
   "source": [
    "하이퍼파라미터: kernel=rbf, C=1, gamma=3"
   ]
  },
  {
   "cell_type": "code",
   "execution_count": 72,
   "id": "fcb5e875",
   "metadata": {},
   "outputs": [
    {
     "data": {
      "text/plain": [
       "SVC(gamma=3)"
      ]
     },
     "execution_count": 72,
     "metadata": {},
     "output_type": "execute_result"
    }
   ],
   "source": [
    "model5_s"
   ]
  },
  {
   "cell_type": "code",
   "execution_count": 73,
   "id": "4853bda5",
   "metadata": {},
   "outputs": [],
   "source": [
    "import seaborn as sns"
   ]
  },
  {
   "cell_type": "code",
   "execution_count": 74,
   "id": "6007947e",
   "metadata": {},
   "outputs": [
    {
     "data": {
      "text/html": [
       "<div>\n",
       "<style scoped>\n",
       "    .dataframe tbody tr th:only-of-type {\n",
       "        vertical-align: middle;\n",
       "    }\n",
       "\n",
       "    .dataframe tbody tr th {\n",
       "        vertical-align: top;\n",
       "    }\n",
       "\n",
       "    .dataframe thead th {\n",
       "        text-align: right;\n",
       "    }\n",
       "</style>\n",
       "<table border=\"1\" class=\"dataframe\">\n",
       "  <thead>\n",
       "    <tr style=\"text-align: right;\">\n",
       "      <th></th>\n",
       "      <th>Actual Positive:1</th>\n",
       "      <th>Actual Negative:0</th>\n",
       "    </tr>\n",
       "  </thead>\n",
       "  <tbody>\n",
       "    <tr>\n",
       "      <th>Predict Positive:1</th>\n",
       "      <td>7036</td>\n",
       "      <td>0</td>\n",
       "    </tr>\n",
       "    <tr>\n",
       "      <th>Predict Negative:0</th>\n",
       "      <td>0</td>\n",
       "      <td>4103</td>\n",
       "    </tr>\n",
       "  </tbody>\n",
       "</table>\n",
       "</div>"
      ],
      "text/plain": [
       "                    Actual Positive:1  Actual Negative:0\n",
       "Predict Positive:1               7036                  0\n",
       "Predict Negative:0                  0               4103"
      ]
     },
     "execution_count": 74,
     "metadata": {},
     "output_type": "execute_result"
    }
   ],
   "source": [
    "cm_t = pd.DataFrame(data=confusion_m, columns=['Actual Positive:1', 'Actual Negative:0'], \n",
    "                                 index=['Predict Positive:1', 'Predict Negative:0'])\n",
    "cm_t"
   ]
  },
  {
   "cell_type": "code",
   "execution_count": 88,
   "id": "85b9f8d3",
   "metadata": {},
   "outputs": [
    {
     "data": {
      "text/plain": [
       "<AxesSubplot:>"
      ]
     },
     "execution_count": 88,
     "metadata": {},
     "output_type": "execute_result"
    },
    {
     "data": {
      "image/png": "[encoded data removed]",
      "text/plain": [
       "<Figure size 432x288 with 2 Axes>"
      ]
     },
     "metadata": {
      "needs_background": "light"
     },
     "output_type": "display_data"
    }
   ],
   "source": [
    "sns.heatmap(cm_t, annot=True, fmt='d', cmap='BuGn_r')"
   ]
  },
  {
   "cell_type": "code",
   "execution_count": 80,
   "id": "1b3a1547",
   "metadata": {},
   "outputs": [],
   "source": [
    "score=[acc,pre,rec,f1,auc]"
   ]
  },
  {
   "cell_type": "code",
   "execution_count": 82,
   "id": "56482d2d",
   "metadata": {
    "scrolled": true
   },
   "outputs": [
    {
     "data": {
      "text/html": [
       "<div>\n",
       "<style scoped>\n",
       "    .dataframe tbody tr th:only-of-type {\n",
       "        vertical-align: middle;\n",
       "    }\n",
       "\n",
       "    .dataframe tbody tr th {\n",
       "        vertical-align: top;\n",
       "    }\n",
       "\n",
       "    .dataframe thead th {\n",
       "        text-align: right;\n",
       "    }\n",
       "</style>\n",
       "<table border=\"1\" class=\"dataframe\">\n",
       "  <thead>\n",
       "    <tr style=\"text-align: right;\">\n",
       "      <th></th>\n",
       "      <th>summary</th>\n",
       "    </tr>\n",
       "  </thead>\n",
       "  <tbody>\n",
       "    <tr>\n",
       "      <th>정확도</th>\n",
       "      <td>1.0</td>\n",
       "    </tr>\n",
       "    <tr>\n",
       "      <th>정밀도</th>\n",
       "      <td>1.0</td>\n",
       "    </tr>\n",
       "    <tr>\n",
       "      <th>재현율</th>\n",
       "      <td>1.0</td>\n",
       "    </tr>\n",
       "    <tr>\n",
       "      <th>F1_score</th>\n",
       "      <td>1.0</td>\n",
       "    </tr>\n",
       "    <tr>\n",
       "      <th>ROC_auc_score</th>\n",
       "      <td>1.0</td>\n",
       "    </tr>\n",
       "  </tbody>\n",
       "</table>\n",
       "</div>"
      ],
      "text/plain": [
       "               summary\n",
       "정확도                1.0\n",
       "정밀도                1.0\n",
       "재현율                1.0\n",
       "F1_score           1.0\n",
       "ROC_auc_score      1.0"
      ]
     },
     "execution_count": 82,
     "metadata": {},
     "output_type": "execute_result"
    }
   ],
   "source": [
    "pd.DataFrame(score,index=['정확도','정밀도','재현율','F1_score','ROC_auc_score'],columns=['summary'])"
   ]
  },
  {
   "cell_type": "markdown",
   "id": "65ad6359",
   "metadata": {},
   "source": [
    "# 피처선택 후 모델링"
   ]
  },
  {
   "cell_type": "code",
   "execution_count": 12,
   "id": "796876a3",
   "metadata": {},
   "outputs": [],
   "source": [
    "# 기본 모델에서 가장 성능이 좋았던 하이퍼 파라미터\n",
    "svm=SVC(kernel='rbf',C=1.0,gamma=3)"
   ]
  },
  {
   "cell_type": "code",
   "execution_count": 13,
   "id": "1552984f",
   "metadata": {},
   "outputs": [],
   "source": [
    "from sklearn.feature_selection import SelectKBest\n",
    "from sklearn.feature_selection import f_classif"
   ]
  },
  {
   "cell_type": "code",
   "execution_count": 176,
   "id": "ac22c3ba",
   "metadata": {
    "scrolled": true
   },
   "outputs": [
    {
     "name": "stderr",
     "output_type": "stream",
     "text": [
      "C:\\ProgramData\\Anaconda3\\lib\\site-packages\\sklearn\\utils\\validation.py:993: DataConversionWarning: A column-vector y was passed when a 1d array was expected. Please change the shape of y to (n_samples, ), for example using ravel().\n",
      "  y = column_or_1d(y, warn=True)\n",
      "C:\\ProgramData\\Anaconda3\\lib\\site-packages\\sklearn\\utils\\validation.py:993: DataConversionWarning: A column-vector y was passed when a 1d array was expected. Please change the shape of y to (n_samples, ), for example using ravel().\n",
      "  y = column_or_1d(y, warn=True)\n",
      "C:\\ProgramData\\Anaconda3\\lib\\site-packages\\sklearn\\utils\\validation.py:993: DataConversionWarning: A column-vector y was passed when a 1d array was expected. Please change the shape of y to (n_samples, ), for example using ravel().\n",
      "  y = column_or_1d(y, warn=True)\n",
      "C:\\ProgramData\\Anaconda3\\lib\\site-packages\\sklearn\\utils\\validation.py:993: DataConversionWarning: A column-vector y was passed when a 1d array was expected. Please change the shape of y to (n_samples, ), for example using ravel().\n",
      "  y = column_or_1d(y, warn=True)\n",
      "C:\\ProgramData\\Anaconda3\\lib\\site-packages\\sklearn\\utils\\validation.py:993: DataConversionWarning: A column-vector y was passed when a 1d array was expected. Please change the shape of y to (n_samples, ), for example using ravel().\n",
      "  y = column_or_1d(y, warn=True)\n",
      "C:\\ProgramData\\Anaconda3\\lib\\site-packages\\sklearn\\utils\\validation.py:993: DataConversionWarning: A column-vector y was passed when a 1d array was expected. Please change the shape of y to (n_samples, ), for example using ravel().\n",
      "  y = column_or_1d(y, warn=True)\n",
      "C:\\ProgramData\\Anaconda3\\lib\\site-packages\\sklearn\\utils\\validation.py:993: DataConversionWarning: A column-vector y was passed when a 1d array was expected. Please change the shape of y to (n_samples, ), for example using ravel().\n",
      "  y = column_or_1d(y, warn=True)\n",
      "C:\\ProgramData\\Anaconda3\\lib\\site-packages\\sklearn\\utils\\validation.py:993: DataConversionWarning: A column-vector y was passed when a 1d array was expected. Please change the shape of y to (n_samples, ), for example using ravel().\n",
      "  y = column_or_1d(y, warn=True)\n",
      "C:\\ProgramData\\Anaconda3\\lib\\site-packages\\sklearn\\utils\\validation.py:993: DataConversionWarning: A column-vector y was passed when a 1d array was expected. Please change the shape of y to (n_samples, ), for example using ravel().\n",
      "  y = column_or_1d(y, warn=True)\n",
      "C:\\ProgramData\\Anaconda3\\lib\\site-packages\\sklearn\\utils\\validation.py:993: DataConversionWarning: A column-vector y was passed when a 1d array was expected. Please change the shape of y to (n_samples, ), for example using ravel().\n",
      "  y = column_or_1d(y, warn=True)\n",
      "C:\\ProgramData\\Anaconda3\\lib\\site-packages\\sklearn\\utils\\validation.py:993: DataConversionWarning: A column-vector y was passed when a 1d array was expected. Please change the shape of y to (n_samples, ), for example using ravel().\n",
      "  y = column_or_1d(y, warn=True)\n",
      "C:\\ProgramData\\Anaconda3\\lib\\site-packages\\sklearn\\utils\\validation.py:993: DataConversionWarning: A column-vector y was passed when a 1d array was expected. Please change the shape of y to (n_samples, ), for example using ravel().\n",
      "  y = column_or_1d(y, warn=True)\n",
      "C:\\ProgramData\\Anaconda3\\lib\\site-packages\\sklearn\\utils\\validation.py:993: DataConversionWarning: A column-vector y was passed when a 1d array was expected. Please change the shape of y to (n_samples, ), for example using ravel().\n",
      "  y = column_or_1d(y, warn=True)\n",
      "C:\\ProgramData\\Anaconda3\\lib\\site-packages\\sklearn\\utils\\validation.py:993: DataConversionWarning: A column-vector y was passed when a 1d array was expected. Please change the shape of y to (n_samples, ), for example using ravel().\n",
      "  y = column_or_1d(y, warn=True)\n",
      "C:\\ProgramData\\Anaconda3\\lib\\site-packages\\sklearn\\utils\\validation.py:993: DataConversionWarning: A column-vector y was passed when a 1d array was expected. Please change the shape of y to (n_samples, ), for example using ravel().\n",
      "  y = column_or_1d(y, warn=True)\n",
      "C:\\ProgramData\\Anaconda3\\lib\\site-packages\\sklearn\\utils\\validation.py:993: DataConversionWarning: A column-vector y was passed when a 1d array was expected. Please change the shape of y to (n_samples, ), for example using ravel().\n",
      "  y = column_or_1d(y, warn=True)\n",
      "C:\\ProgramData\\Anaconda3\\lib\\site-packages\\sklearn\\utils\\validation.py:993: DataConversionWarning: A column-vector y was passed when a 1d array was expected. Please change the shape of y to (n_samples, ), for example using ravel().\n",
      "  y = column_or_1d(y, warn=True)\n",
      "C:\\ProgramData\\Anaconda3\\lib\\site-packages\\sklearn\\utils\\validation.py:993: DataConversionWarning: A column-vector y was passed when a 1d array was expected. Please change the shape of y to (n_samples, ), for example using ravel().\n",
      "  y = column_or_1d(y, warn=True)\n",
      "C:\\ProgramData\\Anaconda3\\lib\\site-packages\\sklearn\\utils\\validation.py:993: DataConversionWarning: A column-vector y was passed when a 1d array was expected. Please change the shape of y to (n_samples, ), for example using ravel().\n",
      "  y = column_or_1d(y, warn=True)\n",
      "C:\\ProgramData\\Anaconda3\\lib\\site-packages\\sklearn\\utils\\validation.py:993: DataConversionWarning: A column-vector y was passed when a 1d array was expected. Please change the shape of y to (n_samples, ), for example using ravel().\n",
      "  y = column_or_1d(y, warn=True)\n",
      "C:\\ProgramData\\Anaconda3\\lib\\site-packages\\sklearn\\utils\\validation.py:993: DataConversionWarning: A column-vector y was passed when a 1d array was expected. Please change the shape of y to (n_samples, ), for example using ravel().\n",
      "  y = column_or_1d(y, warn=True)\n",
      "C:\\ProgramData\\Anaconda3\\lib\\site-packages\\sklearn\\utils\\validation.py:993: DataConversionWarning: A column-vector y was passed when a 1d array was expected. Please change the shape of y to (n_samples, ), for example using ravel().\n",
      "  y = column_or_1d(y, warn=True)\n",
      "C:\\ProgramData\\Anaconda3\\lib\\site-packages\\sklearn\\utils\\validation.py:993: DataConversionWarning: A column-vector y was passed when a 1d array was expected. Please change the shape of y to (n_samples, ), for example using ravel().\n",
      "  y = column_or_1d(y, warn=True)\n",
      "C:\\ProgramData\\Anaconda3\\lib\\site-packages\\sklearn\\utils\\validation.py:993: DataConversionWarning: A column-vector y was passed when a 1d array was expected. Please change the shape of y to (n_samples, ), for example using ravel().\n",
      "  y = column_or_1d(y, warn=True)\n",
      "C:\\ProgramData\\Anaconda3\\lib\\site-packages\\sklearn\\utils\\validation.py:993: DataConversionWarning: A column-vector y was passed when a 1d array was expected. Please change the shape of y to (n_samples, ), for example using ravel().\n",
      "  y = column_or_1d(y, warn=True)\n",
      "C:\\ProgramData\\Anaconda3\\lib\\site-packages\\sklearn\\utils\\validation.py:993: DataConversionWarning: A column-vector y was passed when a 1d array was expected. Please change the shape of y to (n_samples, ), for example using ravel().\n",
      "  y = column_or_1d(y, warn=True)\n",
      "C:\\ProgramData\\Anaconda3\\lib\\site-packages\\sklearn\\utils\\validation.py:993: DataConversionWarning: A column-vector y was passed when a 1d array was expected. Please change the shape of y to (n_samples, ), for example using ravel().\n",
      "  y = column_or_1d(y, warn=True)\n",
      "C:\\ProgramData\\Anaconda3\\lib\\site-packages\\sklearn\\utils\\validation.py:993: DataConversionWarning: A column-vector y was passed when a 1d array was expected. Please change the shape of y to (n_samples, ), for example using ravel().\n",
      "  y = column_or_1d(y, warn=True)\n",
      "C:\\ProgramData\\Anaconda3\\lib\\site-packages\\sklearn\\utils\\validation.py:993: DataConversionWarning: A column-vector y was passed when a 1d array was expected. Please change the shape of y to (n_samples, ), for example using ravel().\n",
      "  y = column_or_1d(y, warn=True)\n",
      "C:\\ProgramData\\Anaconda3\\lib\\site-packages\\sklearn\\utils\\validation.py:993: DataConversionWarning: A column-vector y was passed when a 1d array was expected. Please change the shape of y to (n_samples, ), for example using ravel().\n",
      "  y = column_or_1d(y, warn=True)\n",
      "C:\\ProgramData\\Anaconda3\\lib\\site-packages\\sklearn\\utils\\validation.py:993: DataConversionWarning: A column-vector y was passed when a 1d array was expected. Please change the shape of y to (n_samples, ), for example using ravel().\n",
      "  y = column_or_1d(y, warn=True)\n",
      "C:\\ProgramData\\Anaconda3\\lib\\site-packages\\sklearn\\utils\\validation.py:993: DataConversionWarning: A column-vector y was passed when a 1d array was expected. Please change the shape of y to (n_samples, ), for example using ravel().\n",
      "  y = column_or_1d(y, warn=True)\n"
     ]
    },
    {
     "name": "stderr",
     "output_type": "stream",
     "text": [
      "C:\\ProgramData\\Anaconda3\\lib\\site-packages\\sklearn\\utils\\validation.py:993: DataConversionWarning: A column-vector y was passed when a 1d array was expected. Please change the shape of y to (n_samples, ), for example using ravel().\n",
      "  y = column_or_1d(y, warn=True)\n",
      "C:\\ProgramData\\Anaconda3\\lib\\site-packages\\sklearn\\utils\\validation.py:993: DataConversionWarning: A column-vector y was passed when a 1d array was expected. Please change the shape of y to (n_samples, ), for example using ravel().\n",
      "  y = column_or_1d(y, warn=True)\n",
      "C:\\ProgramData\\Anaconda3\\lib\\site-packages\\sklearn\\utils\\validation.py:993: DataConversionWarning: A column-vector y was passed when a 1d array was expected. Please change the shape of y to (n_samples, ), for example using ravel().\n",
      "  y = column_or_1d(y, warn=True)\n",
      "C:\\ProgramData\\Anaconda3\\lib\\site-packages\\sklearn\\utils\\validation.py:993: DataConversionWarning: A column-vector y was passed when a 1d array was expected. Please change the shape of y to (n_samples, ), for example using ravel().\n",
      "  y = column_or_1d(y, warn=True)\n",
      "C:\\ProgramData\\Anaconda3\\lib\\site-packages\\sklearn\\utils\\validation.py:993: DataConversionWarning: A column-vector y was passed when a 1d array was expected. Please change the shape of y to (n_samples, ), for example using ravel().\n",
      "  y = column_or_1d(y, warn=True)\n",
      "C:\\ProgramData\\Anaconda3\\lib\\site-packages\\sklearn\\utils\\validation.py:993: DataConversionWarning: A column-vector y was passed when a 1d array was expected. Please change the shape of y to (n_samples, ), for example using ravel().\n",
      "  y = column_or_1d(y, warn=True)\n",
      "C:\\ProgramData\\Anaconda3\\lib\\site-packages\\sklearn\\utils\\validation.py:993: DataConversionWarning: A column-vector y was passed when a 1d array was expected. Please change the shape of y to (n_samples, ), for example using ravel().\n",
      "  y = column_or_1d(y, warn=True)\n",
      "C:\\ProgramData\\Anaconda3\\lib\\site-packages\\sklearn\\utils\\validation.py:993: DataConversionWarning: A column-vector y was passed when a 1d array was expected. Please change the shape of y to (n_samples, ), for example using ravel().\n",
      "  y = column_or_1d(y, warn=True)\n",
      "C:\\ProgramData\\Anaconda3\\lib\\site-packages\\sklearn\\utils\\validation.py:993: DataConversionWarning: A column-vector y was passed when a 1d array was expected. Please change the shape of y to (n_samples, ), for example using ravel().\n",
      "  y = column_or_1d(y, warn=True)\n",
      "C:\\ProgramData\\Anaconda3\\lib\\site-packages\\sklearn\\utils\\validation.py:993: DataConversionWarning: A column-vector y was passed when a 1d array was expected. Please change the shape of y to (n_samples, ), for example using ravel().\n",
      "  y = column_or_1d(y, warn=True)\n",
      "C:\\ProgramData\\Anaconda3\\lib\\site-packages\\sklearn\\utils\\validation.py:993: DataConversionWarning: A column-vector y was passed when a 1d array was expected. Please change the shape of y to (n_samples, ), for example using ravel().\n",
      "  y = column_or_1d(y, warn=True)\n",
      "C:\\ProgramData\\Anaconda3\\lib\\site-packages\\sklearn\\utils\\validation.py:993: DataConversionWarning: A column-vector y was passed when a 1d array was expected. Please change the shape of y to (n_samples, ), for example using ravel().\n",
      "  y = column_or_1d(y, warn=True)\n",
      "C:\\ProgramData\\Anaconda3\\lib\\site-packages\\sklearn\\utils\\validation.py:993: DataConversionWarning: A column-vector y was passed when a 1d array was expected. Please change the shape of y to (n_samples, ), for example using ravel().\n",
      "  y = column_or_1d(y, warn=True)\n",
      "C:\\ProgramData\\Anaconda3\\lib\\site-packages\\sklearn\\utils\\validation.py:993: DataConversionWarning: A column-vector y was passed when a 1d array was expected. Please change the shape of y to (n_samples, ), for example using ravel().\n",
      "  y = column_or_1d(y, warn=True)\n"
     ]
    },
    {
     "data": {
      "image/png": "[encoded data removed]",
      "text/plain": [
       "<Figure size 432x288 with 1 Axes>"
      ]
     },
     "metadata": {
      "needs_background": "light"
     },
     "output_type": "display_data"
    }
   ],
   "source": [
    "# accuracy_list_train = []\n",
    "# k=np.arange(1,24,1)\n",
    "# for each in k:\n",
    "#     # 1~23개의 피처를 이용해  피처 개수마다 서포트벡터머신 적용\n",
    "#     x_new = SelectKBest(f_classif, k=each).fit_transform(x_train_s, y_train_s)\n",
    "#     svm.fit(x_new,y_train_s)\n",
    "#     # 1~23개 이용할 때 마다 계산된 정확도를 저장\n",
    "#     accuracy_list_train.append(svm.score(x_new,y_train_s))   "
   ]
  },
  {
   "cell_type": "markdown",
   "id": "c21b249b",
   "metadata": {},
   "source": [
    "## 피처데이터 개수에 따른 정확도"
   ]
  },
  {
   "cell_type": "code",
   "execution_count": 180,
   "id": "a0e829f7",
   "metadata": {},
   "outputs": [],
   "source": [
    "#select=pd.DataFrame({'features':k,'train accuracy':accuracy_list_train})"
   ]
  },
  {
   "cell_type": "code",
   "execution_count": 181,
   "id": "bafe437c",
   "metadata": {},
   "outputs": [],
   "source": [
    "#select.to_csv('./select.csv')"
   ]
  },
  {
   "cell_type": "code",
   "execution_count": 14,
   "id": "f3e04e85",
   "metadata": {},
   "outputs": [],
   "source": [
    "select_f=pd.read_csv('./select.csv',index_col=0)"
   ]
  },
  {
   "cell_type": "markdown",
   "id": "531c517d",
   "metadata": {},
   "source": [
    "### train data에서 feature 9개만으로 정확도가 90%를 넘고, 17개에서 100%"
   ]
  },
  {
   "cell_type": "code",
   "execution_count": 15,
   "id": "b403b91f",
   "metadata": {},
   "outputs": [],
   "source": [
    "import seaborn as sns\n",
    "import matplotlib.pyplot as plt"
   ]
  },
  {
   "cell_type": "code",
   "execution_count": 16,
   "id": "42920c5f",
   "metadata": {
    "scrolled": false
   },
   "outputs": [
    {
     "data": {
      "text/html": [
       "<div>\n",
       "<style scoped>\n",
       "    .dataframe tbody tr th:only-of-type {\n",
       "        vertical-align: middle;\n",
       "    }\n",
       "\n",
       "    .dataframe tbody tr th {\n",
       "        vertical-align: top;\n",
       "    }\n",
       "\n",
       "    .dataframe thead th {\n",
       "        text-align: right;\n",
       "    }\n",
       "</style>\n",
       "<table border=\"1\" class=\"dataframe\">\n",
       "  <thead>\n",
       "    <tr style=\"text-align: right;\">\n",
       "      <th></th>\n",
       "      <th>features</th>\n",
       "      <th>train accuracy</th>\n",
       "    </tr>\n",
       "  </thead>\n",
       "  <tbody>\n",
       "    <tr>\n",
       "      <th>0</th>\n",
       "      <td>1</td>\n",
       "      <td>0.699212</td>\n",
       "    </tr>\n",
       "    <tr>\n",
       "      <th>1</th>\n",
       "      <td>2</td>\n",
       "      <td>0.701075</td>\n",
       "    </tr>\n",
       "    <tr>\n",
       "      <th>2</th>\n",
       "      <td>3</td>\n",
       "      <td>0.704487</td>\n",
       "    </tr>\n",
       "    <tr>\n",
       "      <th>3</th>\n",
       "      <td>4</td>\n",
       "      <td>0.713375</td>\n",
       "    </tr>\n",
       "    <tr>\n",
       "      <th>4</th>\n",
       "      <td>5</td>\n",
       "      <td>0.746729</td>\n",
       "    </tr>\n",
       "    <tr>\n",
       "      <th>5</th>\n",
       "      <td>6</td>\n",
       "      <td>0.783494</td>\n",
       "    </tr>\n",
       "    <tr>\n",
       "      <th>6</th>\n",
       "      <td>7</td>\n",
       "      <td>0.817902</td>\n",
       "    </tr>\n",
       "    <tr>\n",
       "      <th>7</th>\n",
       "      <td>8</td>\n",
       "      <td>0.873881</td>\n",
       "    </tr>\n",
       "    <tr>\n",
       "      <th>8</th>\n",
       "      <td>9</td>\n",
       "      <td>0.928826</td>\n",
       "    </tr>\n",
       "    <tr>\n",
       "      <th>9</th>\n",
       "      <td>10</td>\n",
       "      <td>0.969273</td>\n",
       "    </tr>\n",
       "    <tr>\n",
       "      <th>10</th>\n",
       "      <td>11</td>\n",
       "      <td>0.992391</td>\n",
       "    </tr>\n",
       "    <tr>\n",
       "      <th>11</th>\n",
       "      <td>12</td>\n",
       "      <td>0.994770</td>\n",
       "    </tr>\n",
       "    <tr>\n",
       "      <th>12</th>\n",
       "      <td>13</td>\n",
       "      <td>0.997553</td>\n",
       "    </tr>\n",
       "    <tr>\n",
       "      <th>13</th>\n",
       "      <td>14</td>\n",
       "      <td>0.999012</td>\n",
       "    </tr>\n",
       "    <tr>\n",
       "      <th>14</th>\n",
       "      <td>15</td>\n",
       "      <td>0.999394</td>\n",
       "    </tr>\n",
       "    <tr>\n",
       "      <th>15</th>\n",
       "      <td>16</td>\n",
       "      <td>0.999865</td>\n",
       "    </tr>\n",
       "    <tr>\n",
       "      <th>16</th>\n",
       "      <td>17</td>\n",
       "      <td>1.000000</td>\n",
       "    </tr>\n",
       "    <tr>\n",
       "      <th>17</th>\n",
       "      <td>18</td>\n",
       "      <td>1.000000</td>\n",
       "    </tr>\n",
       "    <tr>\n",
       "      <th>18</th>\n",
       "      <td>19</td>\n",
       "      <td>1.000000</td>\n",
       "    </tr>\n",
       "    <tr>\n",
       "      <th>19</th>\n",
       "      <td>20</td>\n",
       "      <td>1.000000</td>\n",
       "    </tr>\n",
       "    <tr>\n",
       "      <th>20</th>\n",
       "      <td>21</td>\n",
       "      <td>1.000000</td>\n",
       "    </tr>\n",
       "    <tr>\n",
       "      <th>21</th>\n",
       "      <td>22</td>\n",
       "      <td>1.000000</td>\n",
       "    </tr>\n",
       "    <tr>\n",
       "      <th>22</th>\n",
       "      <td>23</td>\n",
       "      <td>1.000000</td>\n",
       "    </tr>\n",
       "  </tbody>\n",
       "</table>\n",
       "</div>"
      ],
      "text/plain": [
       "    features  train accuracy\n",
       "0          1        0.699212\n",
       "1          2        0.701075\n",
       "2          3        0.704487\n",
       "3          4        0.713375\n",
       "4          5        0.746729\n",
       "5          6        0.783494\n",
       "6          7        0.817902\n",
       "7          8        0.873881\n",
       "8          9        0.928826\n",
       "9         10        0.969273\n",
       "10        11        0.992391\n",
       "11        12        0.994770\n",
       "12        13        0.997553\n",
       "13        14        0.999012\n",
       "14        15        0.999394\n",
       "15        16        0.999865\n",
       "16        17        1.000000\n",
       "17        18        1.000000\n",
       "18        19        1.000000\n",
       "19        20        1.000000\n",
       "20        21        1.000000\n",
       "21        22        1.000000\n",
       "22        23        1.000000"
      ]
     },
     "execution_count": 16,
     "metadata": {},
     "output_type": "execute_result"
    }
   ],
   "source": [
    "select_f"
   ]
  },
  {
   "cell_type": "code",
   "execution_count": 17,
   "id": "2cf0897e",
   "metadata": {},
   "outputs": [
    {
     "data": {
      "image/png": "[encoded data removed]",
      "text/plain": [
       "<Figure size 720x576 with 1 Axes>"
      ]
     },
     "metadata": {
      "needs_background": "light"
     },
     "output_type": "display_data"
    }
   ],
   "source": [
    "# 베스트 피처개수에 따른 정확도 그래프\n",
    "plt.figure(figsize=(10,8))\n",
    "plt.plot(select_f['features'],select_f['train accuracy'])\n",
    "plt.xlabel(\"features\")\n",
    "plt.ylabel(\"train accuracy\")\n",
    "plt.legend(['train'])\n",
    "plt.show()"
   ]
  },
  {
   "cell_type": "markdown",
   "id": "a2a96796",
   "metadata": {},
   "source": [
    "## 변수선택 함수"
   ]
  },
  {
   "cell_type": "code",
   "execution_count": 31,
   "id": "c78abb5e",
   "metadata": {},
   "outputs": [],
   "source": [
    "def sel_f(x_train,y_train,k=None):\n",
    "    sel = SelectKBest(f_classif, k = k )\n",
    "    x_new = sel.fit_transform(x_train, y_train)\n",
    "    #x_new_t=sel.fit_transform(x_test_s,y_test_s)\n",
    "    feat_tr = x_train.columns.values[sel.get_support()]\n",
    "    #feat_te = x_test_s.columns.values[sel.get_support()]\n",
    "    #print(\"x train features:\",feat_tr)\n",
    "    #print(\"x test features:\",feat_te)\n",
    "    return feat_tr\n"
   ]
  },
  {
   "cell_type": "code",
   "execution_count": 42,
   "id": "6e0599a5",
   "metadata": {},
   "outputs": [
    {
     "name": "stderr",
     "output_type": "stream",
     "text": [
      "C:\\ProgramData\\Anaconda3\\lib\\site-packages\\sklearn\\utils\\validation.py:993: DataConversionWarning: A column-vector y was passed when a 1d array was expected. Please change the shape of y to (n_samples, ), for example using ravel().\n",
      "  y = column_or_1d(y, warn=True)\n"
     ]
    }
   ],
   "source": [
    "f9=sel_f(x_train_s,y_train_s,k=9)"
   ]
  },
  {
   "cell_type": "markdown",
   "id": "b98b270a",
   "metadata": {},
   "source": [
    "## 모델링 및 정확도 계산 함수"
   ]
  },
  {
   "cell_type": "code",
   "execution_count": 57,
   "id": "8e6858ee",
   "metadata": {},
   "outputs": [],
   "source": [
    "def modeling(x_tr,y_tr,x_te,y_te,C=None,gamma=None):\n",
    "    start=time.time()\n",
    "    model=SVC(kernel='rbf',C=C,gamma=gamma).fit(x_tr,y_tr)\n",
    "    print(''time.time()-start)\n",
    "    start2=time.time()\n",
    "    score_tr=model.score(x_tr, y_tr)\n",
    "    score_te=model.score(x_te, y_te)\n",
    "    print('train accuracy : {: .3f}'.format(score_tr))\n",
    "    print('test accuracy : {: .3f}'.format(score_te))\n",
    "    print(time.time()-start2)\n",
    "    return model,score_tr,score_te"
   ]
  },
  {
   "cell_type": "markdown",
   "id": "e32760bb",
   "metadata": {},
   "source": [
    "## 정확도 계산 예시"
   ]
  },
  {
   "cell_type": "markdown",
   "id": "c156512a",
   "metadata": {},
   "source": [
    "### k=16"
   ]
  },
  {
   "cell_type": "code",
   "execution_count": 66,
   "id": "c066989f",
   "metadata": {},
   "outputs": [
    {
     "name": "stderr",
     "output_type": "stream",
     "text": [
      "C:\\ProgramData\\Anaconda3\\lib\\site-packages\\sklearn\\utils\\validation.py:993: DataConversionWarning: A column-vector y was passed when a 1d array was expected. Please change the shape of y to (n_samples, ), for example using ravel().\n",
      "  y = column_or_1d(y, warn=True)\n"
     ]
    }
   ],
   "source": [
    "f16=sel_f(x_train_s,y_train_s,k=16)"
   ]
  },
  {
   "cell_type": "code",
   "execution_count": 67,
   "id": "b370dd99",
   "metadata": {},
   "outputs": [
    {
     "data": {
      "text/plain": [
       "array(['age', 'height(cm)', 'weight(kg)', 'waist(cm)', 'systolic',\n",
       "       'relaxation', 'fasting blood sugar', 'triglyceride', 'HDL',\n",
       "       'hemoglobin', 'serum creatinine', 'ALT', 'Gtp', 'gender', 'tartar',\n",
       "       'dental caries'], dtype=object)"
      ]
     },
     "execution_count": 67,
     "metadata": {},
     "output_type": "execute_result"
    }
   ],
   "source": [
    "f16"
   ]
  },
  {
   "cell_type": "code",
   "execution_count": 68,
   "id": "9be96b64",
   "metadata": {},
   "outputs": [],
   "source": [
    "sel_x_tr=x_train_s[f16]\n",
    "sel_x_te=x_test_s[f16]"
   ]
  },
  {
   "cell_type": "code",
   "execution_count": 69,
   "id": "457ee893",
   "metadata": {
    "scrolled": true
   },
   "outputs": [
    {
     "data": {
      "text/html": [
       "<div>\n",
       "<style scoped>\n",
       "    .dataframe tbody tr th:only-of-type {\n",
       "        vertical-align: middle;\n",
       "    }\n",
       "\n",
       "    .dataframe tbody tr th {\n",
       "        vertical-align: top;\n",
       "    }\n",
       "\n",
       "    .dataframe thead th {\n",
       "        text-align: right;\n",
       "    }\n",
       "</style>\n",
       "<table border=\"1\" class=\"dataframe\">\n",
       "  <thead>\n",
       "    <tr style=\"text-align: right;\">\n",
       "      <th></th>\n",
       "      <th>age</th>\n",
       "      <th>height(cm)</th>\n",
       "      <th>weight(kg)</th>\n",
       "      <th>waist(cm)</th>\n",
       "      <th>systolic</th>\n",
       "      <th>relaxation</th>\n",
       "      <th>fasting blood sugar</th>\n",
       "      <th>triglyceride</th>\n",
       "      <th>HDL</th>\n",
       "      <th>hemoglobin</th>\n",
       "      <th>serum creatinine</th>\n",
       "      <th>ALT</th>\n",
       "      <th>Gtp</th>\n",
       "      <th>gender</th>\n",
       "      <th>tartar</th>\n",
       "      <th>dental caries</th>\n",
       "    </tr>\n",
       "  </thead>\n",
       "  <tbody>\n",
       "    <tr>\n",
       "      <th>0</th>\n",
       "      <td>-0.348302</td>\n",
       "      <td>-1.049853</td>\n",
       "      <td>-0.458800</td>\n",
       "      <td>-0.083771</td>\n",
       "      <td>-0.550024</td>\n",
       "      <td>-0.313914</td>\n",
       "      <td>-0.255217</td>\n",
       "      <td>-0.624508</td>\n",
       "      <td>1.061947</td>\n",
       "      <td>-1.100546</td>\n",
       "      <td>-0.823115</td>\n",
       "      <td>-0.254602</td>\n",
       "      <td>-0.257586</td>\n",
       "      <td>0</td>\n",
       "      <td>1</td>\n",
       "      <td>0.0</td>\n",
       "    </tr>\n",
       "    <tr>\n",
       "      <th>1</th>\n",
       "      <td>-0.348302</td>\n",
       "      <td>-0.506284</td>\n",
       "      <td>-0.458800</td>\n",
       "      <td>-0.116105</td>\n",
       "      <td>-0.184756</td>\n",
       "      <td>-0.623346</td>\n",
       "      <td>1.471806</td>\n",
       "      <td>-0.163686</td>\n",
       "      <td>-1.033346</td>\n",
       "      <td>-1.228353</td>\n",
       "      <td>-1.265418</td>\n",
       "      <td>-0.254602</td>\n",
       "      <td>-0.435020</td>\n",
       "      <td>0</td>\n",
       "      <td>1</td>\n",
       "      <td>0.0</td>\n",
       "    </tr>\n",
       "    <tr>\n",
       "      <th>2</th>\n",
       "      <td>0.892501</td>\n",
       "      <td>0.580854</td>\n",
       "      <td>-0.458800</td>\n",
       "      <td>-0.223885</td>\n",
       "      <td>1.203261</td>\n",
       "      <td>1.026958</td>\n",
       "      <td>-0.495081</td>\n",
       "      <td>0.771922</td>\n",
       "      <td>-0.154675</td>\n",
       "      <td>0.752662</td>\n",
       "      <td>0.503794</td>\n",
       "      <td>-0.349076</td>\n",
       "      <td>-0.356161</td>\n",
       "      <td>1</td>\n",
       "      <td>0</td>\n",
       "      <td>0.0</td>\n",
       "    </tr>\n",
       "    <tr>\n",
       "      <th>3</th>\n",
       "      <td>-0.348302</td>\n",
       "      <td>0.037285</td>\n",
       "      <td>0.321016</td>\n",
       "      <td>0.638353</td>\n",
       "      <td>-1.572773</td>\n",
       "      <td>-1.654787</td>\n",
       "      <td>-0.159271</td>\n",
       "      <td>1.777351</td>\n",
       "      <td>-0.830575</td>\n",
       "      <td>0.049721</td>\n",
       "      <td>0.503794</td>\n",
       "      <td>-0.034160</td>\n",
       "      <td>-0.435020</td>\n",
       "      <td>1</td>\n",
       "      <td>1</td>\n",
       "      <td>0.0</td>\n",
       "    </tr>\n",
       "    <tr>\n",
       "      <th>4</th>\n",
       "      <td>-0.348302</td>\n",
       "      <td>-1.049853</td>\n",
       "      <td>-0.458800</td>\n",
       "      <td>0.422793</td>\n",
       "      <td>-0.111703</td>\n",
       "      <td>-0.210770</td>\n",
       "      <td>-0.926837</td>\n",
       "      <td>-0.736223</td>\n",
       "      <td>0.318456</td>\n",
       "      <td>-1.356160</td>\n",
       "      <td>-1.265418</td>\n",
       "      <td>-0.412060</td>\n",
       "      <td>-0.356161</td>\n",
       "      <td>0</td>\n",
       "      <td>0</td>\n",
       "      <td>0.0</td>\n",
       "    </tr>\n",
       "  </tbody>\n",
       "</table>\n",
       "</div>"
      ],
      "text/plain": [
       "        age  height(cm)  weight(kg)  waist(cm)  systolic  relaxation  \\\n",
       "0 -0.348302   -1.049853   -0.458800  -0.083771 -0.550024   -0.313914   \n",
       "1 -0.348302   -0.506284   -0.458800  -0.116105 -0.184756   -0.623346   \n",
       "2  0.892501    0.580854   -0.458800  -0.223885  1.203261    1.026958   \n",
       "3 -0.348302    0.037285    0.321016   0.638353 -1.572773   -1.654787   \n",
       "4 -0.348302   -1.049853   -0.458800   0.422793 -0.111703   -0.210770   \n",
       "\n",
       "   fasting blood sugar  triglyceride       HDL  hemoglobin  serum creatinine  \\\n",
       "0            -0.255217     -0.624508  1.061947   -1.100546         -0.823115   \n",
       "1             1.471806     -0.163686 -1.033346   -1.228353         -1.265418   \n",
       "2            -0.495081      0.771922 -0.154675    0.752662          0.503794   \n",
       "3            -0.159271      1.777351 -0.830575    0.049721          0.503794   \n",
       "4            -0.926837     -0.736223  0.318456   -1.356160         -1.265418   \n",
       "\n",
       "        ALT       Gtp  gender  tartar  dental caries  \n",
       "0 -0.254602 -0.257586       0       1            0.0  \n",
       "1 -0.254602 -0.435020       0       1            0.0  \n",
       "2 -0.349076 -0.356161       1       0            0.0  \n",
       "3 -0.034160 -0.435020       1       1            0.0  \n",
       "4 -0.412060 -0.356161       0       0            0.0  "
      ]
     },
     "execution_count": 69,
     "metadata": {},
     "output_type": "execute_result"
    }
   ],
   "source": [
    "sel_x_tr.head()"
   ]
  },
  {
   "cell_type": "code",
   "execution_count": 70,
   "id": "f3b5105e",
   "metadata": {},
   "outputs": [
    {
     "data": {
      "text/html": [
       "<div>\n",
       "<style scoped>\n",
       "    .dataframe tbody tr th:only-of-type {\n",
       "        vertical-align: middle;\n",
       "    }\n",
       "\n",
       "    .dataframe tbody tr th {\n",
       "        vertical-align: top;\n",
       "    }\n",
       "\n",
       "    .dataframe thead th {\n",
       "        text-align: right;\n",
       "    }\n",
       "</style>\n",
       "<table border=\"1\" class=\"dataframe\">\n",
       "  <thead>\n",
       "    <tr style=\"text-align: right;\">\n",
       "      <th></th>\n",
       "      <th>age</th>\n",
       "      <th>height(cm)</th>\n",
       "      <th>weight(kg)</th>\n",
       "      <th>waist(cm)</th>\n",
       "      <th>systolic</th>\n",
       "      <th>relaxation</th>\n",
       "      <th>fasting blood sugar</th>\n",
       "      <th>triglyceride</th>\n",
       "      <th>HDL</th>\n",
       "      <th>hemoglobin</th>\n",
       "      <th>serum creatinine</th>\n",
       "      <th>ALT</th>\n",
       "      <th>Gtp</th>\n",
       "      <th>gender</th>\n",
       "      <th>tartar</th>\n",
       "      <th>dental caries</th>\n",
       "    </tr>\n",
       "  </thead>\n",
       "  <tbody>\n",
       "    <tr>\n",
       "      <th>0</th>\n",
       "      <td>2.960507</td>\n",
       "      <td>-0.506284</td>\n",
       "      <td>-0.068892</td>\n",
       "      <td>0.961692</td>\n",
       "      <td>-0.111703</td>\n",
       "      <td>0.408094</td>\n",
       "      <td>0.608295</td>\n",
       "      <td>-0.833973</td>\n",
       "      <td>0.250866</td>\n",
       "      <td>-0.078086</td>\n",
       "      <td>0.503794</td>\n",
       "      <td>-0.254602</td>\n",
       "      <td>-0.021007</td>\n",
       "      <td>1</td>\n",
       "      <td>0</td>\n",
       "      <td>0.0</td>\n",
       "    </tr>\n",
       "    <tr>\n",
       "      <th>1</th>\n",
       "      <td>-1.175504</td>\n",
       "      <td>0.037285</td>\n",
       "      <td>1.880649</td>\n",
       "      <td>1.716150</td>\n",
       "      <td>1.057153</td>\n",
       "      <td>0.717526</td>\n",
       "      <td>-0.159271</td>\n",
       "      <td>-0.373151</td>\n",
       "      <td>0.048096</td>\n",
       "      <td>0.624854</td>\n",
       "      <td>0.061491</td>\n",
       "      <td>0.312248</td>\n",
       "      <td>-0.119581</td>\n",
       "      <td>1</td>\n",
       "      <td>0</td>\n",
       "      <td>0.0</td>\n",
       "    </tr>\n",
       "    <tr>\n",
       "      <th>2</th>\n",
       "      <td>-0.348302</td>\n",
       "      <td>0.580854</td>\n",
       "      <td>0.710924</td>\n",
       "      <td>-0.116105</td>\n",
       "      <td>1.203261</td>\n",
       "      <td>1.026958</td>\n",
       "      <td>-0.351163</td>\n",
       "      <td>1.232744</td>\n",
       "      <td>-1.371296</td>\n",
       "      <td>1.136084</td>\n",
       "      <td>-0.823115</td>\n",
       "      <td>0.154790</td>\n",
       "      <td>0.649301</td>\n",
       "      <td>1</td>\n",
       "      <td>0</td>\n",
       "      <td>0.0</td>\n",
       "    </tr>\n",
       "    <tr>\n",
       "      <th>3</th>\n",
       "      <td>-0.761903</td>\n",
       "      <td>1.124422</td>\n",
       "      <td>0.321016</td>\n",
       "      <td>-0.223885</td>\n",
       "      <td>2.810438</td>\n",
       "      <td>2.470975</td>\n",
       "      <td>0.032620</td>\n",
       "      <td>0.674172</td>\n",
       "      <td>-0.289855</td>\n",
       "      <td>0.433143</td>\n",
       "      <td>-0.823115</td>\n",
       "      <td>0.879098</td>\n",
       "      <td>0.195858</td>\n",
       "      <td>1</td>\n",
       "      <td>0</td>\n",
       "      <td>0.0</td>\n",
       "    </tr>\n",
       "    <tr>\n",
       "      <th>4</th>\n",
       "      <td>-0.761903</td>\n",
       "      <td>-0.506284</td>\n",
       "      <td>0.710924</td>\n",
       "      <td>1.177251</td>\n",
       "      <td>0.253565</td>\n",
       "      <td>0.408094</td>\n",
       "      <td>0.848159</td>\n",
       "      <td>-0.191615</td>\n",
       "      <td>0.048096</td>\n",
       "      <td>0.049721</td>\n",
       "      <td>0.946097</td>\n",
       "      <td>0.973573</td>\n",
       "      <td>0.314147</td>\n",
       "      <td>1</td>\n",
       "      <td>0</td>\n",
       "      <td>0.0</td>\n",
       "    </tr>\n",
       "  </tbody>\n",
       "</table>\n",
       "</div>"
      ],
      "text/plain": [
       "        age  height(cm)  weight(kg)  waist(cm)  systolic  relaxation  \\\n",
       "0  2.960507   -0.506284   -0.068892   0.961692 -0.111703    0.408094   \n",
       "1 -1.175504    0.037285    1.880649   1.716150  1.057153    0.717526   \n",
       "2 -0.348302    0.580854    0.710924  -0.116105  1.203261    1.026958   \n",
       "3 -0.761903    1.124422    0.321016  -0.223885  2.810438    2.470975   \n",
       "4 -0.761903   -0.506284    0.710924   1.177251  0.253565    0.408094   \n",
       "\n",
       "   fasting blood sugar  triglyceride       HDL  hemoglobin  serum creatinine  \\\n",
       "0             0.608295     -0.833973  0.250866   -0.078086          0.503794   \n",
       "1            -0.159271     -0.373151  0.048096    0.624854          0.061491   \n",
       "2            -0.351163      1.232744 -1.371296    1.136084         -0.823115   \n",
       "3             0.032620      0.674172 -0.289855    0.433143         -0.823115   \n",
       "4             0.848159     -0.191615  0.048096    0.049721          0.946097   \n",
       "\n",
       "        ALT       Gtp  gender  tartar  dental caries  \n",
       "0 -0.254602 -0.021007       1       0            0.0  \n",
       "1  0.312248 -0.119581       1       0            0.0  \n",
       "2  0.154790  0.649301       1       0            0.0  \n",
       "3  0.879098  0.195858       1       0            0.0  \n",
       "4  0.973573  0.314147       1       0            0.0  "
      ]
     },
     "execution_count": 70,
     "metadata": {},
     "output_type": "execute_result"
    }
   ],
   "source": [
    "sel_x_te.head()"
   ]
  },
  {
   "cell_type": "code",
   "execution_count": 75,
   "id": "600d72af",
   "metadata": {
    "scrolled": true
   },
   "outputs": [
    {
     "name": "stderr",
     "output_type": "stream",
     "text": [
      "C:\\ProgramData\\Anaconda3\\lib\\site-packages\\sklearn\\utils\\validation.py:993: DataConversionWarning: A column-vector y was passed when a 1d array was expected. Please change the shape of y to (n_samples, ), for example using ravel().\n",
      "  y = column_or_1d(y, warn=True)\n"
     ]
    },
    {
     "name": "stdout",
     "output_type": "stream",
     "text": [
      "418.3813736438751\n",
      "train accuracy :  1.000\n",
      "test accuracy :  1.000\n",
      "317.5723805427551\n"
     ]
    }
   ],
   "source": [
    "model,score_tr,score_te=modeling(sel_x_tr,y_train_s,sel_x_te,y_test_s,C=1,gamma=3)"
   ]
  },
  {
   "cell_type": "code",
   "execution_count": 76,
   "id": "e00bcb6d",
   "metadata": {
    "scrolled": true
   },
   "outputs": [
    {
     "name": "stdout",
     "output_type": "stream",
     "text": [
      "SVC(C=1, gamma=3) 0.9998653289340785 0.9997306760032318\n"
     ]
    }
   ],
   "source": [
    "print(model,score_tr,score_te)"
   ]
  },
  {
   "cell_type": "code",
   "execution_count": 109,
   "id": "fe051cb2",
   "metadata": {
    "scrolled": true
   },
   "outputs": [
    {
     "name": "stdout",
     "output_type": "stream",
     "text": [
      "1.000\n"
     ]
    }
   ],
   "source": [
    "print('{:0.3f}'.format(score_tr))"
   ]
  },
  {
   "cell_type": "code",
   "execution_count": 110,
   "id": "b06ce381",
   "metadata": {},
   "outputs": [
    {
     "name": "stdout",
     "output_type": "stream",
     "text": [
      "0.9998653289340785\n"
     ]
    }
   ],
   "source": [
    "print('{}'.format(score_tr))"
   ]
  },
  {
   "cell_type": "markdown",
   "id": "53418215",
   "metadata": {},
   "source": [
    "## 평가지표"
   ]
  },
  {
   "cell_type": "code",
   "execution_count": 77,
   "id": "bf548d0d",
   "metadata": {
    "scrolled": false
   },
   "outputs": [
    {
     "name": "stdout",
     "output_type": "stream",
     "text": [
      "time : 64.0483500957489\n"
     ]
    }
   ],
   "source": [
    "start = time.time()\n",
    "\n",
    "pred_t=model.predict(sel_x_te)\n",
    "confusion_m=confusion_matrix(y_test_s, pred_t)\n",
    "\n",
    "print(\"time :\", time.time() - start)"
   ]
  },
  {
   "cell_type": "code",
   "execution_count": 78,
   "id": "1d187d5c",
   "metadata": {},
   "outputs": [],
   "source": [
    "import seaborn as sns"
   ]
  },
  {
   "cell_type": "code",
   "execution_count": 79,
   "id": "2c5c3c69",
   "metadata": {},
   "outputs": [
    {
     "data": {
      "text/html": [
       "<div>\n",
       "<style scoped>\n",
       "    .dataframe tbody tr th:only-of-type {\n",
       "        vertical-align: middle;\n",
       "    }\n",
       "\n",
       "    .dataframe tbody tr th {\n",
       "        vertical-align: top;\n",
       "    }\n",
       "\n",
       "    .dataframe thead th {\n",
       "        text-align: right;\n",
       "    }\n",
       "</style>\n",
       "<table border=\"1\" class=\"dataframe\">\n",
       "  <thead>\n",
       "    <tr style=\"text-align: right;\">\n",
       "      <th></th>\n",
       "      <th>Actual Positive:1</th>\n",
       "      <th>Actual Negative:0</th>\n",
       "    </tr>\n",
       "  </thead>\n",
       "  <tbody>\n",
       "    <tr>\n",
       "      <th>Predict Positive:1</th>\n",
       "      <td>7036</td>\n",
       "      <td>0</td>\n",
       "    </tr>\n",
       "    <tr>\n",
       "      <th>Predict Negative:0</th>\n",
       "      <td>3</td>\n",
       "      <td>4100</td>\n",
       "    </tr>\n",
       "  </tbody>\n",
       "</table>\n",
       "</div>"
      ],
      "text/plain": [
       "                    Actual Positive:1  Actual Negative:0\n",
       "Predict Positive:1               7036                  0\n",
       "Predict Negative:0                  3               4100"
      ]
     },
     "execution_count": 79,
     "metadata": {},
     "output_type": "execute_result"
    }
   ],
   "source": [
    "cm_t = pd.DataFrame(data=confusion_m, columns=['Actual Positive:1', 'Actual Negative:0'], \n",
    "                                 index=['Predict Positive:1', 'Predict Negative:0'])\n",
    "cm_t"
   ]
  },
  {
   "cell_type": "code",
   "execution_count": 80,
   "id": "5dd01306",
   "metadata": {},
   "outputs": [
    {
     "data": {
      "text/plain": [
       "<AxesSubplot:>"
      ]
     },
     "execution_count": 80,
     "metadata": {},
     "output_type": "execute_result"
    },
    {
     "data": {
      "image/png": "[encoded data removed]",
      "text/plain": [
       "<Figure size 432x288 with 2 Axes>"
      ]
     },
     "metadata": {
      "needs_background": "light"
     },
     "output_type": "display_data"
    }
   ],
   "source": [
    "sns.heatmap(cm_t, annot=True, fmt='d', cmap='BuGn_r')"
   ]
  },
  {
   "cell_type": "markdown",
   "id": "61fe3f85",
   "metadata": {},
   "source": [
    "### 정밀도 재현율 f1score"
   ]
  },
  {
   "cell_type": "code",
   "execution_count": 81,
   "id": "15f1b99b",
   "metadata": {
    "scrolled": false
   },
   "outputs": [],
   "source": [
    "acc=accuracy_score(y_test_s,pred_t)\n",
    "pre=precision_score(y_test_s , pred_t)\n",
    "rec=recall_score(y_test_s , pred_t)\n",
    "f1=f1_score(y_test_s,pred_t)\n",
    "auc=roc_auc_score(y_test_s, pred_t)"
   ]
  },
  {
   "cell_type": "code",
   "execution_count": 84,
   "id": "270631fc",
   "metadata": {
    "scrolled": true
   },
   "outputs": [
    {
     "name": "stdout",
     "output_type": "stream",
     "text": [
      "정확도 : 0.9997\n",
      "정밀도 : 1.0000\n",
      "재현율 : 0.9993\n",
      "F1_score : 0.9996\n",
      "ROC_AUC_score : 0.9996\n"
     ]
    }
   ],
   "source": [
    "print('정확도 : {:.4f}'.format(acc))\n",
    "# 정밀도\n",
    "print('정밀도 : {:.4f}'.format(pre))\n",
    "# 재현율\n",
    "print('재현율 : {:.4f}'.format(rec))\n",
    "# f1_score\n",
    "print('F1_score : {:.4f}'.format(f1))\n",
    "# AUC score \n",
    "print('ROC_AUC_score : {:.4f}'.format(auc))"
   ]
  },
  {
   "cell_type": "code",
   "execution_count": 85,
   "id": "e1f284f1",
   "metadata": {},
   "outputs": [],
   "source": [
    "import joblib"
   ]
  },
  {
   "cell_type": "code",
   "execution_count": 86,
   "id": "1fa408db",
   "metadata": {},
   "outputs": [
    {
     "data": {
      "text/plain": [
       "['./model_k16.pkl']"
      ]
     },
     "execution_count": 86,
     "metadata": {},
     "output_type": "execute_result"
    }
   ],
   "source": [
    "joblib.dump(model, './model_k16.pkl')"
   ]
  },
  {
   "cell_type": "code",
   "execution_count": 87,
   "id": "ddb6934e",
   "metadata": {
    "scrolled": true
   },
   "outputs": [
    {
     "data": {
      "text/plain": [
       "['C',\n",
       " '__abstractmethods__',\n",
       " '__class__',\n",
       " '__delattr__',\n",
       " '__dict__',\n",
       " '__dir__',\n",
       " '__doc__',\n",
       " '__eq__',\n",
       " '__format__',\n",
       " '__ge__',\n",
       " '__getattribute__',\n",
       " '__getstate__',\n",
       " '__gt__',\n",
       " '__hash__',\n",
       " '__init__',\n",
       " '__init_subclass__',\n",
       " '__le__',\n",
       " '__lt__',\n",
       " '__module__',\n",
       " '__ne__',\n",
       " '__new__',\n",
       " '__reduce__',\n",
       " '__reduce_ex__',\n",
       " '__repr__',\n",
       " '__setattr__',\n",
       " '__setstate__',\n",
       " '__sizeof__',\n",
       " '__str__',\n",
       " '__subclasshook__',\n",
       " '__weakref__',\n",
       " '_abc_impl',\n",
       " '_check_feature_names',\n",
       " '_check_n_features',\n",
       " '_check_proba',\n",
       " '_compute_kernel',\n",
       " '_decision_function',\n",
       " '_dense_decision_function',\n",
       " '_dense_fit',\n",
       " '_dense_predict',\n",
       " '_dense_predict_proba',\n",
       " '_dual_coef_',\n",
       " '_estimator_type',\n",
       " '_gamma',\n",
       " '_get_coef',\n",
       " '_get_param_names',\n",
       " '_get_tags',\n",
       " '_impl',\n",
       " '_intercept_',\n",
       " '_more_tags',\n",
       " '_n_support',\n",
       " '_pairwise',\n",
       " '_probA',\n",
       " '_probB',\n",
       " '_repr_html_',\n",
       " '_repr_html_inner',\n",
       " '_repr_mimebundle_',\n",
       " '_sparse',\n",
       " '_sparse_decision_function',\n",
       " '_sparse_fit',\n",
       " '_sparse_kernels',\n",
       " '_sparse_predict',\n",
       " '_sparse_predict_proba',\n",
       " '_validate_data',\n",
       " '_validate_for_predict',\n",
       " '_validate_targets',\n",
       " '_warn_from_fit_status',\n",
       " 'break_ties',\n",
       " 'cache_size',\n",
       " 'class_weight',\n",
       " 'class_weight_',\n",
       " 'classes_',\n",
       " 'coef0',\n",
       " 'coef_',\n",
       " 'decision_function',\n",
       " 'decision_function_shape',\n",
       " 'degree',\n",
       " 'dual_coef_',\n",
       " 'epsilon',\n",
       " 'feature_names_in_',\n",
       " 'fit',\n",
       " 'fit_status_',\n",
       " 'gamma',\n",
       " 'get_params',\n",
       " 'intercept_',\n",
       " 'kernel',\n",
       " 'max_iter',\n",
       " 'n_features_in_',\n",
       " 'n_support_',\n",
       " 'nu',\n",
       " 'predict',\n",
       " 'predict_log_proba',\n",
       " 'predict_proba',\n",
       " 'probA_',\n",
       " 'probB_',\n",
       " 'probability',\n",
       " 'random_state',\n",
       " 'score',\n",
       " 'set_params',\n",
       " 'shape_fit_',\n",
       " 'shrinking',\n",
       " 'support_',\n",
       " 'support_vectors_',\n",
       " 'tol',\n",
       " 'verbose']"
      ]
     },
     "execution_count": 87,
     "metadata": {},
     "output_type": "execute_result"
    }
   ],
   "source": [
    "dir(model)"
   ]
  },
  {
   "cell_type": "code",
   "execution_count": 88,
   "id": "2f736741",
   "metadata": {},
   "outputs": [
    {
     "data": {
      "text/plain": [
       "array(['age', 'height(cm)', 'weight(kg)', 'waist(cm)', 'systolic',\n",
       "       'relaxation', 'fasting blood sugar', 'triglyceride', 'HDL',\n",
       "       'hemoglobin', 'serum creatinine', 'ALT', 'Gtp', 'gender', 'tartar',\n",
       "       'dental caries'], dtype=object)"
      ]
     },
     "execution_count": 88,
     "metadata": {},
     "output_type": "execute_result"
    }
   ],
   "source": [
    "model.feature_names_in_"
   ]
  },
  {
   "cell_type": "markdown",
   "id": "a3e849fe",
   "metadata": {},
   "source": [
    "### k=17"
   ]
  },
  {
   "cell_type": "code",
   "execution_count": 89,
   "id": "47afbb7c",
   "metadata": {
    "scrolled": true
   },
   "outputs": [
    {
     "name": "stderr",
     "output_type": "stream",
     "text": [
      "C:\\ProgramData\\Anaconda3\\lib\\site-packages\\sklearn\\utils\\validation.py:993: DataConversionWarning: A column-vector y was passed when a 1d array was expected. Please change the shape of y to (n_samples, ), for example using ravel().\n",
      "  y = column_or_1d(y, warn=True)\n"
     ]
    }
   ],
   "source": [
    "f17=sel_f(x_train_s,y_train_s,k=17)"
   ]
  },
  {
   "cell_type": "code",
   "execution_count": 90,
   "id": "9cc2aca9",
   "metadata": {},
   "outputs": [
    {
     "data": {
      "text/plain": [
       "array(['age', 'height(cm)', 'weight(kg)', 'waist(cm)', 'eyesight(right)',\n",
       "       'systolic', 'relaxation', 'fasting blood sugar', 'triglyceride',\n",
       "       'HDL', 'hemoglobin', 'serum creatinine', 'ALT', 'Gtp', 'gender',\n",
       "       'tartar', 'dental caries'], dtype=object)"
      ]
     },
     "execution_count": 90,
     "metadata": {},
     "output_type": "execute_result"
    }
   ],
   "source": [
    "f17"
   ]
  },
  {
   "cell_type": "code",
   "execution_count": 91,
   "id": "1545d2cf",
   "metadata": {},
   "outputs": [],
   "source": [
    "sel_x_tr=x_train_s[f17]\n",
    "sel_x_te=x_test_s[f17]"
   ]
  },
  {
   "cell_type": "code",
   "execution_count": 92,
   "id": "31598072",
   "metadata": {
    "scrolled": true
   },
   "outputs": [
    {
     "data": {
      "text/html": [
       "<div>\n",
       "<style scoped>\n",
       "    .dataframe tbody tr th:only-of-type {\n",
       "        vertical-align: middle;\n",
       "    }\n",
       "\n",
       "    .dataframe tbody tr th {\n",
       "        vertical-align: top;\n",
       "    }\n",
       "\n",
       "    .dataframe thead th {\n",
       "        text-align: right;\n",
       "    }\n",
       "</style>\n",
       "<table border=\"1\" class=\"dataframe\">\n",
       "  <thead>\n",
       "    <tr style=\"text-align: right;\">\n",
       "      <th></th>\n",
       "      <th>age</th>\n",
       "      <th>height(cm)</th>\n",
       "      <th>weight(kg)</th>\n",
       "      <th>waist(cm)</th>\n",
       "      <th>eyesight(right)</th>\n",
       "      <th>systolic</th>\n",
       "      <th>relaxation</th>\n",
       "      <th>fasting blood sugar</th>\n",
       "      <th>triglyceride</th>\n",
       "      <th>HDL</th>\n",
       "      <th>hemoglobin</th>\n",
       "      <th>serum creatinine</th>\n",
       "      <th>ALT</th>\n",
       "      <th>Gtp</th>\n",
       "      <th>gender</th>\n",
       "      <th>tartar</th>\n",
       "      <th>dental caries</th>\n",
       "    </tr>\n",
       "  </thead>\n",
       "  <tbody>\n",
       "    <tr>\n",
       "      <th>0</th>\n",
       "      <td>-0.348302</td>\n",
       "      <td>-1.049853</td>\n",
       "      <td>-0.458800</td>\n",
       "      <td>-0.083771</td>\n",
       "      <td>-0.016643</td>\n",
       "      <td>-0.550024</td>\n",
       "      <td>-0.313914</td>\n",
       "      <td>-0.255217</td>\n",
       "      <td>-0.624508</td>\n",
       "      <td>1.061947</td>\n",
       "      <td>-1.100546</td>\n",
       "      <td>-0.823115</td>\n",
       "      <td>-0.254602</td>\n",
       "      <td>-0.257586</td>\n",
       "      <td>0</td>\n",
       "      <td>1</td>\n",
       "      <td>0.0</td>\n",
       "    </tr>\n",
       "    <tr>\n",
       "      <th>1</th>\n",
       "      <td>-0.348302</td>\n",
       "      <td>-0.506284</td>\n",
       "      <td>-0.458800</td>\n",
       "      <td>-0.116105</td>\n",
       "      <td>-0.835046</td>\n",
       "      <td>-0.184756</td>\n",
       "      <td>-0.623346</td>\n",
       "      <td>1.471806</td>\n",
       "      <td>-0.163686</td>\n",
       "      <td>-1.033346</td>\n",
       "      <td>-1.228353</td>\n",
       "      <td>-1.265418</td>\n",
       "      <td>-0.254602</td>\n",
       "      <td>-0.435020</td>\n",
       "      <td>0</td>\n",
       "      <td>1</td>\n",
       "      <td>0.0</td>\n",
       "    </tr>\n",
       "    <tr>\n",
       "      <th>2</th>\n",
       "      <td>0.892501</td>\n",
       "      <td>0.580854</td>\n",
       "      <td>-0.458800</td>\n",
       "      <td>-0.223885</td>\n",
       "      <td>-0.425844</td>\n",
       "      <td>1.203261</td>\n",
       "      <td>1.026958</td>\n",
       "      <td>-0.495081</td>\n",
       "      <td>0.771922</td>\n",
       "      <td>-0.154675</td>\n",
       "      <td>0.752662</td>\n",
       "      <td>0.503794</td>\n",
       "      <td>-0.349076</td>\n",
       "      <td>-0.356161</td>\n",
       "      <td>1</td>\n",
       "      <td>0</td>\n",
       "      <td>0.0</td>\n",
       "    </tr>\n",
       "    <tr>\n",
       "      <th>3</th>\n",
       "      <td>-0.348302</td>\n",
       "      <td>0.037285</td>\n",
       "      <td>0.321016</td>\n",
       "      <td>0.638353</td>\n",
       "      <td>1.006362</td>\n",
       "      <td>-1.572773</td>\n",
       "      <td>-1.654787</td>\n",
       "      <td>-0.159271</td>\n",
       "      <td>1.777351</td>\n",
       "      <td>-0.830575</td>\n",
       "      <td>0.049721</td>\n",
       "      <td>0.503794</td>\n",
       "      <td>-0.034160</td>\n",
       "      <td>-0.435020</td>\n",
       "      <td>1</td>\n",
       "      <td>1</td>\n",
       "      <td>0.0</td>\n",
       "    </tr>\n",
       "    <tr>\n",
       "      <th>4</th>\n",
       "      <td>-0.348302</td>\n",
       "      <td>-1.049853</td>\n",
       "      <td>-0.458800</td>\n",
       "      <td>0.422793</td>\n",
       "      <td>-0.016643</td>\n",
       "      <td>-0.111703</td>\n",
       "      <td>-0.210770</td>\n",
       "      <td>-0.926837</td>\n",
       "      <td>-0.736223</td>\n",
       "      <td>0.318456</td>\n",
       "      <td>-1.356160</td>\n",
       "      <td>-1.265418</td>\n",
       "      <td>-0.412060</td>\n",
       "      <td>-0.356161</td>\n",
       "      <td>0</td>\n",
       "      <td>0</td>\n",
       "      <td>0.0</td>\n",
       "    </tr>\n",
       "  </tbody>\n",
       "</table>\n",
       "</div>"
      ],
      "text/plain": [
       "        age  height(cm)  weight(kg)  waist(cm)  eyesight(right)  systolic  \\\n",
       "0 -0.348302   -1.049853   -0.458800  -0.083771        -0.016643 -0.550024   \n",
       "1 -0.348302   -0.506284   -0.458800  -0.116105        -0.835046 -0.184756   \n",
       "2  0.892501    0.580854   -0.458800  -0.223885        -0.425844  1.203261   \n",
       "3 -0.348302    0.037285    0.321016   0.638353         1.006362 -1.572773   \n",
       "4 -0.348302   -1.049853   -0.458800   0.422793        -0.016643 -0.111703   \n",
       "\n",
       "   relaxation  fasting blood sugar  triglyceride       HDL  hemoglobin  \\\n",
       "0   -0.313914            -0.255217     -0.624508  1.061947   -1.100546   \n",
       "1   -0.623346             1.471806     -0.163686 -1.033346   -1.228353   \n",
       "2    1.026958            -0.495081      0.771922 -0.154675    0.752662   \n",
       "3   -1.654787            -0.159271      1.777351 -0.830575    0.049721   \n",
       "4   -0.210770            -0.926837     -0.736223  0.318456   -1.356160   \n",
       "\n",
       "   serum creatinine       ALT       Gtp  gender  tartar  dental caries  \n",
       "0         -0.823115 -0.254602 -0.257586       0       1            0.0  \n",
       "1         -1.265418 -0.254602 -0.435020       0       1            0.0  \n",
       "2          0.503794 -0.349076 -0.356161       1       0            0.0  \n",
       "3          0.503794 -0.034160 -0.435020       1       1            0.0  \n",
       "4         -1.265418 -0.412060 -0.356161       0       0            0.0  "
      ]
     },
     "execution_count": 92,
     "metadata": {},
     "output_type": "execute_result"
    }
   ],
   "source": [
    "sel_x_tr.head()"
   ]
  },
  {
   "cell_type": "code",
   "execution_count": 93,
   "id": "dea7fcce",
   "metadata": {},
   "outputs": [
    {
     "data": {
      "text/plain": [
       "(44553, 17)"
      ]
     },
     "execution_count": 93,
     "metadata": {},
     "output_type": "execute_result"
    }
   ],
   "source": [
    "sel_x_tr.shape"
   ]
  },
  {
   "cell_type": "code",
   "execution_count": 70,
   "id": "d6ae3175",
   "metadata": {},
   "outputs": [
    {
     "data": {
      "text/html": [
       "<div>\n",
       "<style scoped>\n",
       "    .dataframe tbody tr th:only-of-type {\n",
       "        vertical-align: middle;\n",
       "    }\n",
       "\n",
       "    .dataframe tbody tr th {\n",
       "        vertical-align: top;\n",
       "    }\n",
       "\n",
       "    .dataframe thead th {\n",
       "        text-align: right;\n",
       "    }\n",
       "</style>\n",
       "<table border=\"1\" class=\"dataframe\">\n",
       "  <thead>\n",
       "    <tr style=\"text-align: right;\">\n",
       "      <th></th>\n",
       "      <th>age</th>\n",
       "      <th>height(cm)</th>\n",
       "      <th>weight(kg)</th>\n",
       "      <th>waist(cm)</th>\n",
       "      <th>systolic</th>\n",
       "      <th>relaxation</th>\n",
       "      <th>fasting blood sugar</th>\n",
       "      <th>triglyceride</th>\n",
       "      <th>HDL</th>\n",
       "      <th>hemoglobin</th>\n",
       "      <th>serum creatinine</th>\n",
       "      <th>ALT</th>\n",
       "      <th>Gtp</th>\n",
       "      <th>gender</th>\n",
       "      <th>tartar</th>\n",
       "      <th>dental caries</th>\n",
       "    </tr>\n",
       "  </thead>\n",
       "  <tbody>\n",
       "    <tr>\n",
       "      <th>0</th>\n",
       "      <td>2.960507</td>\n",
       "      <td>-0.506284</td>\n",
       "      <td>-0.068892</td>\n",
       "      <td>0.961692</td>\n",
       "      <td>-0.111703</td>\n",
       "      <td>0.408094</td>\n",
       "      <td>0.608295</td>\n",
       "      <td>-0.833973</td>\n",
       "      <td>0.250866</td>\n",
       "      <td>-0.078086</td>\n",
       "      <td>0.503794</td>\n",
       "      <td>-0.254602</td>\n",
       "      <td>-0.021007</td>\n",
       "      <td>1</td>\n",
       "      <td>0</td>\n",
       "      <td>0.0</td>\n",
       "    </tr>\n",
       "    <tr>\n",
       "      <th>1</th>\n",
       "      <td>-1.175504</td>\n",
       "      <td>0.037285</td>\n",
       "      <td>1.880649</td>\n",
       "      <td>1.716150</td>\n",
       "      <td>1.057153</td>\n",
       "      <td>0.717526</td>\n",
       "      <td>-0.159271</td>\n",
       "      <td>-0.373151</td>\n",
       "      <td>0.048096</td>\n",
       "      <td>0.624854</td>\n",
       "      <td>0.061491</td>\n",
       "      <td>0.312248</td>\n",
       "      <td>-0.119581</td>\n",
       "      <td>1</td>\n",
       "      <td>0</td>\n",
       "      <td>0.0</td>\n",
       "    </tr>\n",
       "    <tr>\n",
       "      <th>2</th>\n",
       "      <td>-0.348302</td>\n",
       "      <td>0.580854</td>\n",
       "      <td>0.710924</td>\n",
       "      <td>-0.116105</td>\n",
       "      <td>1.203261</td>\n",
       "      <td>1.026958</td>\n",
       "      <td>-0.351163</td>\n",
       "      <td>1.232744</td>\n",
       "      <td>-1.371296</td>\n",
       "      <td>1.136084</td>\n",
       "      <td>-0.823115</td>\n",
       "      <td>0.154790</td>\n",
       "      <td>0.649301</td>\n",
       "      <td>1</td>\n",
       "      <td>0</td>\n",
       "      <td>0.0</td>\n",
       "    </tr>\n",
       "    <tr>\n",
       "      <th>3</th>\n",
       "      <td>-0.761903</td>\n",
       "      <td>1.124422</td>\n",
       "      <td>0.321016</td>\n",
       "      <td>-0.223885</td>\n",
       "      <td>2.810438</td>\n",
       "      <td>2.470975</td>\n",
       "      <td>0.032620</td>\n",
       "      <td>0.674172</td>\n",
       "      <td>-0.289855</td>\n",
       "      <td>0.433143</td>\n",
       "      <td>-0.823115</td>\n",
       "      <td>0.879098</td>\n",
       "      <td>0.195858</td>\n",
       "      <td>1</td>\n",
       "      <td>0</td>\n",
       "      <td>0.0</td>\n",
       "    </tr>\n",
       "    <tr>\n",
       "      <th>4</th>\n",
       "      <td>-0.761903</td>\n",
       "      <td>-0.506284</td>\n",
       "      <td>0.710924</td>\n",
       "      <td>1.177251</td>\n",
       "      <td>0.253565</td>\n",
       "      <td>0.408094</td>\n",
       "      <td>0.848159</td>\n",
       "      <td>-0.191615</td>\n",
       "      <td>0.048096</td>\n",
       "      <td>0.049721</td>\n",
       "      <td>0.946097</td>\n",
       "      <td>0.973573</td>\n",
       "      <td>0.314147</td>\n",
       "      <td>1</td>\n",
       "      <td>0</td>\n",
       "      <td>0.0</td>\n",
       "    </tr>\n",
       "  </tbody>\n",
       "</table>\n",
       "</div>"
      ],
      "text/plain": [
       "        age  height(cm)  weight(kg)  waist(cm)  systolic  relaxation  \\\n",
       "0  2.960507   -0.506284   -0.068892   0.961692 -0.111703    0.408094   \n",
       "1 -1.175504    0.037285    1.880649   1.716150  1.057153    0.717526   \n",
       "2 -0.348302    0.580854    0.710924  -0.116105  1.203261    1.026958   \n",
       "3 -0.761903    1.124422    0.321016  -0.223885  2.810438    2.470975   \n",
       "4 -0.761903   -0.506284    0.710924   1.177251  0.253565    0.408094   \n",
       "\n",
       "   fasting blood sugar  triglyceride       HDL  hemoglobin  serum creatinine  \\\n",
       "0             0.608295     -0.833973  0.250866   -0.078086          0.503794   \n",
       "1            -0.159271     -0.373151  0.048096    0.624854          0.061491   \n",
       "2            -0.351163      1.232744 -1.371296    1.136084         -0.823115   \n",
       "3             0.032620      0.674172 -0.289855    0.433143         -0.823115   \n",
       "4             0.848159     -0.191615  0.048096    0.049721          0.946097   \n",
       "\n",
       "        ALT       Gtp  gender  tartar  dental caries  \n",
       "0 -0.254602 -0.021007       1       0            0.0  \n",
       "1  0.312248 -0.119581       1       0            0.0  \n",
       "2  0.154790  0.649301       1       0            0.0  \n",
       "3  0.879098  0.195858       1       0            0.0  \n",
       "4  0.973573  0.314147       1       0            0.0  "
      ]
     },
     "execution_count": 70,
     "metadata": {},
     "output_type": "execute_result"
    }
   ],
   "source": [
    "sel_x_te.head()"
   ]
  },
  {
   "cell_type": "code",
   "execution_count": 94,
   "id": "969ab9da",
   "metadata": {},
   "outputs": [
    {
     "data": {
      "text/plain": [
       "(11139, 17)"
      ]
     },
     "execution_count": 94,
     "metadata": {},
     "output_type": "execute_result"
    }
   ],
   "source": [
    "sel_x_te.shape"
   ]
  },
  {
   "cell_type": "code",
   "execution_count": 95,
   "id": "96c3f5d8",
   "metadata": {},
   "outputs": [
    {
     "name": "stderr",
     "output_type": "stream",
     "text": [
      "C:\\ProgramData\\Anaconda3\\lib\\site-packages\\sklearn\\utils\\validation.py:993: DataConversionWarning: A column-vector y was passed when a 1d array was expected. Please change the shape of y to (n_samples, ), for example using ravel().\n",
      "  y = column_or_1d(y, warn=True)\n"
     ]
    },
    {
     "name": "stdout",
     "output_type": "stream",
     "text": [
      "452.27866220474243\n",
      "train accuracy :  1.000\n",
      "test accuracy :  1.000\n",
      "707.5232677459717\n"
     ]
    }
   ],
   "source": [
    "model2,score_tr2,score_te2=modeling(sel_x_tr,y_train_s,sel_x_te,y_test_s,C=1,gamma=3)"
   ]
  },
  {
   "cell_type": "code",
   "execution_count": 96,
   "id": "7a78312b",
   "metadata": {},
   "outputs": [
    {
     "name": "stdout",
     "output_type": "stream",
     "text": [
      "SVC(C=1, gamma=3) 1.0 1.0\n"
     ]
    }
   ],
   "source": [
    "print(model2,score_tr2,score_te2)"
   ]
  },
  {
   "cell_type": "code",
   "execution_count": 104,
   "id": "f708f106",
   "metadata": {
    "scrolled": true
   },
   "outputs": [
    {
     "data": {
      "text/plain": [
       "array(['age', 'height(cm)', 'weight(kg)', 'waist(cm)', 'eyesight(right)',\n",
       "       'systolic', 'relaxation', 'fasting blood sugar', 'triglyceride',\n",
       "       'HDL', 'hemoglobin', 'serum creatinine', 'ALT', 'Gtp', 'gender',\n",
       "       'tartar', 'dental caries'], dtype=object)"
      ]
     },
     "execution_count": 104,
     "metadata": {},
     "output_type": "execute_result"
    }
   ],
   "source": [
    "model2.feature_names_in_"
   ]
  },
  {
   "cell_type": "markdown",
   "id": "a5dc06eb",
   "metadata": {},
   "source": [
    "## 평가지표"
   ]
  },
  {
   "cell_type": "code",
   "execution_count": 97,
   "id": "ed1ca775",
   "metadata": {
    "scrolled": false
   },
   "outputs": [
    {
     "name": "stdout",
     "output_type": "stream",
     "text": [
      "time : 417.96571159362793\n"
     ]
    }
   ],
   "source": [
    "start = time.time()\n",
    "\n",
    "pred_t2=model2.predict(sel_x_te)\n",
    "confusion_m2=confusion_matrix(y_test_s, pred_t2)\n",
    "\n",
    "print(\"time :\", time.time() - start)"
   ]
  },
  {
   "cell_type": "code",
   "execution_count": 98,
   "id": "47081a40",
   "metadata": {},
   "outputs": [],
   "source": [
    "import seaborn as sns"
   ]
  },
  {
   "cell_type": "code",
   "execution_count": 99,
   "id": "2b8eaced",
   "metadata": {},
   "outputs": [
    {
     "data": {
      "text/html": [
       "<div>\n",
       "<style scoped>\n",
       "    .dataframe tbody tr th:only-of-type {\n",
       "        vertical-align: middle;\n",
       "    }\n",
       "\n",
       "    .dataframe tbody tr th {\n",
       "        vertical-align: top;\n",
       "    }\n",
       "\n",
       "    .dataframe thead th {\n",
       "        text-align: right;\n",
       "    }\n",
       "</style>\n",
       "<table border=\"1\" class=\"dataframe\">\n",
       "  <thead>\n",
       "    <tr style=\"text-align: right;\">\n",
       "      <th></th>\n",
       "      <th>Actual Positive:1</th>\n",
       "      <th>Actual Negative:0</th>\n",
       "    </tr>\n",
       "  </thead>\n",
       "  <tbody>\n",
       "    <tr>\n",
       "      <th>Predict Positive:1</th>\n",
       "      <td>7036</td>\n",
       "      <td>0</td>\n",
       "    </tr>\n",
       "    <tr>\n",
       "      <th>Predict Negative:0</th>\n",
       "      <td>0</td>\n",
       "      <td>4103</td>\n",
       "    </tr>\n",
       "  </tbody>\n",
       "</table>\n",
       "</div>"
      ],
      "text/plain": [
       "                    Actual Positive:1  Actual Negative:0\n",
       "Predict Positive:1               7036                  0\n",
       "Predict Negative:0                  0               4103"
      ]
     },
     "execution_count": 99,
     "metadata": {},
     "output_type": "execute_result"
    }
   ],
   "source": [
    "cm_t2 = pd.DataFrame(data=confusion_m2, columns=['Actual Positive:1', 'Actual Negative:0'], \n",
    "                                 index=['Predict Positive:1', 'Predict Negative:0'])\n",
    "cm_t2"
   ]
  },
  {
   "cell_type": "code",
   "execution_count": 100,
   "id": "6b8d0692",
   "metadata": {},
   "outputs": [
    {
     "data": {
      "text/plain": [
       "<AxesSubplot:>"
      ]
     },
     "execution_count": 100,
     "metadata": {},
     "output_type": "execute_result"
    },
    {
     "data": {
      "image/png": "[encoded data removed]",
      "text/plain": [
       "<Figure size 432x288 with 2 Axes>"
      ]
     },
     "metadata": {
      "needs_background": "light"
     },
     "output_type": "display_data"
    }
   ],
   "source": [
    "sns.heatmap(cm_t2, annot=True, fmt='d', cmap='BuGn_r')"
   ]
  },
  {
   "cell_type": "markdown",
   "id": "ac728e90",
   "metadata": {},
   "source": [
    "### 정밀도 재현율 f1score"
   ]
  },
  {
   "cell_type": "code",
   "execution_count": 101,
   "id": "241a8c7b",
   "metadata": {
    "scrolled": false
   },
   "outputs": [],
   "source": [
    "acc2=accuracy_score(y_test_s,pred_t2)\n",
    "pre2=precision_score(y_test_s , pred_t2)\n",
    "rec2=recall_score(y_test_s , pred_t2)\n",
    "f12=f1_score(y_test_s,pred_t2)\n",
    "auc2=roc_auc_score(y_test_s, pred_t2)"
   ]
  },
  {
   "cell_type": "code",
   "execution_count": 102,
   "id": "f6b8e1be",
   "metadata": {
    "scrolled": false
   },
   "outputs": [
    {
     "name": "stdout",
     "output_type": "stream",
     "text": [
      "정확도 : 1.0000\n",
      "정밀도 : 1.0000\n",
      "재현율 : 1.0000\n",
      "F1_score : 1.0000\n",
      "ROC_AUC_score : 1.0000\n"
     ]
    }
   ],
   "source": [
    "print('정확도 : {:.4f}'.format(acc2))\n",
    "# 정밀도\n",
    "print('정밀도 : {:.4f}'.format(pre2))\n",
    "# 재현율\n",
    "print('재현율 : {:.4f}'.format(rec2))\n",
    "# f1_score\n",
    "print('F1_score : {:.4f}'.format(f12))\n",
    "# AUC score \n",
    "print('ROC_AUC_score : {:.4f}'.format(auc2))"
   ]
  },
  {
   "cell_type": "code",
   "execution_count": 103,
   "id": "ebfdbcb1",
   "metadata": {
    "scrolled": true
   },
   "outputs": [
    {
     "data": {
      "text/plain": [
       "['./model_k17.pkl']"
      ]
     },
     "execution_count": 103,
     "metadata": {},
     "output_type": "execute_result"
    }
   ],
   "source": [
    "joblib.dump(model2, './model_k17.pkl')"
   ]
  },
  {
   "cell_type": "code",
   "execution_count": null,
   "id": "62f7546e",
   "metadata": {},
   "outputs": [],
   "source": []
  },
  {
   "cell_type": "code",
   "execution_count": null,
   "id": "757df804",
   "metadata": {},
   "outputs": [],
   "source": []
  },
  {
   "cell_type": "code",
   "execution_count": null,
   "id": "f93059d1",
   "metadata": {},
   "outputs": [],
   "source": []
  },
  {
   "cell_type": "code",
   "execution_count": null,
   "id": "07360e97",
   "metadata": {},
   "outputs": [],
   "source": []
  },
  {
   "cell_type": "markdown",
   "id": "e0039116",
   "metadata": {},
   "source": [
    "### k=9"
   ]
  },
  {
   "cell_type": "code",
   "execution_count": 125,
   "id": "7af85ae6",
   "metadata": {},
   "outputs": [],
   "source": [
    "sel_x_tr=x_train_s[f9]\n",
    "sel_x_te=x_test_s[f9]\n"
   ]
  },
  {
   "cell_type": "code",
   "execution_count": 126,
   "id": "ff89523c",
   "metadata": {},
   "outputs": [
    {
     "data": {
      "text/html": [
       "<div>\n",
       "<style scoped>\n",
       "    .dataframe tbody tr th:only-of-type {\n",
       "        vertical-align: middle;\n",
       "    }\n",
       "\n",
       "    .dataframe tbody tr th {\n",
       "        vertical-align: top;\n",
       "    }\n",
       "\n",
       "    .dataframe thead th {\n",
       "        text-align: right;\n",
       "    }\n",
       "</style>\n",
       "<table border=\"1\" class=\"dataframe\">\n",
       "  <thead>\n",
       "    <tr style=\"text-align: right;\">\n",
       "      <th></th>\n",
       "      <th>height(cm)</th>\n",
       "      <th>weight(kg)</th>\n",
       "      <th>waist(cm)</th>\n",
       "      <th>triglyceride</th>\n",
       "      <th>HDL</th>\n",
       "      <th>hemoglobin</th>\n",
       "      <th>serum creatinine</th>\n",
       "      <th>Gtp</th>\n",
       "      <th>gender</th>\n",
       "    </tr>\n",
       "  </thead>\n",
       "  <tbody>\n",
       "    <tr>\n",
       "      <th>0</th>\n",
       "      <td>-1.049853</td>\n",
       "      <td>-0.458800</td>\n",
       "      <td>-0.083771</td>\n",
       "      <td>-0.624508</td>\n",
       "      <td>1.061947</td>\n",
       "      <td>-1.100546</td>\n",
       "      <td>-0.823115</td>\n",
       "      <td>-0.257586</td>\n",
       "      <td>0</td>\n",
       "    </tr>\n",
       "    <tr>\n",
       "      <th>1</th>\n",
       "      <td>-0.506284</td>\n",
       "      <td>-0.458800</td>\n",
       "      <td>-0.116105</td>\n",
       "      <td>-0.163686</td>\n",
       "      <td>-1.033346</td>\n",
       "      <td>-1.228353</td>\n",
       "      <td>-1.265418</td>\n",
       "      <td>-0.435020</td>\n",
       "      <td>0</td>\n",
       "    </tr>\n",
       "    <tr>\n",
       "      <th>2</th>\n",
       "      <td>0.580854</td>\n",
       "      <td>-0.458800</td>\n",
       "      <td>-0.223885</td>\n",
       "      <td>0.771922</td>\n",
       "      <td>-0.154675</td>\n",
       "      <td>0.752662</td>\n",
       "      <td>0.503794</td>\n",
       "      <td>-0.356161</td>\n",
       "      <td>1</td>\n",
       "    </tr>\n",
       "    <tr>\n",
       "      <th>3</th>\n",
       "      <td>0.037285</td>\n",
       "      <td>0.321016</td>\n",
       "      <td>0.638353</td>\n",
       "      <td>1.777351</td>\n",
       "      <td>-0.830575</td>\n",
       "      <td>0.049721</td>\n",
       "      <td>0.503794</td>\n",
       "      <td>-0.435020</td>\n",
       "      <td>1</td>\n",
       "    </tr>\n",
       "    <tr>\n",
       "      <th>4</th>\n",
       "      <td>-1.049853</td>\n",
       "      <td>-0.458800</td>\n",
       "      <td>0.422793</td>\n",
       "      <td>-0.736223</td>\n",
       "      <td>0.318456</td>\n",
       "      <td>-1.356160</td>\n",
       "      <td>-1.265418</td>\n",
       "      <td>-0.356161</td>\n",
       "      <td>0</td>\n",
       "    </tr>\n",
       "  </tbody>\n",
       "</table>\n",
       "</div>"
      ],
      "text/plain": [
       "   height(cm)  weight(kg)  waist(cm)  triglyceride       HDL  hemoglobin  \\\n",
       "0   -1.049853   -0.458800  -0.083771     -0.624508  1.061947   -1.100546   \n",
       "1   -0.506284   -0.458800  -0.116105     -0.163686 -1.033346   -1.228353   \n",
       "2    0.580854   -0.458800  -0.223885      0.771922 -0.154675    0.752662   \n",
       "3    0.037285    0.321016   0.638353      1.777351 -0.830575    0.049721   \n",
       "4   -1.049853   -0.458800   0.422793     -0.736223  0.318456   -1.356160   \n",
       "\n",
       "   serum creatinine       Gtp  gender  \n",
       "0         -0.823115 -0.257586       0  \n",
       "1         -1.265418 -0.435020       0  \n",
       "2          0.503794 -0.356161       1  \n",
       "3          0.503794 -0.435020       1  \n",
       "4         -1.265418 -0.356161       0  "
      ]
     },
     "execution_count": 126,
     "metadata": {},
     "output_type": "execute_result"
    }
   ],
   "source": [
    "sel_x_tr.head()"
   ]
  },
  {
   "cell_type": "code",
   "execution_count": 127,
   "id": "88fcceeb",
   "metadata": {},
   "outputs": [
    {
     "data": {
      "text/html": [
       "<div>\n",
       "<style scoped>\n",
       "    .dataframe tbody tr th:only-of-type {\n",
       "        vertical-align: middle;\n",
       "    }\n",
       "\n",
       "    .dataframe tbody tr th {\n",
       "        vertical-align: top;\n",
       "    }\n",
       "\n",
       "    .dataframe thead th {\n",
       "        text-align: right;\n",
       "    }\n",
       "</style>\n",
       "<table border=\"1\" class=\"dataframe\">\n",
       "  <thead>\n",
       "    <tr style=\"text-align: right;\">\n",
       "      <th></th>\n",
       "      <th>height(cm)</th>\n",
       "      <th>weight(kg)</th>\n",
       "      <th>waist(cm)</th>\n",
       "      <th>triglyceride</th>\n",
       "      <th>HDL</th>\n",
       "      <th>hemoglobin</th>\n",
       "      <th>serum creatinine</th>\n",
       "      <th>Gtp</th>\n",
       "      <th>gender</th>\n",
       "    </tr>\n",
       "  </thead>\n",
       "  <tbody>\n",
       "    <tr>\n",
       "      <th>0</th>\n",
       "      <td>-0.506284</td>\n",
       "      <td>-0.068892</td>\n",
       "      <td>0.961692</td>\n",
       "      <td>-0.833973</td>\n",
       "      <td>0.250866</td>\n",
       "      <td>-0.078086</td>\n",
       "      <td>0.503794</td>\n",
       "      <td>-0.021007</td>\n",
       "      <td>1</td>\n",
       "    </tr>\n",
       "    <tr>\n",
       "      <th>1</th>\n",
       "      <td>0.037285</td>\n",
       "      <td>1.880649</td>\n",
       "      <td>1.716150</td>\n",
       "      <td>-0.373151</td>\n",
       "      <td>0.048096</td>\n",
       "      <td>0.624854</td>\n",
       "      <td>0.061491</td>\n",
       "      <td>-0.119581</td>\n",
       "      <td>1</td>\n",
       "    </tr>\n",
       "    <tr>\n",
       "      <th>2</th>\n",
       "      <td>0.580854</td>\n",
       "      <td>0.710924</td>\n",
       "      <td>-0.116105</td>\n",
       "      <td>1.232744</td>\n",
       "      <td>-1.371296</td>\n",
       "      <td>1.136084</td>\n",
       "      <td>-0.823115</td>\n",
       "      <td>0.649301</td>\n",
       "      <td>1</td>\n",
       "    </tr>\n",
       "    <tr>\n",
       "      <th>3</th>\n",
       "      <td>1.124422</td>\n",
       "      <td>0.321016</td>\n",
       "      <td>-0.223885</td>\n",
       "      <td>0.674172</td>\n",
       "      <td>-0.289855</td>\n",
       "      <td>0.433143</td>\n",
       "      <td>-0.823115</td>\n",
       "      <td>0.195858</td>\n",
       "      <td>1</td>\n",
       "    </tr>\n",
       "    <tr>\n",
       "      <th>4</th>\n",
       "      <td>-0.506284</td>\n",
       "      <td>0.710924</td>\n",
       "      <td>1.177251</td>\n",
       "      <td>-0.191615</td>\n",
       "      <td>0.048096</td>\n",
       "      <td>0.049721</td>\n",
       "      <td>0.946097</td>\n",
       "      <td>0.314147</td>\n",
       "      <td>1</td>\n",
       "    </tr>\n",
       "  </tbody>\n",
       "</table>\n",
       "</div>"
      ],
      "text/plain": [
       "   height(cm)  weight(kg)  waist(cm)  triglyceride       HDL  hemoglobin  \\\n",
       "0   -0.506284   -0.068892   0.961692     -0.833973  0.250866   -0.078086   \n",
       "1    0.037285    1.880649   1.716150     -0.373151  0.048096    0.624854   \n",
       "2    0.580854    0.710924  -0.116105      1.232744 -1.371296    1.136084   \n",
       "3    1.124422    0.321016  -0.223885      0.674172 -0.289855    0.433143   \n",
       "4   -0.506284    0.710924   1.177251     -0.191615  0.048096    0.049721   \n",
       "\n",
       "   serum creatinine       Gtp  gender  \n",
       "0          0.503794 -0.021007       1  \n",
       "1          0.061491 -0.119581       1  \n",
       "2         -0.823115  0.649301       1  \n",
       "3         -0.823115  0.195858       1  \n",
       "4          0.946097  0.314147       1  "
      ]
     },
     "execution_count": 127,
     "metadata": {},
     "output_type": "execute_result"
    }
   ],
   "source": [
    "sel_x_te.head()"
   ]
  },
  {
   "cell_type": "code",
   "execution_count": 65,
   "id": "efb63ba3",
   "metadata": {
    "scrolled": true
   },
   "outputs": [
    {
     "name": "stderr",
     "output_type": "stream",
     "text": [
      "C:\\ProgramData\\Anaconda3\\lib\\site-packages\\sklearn\\utils\\validation.py:993: DataConversionWarning: A column-vector y was passed when a 1d array was expected. Please change the shape of y to (n_samples, ), for example using ravel().\n",
      "  y = column_or_1d(y, warn=True)\n"
     ]
    },
    {
     "name": "stdout",
     "output_type": "stream",
     "text": [
      "400.26352524757385\n",
      "train accuracy :  0.929\n",
      "test accuracy :  0.928\n",
      "236.0619125366211\n"
     ]
    },
    {
     "data": {
      "text/plain": [
       "(SVC(C=1, gamma=3), 0.9288263416604943, 0.9277313942005566)"
      ]
     },
     "execution_count": 65,
     "metadata": {},
     "output_type": "execute_result"
    }
   ],
   "source": [
    "modeling(sel_x_tr,y_train_s,sel_x_te,y_test_s,C=1,gamma=3)"
   ]
  },
  {
   "cell_type": "markdown",
   "id": "090375df",
   "metadata": {},
   "source": [
    "## gender 제거 후 모델링"
   ]
  },
  {
   "cell_type": "code",
   "execution_count": 114,
   "id": "e9ea3e19",
   "metadata": {
    "scrolled": true
   },
   "outputs": [],
   "source": [
    "x_train_g=x_train_s.drop('gender',axis=1)"
   ]
  },
  {
   "cell_type": "code",
   "execution_count": 117,
   "id": "68c9d8f8",
   "metadata": {},
   "outputs": [
    {
     "data": {
      "text/html": [
       "<div>\n",
       "<style scoped>\n",
       "    .dataframe tbody tr th:only-of-type {\n",
       "        vertical-align: middle;\n",
       "    }\n",
       "\n",
       "    .dataframe tbody tr th {\n",
       "        vertical-align: top;\n",
       "    }\n",
       "\n",
       "    .dataframe thead th {\n",
       "        text-align: right;\n",
       "    }\n",
       "</style>\n",
       "<table border=\"1\" class=\"dataframe\">\n",
       "  <thead>\n",
       "    <tr style=\"text-align: right;\">\n",
       "      <th></th>\n",
       "      <th>age</th>\n",
       "      <th>height(cm)</th>\n",
       "      <th>weight(kg)</th>\n",
       "      <th>waist(cm)</th>\n",
       "      <th>eyesight(left)</th>\n",
       "      <th>eyesight(right)</th>\n",
       "      <th>systolic</th>\n",
       "      <th>relaxation</th>\n",
       "      <th>fasting blood sugar</th>\n",
       "      <th>Cholesterol</th>\n",
       "      <th>...</th>\n",
       "      <th>hemoglobin</th>\n",
       "      <th>Urine protein</th>\n",
       "      <th>serum creatinine</th>\n",
       "      <th>AST</th>\n",
       "      <th>ALT</th>\n",
       "      <th>Gtp</th>\n",
       "      <th>tartar</th>\n",
       "      <th>hearing(right)</th>\n",
       "      <th>hearing(left)</th>\n",
       "      <th>dental caries</th>\n",
       "    </tr>\n",
       "  </thead>\n",
       "  <tbody>\n",
       "    <tr>\n",
       "      <th>0</th>\n",
       "      <td>-0.348302</td>\n",
       "      <td>-1.049853</td>\n",
       "      <td>-0.458800</td>\n",
       "      <td>-0.083771</td>\n",
       "      <td>0.385691</td>\n",
       "      <td>-0.016643</td>\n",
       "      <td>-0.550024</td>\n",
       "      <td>-0.313914</td>\n",
       "      <td>-0.255217</td>\n",
       "      <td>0.494320</td>\n",
       "      <td>...</td>\n",
       "      <td>-1.100546</td>\n",
       "      <td>-0.214896</td>\n",
       "      <td>-0.823115</td>\n",
       "      <td>-0.430331</td>\n",
       "      <td>-0.254602</td>\n",
       "      <td>-0.257586</td>\n",
       "      <td>1</td>\n",
       "      <td>1.0</td>\n",
       "      <td>1.0</td>\n",
       "      <td>0.0</td>\n",
       "    </tr>\n",
       "    <tr>\n",
       "      <th>1</th>\n",
       "      <td>-0.348302</td>\n",
       "      <td>-0.506284</td>\n",
       "      <td>-0.458800</td>\n",
       "      <td>-0.116105</td>\n",
       "      <td>-0.433770</td>\n",
       "      <td>-0.835046</td>\n",
       "      <td>-0.184756</td>\n",
       "      <td>-0.623346</td>\n",
       "      <td>1.471806</td>\n",
       "      <td>-0.137158</td>\n",
       "      <td>...</td>\n",
       "      <td>-1.228353</td>\n",
       "      <td>-0.214896</td>\n",
       "      <td>-1.265418</td>\n",
       "      <td>-0.220763</td>\n",
       "      <td>-0.254602</td>\n",
       "      <td>-0.435020</td>\n",
       "      <td>1</td>\n",
       "      <td>1.0</td>\n",
       "      <td>1.0</td>\n",
       "      <td>0.0</td>\n",
       "    </tr>\n",
       "    <tr>\n",
       "      <th>2</th>\n",
       "      <td>0.892501</td>\n",
       "      <td>0.580854</td>\n",
       "      <td>-0.458800</td>\n",
       "      <td>-0.223885</td>\n",
       "      <td>-0.433770</td>\n",
       "      <td>-0.425844</td>\n",
       "      <td>1.203261</td>\n",
       "      <td>1.026958</td>\n",
       "      <td>-0.495081</td>\n",
       "      <td>1.235620</td>\n",
       "      <td>...</td>\n",
       "      <td>0.752662</td>\n",
       "      <td>-0.214896</td>\n",
       "      <td>0.503794</td>\n",
       "      <td>-0.273155</td>\n",
       "      <td>-0.349076</td>\n",
       "      <td>-0.356161</td>\n",
       "      <td>0</td>\n",
       "      <td>1.0</td>\n",
       "      <td>1.0</td>\n",
       "      <td>0.0</td>\n",
       "    </tr>\n",
       "    <tr>\n",
       "      <th>3</th>\n",
       "      <td>-0.348302</td>\n",
       "      <td>0.037285</td>\n",
       "      <td>0.321016</td>\n",
       "      <td>0.638353</td>\n",
       "      <td>1.000286</td>\n",
       "      <td>1.006362</td>\n",
       "      <td>-1.572773</td>\n",
       "      <td>-1.654787</td>\n",
       "      <td>-0.159271</td>\n",
       "      <td>3.432064</td>\n",
       "      <td>...</td>\n",
       "      <td>0.049721</td>\n",
       "      <td>-0.214896</td>\n",
       "      <td>0.503794</td>\n",
       "      <td>-0.377939</td>\n",
       "      <td>-0.034160</td>\n",
       "      <td>-0.435020</td>\n",
       "      <td>1</td>\n",
       "      <td>1.0</td>\n",
       "      <td>1.0</td>\n",
       "      <td>0.0</td>\n",
       "    </tr>\n",
       "    <tr>\n",
       "      <th>4</th>\n",
       "      <td>-0.348302</td>\n",
       "      <td>-1.049853</td>\n",
       "      <td>-0.458800</td>\n",
       "      <td>0.422793</td>\n",
       "      <td>-0.024040</td>\n",
       "      <td>-0.016643</td>\n",
       "      <td>-0.111703</td>\n",
       "      <td>-0.210770</td>\n",
       "      <td>-0.926837</td>\n",
       "      <td>-0.356803</td>\n",
       "      <td>...</td>\n",
       "      <td>-1.356160</td>\n",
       "      <td>-0.214896</td>\n",
       "      <td>-1.265418</td>\n",
       "      <td>-0.535115</td>\n",
       "      <td>-0.412060</td>\n",
       "      <td>-0.356161</td>\n",
       "      <td>0</td>\n",
       "      <td>1.0</td>\n",
       "      <td>1.0</td>\n",
       "      <td>0.0</td>\n",
       "    </tr>\n",
       "    <tr>\n",
       "      <th>...</th>\n",
       "      <td>...</td>\n",
       "      <td>...</td>\n",
       "      <td>...</td>\n",
       "      <td>...</td>\n",
       "      <td>...</td>\n",
       "      <td>...</td>\n",
       "      <td>...</td>\n",
       "      <td>...</td>\n",
       "      <td>...</td>\n",
       "      <td>...</td>\n",
       "      <td>...</td>\n",
       "      <td>...</td>\n",
       "      <td>...</td>\n",
       "      <td>...</td>\n",
       "      <td>...</td>\n",
       "      <td>...</td>\n",
       "      <td>...</td>\n",
       "      <td>...</td>\n",
       "      <td>...</td>\n",
       "      <td>...</td>\n",
       "      <td>...</td>\n",
       "    </tr>\n",
       "    <tr>\n",
       "      <th>44548</th>\n",
       "      <td>0.478900</td>\n",
       "      <td>0.580854</td>\n",
       "      <td>-0.068892</td>\n",
       "      <td>0.638353</td>\n",
       "      <td>0.385691</td>\n",
       "      <td>0.392559</td>\n",
       "      <td>1.933796</td>\n",
       "      <td>1.852111</td>\n",
       "      <td>0.128566</td>\n",
       "      <td>-0.411714</td>\n",
       "      <td>...</td>\n",
       "      <td>0.369240</td>\n",
       "      <td>-0.214896</td>\n",
       "      <td>0.503794</td>\n",
       "      <td>0.984253</td>\n",
       "      <td>0.690148</td>\n",
       "      <td>0.215573</td>\n",
       "      <td>1</td>\n",
       "      <td>1.0</td>\n",
       "      <td>1.0</td>\n",
       "      <td>0.0</td>\n",
       "    </tr>\n",
       "    <tr>\n",
       "      <th>44549</th>\n",
       "      <td>-0.761903</td>\n",
       "      <td>1.124422</td>\n",
       "      <td>0.321016</td>\n",
       "      <td>0.207234</td>\n",
       "      <td>-0.843500</td>\n",
       "      <td>-0.630445</td>\n",
       "      <td>-1.207506</td>\n",
       "      <td>-0.210770</td>\n",
       "      <td>-0.543054</td>\n",
       "      <td>-0.274436</td>\n",
       "      <td>...</td>\n",
       "      <td>0.369240</td>\n",
       "      <td>-0.214896</td>\n",
       "      <td>0.061491</td>\n",
       "      <td>-0.325547</td>\n",
       "      <td>-0.412060</td>\n",
       "      <td>-0.474450</td>\n",
       "      <td>1</td>\n",
       "      <td>1.0</td>\n",
       "      <td>1.0</td>\n",
       "      <td>0.0</td>\n",
       "    </tr>\n",
       "    <tr>\n",
       "      <th>44550</th>\n",
       "      <td>-0.761903</td>\n",
       "      <td>1.124422</td>\n",
       "      <td>0.321016</td>\n",
       "      <td>-1.204680</td>\n",
       "      <td>1.000286</td>\n",
       "      <td>1.006362</td>\n",
       "      <td>-0.403917</td>\n",
       "      <td>-0.623346</td>\n",
       "      <td>-0.207244</td>\n",
       "      <td>-1.427569</td>\n",
       "      <td>...</td>\n",
       "      <td>-0.781027</td>\n",
       "      <td>-0.214896</td>\n",
       "      <td>0.503794</td>\n",
       "      <td>-0.430331</td>\n",
       "      <td>-0.254602</td>\n",
       "      <td>-0.592740</td>\n",
       "      <td>1</td>\n",
       "      <td>1.0</td>\n",
       "      <td>1.0</td>\n",
       "      <td>0.0</td>\n",
       "    </tr>\n",
       "    <tr>\n",
       "      <th>44551</th>\n",
       "      <td>0.478900</td>\n",
       "      <td>0.037285</td>\n",
       "      <td>1.880649</td>\n",
       "      <td>2.664611</td>\n",
       "      <td>-0.433770</td>\n",
       "      <td>-1.039647</td>\n",
       "      <td>0.034404</td>\n",
       "      <td>-0.107626</td>\n",
       "      <td>-0.399135</td>\n",
       "      <td>-0.494080</td>\n",
       "      <td>...</td>\n",
       "      <td>-0.078086</td>\n",
       "      <td>-0.214896</td>\n",
       "      <td>0.061491</td>\n",
       "      <td>0.198373</td>\n",
       "      <td>0.690148</td>\n",
       "      <td>-0.001292</td>\n",
       "      <td>1</td>\n",
       "      <td>1.0</td>\n",
       "      <td>1.0</td>\n",
       "      <td>0.0</td>\n",
       "    </tr>\n",
       "    <tr>\n",
       "      <th>44552</th>\n",
       "      <td>-1.589105</td>\n",
       "      <td>1.124422</td>\n",
       "      <td>1.100832</td>\n",
       "      <td>1.198807</td>\n",
       "      <td>0.385691</td>\n",
       "      <td>1.006362</td>\n",
       "      <td>0.180511</td>\n",
       "      <td>-0.004482</td>\n",
       "      <td>-1.022783</td>\n",
       "      <td>0.000120</td>\n",
       "      <td>...</td>\n",
       "      <td>-2.059101</td>\n",
       "      <td>-0.214896</td>\n",
       "      <td>0.503794</td>\n",
       "      <td>-0.168371</td>\n",
       "      <td>-0.506535</td>\n",
       "      <td>-0.395590</td>\n",
       "      <td>1</td>\n",
       "      <td>1.0</td>\n",
       "      <td>1.0</td>\n",
       "      <td>0.0</td>\n",
       "    </tr>\n",
       "  </tbody>\n",
       "</table>\n",
       "<p>44553 rows × 23 columns</p>\n",
       "</div>"
      ],
      "text/plain": [
       "            age  height(cm)  weight(kg)  waist(cm)  eyesight(left)  \\\n",
       "0     -0.348302   -1.049853   -0.458800  -0.083771        0.385691   \n",
       "1     -0.348302   -0.506284   -0.458800  -0.116105       -0.433770   \n",
       "2      0.892501    0.580854   -0.458800  -0.223885       -0.433770   \n",
       "3     -0.348302    0.037285    0.321016   0.638353        1.000286   \n",
       "4     -0.348302   -1.049853   -0.458800   0.422793       -0.024040   \n",
       "...         ...         ...         ...        ...             ...   \n",
       "44548  0.478900    0.580854   -0.068892   0.638353        0.385691   \n",
       "44549 -0.761903    1.124422    0.321016   0.207234       -0.843500   \n",
       "44550 -0.761903    1.124422    0.321016  -1.204680        1.000286   \n",
       "44551  0.478900    0.037285    1.880649   2.664611       -0.433770   \n",
       "44552 -1.589105    1.124422    1.100832   1.198807        0.385691   \n",
       "\n",
       "       eyesight(right)  systolic  relaxation  fasting blood sugar  \\\n",
       "0            -0.016643 -0.550024   -0.313914            -0.255217   \n",
       "1            -0.835046 -0.184756   -0.623346             1.471806   \n",
       "2            -0.425844  1.203261    1.026958            -0.495081   \n",
       "3             1.006362 -1.572773   -1.654787            -0.159271   \n",
       "4            -0.016643 -0.111703   -0.210770            -0.926837   \n",
       "...                ...       ...         ...                  ...   \n",
       "44548         0.392559  1.933796    1.852111             0.128566   \n",
       "44549        -0.630445 -1.207506   -0.210770            -0.543054   \n",
       "44550         1.006362 -0.403917   -0.623346            -0.207244   \n",
       "44551        -1.039647  0.034404   -0.107626            -0.399135   \n",
       "44552         1.006362  0.180511   -0.004482            -1.022783   \n",
       "\n",
       "       Cholesterol  ...  hemoglobin  Urine protein  serum creatinine  \\\n",
       "0         0.494320  ...   -1.100546      -0.214896         -0.823115   \n",
       "1        -0.137158  ...   -1.228353      -0.214896         -1.265418   \n",
       "2         1.235620  ...    0.752662      -0.214896          0.503794   \n",
       "3         3.432064  ...    0.049721      -0.214896          0.503794   \n",
       "4        -0.356803  ...   -1.356160      -0.214896         -1.265418   \n",
       "...            ...  ...         ...            ...               ...   \n",
       "44548    -0.411714  ...    0.369240      -0.214896          0.503794   \n",
       "44549    -0.274436  ...    0.369240      -0.214896          0.061491   \n",
       "44550    -1.427569  ...   -0.781027      -0.214896          0.503794   \n",
       "44551    -0.494080  ...   -0.078086      -0.214896          0.061491   \n",
       "44552     0.000120  ...   -2.059101      -0.214896          0.503794   \n",
       "\n",
       "            AST       ALT       Gtp  tartar  hearing(right)  hearing(left)  \\\n",
       "0     -0.430331 -0.254602 -0.257586       1             1.0            1.0   \n",
       "1     -0.220763 -0.254602 -0.435020       1             1.0            1.0   \n",
       "2     -0.273155 -0.349076 -0.356161       0             1.0            1.0   \n",
       "3     -0.377939 -0.034160 -0.435020       1             1.0            1.0   \n",
       "4     -0.535115 -0.412060 -0.356161       0             1.0            1.0   \n",
       "...         ...       ...       ...     ...             ...            ...   \n",
       "44548  0.984253  0.690148  0.215573       1             1.0            1.0   \n",
       "44549 -0.325547 -0.412060 -0.474450       1             1.0            1.0   \n",
       "44550 -0.430331 -0.254602 -0.592740       1             1.0            1.0   \n",
       "44551  0.198373  0.690148 -0.001292       1             1.0            1.0   \n",
       "44552 -0.168371 -0.506535 -0.395590       1             1.0            1.0   \n",
       "\n",
       "       dental caries  \n",
       "0                0.0  \n",
       "1                0.0  \n",
       "2                0.0  \n",
       "3                0.0  \n",
       "4                0.0  \n",
       "...              ...  \n",
       "44548            0.0  \n",
       "44549            0.0  \n",
       "44550            0.0  \n",
       "44551            0.0  \n",
       "44552            0.0  \n",
       "\n",
       "[44553 rows x 23 columns]"
      ]
     },
     "execution_count": 117,
     "metadata": {},
     "output_type": "execute_result"
    }
   ],
   "source": [
    "x_train_g"
   ]
  },
  {
   "cell_type": "code",
   "execution_count": 115,
   "id": "e1c53f5a",
   "metadata": {},
   "outputs": [],
   "source": [
    "x_test_g=x_test_s.drop('gender',axis=1)"
   ]
  },
  {
   "cell_type": "code",
   "execution_count": 119,
   "id": "fe604a9f",
   "metadata": {
    "scrolled": false
   },
   "outputs": [
    {
     "data": {
      "text/html": [
       "<div>\n",
       "<style scoped>\n",
       "    .dataframe tbody tr th:only-of-type {\n",
       "        vertical-align: middle;\n",
       "    }\n",
       "\n",
       "    .dataframe tbody tr th {\n",
       "        vertical-align: top;\n",
       "    }\n",
       "\n",
       "    .dataframe thead th {\n",
       "        text-align: right;\n",
       "    }\n",
       "</style>\n",
       "<table border=\"1\" class=\"dataframe\">\n",
       "  <thead>\n",
       "    <tr style=\"text-align: right;\">\n",
       "      <th></th>\n",
       "      <th>age</th>\n",
       "      <th>height(cm)</th>\n",
       "      <th>weight(kg)</th>\n",
       "      <th>waist(cm)</th>\n",
       "      <th>eyesight(left)</th>\n",
       "      <th>eyesight(right)</th>\n",
       "      <th>systolic</th>\n",
       "      <th>relaxation</th>\n",
       "      <th>fasting blood sugar</th>\n",
       "      <th>Cholesterol</th>\n",
       "      <th>...</th>\n",
       "      <th>hemoglobin</th>\n",
       "      <th>Urine protein</th>\n",
       "      <th>serum creatinine</th>\n",
       "      <th>AST</th>\n",
       "      <th>ALT</th>\n",
       "      <th>Gtp</th>\n",
       "      <th>tartar</th>\n",
       "      <th>hearing(right)</th>\n",
       "      <th>hearing(left)</th>\n",
       "      <th>dental caries</th>\n",
       "    </tr>\n",
       "  </thead>\n",
       "  <tbody>\n",
       "    <tr>\n",
       "      <th>0</th>\n",
       "      <td>2.960507</td>\n",
       "      <td>-0.506284</td>\n",
       "      <td>-0.068892</td>\n",
       "      <td>0.961692</td>\n",
       "      <td>-0.228905</td>\n",
       "      <td>-0.630445</td>\n",
       "      <td>-0.111703</td>\n",
       "      <td>0.408094</td>\n",
       "      <td>0.608295</td>\n",
       "      <td>-0.768636</td>\n",
       "      <td>...</td>\n",
       "      <td>-0.078086</td>\n",
       "      <td>-0.214896</td>\n",
       "      <td>0.503794</td>\n",
       "      <td>0.145981</td>\n",
       "      <td>-0.254602</td>\n",
       "      <td>-0.021007</td>\n",
       "      <td>0</td>\n",
       "      <td>1.0</td>\n",
       "      <td>1.0</td>\n",
       "      <td>0.0</td>\n",
       "    </tr>\n",
       "    <tr>\n",
       "      <th>1</th>\n",
       "      <td>-1.175504</td>\n",
       "      <td>0.037285</td>\n",
       "      <td>1.880649</td>\n",
       "      <td>1.716150</td>\n",
       "      <td>1.000286</td>\n",
       "      <td>1.006362</td>\n",
       "      <td>1.057153</td>\n",
       "      <td>0.717526</td>\n",
       "      <td>-0.159271</td>\n",
       "      <td>1.263075</td>\n",
       "      <td>...</td>\n",
       "      <td>0.624854</td>\n",
       "      <td>-0.214896</td>\n",
       "      <td>0.061491</td>\n",
       "      <td>-0.325547</td>\n",
       "      <td>0.312248</td>\n",
       "      <td>-0.119581</td>\n",
       "      <td>0</td>\n",
       "      <td>1.0</td>\n",
       "      <td>1.0</td>\n",
       "      <td>0.0</td>\n",
       "    </tr>\n",
       "    <tr>\n",
       "      <th>2</th>\n",
       "      <td>-0.348302</td>\n",
       "      <td>0.580854</td>\n",
       "      <td>0.710924</td>\n",
       "      <td>-0.116105</td>\n",
       "      <td>1.000286</td>\n",
       "      <td>1.006362</td>\n",
       "      <td>1.203261</td>\n",
       "      <td>1.026958</td>\n",
       "      <td>-0.351163</td>\n",
       "      <td>-0.933369</td>\n",
       "      <td>...</td>\n",
       "      <td>1.136084</td>\n",
       "      <td>-0.214896</td>\n",
       "      <td>-0.823115</td>\n",
       "      <td>-0.063587</td>\n",
       "      <td>0.154790</td>\n",
       "      <td>0.649301</td>\n",
       "      <td>0</td>\n",
       "      <td>1.0</td>\n",
       "      <td>1.0</td>\n",
       "      <td>0.0</td>\n",
       "    </tr>\n",
       "    <tr>\n",
       "      <th>3</th>\n",
       "      <td>-0.761903</td>\n",
       "      <td>1.124422</td>\n",
       "      <td>0.321016</td>\n",
       "      <td>-0.223885</td>\n",
       "      <td>-0.024040</td>\n",
       "      <td>-0.016643</td>\n",
       "      <td>2.810438</td>\n",
       "      <td>2.470975</td>\n",
       "      <td>0.032620</td>\n",
       "      <td>1.400353</td>\n",
       "      <td>...</td>\n",
       "      <td>0.433143</td>\n",
       "      <td>-0.214896</td>\n",
       "      <td>-0.823115</td>\n",
       "      <td>0.198373</td>\n",
       "      <td>0.879098</td>\n",
       "      <td>0.195858</td>\n",
       "      <td>0</td>\n",
       "      <td>1.0</td>\n",
       "      <td>1.0</td>\n",
       "      <td>0.0</td>\n",
       "    </tr>\n",
       "    <tr>\n",
       "      <th>4</th>\n",
       "      <td>-0.761903</td>\n",
       "      <td>-0.506284</td>\n",
       "      <td>0.710924</td>\n",
       "      <td>1.177251</td>\n",
       "      <td>-0.024040</td>\n",
       "      <td>0.392559</td>\n",
       "      <td>0.253565</td>\n",
       "      <td>0.408094</td>\n",
       "      <td>0.848159</td>\n",
       "      <td>0.439408</td>\n",
       "      <td>...</td>\n",
       "      <td>0.049721</td>\n",
       "      <td>-0.214896</td>\n",
       "      <td>0.946097</td>\n",
       "      <td>0.460333</td>\n",
       "      <td>0.973573</td>\n",
       "      <td>0.314147</td>\n",
       "      <td>0</td>\n",
       "      <td>1.0</td>\n",
       "      <td>1.0</td>\n",
       "      <td>0.0</td>\n",
       "    </tr>\n",
       "    <tr>\n",
       "      <th>...</th>\n",
       "      <td>...</td>\n",
       "      <td>...</td>\n",
       "      <td>...</td>\n",
       "      <td>...</td>\n",
       "      <td>...</td>\n",
       "      <td>...</td>\n",
       "      <td>...</td>\n",
       "      <td>...</td>\n",
       "      <td>...</td>\n",
       "      <td>...</td>\n",
       "      <td>...</td>\n",
       "      <td>...</td>\n",
       "      <td>...</td>\n",
       "      <td>...</td>\n",
       "      <td>...</td>\n",
       "      <td>...</td>\n",
       "      <td>...</td>\n",
       "      <td>...</td>\n",
       "      <td>...</td>\n",
       "      <td>...</td>\n",
       "      <td>...</td>\n",
       "    </tr>\n",
       "    <tr>\n",
       "      <th>11134</th>\n",
       "      <td>-0.348302</td>\n",
       "      <td>0.580854</td>\n",
       "      <td>-0.068892</td>\n",
       "      <td>-0.762784</td>\n",
       "      <td>-0.228905</td>\n",
       "      <td>-0.221243</td>\n",
       "      <td>-0.842238</td>\n",
       "      <td>-0.829634</td>\n",
       "      <td>-0.495081</td>\n",
       "      <td>0.439408</td>\n",
       "      <td>...</td>\n",
       "      <td>-1.483968</td>\n",
       "      <td>-0.214896</td>\n",
       "      <td>-1.265418</td>\n",
       "      <td>-0.639899</td>\n",
       "      <td>-0.632501</td>\n",
       "      <td>-0.592740</td>\n",
       "      <td>1</td>\n",
       "      <td>1.0</td>\n",
       "      <td>1.0</td>\n",
       "      <td>1.0</td>\n",
       "    </tr>\n",
       "    <tr>\n",
       "      <th>11135</th>\n",
       "      <td>0.065299</td>\n",
       "      <td>-0.506284</td>\n",
       "      <td>-1.238617</td>\n",
       "      <td>-1.301682</td>\n",
       "      <td>0.385691</td>\n",
       "      <td>0.392559</td>\n",
       "      <td>-1.499720</td>\n",
       "      <td>-1.448499</td>\n",
       "      <td>-0.495081</td>\n",
       "      <td>-0.851003</td>\n",
       "      <td>...</td>\n",
       "      <td>-0.397605</td>\n",
       "      <td>-0.214896</td>\n",
       "      <td>0.061491</td>\n",
       "      <td>-0.325547</td>\n",
       "      <td>-0.475043</td>\n",
       "      <td>-0.513880</td>\n",
       "      <td>1</td>\n",
       "      <td>1.0</td>\n",
       "      <td>1.0</td>\n",
       "      <td>0.0</td>\n",
       "    </tr>\n",
       "    <tr>\n",
       "      <th>11136</th>\n",
       "      <td>0.892501</td>\n",
       "      <td>-0.506284</td>\n",
       "      <td>-1.238617</td>\n",
       "      <td>-1.463352</td>\n",
       "      <td>-0.024040</td>\n",
       "      <td>0.392559</td>\n",
       "      <td>-0.330863</td>\n",
       "      <td>-0.417058</td>\n",
       "      <td>-0.543054</td>\n",
       "      <td>-1.070647</td>\n",
       "      <td>...</td>\n",
       "      <td>-1.420064</td>\n",
       "      <td>-0.214896</td>\n",
       "      <td>-1.707721</td>\n",
       "      <td>-0.482723</td>\n",
       "      <td>-0.506535</td>\n",
       "      <td>-0.553310</td>\n",
       "      <td>0</td>\n",
       "      <td>1.0</td>\n",
       "      <td>1.0</td>\n",
       "      <td>0.0</td>\n",
       "    </tr>\n",
       "    <tr>\n",
       "      <th>11137</th>\n",
       "      <td>1.306103</td>\n",
       "      <td>0.037285</td>\n",
       "      <td>-0.458800</td>\n",
       "      <td>-0.439445</td>\n",
       "      <td>-0.433770</td>\n",
       "      <td>-0.016643</td>\n",
       "      <td>0.837993</td>\n",
       "      <td>-0.004482</td>\n",
       "      <td>0.368431</td>\n",
       "      <td>0.357042</td>\n",
       "      <td>...</td>\n",
       "      <td>-0.141990</td>\n",
       "      <td>-0.214896</td>\n",
       "      <td>-0.823115</td>\n",
       "      <td>-0.325547</td>\n",
       "      <td>-0.254602</td>\n",
       "      <td>-0.435020</td>\n",
       "      <td>0</td>\n",
       "      <td>1.0</td>\n",
       "      <td>1.0</td>\n",
       "      <td>0.0</td>\n",
       "    </tr>\n",
       "    <tr>\n",
       "      <th>11138</th>\n",
       "      <td>0.892501</td>\n",
       "      <td>-0.506284</td>\n",
       "      <td>-0.068892</td>\n",
       "      <td>0.315013</td>\n",
       "      <td>-0.228905</td>\n",
       "      <td>-0.630445</td>\n",
       "      <td>0.180511</td>\n",
       "      <td>-0.107626</td>\n",
       "      <td>-0.830891</td>\n",
       "      <td>0.439408</td>\n",
       "      <td>...</td>\n",
       "      <td>0.241432</td>\n",
       "      <td>-0.214896</td>\n",
       "      <td>-0.380812</td>\n",
       "      <td>-0.011195</td>\n",
       "      <td>0.060315</td>\n",
       "      <td>0.018423</td>\n",
       "      <td>1</td>\n",
       "      <td>1.0</td>\n",
       "      <td>1.0</td>\n",
       "      <td>0.0</td>\n",
       "    </tr>\n",
       "  </tbody>\n",
       "</table>\n",
       "<p>11139 rows × 23 columns</p>\n",
       "</div>"
      ],
      "text/plain": [
       "            age  height(cm)  weight(kg)  waist(cm)  eyesight(left)  \\\n",
       "0      2.960507   -0.506284   -0.068892   0.961692       -0.228905   \n",
       "1     -1.175504    0.037285    1.880649   1.716150        1.000286   \n",
       "2     -0.348302    0.580854    0.710924  -0.116105        1.000286   \n",
       "3     -0.761903    1.124422    0.321016  -0.223885       -0.024040   \n",
       "4     -0.761903   -0.506284    0.710924   1.177251       -0.024040   \n",
       "...         ...         ...         ...        ...             ...   \n",
       "11134 -0.348302    0.580854   -0.068892  -0.762784       -0.228905   \n",
       "11135  0.065299   -0.506284   -1.238617  -1.301682        0.385691   \n",
       "11136  0.892501   -0.506284   -1.238617  -1.463352       -0.024040   \n",
       "11137  1.306103    0.037285   -0.458800  -0.439445       -0.433770   \n",
       "11138  0.892501   -0.506284   -0.068892   0.315013       -0.228905   \n",
       "\n",
       "       eyesight(right)  systolic  relaxation  fasting blood sugar  \\\n",
       "0            -0.630445 -0.111703    0.408094             0.608295   \n",
       "1             1.006362  1.057153    0.717526            -0.159271   \n",
       "2             1.006362  1.203261    1.026958            -0.351163   \n",
       "3            -0.016643  2.810438    2.470975             0.032620   \n",
       "4             0.392559  0.253565    0.408094             0.848159   \n",
       "...                ...       ...         ...                  ...   \n",
       "11134        -0.221243 -0.842238   -0.829634            -0.495081   \n",
       "11135         0.392559 -1.499720   -1.448499            -0.495081   \n",
       "11136         0.392559 -0.330863   -0.417058            -0.543054   \n",
       "11137        -0.016643  0.837993   -0.004482             0.368431   \n",
       "11138        -0.630445  0.180511   -0.107626            -0.830891   \n",
       "\n",
       "       Cholesterol  ...  hemoglobin  Urine protein  serum creatinine  \\\n",
       "0        -0.768636  ...   -0.078086      -0.214896          0.503794   \n",
       "1         1.263075  ...    0.624854      -0.214896          0.061491   \n",
       "2        -0.933369  ...    1.136084      -0.214896         -0.823115   \n",
       "3         1.400353  ...    0.433143      -0.214896         -0.823115   \n",
       "4         0.439408  ...    0.049721      -0.214896          0.946097   \n",
       "...            ...  ...         ...            ...               ...   \n",
       "11134     0.439408  ...   -1.483968      -0.214896         -1.265418   \n",
       "11135    -0.851003  ...   -0.397605      -0.214896          0.061491   \n",
       "11136    -1.070647  ...   -1.420064      -0.214896         -1.707721   \n",
       "11137     0.357042  ...   -0.141990      -0.214896         -0.823115   \n",
       "11138     0.439408  ...    0.241432      -0.214896         -0.380812   \n",
       "\n",
       "            AST       ALT       Gtp  tartar  hearing(right)  hearing(left)  \\\n",
       "0      0.145981 -0.254602 -0.021007       0             1.0            1.0   \n",
       "1     -0.325547  0.312248 -0.119581       0             1.0            1.0   \n",
       "2     -0.063587  0.154790  0.649301       0             1.0            1.0   \n",
       "3      0.198373  0.879098  0.195858       0             1.0            1.0   \n",
       "4      0.460333  0.973573  0.314147       0             1.0            1.0   \n",
       "...         ...       ...       ...     ...             ...            ...   \n",
       "11134 -0.639899 -0.632501 -0.592740       1             1.0            1.0   \n",
       "11135 -0.325547 -0.475043 -0.513880       1             1.0            1.0   \n",
       "11136 -0.482723 -0.506535 -0.553310       0             1.0            1.0   \n",
       "11137 -0.325547 -0.254602 -0.435020       0             1.0            1.0   \n",
       "11138 -0.011195  0.060315  0.018423       1             1.0            1.0   \n",
       "\n",
       "       dental caries  \n",
       "0                0.0  \n",
       "1                0.0  \n",
       "2                0.0  \n",
       "3                0.0  \n",
       "4                0.0  \n",
       "...              ...  \n",
       "11134            1.0  \n",
       "11135            0.0  \n",
       "11136            0.0  \n",
       "11137            0.0  \n",
       "11138            0.0  \n",
       "\n",
       "[11139 rows x 23 columns]"
      ]
     },
     "execution_count": 119,
     "metadata": {},
     "output_type": "execute_result"
    }
   ],
   "source": [
    "x_test_g"
   ]
  },
  {
   "cell_type": "code",
   "execution_count": 120,
   "id": "fbab643d",
   "metadata": {
    "scrolled": false
   },
   "outputs": [
    {
     "name": "stderr",
     "output_type": "stream",
     "text": [
      "C:\\ProgramData\\Anaconda3\\lib\\site-packages\\sklearn\\utils\\validation.py:993: DataConversionWarning: A column-vector y was passed when a 1d array was expected. Please change the shape of y to (n_samples, ), for example using ravel().\n",
      "  y = column_or_1d(y, warn=True)\n"
     ]
    },
    {
     "name": "stdout",
     "output_type": "stream",
     "text": [
      "model 훈련 점수 :  1.000\n",
      "model 테스트 점수 :  1.000\n"
     ]
    }
   ],
   "source": [
    "model_ex=SVC(kernel='rbf',C=1,gamma=3).fit(x_train_g,y_train_s)\n",
    "score_tr_g=model_ex.score (x_train_g, y_train_s)\n",
    "score_te_g=model_ex.score (x_test_g, y_test_s)\n",
    "print('model 훈련 점수 : {: .3f}'.format(score_tr_g))\n",
    "print('model 테스트 점수 : {: .3f}'.format(score_te_g))"
   ]
  },
  {
   "cell_type": "code",
   "execution_count": 123,
   "id": "ab2be97f",
   "metadata": {},
   "outputs": [
    {
     "data": {
      "text/plain": [
       "array(['age', 'height(cm)', 'weight(kg)', 'waist(cm)', 'eyesight(left)',\n",
       "       'eyesight(right)', 'systolic', 'relaxation', 'fasting blood sugar',\n",
       "       'Cholesterol', 'triglyceride', 'HDL', 'LDL', 'hemoglobin',\n",
       "       'Urine protein', 'serum creatinine', 'AST', 'ALT', 'Gtp', 'tartar',\n",
       "       'hearing(right)', 'hearing(left)', 'dental caries'], dtype=object)"
      ]
     },
     "execution_count": 123,
     "metadata": {},
     "output_type": "execute_result"
    }
   ],
   "source": [
    "model_ex.feature_names_in_"
   ]
  },
  {
   "cell_type": "code",
   "execution_count": 121,
   "id": "89780da3",
   "metadata": {
    "scrolled": true
   },
   "outputs": [
    {
     "data": {
      "text/plain": [
       "1.0"
      ]
     },
     "execution_count": 121,
     "metadata": {},
     "output_type": "execute_result"
    }
   ],
   "source": [
    "score_tr_g"
   ]
  },
  {
   "cell_type": "code",
   "execution_count": 122,
   "id": "e29e887f",
   "metadata": {
    "scrolled": false
   },
   "outputs": [
    {
     "data": {
      "text/plain": [
       "1.0"
      ]
     },
     "execution_count": 122,
     "metadata": {},
     "output_type": "execute_result"
    }
   ],
   "source": [
    "score_te_g"
   ]
  },
  {
   "cell_type": "markdown",
   "id": "0f044512",
   "metadata": {},
   "source": [
    "## 선택된 9개 변수에서 gender 제거, 8개 변수로 모델링"
   ]
  },
  {
   "cell_type": "code",
   "execution_count": 133,
   "id": "ba3ba87a",
   "metadata": {},
   "outputs": [],
   "source": [
    "tr=sel_x_tr.drop('gender',axis=1)"
   ]
  },
  {
   "cell_type": "code",
   "execution_count": 131,
   "id": "c72fcb16",
   "metadata": {},
   "outputs": [],
   "source": [
    "te=sel_x_te.drop('gender',axis=1)"
   ]
  },
  {
   "cell_type": "code",
   "execution_count": 134,
   "id": "b838c063",
   "metadata": {},
   "outputs": [
    {
     "data": {
      "text/html": [
       "<div>\n",
       "<style scoped>\n",
       "    .dataframe tbody tr th:only-of-type {\n",
       "        vertical-align: middle;\n",
       "    }\n",
       "\n",
       "    .dataframe tbody tr th {\n",
       "        vertical-align: top;\n",
       "    }\n",
       "\n",
       "    .dataframe thead th {\n",
       "        text-align: right;\n",
       "    }\n",
       "</style>\n",
       "<table border=\"1\" class=\"dataframe\">\n",
       "  <thead>\n",
       "    <tr style=\"text-align: right;\">\n",
       "      <th></th>\n",
       "      <th>height(cm)</th>\n",
       "      <th>weight(kg)</th>\n",
       "      <th>waist(cm)</th>\n",
       "      <th>triglyceride</th>\n",
       "      <th>HDL</th>\n",
       "      <th>hemoglobin</th>\n",
       "      <th>serum creatinine</th>\n",
       "      <th>Gtp</th>\n",
       "    </tr>\n",
       "  </thead>\n",
       "  <tbody>\n",
       "    <tr>\n",
       "      <th>0</th>\n",
       "      <td>-1.049853</td>\n",
       "      <td>-0.458800</td>\n",
       "      <td>-0.083771</td>\n",
       "      <td>-0.624508</td>\n",
       "      <td>1.061947</td>\n",
       "      <td>-1.100546</td>\n",
       "      <td>-0.823115</td>\n",
       "      <td>-0.257586</td>\n",
       "    </tr>\n",
       "    <tr>\n",
       "      <th>1</th>\n",
       "      <td>-0.506284</td>\n",
       "      <td>-0.458800</td>\n",
       "      <td>-0.116105</td>\n",
       "      <td>-0.163686</td>\n",
       "      <td>-1.033346</td>\n",
       "      <td>-1.228353</td>\n",
       "      <td>-1.265418</td>\n",
       "      <td>-0.435020</td>\n",
       "    </tr>\n",
       "    <tr>\n",
       "      <th>2</th>\n",
       "      <td>0.580854</td>\n",
       "      <td>-0.458800</td>\n",
       "      <td>-0.223885</td>\n",
       "      <td>0.771922</td>\n",
       "      <td>-0.154675</td>\n",
       "      <td>0.752662</td>\n",
       "      <td>0.503794</td>\n",
       "      <td>-0.356161</td>\n",
       "    </tr>\n",
       "    <tr>\n",
       "      <th>3</th>\n",
       "      <td>0.037285</td>\n",
       "      <td>0.321016</td>\n",
       "      <td>0.638353</td>\n",
       "      <td>1.777351</td>\n",
       "      <td>-0.830575</td>\n",
       "      <td>0.049721</td>\n",
       "      <td>0.503794</td>\n",
       "      <td>-0.435020</td>\n",
       "    </tr>\n",
       "    <tr>\n",
       "      <th>4</th>\n",
       "      <td>-1.049853</td>\n",
       "      <td>-0.458800</td>\n",
       "      <td>0.422793</td>\n",
       "      <td>-0.736223</td>\n",
       "      <td>0.318456</td>\n",
       "      <td>-1.356160</td>\n",
       "      <td>-1.265418</td>\n",
       "      <td>-0.356161</td>\n",
       "    </tr>\n",
       "  </tbody>\n",
       "</table>\n",
       "</div>"
      ],
      "text/plain": [
       "   height(cm)  weight(kg)  waist(cm)  triglyceride       HDL  hemoglobin  \\\n",
       "0   -1.049853   -0.458800  -0.083771     -0.624508  1.061947   -1.100546   \n",
       "1   -0.506284   -0.458800  -0.116105     -0.163686 -1.033346   -1.228353   \n",
       "2    0.580854   -0.458800  -0.223885      0.771922 -0.154675    0.752662   \n",
       "3    0.037285    0.321016   0.638353      1.777351 -0.830575    0.049721   \n",
       "4   -1.049853   -0.458800   0.422793     -0.736223  0.318456   -1.356160   \n",
       "\n",
       "   serum creatinine       Gtp  \n",
       "0         -0.823115 -0.257586  \n",
       "1         -1.265418 -0.435020  \n",
       "2          0.503794 -0.356161  \n",
       "3          0.503794 -0.435020  \n",
       "4         -1.265418 -0.356161  "
      ]
     },
     "execution_count": 134,
     "metadata": {},
     "output_type": "execute_result"
    }
   ],
   "source": [
    "tr.head()"
   ]
  },
  {
   "cell_type": "code",
   "execution_count": 136,
   "id": "a6490ca7",
   "metadata": {},
   "outputs": [
    {
     "data": {
      "text/plain": [
       "(44553, 8)"
      ]
     },
     "execution_count": 136,
     "metadata": {},
     "output_type": "execute_result"
    }
   ],
   "source": [
    "tr.shape"
   ]
  },
  {
   "cell_type": "code",
   "execution_count": 135,
   "id": "53d6be33",
   "metadata": {},
   "outputs": [
    {
     "data": {
      "text/html": [
       "<div>\n",
       "<style scoped>\n",
       "    .dataframe tbody tr th:only-of-type {\n",
       "        vertical-align: middle;\n",
       "    }\n",
       "\n",
       "    .dataframe tbody tr th {\n",
       "        vertical-align: top;\n",
       "    }\n",
       "\n",
       "    .dataframe thead th {\n",
       "        text-align: right;\n",
       "    }\n",
       "</style>\n",
       "<table border=\"1\" class=\"dataframe\">\n",
       "  <thead>\n",
       "    <tr style=\"text-align: right;\">\n",
       "      <th></th>\n",
       "      <th>height(cm)</th>\n",
       "      <th>weight(kg)</th>\n",
       "      <th>waist(cm)</th>\n",
       "      <th>triglyceride</th>\n",
       "      <th>HDL</th>\n",
       "      <th>hemoglobin</th>\n",
       "      <th>serum creatinine</th>\n",
       "      <th>Gtp</th>\n",
       "    </tr>\n",
       "  </thead>\n",
       "  <tbody>\n",
       "    <tr>\n",
       "      <th>0</th>\n",
       "      <td>-0.506284</td>\n",
       "      <td>-0.068892</td>\n",
       "      <td>0.961692</td>\n",
       "      <td>-0.833973</td>\n",
       "      <td>0.250866</td>\n",
       "      <td>-0.078086</td>\n",
       "      <td>0.503794</td>\n",
       "      <td>-0.021007</td>\n",
       "    </tr>\n",
       "    <tr>\n",
       "      <th>1</th>\n",
       "      <td>0.037285</td>\n",
       "      <td>1.880649</td>\n",
       "      <td>1.716150</td>\n",
       "      <td>-0.373151</td>\n",
       "      <td>0.048096</td>\n",
       "      <td>0.624854</td>\n",
       "      <td>0.061491</td>\n",
       "      <td>-0.119581</td>\n",
       "    </tr>\n",
       "    <tr>\n",
       "      <th>2</th>\n",
       "      <td>0.580854</td>\n",
       "      <td>0.710924</td>\n",
       "      <td>-0.116105</td>\n",
       "      <td>1.232744</td>\n",
       "      <td>-1.371296</td>\n",
       "      <td>1.136084</td>\n",
       "      <td>-0.823115</td>\n",
       "      <td>0.649301</td>\n",
       "    </tr>\n",
       "    <tr>\n",
       "      <th>3</th>\n",
       "      <td>1.124422</td>\n",
       "      <td>0.321016</td>\n",
       "      <td>-0.223885</td>\n",
       "      <td>0.674172</td>\n",
       "      <td>-0.289855</td>\n",
       "      <td>0.433143</td>\n",
       "      <td>-0.823115</td>\n",
       "      <td>0.195858</td>\n",
       "    </tr>\n",
       "    <tr>\n",
       "      <th>4</th>\n",
       "      <td>-0.506284</td>\n",
       "      <td>0.710924</td>\n",
       "      <td>1.177251</td>\n",
       "      <td>-0.191615</td>\n",
       "      <td>0.048096</td>\n",
       "      <td>0.049721</td>\n",
       "      <td>0.946097</td>\n",
       "      <td>0.314147</td>\n",
       "    </tr>\n",
       "  </tbody>\n",
       "</table>\n",
       "</div>"
      ],
      "text/plain": [
       "   height(cm)  weight(kg)  waist(cm)  triglyceride       HDL  hemoglobin  \\\n",
       "0   -0.506284   -0.068892   0.961692     -0.833973  0.250866   -0.078086   \n",
       "1    0.037285    1.880649   1.716150     -0.373151  0.048096    0.624854   \n",
       "2    0.580854    0.710924  -0.116105      1.232744 -1.371296    1.136084   \n",
       "3    1.124422    0.321016  -0.223885      0.674172 -0.289855    0.433143   \n",
       "4   -0.506284    0.710924   1.177251     -0.191615  0.048096    0.049721   \n",
       "\n",
       "   serum creatinine       Gtp  \n",
       "0          0.503794 -0.021007  \n",
       "1          0.061491 -0.119581  \n",
       "2         -0.823115  0.649301  \n",
       "3         -0.823115  0.195858  \n",
       "4          0.946097  0.314147  "
      ]
     },
     "execution_count": 135,
     "metadata": {},
     "output_type": "execute_result"
    }
   ],
   "source": [
    "te.head()"
   ]
  },
  {
   "cell_type": "code",
   "execution_count": 137,
   "id": "8d7b2ffb",
   "metadata": {},
   "outputs": [
    {
     "data": {
      "text/plain": [
       "(11139, 8)"
      ]
     },
     "execution_count": 137,
     "metadata": {},
     "output_type": "execute_result"
    }
   ],
   "source": [
    "te.shape"
   ]
  },
  {
   "cell_type": "code",
   "execution_count": null,
   "id": "b2f2e976",
   "metadata": {},
   "outputs": [
    {
     "name": "stderr",
     "output_type": "stream",
     "text": [
      "C:\\ProgramData\\Anaconda3\\lib\\site-packages\\sklearn\\utils\\validation.py:993: DataConversionWarning: A column-vector y was passed when a 1d array was expected. Please change the shape of y to (n_samples, ), for example using ravel().\n",
      "  y = column_or_1d(y, warn=True)\n"
     ]
    }
   ],
   "source": [
    "model_8=SVC(kernel='rbf',C=1,gamma=3).fit(tr,y_train_s)\n",
    "score8=model_8.score (tr, y_train_s)\n",
    "score8_t=model_8.score (te, y_test_s)\n",
    "print('model 훈련 점수 : {: .3f}'.format(score8))\n",
    "print('model 테스트 점수 : {: .3f}'.format(score8_t))"
   ]
  }
 ],
 "metadata": {
  "kernelspec": {
   "display_name": "Python 3 (ipykernel)",
   "language": "python",
   "name": "python3"
  },
  "language_info": {
   "codemirror_mode": {
    "name": "ipython",
    "version": 3
   },
   "file_extension": ".py",
   "mimetype": "text/x-python",
   "name": "python",
   "nbconvert_exporter": "python",
   "pygments_lexer": "ipython3",
   "version": "3.9.12"
  }
 },
 "nbformat": 4,
 "nbformat_minor": 5
}
