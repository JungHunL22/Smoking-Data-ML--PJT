{
 "cells": [
  {
   "cell_type": "markdown",
   "metadata": {},
   "source": [
    "# 전처리"
   ]
  },
  {
   "cell_type": "code",
   "execution_count": 4,
   "metadata": {
    "execution": {
     "iopub.execute_input": "2022-09-27T02:42:06.419644Z",
     "iopub.status.busy": "2022-09-27T02:42:06.419157Z",
     "iopub.status.idle": "2022-09-27T02:42:07.000417Z",
     "shell.execute_reply": "2022-09-27T02:42:06.999011Z",
     "shell.execute_reply.started": "2022-09-27T02:42:06.419597Z"
    }
   },
   "outputs": [],
   "source": [
    "import pandas as pd\n",
    "import numpy as np\n",
    "from sklearn.preprocessing import LabelEncoder # for encoding\n",
    "from sklearn.preprocessing import MinMaxScaler, RobustScaler, StandardScaler #for standardization\n",
    "from sklearn.model_selection import train_test_split\n",
    "import time"
   ]
  },
  {
   "cell_type": "code",
   "execution_count": 5,
   "metadata": {
    "execution": {
     "iopub.execute_input": "2022-09-27T02:42:08.209431Z",
     "iopub.status.busy": "2022-09-27T02:42:08.209024Z",
     "iopub.status.idle": "2022-09-27T02:42:08.221475Z",
     "shell.execute_reply": "2022-09-27T02:42:08.219997Z",
     "shell.execute_reply.started": "2022-09-27T02:42:08.209399Z"
    }
   },
   "outputs": [],
   "source": [
    "def preprocessing(df_scaling, scaled_form = 'MinMaxScaler()'):\n",
    "    # 불필요한 컬럼 제거\n",
    "    if 'ID' in df_scaling:\n",
    "        df_scaling = df_scaling.drop(\"ID\", axis = 1)\n",
    "        if len(df_scaling.columns) == 1:\n",
    "            return df_scaling\n",
    "        \n",
    "        df_scaling = df_scaling.drop('oral', axis = 1) \n",
    "        # 범주형 피처 레이블 인코딩 \n",
    "        cate_features = df_scaling[['gender','tartar']]\n",
    "\n",
    "        lbe = LabelEncoder()\n",
    "        lbe.fit_transform(df_scaling[\"gender\"])\n",
    "        df_scaling[\"gender\"] = lbe.fit_transform(df_scaling[\"gender\"])\n",
    "\n",
    "        lbe = LabelEncoder()\n",
    "        lbe.fit_transform(df_scaling[\"tartar\"])\n",
    "        df_scaling[\"tartar\"] = lbe.fit_transform(df_scaling[\"tartar\"])\n",
    "        # hearing 피처 1, 2 => 1, 0으로 변환\n",
    "        df_scaling['hearing(left)'] = df_scaling['hearing(left)'].apply(lambda x: x-2 if x ==2.0 else x )\n",
    "        df_scaling['hearing(right)'] = df_scaling['hearing(right)'].apply(lambda x: x-2 if x ==2.0 else x )\n",
    "        \n",
    "        # BMI 지수 계산\n",
    "        # bmi = kg/m^2\n",
    "        #df_scaling['bmi'] = df_scaling['weight(kg)']/((df_scaling['height(cm)']*0.01)**2)\n",
    "        # wwi(비만 지수) 지수 계산\n",
    "        #df_scaling['wwi'] = df_scaling['waist(cm)']/(df_scaling['weight(kg)'].apply(np.sqrt))\n",
    "        return df_scaling"
   ]
  },
  {
   "cell_type": "code",
   "execution_count": 6,
   "metadata": {},
   "outputs": [],
   "source": [
    "def scaling(train_data, test_data, scaled_form = 'MinMaxScaler()'):\n",
    "    # 형태 별 특성 구분\n",
    "    train_data = preprocessing(train_data)\n",
    "    test_data = preprocessing(test_data)\n",
    "    tr_cate_features = train_data[['gender', 'tartar', 'hearing(right)', 'hearing(left)', 'dental caries']]\n",
    "    tr_scaled_features = train_data.drop(tr_cate_features.columns, axis=1)\n",
    "    \n",
    "    ts_cate_features = test_data[['gender', 'tartar', 'hearing(right)', 'hearing(left)', 'dental caries']]\n",
    "    ts_scaled_features = test_data.drop(ts_cate_features.columns, axis=1)\n",
    "    \n",
    "    if scaled_form == 'StandardScaler()':\n",
    "        # Standard scaler\n",
    "        scaler = StandardScaler()\n",
    "        scaler.fit(tr_scaled_features) # 훈련 데이터에 fit() 적용\n",
    "        \n",
    "        # 훈련 데이터와 테스트 데이터에 transform()을 통해 변환\n",
    "        tr_scaled = scaler.transform(tr_scaled_features)\n",
    "        ts_scaled = scaler.transform(ts_scaled_features)\n",
    "        \n",
    "        train_std_scaled = pd.DataFrame(tr_scaled, columns=tr_scaled_features.columns)\n",
    "        train_std_scaled[tr_cate_features.columns] = tr_cate_features\n",
    "        \n",
    "        test_std_scaled = pd.DataFrame(ts_scaled, columns=ts_scaled_features.columns)\n",
    "        test_std_scaled[ts_cate_features.columns] = ts_cate_features\n",
    "        \n",
    "        return train_std_scaled, test_std_scaled\n",
    "    \n",
    "    elif scaled_form == 'RobustScaler()':\n",
    "        # Robust scaler\n",
    "        scaler = RobustScaler()\n",
    "        scaler.fit(tr_scaled_features) # 훈련 데이터에 fit() 적용\n",
    "        \n",
    "        # 훈련 데이터와 테스트 데이터에 transform()을 통해 변환\n",
    "        tr_scaled = scaler.transform(tr_scaled_features)\n",
    "        ts_scaled = scaler.transform(ts_scaled_features)\n",
    "        \n",
    "        # 데이터 프레임 형태로 변환\n",
    "        train_robust_scaled = pd.DataFrame(tr_scaled, columns=tr_scaled_features.columns)\n",
    "        train_robust_scaled[tr_cate_features.columns] = tr_cate_features\n",
    "        \n",
    "        test_robust_scaled = pd.DataFrame(ts_scaled, columns=ts_scaled_features.columns)\n",
    "        test_robust_scaled[ts_cate_features.columns] = ts_cate_features\n",
    "        \n",
    "        return train_robust_scaled, test_robust_scaled\n",
    "        \n",
    "    else:\n",
    "        # MinMax scaler\n",
    "        scaler = MinMaxScaler()\n",
    "        scaler.fit(tr_scaled_features) # 훈련 데이터에 fit() 적용\n",
    "        \n",
    "        # 훈련 데이터와 테스트 데이터에 transform()을 통해 변환\n",
    "        tr_scaled = scaler.transform(tr_scaled_features)\n",
    "        ts_scaled = scaler.transform(ts_scaled_features)\n",
    "        \n",
    "        # 데이터 프레임 형태로 변환\n",
    "        train_mmx_scaled = pd.DataFrame(tr_scaled, columns = tr_scaled_features.columns)\n",
    "        train_mmx_scaled[tr_cate_features.columns] = tr_cate_features\n",
    "        \n",
    "        test_mmx_scaled = pd.DataFrame(ts_scaled,columns = ts_scaled_features.columns)\n",
    "        test_mmx_scaled[ts_cate_features.columns] = ts_cate_features\n",
    "\n",
    "        return train_mmx_scaled, test_mmx_scaled"
   ]
  },
  {
   "cell_type": "code",
   "execution_count": 7,
   "metadata": {
    "execution": {
     "iopub.execute_input": "2022-09-27T02:42:12.338846Z",
     "iopub.status.busy": "2022-09-27T02:42:12.338436Z",
     "iopub.status.idle": "2022-09-27T02:42:12.632754Z",
     "shell.execute_reply": "2022-09-27T02:42:12.631426Z",
     "shell.execute_reply.started": "2022-09-27T02:42:12.338815Z"
    },
    "scrolled": true
   },
   "outputs": [],
   "source": [
    "# competition_format\n",
    "x_train = pd.read_csv('./data/Smoking_raw/competition_format/x_train.csv')\n",
    "x_test = pd.read_csv('./data/Smoking_raw/competition_format/x_test.csv')\n",
    "y_train = pd.read_csv('./data/Smoking_raw/competition_format/y_train.csv')\n",
    "y_test = pd.read_csv('./data/Smoking_raw/competition_format/y_test.csv')"
   ]
  },
  {
   "cell_type": "code",
   "execution_count": 8,
   "metadata": {
    "execution": {
     "iopub.execute_input": "2022-09-27T02:42:40.108817Z",
     "iopub.status.busy": "2022-09-27T02:42:40.108386Z",
     "iopub.status.idle": "2022-09-27T02:42:40.224687Z",
     "shell.execute_reply": "2022-09-27T02:42:40.223155Z",
     "shell.execute_reply.started": "2022-09-27T02:42:40.108787Z"
    }
   },
   "outputs": [],
   "source": [
    "scaled = scaling(x_train, x_test,scaled_form='StandardScaler()')"
   ]
  },
  {
   "cell_type": "code",
   "execution_count": 9,
   "metadata": {
    "execution": {
     "iopub.execute_input": "2022-09-27T02:42:40.108817Z",
     "iopub.status.busy": "2022-09-27T02:42:40.108386Z",
     "iopub.status.idle": "2022-09-27T02:42:40.224687Z",
     "shell.execute_reply": "2022-09-27T02:42:40.223155Z",
     "shell.execute_reply.started": "2022-09-27T02:42:40.108787Z"
    }
   },
   "outputs": [],
   "source": [
    "x_train_s = pd.DataFrame(scaled[0])\n",
    "x_test_s = pd.DataFrame(scaled[1])\n",
    "y_train_s = preprocessing(y_train)\n",
    "y_test_s = preprocessing(y_test)"
   ]
  },
  {
   "cell_type": "code",
   "execution_count": 7,
   "metadata": {
    "scrolled": true
   },
   "outputs": [
    {
     "data": {
      "text/html": [
       "<div>\n",
       "<style scoped>\n",
       "    .dataframe tbody tr th:only-of-type {\n",
       "        vertical-align: middle;\n",
       "    }\n",
       "\n",
       "    .dataframe tbody tr th {\n",
       "        vertical-align: top;\n",
       "    }\n",
       "\n",
       "    .dataframe thead th {\n",
       "        text-align: right;\n",
       "    }\n",
       "</style>\n",
       "<table border=\"1\" class=\"dataframe\">\n",
       "  <thead>\n",
       "    <tr style=\"text-align: right;\">\n",
       "      <th></th>\n",
       "      <th>age</th>\n",
       "      <th>height(cm)</th>\n",
       "      <th>weight(kg)</th>\n",
       "      <th>waist(cm)</th>\n",
       "      <th>eyesight(left)</th>\n",
       "      <th>eyesight(right)</th>\n",
       "      <th>systolic</th>\n",
       "      <th>relaxation</th>\n",
       "      <th>fasting blood sugar</th>\n",
       "      <th>Cholesterol</th>\n",
       "      <th>...</th>\n",
       "      <th>Urine protein</th>\n",
       "      <th>serum creatinine</th>\n",
       "      <th>AST</th>\n",
       "      <th>ALT</th>\n",
       "      <th>Gtp</th>\n",
       "      <th>gender</th>\n",
       "      <th>tartar</th>\n",
       "      <th>hearing(right)</th>\n",
       "      <th>hearing(left)</th>\n",
       "      <th>dental caries</th>\n",
       "    </tr>\n",
       "  </thead>\n",
       "  <tbody>\n",
       "    <tr>\n",
       "      <th>0</th>\n",
       "      <td>-0.348302</td>\n",
       "      <td>-1.049853</td>\n",
       "      <td>-0.458800</td>\n",
       "      <td>-0.083771</td>\n",
       "      <td>0.385691</td>\n",
       "      <td>-0.016643</td>\n",
       "      <td>-0.550024</td>\n",
       "      <td>-0.313914</td>\n",
       "      <td>-0.255217</td>\n",
       "      <td>0.494320</td>\n",
       "      <td>...</td>\n",
       "      <td>-0.214896</td>\n",
       "      <td>-0.823115</td>\n",
       "      <td>-0.430331</td>\n",
       "      <td>-0.254602</td>\n",
       "      <td>-0.257586</td>\n",
       "      <td>0</td>\n",
       "      <td>1</td>\n",
       "      <td>1.0</td>\n",
       "      <td>1.0</td>\n",
       "      <td>0.0</td>\n",
       "    </tr>\n",
       "    <tr>\n",
       "      <th>1</th>\n",
       "      <td>-0.348302</td>\n",
       "      <td>-0.506284</td>\n",
       "      <td>-0.458800</td>\n",
       "      <td>-0.116105</td>\n",
       "      <td>-0.433770</td>\n",
       "      <td>-0.835046</td>\n",
       "      <td>-0.184756</td>\n",
       "      <td>-0.623346</td>\n",
       "      <td>1.471806</td>\n",
       "      <td>-0.137158</td>\n",
       "      <td>...</td>\n",
       "      <td>-0.214896</td>\n",
       "      <td>-1.265418</td>\n",
       "      <td>-0.220763</td>\n",
       "      <td>-0.254602</td>\n",
       "      <td>-0.435020</td>\n",
       "      <td>0</td>\n",
       "      <td>1</td>\n",
       "      <td>1.0</td>\n",
       "      <td>1.0</td>\n",
       "      <td>0.0</td>\n",
       "    </tr>\n",
       "    <tr>\n",
       "      <th>2</th>\n",
       "      <td>0.892501</td>\n",
       "      <td>0.580854</td>\n",
       "      <td>-0.458800</td>\n",
       "      <td>-0.223885</td>\n",
       "      <td>-0.433770</td>\n",
       "      <td>-0.425844</td>\n",
       "      <td>1.203261</td>\n",
       "      <td>1.026958</td>\n",
       "      <td>-0.495081</td>\n",
       "      <td>1.235620</td>\n",
       "      <td>...</td>\n",
       "      <td>-0.214896</td>\n",
       "      <td>0.503794</td>\n",
       "      <td>-0.273155</td>\n",
       "      <td>-0.349076</td>\n",
       "      <td>-0.356161</td>\n",
       "      <td>1</td>\n",
       "      <td>0</td>\n",
       "      <td>1.0</td>\n",
       "      <td>1.0</td>\n",
       "      <td>0.0</td>\n",
       "    </tr>\n",
       "    <tr>\n",
       "      <th>3</th>\n",
       "      <td>-0.348302</td>\n",
       "      <td>0.037285</td>\n",
       "      <td>0.321016</td>\n",
       "      <td>0.638353</td>\n",
       "      <td>1.000286</td>\n",
       "      <td>1.006362</td>\n",
       "      <td>-1.572773</td>\n",
       "      <td>-1.654787</td>\n",
       "      <td>-0.159271</td>\n",
       "      <td>3.432064</td>\n",
       "      <td>...</td>\n",
       "      <td>-0.214896</td>\n",
       "      <td>0.503794</td>\n",
       "      <td>-0.377939</td>\n",
       "      <td>-0.034160</td>\n",
       "      <td>-0.435020</td>\n",
       "      <td>1</td>\n",
       "      <td>1</td>\n",
       "      <td>1.0</td>\n",
       "      <td>1.0</td>\n",
       "      <td>0.0</td>\n",
       "    </tr>\n",
       "    <tr>\n",
       "      <th>4</th>\n",
       "      <td>-0.348302</td>\n",
       "      <td>-1.049853</td>\n",
       "      <td>-0.458800</td>\n",
       "      <td>0.422793</td>\n",
       "      <td>-0.024040</td>\n",
       "      <td>-0.016643</td>\n",
       "      <td>-0.111703</td>\n",
       "      <td>-0.210770</td>\n",
       "      <td>-0.926837</td>\n",
       "      <td>-0.356803</td>\n",
       "      <td>...</td>\n",
       "      <td>-0.214896</td>\n",
       "      <td>-1.265418</td>\n",
       "      <td>-0.535115</td>\n",
       "      <td>-0.412060</td>\n",
       "      <td>-0.356161</td>\n",
       "      <td>0</td>\n",
       "      <td>0</td>\n",
       "      <td>1.0</td>\n",
       "      <td>1.0</td>\n",
       "      <td>0.0</td>\n",
       "    </tr>\n",
       "  </tbody>\n",
       "</table>\n",
       "<p>5 rows × 24 columns</p>\n",
       "</div>"
      ],
      "text/plain": [
       "        age  height(cm)  weight(kg)  waist(cm)  eyesight(left)  \\\n",
       "0 -0.348302   -1.049853   -0.458800  -0.083771        0.385691   \n",
       "1 -0.348302   -0.506284   -0.458800  -0.116105       -0.433770   \n",
       "2  0.892501    0.580854   -0.458800  -0.223885       -0.433770   \n",
       "3 -0.348302    0.037285    0.321016   0.638353        1.000286   \n",
       "4 -0.348302   -1.049853   -0.458800   0.422793       -0.024040   \n",
       "\n",
       "   eyesight(right)  systolic  relaxation  fasting blood sugar  Cholesterol  \\\n",
       "0        -0.016643 -0.550024   -0.313914            -0.255217     0.494320   \n",
       "1        -0.835046 -0.184756   -0.623346             1.471806    -0.137158   \n",
       "2        -0.425844  1.203261    1.026958            -0.495081     1.235620   \n",
       "3         1.006362 -1.572773   -1.654787            -0.159271     3.432064   \n",
       "4        -0.016643 -0.111703   -0.210770            -0.926837    -0.356803   \n",
       "\n",
       "   ...  Urine protein  serum creatinine       AST       ALT       Gtp  gender  \\\n",
       "0  ...      -0.214896         -0.823115 -0.430331 -0.254602 -0.257586       0   \n",
       "1  ...      -0.214896         -1.265418 -0.220763 -0.254602 -0.435020       0   \n",
       "2  ...      -0.214896          0.503794 -0.273155 -0.349076 -0.356161       1   \n",
       "3  ...      -0.214896          0.503794 -0.377939 -0.034160 -0.435020       1   \n",
       "4  ...      -0.214896         -1.265418 -0.535115 -0.412060 -0.356161       0   \n",
       "\n",
       "   tartar  hearing(right)  hearing(left)  dental caries  \n",
       "0       1             1.0            1.0            0.0  \n",
       "1       1             1.0            1.0            0.0  \n",
       "2       0             1.0            1.0            0.0  \n",
       "3       1             1.0            1.0            0.0  \n",
       "4       0             1.0            1.0            0.0  \n",
       "\n",
       "[5 rows x 24 columns]"
      ]
     },
     "execution_count": 7,
     "metadata": {},
     "output_type": "execute_result"
    }
   ],
   "source": [
    "x_train_s.head()"
   ]
  },
  {
   "cell_type": "code",
   "execution_count": 173,
   "metadata": {},
   "outputs": [
    {
     "name": "stdout",
     "output_type": "stream",
     "text": [
      "<class 'pandas.core.frame.DataFrame'>\n",
      "RangeIndex: 44553 entries, 0 to 44552\n",
      "Data columns (total 24 columns):\n",
      " #   Column               Non-Null Count  Dtype  \n",
      "---  ------               --------------  -----  \n",
      " 0   age                  44553 non-null  float64\n",
      " 1   height(cm)           44553 non-null  float64\n",
      " 2   weight(kg)           44553 non-null  float64\n",
      " 3   waist(cm)            44553 non-null  float64\n",
      " 4   eyesight(left)       44553 non-null  float64\n",
      " 5   eyesight(right)      44553 non-null  float64\n",
      " 6   systolic             44553 non-null  float64\n",
      " 7   relaxation           44553 non-null  float64\n",
      " 8   fasting blood sugar  44553 non-null  float64\n",
      " 9   Cholesterol          44553 non-null  float64\n",
      " 10  triglyceride         44553 non-null  float64\n",
      " 11  HDL                  44553 non-null  float64\n",
      " 12  LDL                  44553 non-null  float64\n",
      " 13  hemoglobin           44553 non-null  float64\n",
      " 14  Urine protein        44553 non-null  float64\n",
      " 15  serum creatinine     44553 non-null  float64\n",
      " 16  AST                  44553 non-null  float64\n",
      " 17  ALT                  44553 non-null  float64\n",
      " 18  Gtp                  44553 non-null  float64\n",
      " 19  gender               44553 non-null  int32  \n",
      " 20  tartar               44553 non-null  int32  \n",
      " 21  hearing(right)       44553 non-null  float64\n",
      " 22  hearing(left)        44553 non-null  float64\n",
      " 23  dental caries        44553 non-null  float64\n",
      "dtypes: float64(22), int32(2)\n",
      "memory usage: 7.8 MB\n"
     ]
    }
   ],
   "source": [
    "x_train_s.info()"
   ]
  },
  {
   "cell_type": "code",
   "execution_count": 90,
   "metadata": {},
   "outputs": [
    {
     "data": {
      "text/html": [
       "<div>\n",
       "<style scoped>\n",
       "    .dataframe tbody tr th:only-of-type {\n",
       "        vertical-align: middle;\n",
       "    }\n",
       "\n",
       "    .dataframe tbody tr th {\n",
       "        vertical-align: top;\n",
       "    }\n",
       "\n",
       "    .dataframe thead th {\n",
       "        text-align: right;\n",
       "    }\n",
       "</style>\n",
       "<table border=\"1\" class=\"dataframe\">\n",
       "  <thead>\n",
       "    <tr style=\"text-align: right;\">\n",
       "      <th></th>\n",
       "      <th>age</th>\n",
       "      <th>height(cm)</th>\n",
       "      <th>weight(kg)</th>\n",
       "      <th>waist(cm)</th>\n",
       "      <th>eyesight(left)</th>\n",
       "      <th>eyesight(right)</th>\n",
       "      <th>systolic</th>\n",
       "      <th>relaxation</th>\n",
       "      <th>fasting blood sugar</th>\n",
       "      <th>Cholesterol</th>\n",
       "      <th>...</th>\n",
       "      <th>Urine protein</th>\n",
       "      <th>serum creatinine</th>\n",
       "      <th>AST</th>\n",
       "      <th>ALT</th>\n",
       "      <th>Gtp</th>\n",
       "      <th>gender</th>\n",
       "      <th>tartar</th>\n",
       "      <th>hearing(right)</th>\n",
       "      <th>hearing(left)</th>\n",
       "      <th>dental caries</th>\n",
       "    </tr>\n",
       "  </thead>\n",
       "  <tbody>\n",
       "    <tr>\n",
       "      <th>0</th>\n",
       "      <td>2.960507</td>\n",
       "      <td>-0.506284</td>\n",
       "      <td>-0.068892</td>\n",
       "      <td>0.961692</td>\n",
       "      <td>-0.228905</td>\n",
       "      <td>-0.630445</td>\n",
       "      <td>-0.111703</td>\n",
       "      <td>0.408094</td>\n",
       "      <td>0.608295</td>\n",
       "      <td>-0.768636</td>\n",
       "      <td>...</td>\n",
       "      <td>-0.214896</td>\n",
       "      <td>0.503794</td>\n",
       "      <td>0.145981</td>\n",
       "      <td>-0.254602</td>\n",
       "      <td>-0.021007</td>\n",
       "      <td>1</td>\n",
       "      <td>0</td>\n",
       "      <td>1.0</td>\n",
       "      <td>1.0</td>\n",
       "      <td>0.0</td>\n",
       "    </tr>\n",
       "    <tr>\n",
       "      <th>1</th>\n",
       "      <td>-1.175504</td>\n",
       "      <td>0.037285</td>\n",
       "      <td>1.880649</td>\n",
       "      <td>1.716150</td>\n",
       "      <td>1.000286</td>\n",
       "      <td>1.006362</td>\n",
       "      <td>1.057153</td>\n",
       "      <td>0.717526</td>\n",
       "      <td>-0.159271</td>\n",
       "      <td>1.263075</td>\n",
       "      <td>...</td>\n",
       "      <td>-0.214896</td>\n",
       "      <td>0.061491</td>\n",
       "      <td>-0.325547</td>\n",
       "      <td>0.312248</td>\n",
       "      <td>-0.119581</td>\n",
       "      <td>1</td>\n",
       "      <td>0</td>\n",
       "      <td>1.0</td>\n",
       "      <td>1.0</td>\n",
       "      <td>0.0</td>\n",
       "    </tr>\n",
       "    <tr>\n",
       "      <th>2</th>\n",
       "      <td>-0.348302</td>\n",
       "      <td>0.580854</td>\n",
       "      <td>0.710924</td>\n",
       "      <td>-0.116105</td>\n",
       "      <td>1.000286</td>\n",
       "      <td>1.006362</td>\n",
       "      <td>1.203261</td>\n",
       "      <td>1.026958</td>\n",
       "      <td>-0.351163</td>\n",
       "      <td>-0.933369</td>\n",
       "      <td>...</td>\n",
       "      <td>-0.214896</td>\n",
       "      <td>-0.823115</td>\n",
       "      <td>-0.063587</td>\n",
       "      <td>0.154790</td>\n",
       "      <td>0.649301</td>\n",
       "      <td>1</td>\n",
       "      <td>0</td>\n",
       "      <td>1.0</td>\n",
       "      <td>1.0</td>\n",
       "      <td>0.0</td>\n",
       "    </tr>\n",
       "    <tr>\n",
       "      <th>3</th>\n",
       "      <td>-0.761903</td>\n",
       "      <td>1.124422</td>\n",
       "      <td>0.321016</td>\n",
       "      <td>-0.223885</td>\n",
       "      <td>-0.024040</td>\n",
       "      <td>-0.016643</td>\n",
       "      <td>2.810438</td>\n",
       "      <td>2.470975</td>\n",
       "      <td>0.032620</td>\n",
       "      <td>1.400353</td>\n",
       "      <td>...</td>\n",
       "      <td>-0.214896</td>\n",
       "      <td>-0.823115</td>\n",
       "      <td>0.198373</td>\n",
       "      <td>0.879098</td>\n",
       "      <td>0.195858</td>\n",
       "      <td>1</td>\n",
       "      <td>0</td>\n",
       "      <td>1.0</td>\n",
       "      <td>1.0</td>\n",
       "      <td>0.0</td>\n",
       "    </tr>\n",
       "    <tr>\n",
       "      <th>4</th>\n",
       "      <td>-0.761903</td>\n",
       "      <td>-0.506284</td>\n",
       "      <td>0.710924</td>\n",
       "      <td>1.177251</td>\n",
       "      <td>-0.024040</td>\n",
       "      <td>0.392559</td>\n",
       "      <td>0.253565</td>\n",
       "      <td>0.408094</td>\n",
       "      <td>0.848159</td>\n",
       "      <td>0.439408</td>\n",
       "      <td>...</td>\n",
       "      <td>-0.214896</td>\n",
       "      <td>0.946097</td>\n",
       "      <td>0.460333</td>\n",
       "      <td>0.973573</td>\n",
       "      <td>0.314147</td>\n",
       "      <td>1</td>\n",
       "      <td>0</td>\n",
       "      <td>1.0</td>\n",
       "      <td>1.0</td>\n",
       "      <td>0.0</td>\n",
       "    </tr>\n",
       "  </tbody>\n",
       "</table>\n",
       "<p>5 rows × 24 columns</p>\n",
       "</div>"
      ],
      "text/plain": [
       "        age  height(cm)  weight(kg)  waist(cm)  eyesight(left)  \\\n",
       "0  2.960507   -0.506284   -0.068892   0.961692       -0.228905   \n",
       "1 -1.175504    0.037285    1.880649   1.716150        1.000286   \n",
       "2 -0.348302    0.580854    0.710924  -0.116105        1.000286   \n",
       "3 -0.761903    1.124422    0.321016  -0.223885       -0.024040   \n",
       "4 -0.761903   -0.506284    0.710924   1.177251       -0.024040   \n",
       "\n",
       "   eyesight(right)  systolic  relaxation  fasting blood sugar  Cholesterol  \\\n",
       "0        -0.630445 -0.111703    0.408094             0.608295    -0.768636   \n",
       "1         1.006362  1.057153    0.717526            -0.159271     1.263075   \n",
       "2         1.006362  1.203261    1.026958            -0.351163    -0.933369   \n",
       "3        -0.016643  2.810438    2.470975             0.032620     1.400353   \n",
       "4         0.392559  0.253565    0.408094             0.848159     0.439408   \n",
       "\n",
       "   ...  Urine protein  serum creatinine       AST       ALT       Gtp  gender  \\\n",
       "0  ...      -0.214896          0.503794  0.145981 -0.254602 -0.021007       1   \n",
       "1  ...      -0.214896          0.061491 -0.325547  0.312248 -0.119581       1   \n",
       "2  ...      -0.214896         -0.823115 -0.063587  0.154790  0.649301       1   \n",
       "3  ...      -0.214896         -0.823115  0.198373  0.879098  0.195858       1   \n",
       "4  ...      -0.214896          0.946097  0.460333  0.973573  0.314147       1   \n",
       "\n",
       "   tartar  hearing(right)  hearing(left)  dental caries  \n",
       "0       0             1.0            1.0            0.0  \n",
       "1       0             1.0            1.0            0.0  \n",
       "2       0             1.0            1.0            0.0  \n",
       "3       0             1.0            1.0            0.0  \n",
       "4       0             1.0            1.0            0.0  \n",
       "\n",
       "[5 rows x 24 columns]"
      ]
     },
     "execution_count": 90,
     "metadata": {},
     "output_type": "execute_result"
    }
   ],
   "source": [
    "x_test_s.head()"
   ]
  },
  {
   "cell_type": "markdown",
   "metadata": {},
   "source": [
    "# 모델링"
   ]
  },
  {
   "cell_type": "markdown",
   "metadata": {},
   "source": [
    "## Standard Scaler"
   ]
  },
  {
   "cell_type": "code",
   "execution_count": 10,
   "metadata": {
    "execution": {
     "iopub.execute_input": "2022-09-27T02:42:53.155640Z",
     "iopub.status.busy": "2022-09-27T02:42:53.155246Z",
     "iopub.status.idle": "2022-09-27T02:42:53.229763Z",
     "shell.execute_reply": "2022-09-27T02:42:53.228488Z",
     "shell.execute_reply.started": "2022-09-27T02:42:53.155611Z"
    }
   },
   "outputs": [],
   "source": [
    "from sklearn.metrics import accuracy_score,f1_score, confusion_matrix, precision_recall_curve\n",
    "from sklearn.metrics import roc_curve,precision_score, recall_score, roc_auc_score\n",
    "from sklearn.svm import SVC\n"
   ]
  },
  {
   "cell_type": "markdown",
   "metadata": {},
   "source": [
    "## 선형 커널(linear)"
   ]
  },
  {
   "cell_type": "markdown",
   "metadata": {},
   "source": [
    "C만 설정"
   ]
  },
  {
   "cell_type": "code",
   "execution_count": 66,
   "metadata": {
    "execution": {
     "iopub.execute_input": "2022-09-27T02:37:41.251139Z",
     "iopub.status.busy": "2022-09-27T02:37:41.250428Z"
    },
    "scrolled": true
   },
   "outputs": [
    {
     "name": "stderr",
     "output_type": "stream",
     "text": [
      "C:\\ProgramData\\Anaconda3\\lib\\site-packages\\sklearn\\utils\\validation.py:993: DataConversionWarning: A column-vector y was passed when a 1d array was expected. Please change the shape of y to (n_samples, ), for example using ravel().\n",
      "  y = column_or_1d(y, warn=True)\n"
     ]
    },
    {
     "name": "stdout",
     "output_type": "stream",
     "text": [
      "model 훈련 점수 :  0.743\n",
      "model 테스트 점수 :  0.748\n"
     ]
    }
   ],
   "source": [
    "model1_s=SVC(kernel='linear',C=1.0).fit(x_train_s,y_train_s)\n",
    "score1=model1_s.score (x_train_s, y_train_s)\n",
    "score1_t=model1_s.score (x_test_s, y_test_s)\n",
    "print('model 훈련 점수 : {: .3f}'.format(score1))\n",
    "print('model 테스트 점수 : {: .3f}'.format(score1_t))"
   ]
  },
  {
   "cell_type": "code",
   "execution_count": 67,
   "metadata": {
    "execution": {
     "iopub.execute_input": "2022-09-27T02:25:46.887579Z",
     "iopub.status.busy": "2022-09-27T02:25:46.886343Z",
     "iopub.status.idle": "2022-09-27T02:27:50.624905Z",
     "shell.execute_reply": "2022-09-27T02:27:50.623484Z",
     "shell.execute_reply.started": "2022-09-27T02:25:46.887536Z"
    },
    "scrolled": true
   },
   "outputs": [
    {
     "name": "stderr",
     "output_type": "stream",
     "text": [
      "C:\\ProgramData\\Anaconda3\\lib\\site-packages\\sklearn\\utils\\validation.py:993: DataConversionWarning: A column-vector y was passed when a 1d array was expected. Please change the shape of y to (n_samples, ), for example using ravel().\n",
      "  y = column_or_1d(y, warn=True)\n"
     ]
    },
    {
     "name": "stdout",
     "output_type": "stream",
     "text": [
      "model 훈련 점수 :  0.743\n",
      "model 테스트 점수 :  0.748\n"
     ]
    }
   ],
   "source": [
    "# C=0.1\n",
    "model2_s=SVC(kernel='linear',C=0.1).fit(x_train_s,y_train_s)\n",
    "score2=model2_s.score (x_train_s, y_train_s)\n",
    "score2_t=model2_s.score (x_test_s, y_test_s)\n",
    "print('model 훈련 점수 : {: .3f}'.format(score2))\n",
    "print('model 테스트 점수 : {: .3f}'.format(score2_t))"
   ]
  },
  {
   "cell_type": "markdown",
   "metadata": {},
   "source": [
    "## RBF 커널(RBF)"
   ]
  },
  {
   "cell_type": "markdown",
   "metadata": {},
   "source": [
    "C와 gamma 설정"
   ]
  },
  {
   "cell_type": "code",
   "execution_count": 11,
   "metadata": {
    "scrolled": true
   },
   "outputs": [
    {
     "name": "stderr",
     "output_type": "stream",
     "text": [
      "C:\\ProgramData\\Anaconda3\\lib\\site-packages\\sklearn\\utils\\validation.py:993: DataConversionWarning: A column-vector y was passed when a 1d array was expected. Please change the shape of y to (n_samples, ), for example using ravel().\n",
      "  y = column_or_1d(y, warn=True)\n"
     ]
    },
    {
     "name": "stdout",
     "output_type": "stream",
     "text": [
      "model 훈련 점수 :  1.000\n",
      "model 테스트 점수 :  1.000\n"
     ]
    }
   ],
   "source": [
    "model3_s=SVC(kernel='rbf',C=5,gamma=3).fit(x_train_s,y_train_s)\n",
    "score3=model3_s.score (x_train_s, y_train_s)\n",
    "score3_t=model3_s.score (x_test_s, y_test_s)\n",
    "print('model 훈련 점수 : {: .3f}'.format(score3))\n",
    "print('model 테스트 점수 : {: .3f}'.format(score3_t))"
   ]
  },
  {
   "cell_type": "code",
   "execution_count": 12,
   "metadata": {
    "execution": {
     "iopub.execute_input": "2022-09-27T02:32:10.504904Z",
     "iopub.status.busy": "2022-09-27T02:32:10.504110Z",
     "iopub.status.idle": "2022-09-27T02:32:10.581819Z",
     "shell.execute_reply": "2022-09-27T02:32:10.580293Z",
     "shell.execute_reply.started": "2022-09-27T02:32:10.504808Z"
    },
    "scrolled": true
   },
   "outputs": [
    {
     "name": "stderr",
     "output_type": "stream",
     "text": [
      "C:\\ProgramData\\Anaconda3\\lib\\site-packages\\sklearn\\utils\\validation.py:993: DataConversionWarning: A column-vector y was passed when a 1d array was expected. Please change the shape of y to (n_samples, ), for example using ravel().\n",
      "  y = column_or_1d(y, warn=True)\n"
     ]
    },
    {
     "name": "stdout",
     "output_type": "stream",
     "text": [
      "model 훈련 점수 :  1.000\n",
      "model 테스트 점수 :  1.000\n"
     ]
    }
   ],
   "source": [
    "# rbf\n",
    "# c=1 gamma=3\n",
    "model5_s=SVC(kernel='rbf',C=1.0,gamma=3).fit(x_train_s,y_train_s)\n",
    "score5=model5_s.score (x_train_s, y_train_s)\n",
    "score5_t=model5_s.score (x_test_s, y_test_s)\n",
    "\n",
    "print('model 훈련 점수 : {: .3f}'.format(score5))\n",
    "print('model 테스트 점수 : {: .3f}'.format(score5_t))"
   ]
  },
  {
   "cell_type": "markdown",
   "metadata": {},
   "source": [
    "## min-max Scaler (X)"
   ]
  },
  {
   "cell_type": "code",
   "execution_count": 43,
   "metadata": {
    "execution": {
     "iopub.execute_input": "2022-09-27T02:42:40.108817Z",
     "iopub.status.busy": "2022-09-27T02:42:40.108386Z",
     "iopub.status.idle": "2022-09-27T02:42:40.224687Z",
     "shell.execute_reply": "2022-09-27T02:42:40.223155Z",
     "shell.execute_reply.started": "2022-09-27T02:42:40.108787Z"
    }
   },
   "outputs": [],
   "source": [
    "scaled2 = scaling(x_train, x_test)"
   ]
  },
  {
   "cell_type": "code",
   "execution_count": 46,
   "metadata": {
    "execution": {
     "iopub.execute_input": "2022-09-27T02:42:40.108817Z",
     "iopub.status.busy": "2022-09-27T02:42:40.108386Z",
     "iopub.status.idle": "2022-09-27T02:42:40.224687Z",
     "shell.execute_reply": "2022-09-27T02:42:40.223155Z",
     "shell.execute_reply.started": "2022-09-27T02:42:40.108787Z"
    }
   },
   "outputs": [],
   "source": [
    "x_train_m = pd.DataFrame(scaled2[0])\n",
    "x_test_m = pd.DataFrame(scaled2[1])\n",
    "y_train_m = preprocessing(y_train)\n",
    "y_test_m = preprocessing(y_test)"
   ]
  },
  {
   "cell_type": "code",
   "execution_count": 47,
   "metadata": {
    "execution": {
     "iopub.execute_input": "2022-09-27T02:42:44.959151Z",
     "iopub.status.busy": "2022-09-27T02:42:44.958643Z",
     "iopub.status.idle": "2022-09-27T02:42:45.000247Z",
     "shell.execute_reply": "2022-09-27T02:42:44.998920Z",
     "shell.execute_reply.started": "2022-09-27T02:42:44.959104Z"
    }
   },
   "outputs": [
    {
     "data": {
      "text/html": [
       "<div>\n",
       "<style scoped>\n",
       "    .dataframe tbody tr th:only-of-type {\n",
       "        vertical-align: middle;\n",
       "    }\n",
       "\n",
       "    .dataframe tbody tr th {\n",
       "        vertical-align: top;\n",
       "    }\n",
       "\n",
       "    .dataframe thead th {\n",
       "        text-align: right;\n",
       "    }\n",
       "</style>\n",
       "<table border=\"1\" class=\"dataframe\">\n",
       "  <thead>\n",
       "    <tr style=\"text-align: right;\">\n",
       "      <th></th>\n",
       "      <th>age</th>\n",
       "      <th>height(cm)</th>\n",
       "      <th>weight(kg)</th>\n",
       "      <th>waist(cm)</th>\n",
       "      <th>eyesight(left)</th>\n",
       "      <th>eyesight(right)</th>\n",
       "      <th>systolic</th>\n",
       "      <th>relaxation</th>\n",
       "      <th>fasting blood sugar</th>\n",
       "      <th>Cholesterol</th>\n",
       "      <th>...</th>\n",
       "      <th>Urine protein</th>\n",
       "      <th>serum creatinine</th>\n",
       "      <th>AST</th>\n",
       "      <th>ALT</th>\n",
       "      <th>Gtp</th>\n",
       "      <th>gender</th>\n",
       "      <th>tartar</th>\n",
       "      <th>hearing(right)</th>\n",
       "      <th>hearing(left)</th>\n",
       "      <th>dental caries</th>\n",
       "    </tr>\n",
       "  </thead>\n",
       "  <tbody>\n",
       "    <tr>\n",
       "      <th>0</th>\n",
       "      <td>0.307692</td>\n",
       "      <td>0.416667</td>\n",
       "      <td>0.285714</td>\n",
       "      <td>0.388462</td>\n",
       "      <td>0.112245</td>\n",
       "      <td>0.091837</td>\n",
       "      <td>0.254438</td>\n",
       "      <td>0.311321</td>\n",
       "      <td>0.104575</td>\n",
       "      <td>0.410256</td>\n",
       "      <td>...</td>\n",
       "      <td>0.0</td>\n",
       "      <td>0.052174</td>\n",
       "      <td>0.009195</td>\n",
       "      <td>0.006179</td>\n",
       "      <td>0.026052</td>\n",
       "      <td>0</td>\n",
       "      <td>1</td>\n",
       "      <td>1.0</td>\n",
       "      <td>1.0</td>\n",
       "      <td>0.0</td>\n",
       "    </tr>\n",
       "    <tr>\n",
       "      <th>1</th>\n",
       "      <td>0.307692</td>\n",
       "      <td>0.500000</td>\n",
       "      <td>0.285714</td>\n",
       "      <td>0.384615</td>\n",
       "      <td>0.071429</td>\n",
       "      <td>0.051020</td>\n",
       "      <td>0.284024</td>\n",
       "      <td>0.283019</td>\n",
       "      <td>0.183007</td>\n",
       "      <td>0.351282</td>\n",
       "      <td>...</td>\n",
       "      <td>0.0</td>\n",
       "      <td>0.043478</td>\n",
       "      <td>0.012261</td>\n",
       "      <td>0.006179</td>\n",
       "      <td>0.017034</td>\n",
       "      <td>0</td>\n",
       "      <td>1</td>\n",
       "      <td>1.0</td>\n",
       "      <td>1.0</td>\n",
       "      <td>0.0</td>\n",
       "    </tr>\n",
       "    <tr>\n",
       "      <th>2</th>\n",
       "      <td>0.538462</td>\n",
       "      <td>0.666667</td>\n",
       "      <td>0.285714</td>\n",
       "      <td>0.371795</td>\n",
       "      <td>0.071429</td>\n",
       "      <td>0.071429</td>\n",
       "      <td>0.396450</td>\n",
       "      <td>0.433962</td>\n",
       "      <td>0.093682</td>\n",
       "      <td>0.479487</td>\n",
       "      <td>...</td>\n",
       "      <td>0.0</td>\n",
       "      <td>0.078261</td>\n",
       "      <td>0.011494</td>\n",
       "      <td>0.005149</td>\n",
       "      <td>0.021042</td>\n",
       "      <td>1</td>\n",
       "      <td>0</td>\n",
       "      <td>1.0</td>\n",
       "      <td>1.0</td>\n",
       "      <td>0.0</td>\n",
       "    </tr>\n",
       "    <tr>\n",
       "      <th>3</th>\n",
       "      <td>0.307692</td>\n",
       "      <td>0.583333</td>\n",
       "      <td>0.380952</td>\n",
       "      <td>0.474359</td>\n",
       "      <td>0.142857</td>\n",
       "      <td>0.142857</td>\n",
       "      <td>0.171598</td>\n",
       "      <td>0.188679</td>\n",
       "      <td>0.108932</td>\n",
       "      <td>0.684615</td>\n",
       "      <td>...</td>\n",
       "      <td>0.0</td>\n",
       "      <td>0.078261</td>\n",
       "      <td>0.009962</td>\n",
       "      <td>0.008582</td>\n",
       "      <td>0.017034</td>\n",
       "      <td>1</td>\n",
       "      <td>1</td>\n",
       "      <td>1.0</td>\n",
       "      <td>1.0</td>\n",
       "      <td>0.0</td>\n",
       "    </tr>\n",
       "    <tr>\n",
       "      <th>4</th>\n",
       "      <td>0.307692</td>\n",
       "      <td>0.416667</td>\n",
       "      <td>0.285714</td>\n",
       "      <td>0.448718</td>\n",
       "      <td>0.091837</td>\n",
       "      <td>0.091837</td>\n",
       "      <td>0.289941</td>\n",
       "      <td>0.320755</td>\n",
       "      <td>0.074074</td>\n",
       "      <td>0.330769</td>\n",
       "      <td>...</td>\n",
       "      <td>0.0</td>\n",
       "      <td>0.043478</td>\n",
       "      <td>0.007663</td>\n",
       "      <td>0.004463</td>\n",
       "      <td>0.021042</td>\n",
       "      <td>0</td>\n",
       "      <td>0</td>\n",
       "      <td>1.0</td>\n",
       "      <td>1.0</td>\n",
       "      <td>0.0</td>\n",
       "    </tr>\n",
       "  </tbody>\n",
       "</table>\n",
       "<p>5 rows × 24 columns</p>\n",
       "</div>"
      ],
      "text/plain": [
       "        age  height(cm)  weight(kg)  waist(cm)  eyesight(left)  \\\n",
       "0  0.307692    0.416667    0.285714   0.388462        0.112245   \n",
       "1  0.307692    0.500000    0.285714   0.384615        0.071429   \n",
       "2  0.538462    0.666667    0.285714   0.371795        0.071429   \n",
       "3  0.307692    0.583333    0.380952   0.474359        0.142857   \n",
       "4  0.307692    0.416667    0.285714   0.448718        0.091837   \n",
       "\n",
       "   eyesight(right)  systolic  relaxation  fasting blood sugar  Cholesterol  \\\n",
       "0         0.091837  0.254438    0.311321             0.104575     0.410256   \n",
       "1         0.051020  0.284024    0.283019             0.183007     0.351282   \n",
       "2         0.071429  0.396450    0.433962             0.093682     0.479487   \n",
       "3         0.142857  0.171598    0.188679             0.108932     0.684615   \n",
       "4         0.091837  0.289941    0.320755             0.074074     0.330769   \n",
       "\n",
       "   ...  Urine protein  serum creatinine       AST       ALT       Gtp  gender  \\\n",
       "0  ...            0.0          0.052174  0.009195  0.006179  0.026052       0   \n",
       "1  ...            0.0          0.043478  0.012261  0.006179  0.017034       0   \n",
       "2  ...            0.0          0.078261  0.011494  0.005149  0.021042       1   \n",
       "3  ...            0.0          0.078261  0.009962  0.008582  0.017034       1   \n",
       "4  ...            0.0          0.043478  0.007663  0.004463  0.021042       0   \n",
       "\n",
       "   tartar  hearing(right)  hearing(left)  dental caries  \n",
       "0       1             1.0            1.0            0.0  \n",
       "1       1             1.0            1.0            0.0  \n",
       "2       0             1.0            1.0            0.0  \n",
       "3       1             1.0            1.0            0.0  \n",
       "4       0             1.0            1.0            0.0  \n",
       "\n",
       "[5 rows x 24 columns]"
      ]
     },
     "execution_count": 47,
     "metadata": {},
     "output_type": "execute_result"
    }
   ],
   "source": [
    "x_train_m.head()"
   ]
  },
  {
   "cell_type": "code",
   "execution_count": 64,
   "metadata": {
    "execution": {
     "iopub.execute_input": "2022-09-27T02:42:57.607434Z",
     "iopub.status.busy": "2022-09-27T02:42:57.606977Z",
     "iopub.status.idle": "2022-09-27T02:42:57.655993Z",
     "shell.execute_reply": "2022-09-27T02:42:57.653824Z",
     "shell.execute_reply.started": "2022-09-27T02:42:57.607402Z"
    },
    "scrolled": true
   },
   "outputs": [
    {
     "name": "stderr",
     "output_type": "stream",
     "text": [
      "C:\\ProgramData\\Anaconda3\\lib\\site-packages\\sklearn\\utils\\validation.py:993: DataConversionWarning: A column-vector y was passed when a 1d array was expected. Please change the shape of y to (n_samples, ), for example using ravel().\n",
      "  y = column_or_1d(y, warn=True)\n"
     ]
    },
    {
     "name": "stdout",
     "output_type": "stream",
     "text": [
      "model 훈련 점수 :  0.740\n",
      "model 테스트 점수 :  0.743\n"
     ]
    }
   ],
   "source": [
    "# 선형 SVM (하드 마진)\n",
    "model1_m=SVC(kernel='linear',C=1.0).fit(x_train_m,y_train_m)\n",
    "# C : 값이 클스록 하드마진\n",
    "print('model 훈련 점수 : {: .3f}'.format(model1_m.score (x_train_m, y_train_m)))\n",
    "print('model 테스트 점수 : {: .3f}'.format(model1_m.score (x_test_m, y_test_m)))"
   ]
  },
  {
   "cell_type": "code",
   "execution_count": 65,
   "metadata": {
    "scrolled": true
   },
   "outputs": [
    {
     "name": "stderr",
     "output_type": "stream",
     "text": [
      "C:\\ProgramData\\Anaconda3\\lib\\site-packages\\sklearn\\utils\\validation.py:993: DataConversionWarning: A column-vector y was passed when a 1d array was expected. Please change the shape of y to (n_samples, ), for example using ravel().\n",
      "  y = column_or_1d(y, warn=True)\n"
     ]
    },
    {
     "name": "stdout",
     "output_type": "stream",
     "text": [
      "model 훈련 점수 :  0.742\n",
      "model 테스트 점수 :  0.747\n"
     ]
    }
   ],
   "source": [
    "model2_m=SVC(kernel='linear',C=5).fit(x_train_m,y_train_m)\n",
    "print('model 훈련 점수 : {: .3f}'.format(model2_m.score (x_train_m, y_train_m)))\n",
    "print('model 테스트 점수 : {: .3f}'.format(model2_m.score (x_test_m, y_test_m)))"
   ]
  },
  {
   "cell_type": "code",
   "execution_count": 52,
   "metadata": {
    "scrolled": true
   },
   "outputs": [
    {
     "name": "stderr",
     "output_type": "stream",
     "text": [
      "C:\\ProgramData\\Anaconda3\\lib\\site-packages\\sklearn\\utils\\validation.py:993: DataConversionWarning: A column-vector y was passed when a 1d array was expected. Please change the shape of y to (n_samples, ), for example using ravel().\n",
      "  y = column_or_1d(y, warn=True)\n"
     ]
    },
    {
     "name": "stdout",
     "output_type": "stream",
     "text": [
      "model 훈련 점수 :  0.762\n",
      "model 테스트 점수 :  0.763\n"
     ]
    }
   ],
   "source": [
    "# rbf\n",
    "model5_m=SVC(kernel='rbf',C=1.0,gamma=3).fit(x_train_m,y_train_m)\n",
    "\n",
    "print('model 훈련 점수 : {: .3f}'.format(model5_m.score (x_train_m, y_train_m)))\n",
    "print('model 테스트 점수 : {: .3f}'.format(model5_m.score (x_test_m, y_test_m)))"
   ]
  },
  {
   "cell_type": "code",
   "execution_count": 53,
   "metadata": {},
   "outputs": [
    {
     "name": "stderr",
     "output_type": "stream",
     "text": [
      "C:\\ProgramData\\Anaconda3\\lib\\site-packages\\sklearn\\utils\\validation.py:993: DataConversionWarning: A column-vector y was passed when a 1d array was expected. Please change the shape of y to (n_samples, ), for example using ravel().\n",
      "  y = column_or_1d(y, warn=True)\n"
     ]
    },
    {
     "name": "stdout",
     "output_type": "stream",
     "text": [
      "model 훈련 점수 :  0.816\n",
      "model 테스트 점수 :  0.814\n"
     ]
    }
   ],
   "source": [
    "model6_m=SVC(kernel='rbf',C=3,gamma=10).fit(x_train_m,y_train_m)\n",
    "\n",
    "print('model 훈련 점수 : {: .3f}'.format(model6_m.score (x_train_m, y_train_m)))\n",
    "print('model 테스트 점수 : {: .3f}'.format(model6_m.score (x_test_m, y_test_m)))"
   ]
  },
  {
   "cell_type": "markdown",
   "metadata": {},
   "source": [
    "## PCA 후 SVM (수행속도 단축?) (X)"
   ]
  },
  {
   "cell_type": "code",
   "execution_count": 54,
   "metadata": {},
   "outputs": [],
   "source": [
    "# 주성분 2개로 축소\n",
    "from sklearn.decomposition import PCA\n",
    "pca = PCA(n_components=2)"
   ]
  },
  {
   "cell_type": "markdown",
   "metadata": {},
   "source": [
    "#### standard scaling 사용"
   ]
  },
  {
   "cell_type": "code",
   "execution_count": 55,
   "metadata": {
    "scrolled": false
   },
   "outputs": [
    {
     "data": {
      "text/html": [
       "<div>\n",
       "<style scoped>\n",
       "    .dataframe tbody tr th:only-of-type {\n",
       "        vertical-align: middle;\n",
       "    }\n",
       "\n",
       "    .dataframe tbody tr th {\n",
       "        vertical-align: top;\n",
       "    }\n",
       "\n",
       "    .dataframe thead th {\n",
       "        text-align: right;\n",
       "    }\n",
       "</style>\n",
       "<table border=\"1\" class=\"dataframe\">\n",
       "  <thead>\n",
       "    <tr style=\"text-align: right;\">\n",
       "      <th></th>\n",
       "      <th>age</th>\n",
       "      <th>height(cm)</th>\n",
       "      <th>weight(kg)</th>\n",
       "      <th>waist(cm)</th>\n",
       "      <th>eyesight(left)</th>\n",
       "      <th>eyesight(right)</th>\n",
       "      <th>systolic</th>\n",
       "      <th>relaxation</th>\n",
       "      <th>fasting blood sugar</th>\n",
       "      <th>Cholesterol</th>\n",
       "      <th>...</th>\n",
       "      <th>Urine protein</th>\n",
       "      <th>serum creatinine</th>\n",
       "      <th>AST</th>\n",
       "      <th>ALT</th>\n",
       "      <th>Gtp</th>\n",
       "      <th>gender</th>\n",
       "      <th>tartar</th>\n",
       "      <th>hearing(right)</th>\n",
       "      <th>hearing(left)</th>\n",
       "      <th>dental caries</th>\n",
       "    </tr>\n",
       "  </thead>\n",
       "  <tbody>\n",
       "    <tr>\n",
       "      <th>0</th>\n",
       "      <td>-0.348302</td>\n",
       "      <td>-1.049853</td>\n",
       "      <td>-0.458800</td>\n",
       "      <td>-0.083771</td>\n",
       "      <td>0.385691</td>\n",
       "      <td>-0.016643</td>\n",
       "      <td>-0.550024</td>\n",
       "      <td>-0.313914</td>\n",
       "      <td>-0.255217</td>\n",
       "      <td>0.494320</td>\n",
       "      <td>...</td>\n",
       "      <td>-0.214896</td>\n",
       "      <td>-0.823115</td>\n",
       "      <td>-0.430331</td>\n",
       "      <td>-0.254602</td>\n",
       "      <td>-0.257586</td>\n",
       "      <td>0</td>\n",
       "      <td>1</td>\n",
       "      <td>1.0</td>\n",
       "      <td>1.0</td>\n",
       "      <td>0.0</td>\n",
       "    </tr>\n",
       "    <tr>\n",
       "      <th>1</th>\n",
       "      <td>-0.348302</td>\n",
       "      <td>-0.506284</td>\n",
       "      <td>-0.458800</td>\n",
       "      <td>-0.116105</td>\n",
       "      <td>-0.433770</td>\n",
       "      <td>-0.835046</td>\n",
       "      <td>-0.184756</td>\n",
       "      <td>-0.623346</td>\n",
       "      <td>1.471806</td>\n",
       "      <td>-0.137158</td>\n",
       "      <td>...</td>\n",
       "      <td>-0.214896</td>\n",
       "      <td>-1.265418</td>\n",
       "      <td>-0.220763</td>\n",
       "      <td>-0.254602</td>\n",
       "      <td>-0.435020</td>\n",
       "      <td>0</td>\n",
       "      <td>1</td>\n",
       "      <td>1.0</td>\n",
       "      <td>1.0</td>\n",
       "      <td>0.0</td>\n",
       "    </tr>\n",
       "    <tr>\n",
       "      <th>2</th>\n",
       "      <td>0.892501</td>\n",
       "      <td>0.580854</td>\n",
       "      <td>-0.458800</td>\n",
       "      <td>-0.223885</td>\n",
       "      <td>-0.433770</td>\n",
       "      <td>-0.425844</td>\n",
       "      <td>1.203261</td>\n",
       "      <td>1.026958</td>\n",
       "      <td>-0.495081</td>\n",
       "      <td>1.235620</td>\n",
       "      <td>...</td>\n",
       "      <td>-0.214896</td>\n",
       "      <td>0.503794</td>\n",
       "      <td>-0.273155</td>\n",
       "      <td>-0.349076</td>\n",
       "      <td>-0.356161</td>\n",
       "      <td>1</td>\n",
       "      <td>0</td>\n",
       "      <td>1.0</td>\n",
       "      <td>1.0</td>\n",
       "      <td>0.0</td>\n",
       "    </tr>\n",
       "    <tr>\n",
       "      <th>3</th>\n",
       "      <td>-0.348302</td>\n",
       "      <td>0.037285</td>\n",
       "      <td>0.321016</td>\n",
       "      <td>0.638353</td>\n",
       "      <td>1.000286</td>\n",
       "      <td>1.006362</td>\n",
       "      <td>-1.572773</td>\n",
       "      <td>-1.654787</td>\n",
       "      <td>-0.159271</td>\n",
       "      <td>3.432064</td>\n",
       "      <td>...</td>\n",
       "      <td>-0.214896</td>\n",
       "      <td>0.503794</td>\n",
       "      <td>-0.377939</td>\n",
       "      <td>-0.034160</td>\n",
       "      <td>-0.435020</td>\n",
       "      <td>1</td>\n",
       "      <td>1</td>\n",
       "      <td>1.0</td>\n",
       "      <td>1.0</td>\n",
       "      <td>0.0</td>\n",
       "    </tr>\n",
       "    <tr>\n",
       "      <th>4</th>\n",
       "      <td>-0.348302</td>\n",
       "      <td>-1.049853</td>\n",
       "      <td>-0.458800</td>\n",
       "      <td>0.422793</td>\n",
       "      <td>-0.024040</td>\n",
       "      <td>-0.016643</td>\n",
       "      <td>-0.111703</td>\n",
       "      <td>-0.210770</td>\n",
       "      <td>-0.926837</td>\n",
       "      <td>-0.356803</td>\n",
       "      <td>...</td>\n",
       "      <td>-0.214896</td>\n",
       "      <td>-1.265418</td>\n",
       "      <td>-0.535115</td>\n",
       "      <td>-0.412060</td>\n",
       "      <td>-0.356161</td>\n",
       "      <td>0</td>\n",
       "      <td>0</td>\n",
       "      <td>1.0</td>\n",
       "      <td>1.0</td>\n",
       "      <td>0.0</td>\n",
       "    </tr>\n",
       "    <tr>\n",
       "      <th>...</th>\n",
       "      <td>...</td>\n",
       "      <td>...</td>\n",
       "      <td>...</td>\n",
       "      <td>...</td>\n",
       "      <td>...</td>\n",
       "      <td>...</td>\n",
       "      <td>...</td>\n",
       "      <td>...</td>\n",
       "      <td>...</td>\n",
       "      <td>...</td>\n",
       "      <td>...</td>\n",
       "      <td>...</td>\n",
       "      <td>...</td>\n",
       "      <td>...</td>\n",
       "      <td>...</td>\n",
       "      <td>...</td>\n",
       "      <td>...</td>\n",
       "      <td>...</td>\n",
       "      <td>...</td>\n",
       "      <td>...</td>\n",
       "      <td>...</td>\n",
       "    </tr>\n",
       "    <tr>\n",
       "      <th>44548</th>\n",
       "      <td>0.478900</td>\n",
       "      <td>0.580854</td>\n",
       "      <td>-0.068892</td>\n",
       "      <td>0.638353</td>\n",
       "      <td>0.385691</td>\n",
       "      <td>0.392559</td>\n",
       "      <td>1.933796</td>\n",
       "      <td>1.852111</td>\n",
       "      <td>0.128566</td>\n",
       "      <td>-0.411714</td>\n",
       "      <td>...</td>\n",
       "      <td>-0.214896</td>\n",
       "      <td>0.503794</td>\n",
       "      <td>0.984253</td>\n",
       "      <td>0.690148</td>\n",
       "      <td>0.215573</td>\n",
       "      <td>1</td>\n",
       "      <td>1</td>\n",
       "      <td>1.0</td>\n",
       "      <td>1.0</td>\n",
       "      <td>0.0</td>\n",
       "    </tr>\n",
       "    <tr>\n",
       "      <th>44549</th>\n",
       "      <td>-0.761903</td>\n",
       "      <td>1.124422</td>\n",
       "      <td>0.321016</td>\n",
       "      <td>0.207234</td>\n",
       "      <td>-0.843500</td>\n",
       "      <td>-0.630445</td>\n",
       "      <td>-1.207506</td>\n",
       "      <td>-0.210770</td>\n",
       "      <td>-0.543054</td>\n",
       "      <td>-0.274436</td>\n",
       "      <td>...</td>\n",
       "      <td>-0.214896</td>\n",
       "      <td>0.061491</td>\n",
       "      <td>-0.325547</td>\n",
       "      <td>-0.412060</td>\n",
       "      <td>-0.474450</td>\n",
       "      <td>1</td>\n",
       "      <td>1</td>\n",
       "      <td>1.0</td>\n",
       "      <td>1.0</td>\n",
       "      <td>0.0</td>\n",
       "    </tr>\n",
       "    <tr>\n",
       "      <th>44550</th>\n",
       "      <td>-0.761903</td>\n",
       "      <td>1.124422</td>\n",
       "      <td>0.321016</td>\n",
       "      <td>-1.204680</td>\n",
       "      <td>1.000286</td>\n",
       "      <td>1.006362</td>\n",
       "      <td>-0.403917</td>\n",
       "      <td>-0.623346</td>\n",
       "      <td>-0.207244</td>\n",
       "      <td>-1.427569</td>\n",
       "      <td>...</td>\n",
       "      <td>-0.214896</td>\n",
       "      <td>0.503794</td>\n",
       "      <td>-0.430331</td>\n",
       "      <td>-0.254602</td>\n",
       "      <td>-0.592740</td>\n",
       "      <td>1</td>\n",
       "      <td>1</td>\n",
       "      <td>1.0</td>\n",
       "      <td>1.0</td>\n",
       "      <td>0.0</td>\n",
       "    </tr>\n",
       "    <tr>\n",
       "      <th>44551</th>\n",
       "      <td>0.478900</td>\n",
       "      <td>0.037285</td>\n",
       "      <td>1.880649</td>\n",
       "      <td>2.664611</td>\n",
       "      <td>-0.433770</td>\n",
       "      <td>-1.039647</td>\n",
       "      <td>0.034404</td>\n",
       "      <td>-0.107626</td>\n",
       "      <td>-0.399135</td>\n",
       "      <td>-0.494080</td>\n",
       "      <td>...</td>\n",
       "      <td>-0.214896</td>\n",
       "      <td>0.061491</td>\n",
       "      <td>0.198373</td>\n",
       "      <td>0.690148</td>\n",
       "      <td>-0.001292</td>\n",
       "      <td>1</td>\n",
       "      <td>1</td>\n",
       "      <td>1.0</td>\n",
       "      <td>1.0</td>\n",
       "      <td>0.0</td>\n",
       "    </tr>\n",
       "    <tr>\n",
       "      <th>44552</th>\n",
       "      <td>-1.589105</td>\n",
       "      <td>1.124422</td>\n",
       "      <td>1.100832</td>\n",
       "      <td>1.198807</td>\n",
       "      <td>0.385691</td>\n",
       "      <td>1.006362</td>\n",
       "      <td>0.180511</td>\n",
       "      <td>-0.004482</td>\n",
       "      <td>-1.022783</td>\n",
       "      <td>0.000120</td>\n",
       "      <td>...</td>\n",
       "      <td>-0.214896</td>\n",
       "      <td>0.503794</td>\n",
       "      <td>-0.168371</td>\n",
       "      <td>-0.506535</td>\n",
       "      <td>-0.395590</td>\n",
       "      <td>1</td>\n",
       "      <td>1</td>\n",
       "      <td>1.0</td>\n",
       "      <td>1.0</td>\n",
       "      <td>0.0</td>\n",
       "    </tr>\n",
       "  </tbody>\n",
       "</table>\n",
       "<p>44553 rows × 24 columns</p>\n",
       "</div>"
      ],
      "text/plain": [
       "            age  height(cm)  weight(kg)  waist(cm)  eyesight(left)  \\\n",
       "0     -0.348302   -1.049853   -0.458800  -0.083771        0.385691   \n",
       "1     -0.348302   -0.506284   -0.458800  -0.116105       -0.433770   \n",
       "2      0.892501    0.580854   -0.458800  -0.223885       -0.433770   \n",
       "3     -0.348302    0.037285    0.321016   0.638353        1.000286   \n",
       "4     -0.348302   -1.049853   -0.458800   0.422793       -0.024040   \n",
       "...         ...         ...         ...        ...             ...   \n",
       "44548  0.478900    0.580854   -0.068892   0.638353        0.385691   \n",
       "44549 -0.761903    1.124422    0.321016   0.207234       -0.843500   \n",
       "44550 -0.761903    1.124422    0.321016  -1.204680        1.000286   \n",
       "44551  0.478900    0.037285    1.880649   2.664611       -0.433770   \n",
       "44552 -1.589105    1.124422    1.100832   1.198807        0.385691   \n",
       "\n",
       "       eyesight(right)  systolic  relaxation  fasting blood sugar  \\\n",
       "0            -0.016643 -0.550024   -0.313914            -0.255217   \n",
       "1            -0.835046 -0.184756   -0.623346             1.471806   \n",
       "2            -0.425844  1.203261    1.026958            -0.495081   \n",
       "3             1.006362 -1.572773   -1.654787            -0.159271   \n",
       "4            -0.016643 -0.111703   -0.210770            -0.926837   \n",
       "...                ...       ...         ...                  ...   \n",
       "44548         0.392559  1.933796    1.852111             0.128566   \n",
       "44549        -0.630445 -1.207506   -0.210770            -0.543054   \n",
       "44550         1.006362 -0.403917   -0.623346            -0.207244   \n",
       "44551        -1.039647  0.034404   -0.107626            -0.399135   \n",
       "44552         1.006362  0.180511   -0.004482            -1.022783   \n",
       "\n",
       "       Cholesterol  ...  Urine protein  serum creatinine       AST       ALT  \\\n",
       "0         0.494320  ...      -0.214896         -0.823115 -0.430331 -0.254602   \n",
       "1        -0.137158  ...      -0.214896         -1.265418 -0.220763 -0.254602   \n",
       "2         1.235620  ...      -0.214896          0.503794 -0.273155 -0.349076   \n",
       "3         3.432064  ...      -0.214896          0.503794 -0.377939 -0.034160   \n",
       "4        -0.356803  ...      -0.214896         -1.265418 -0.535115 -0.412060   \n",
       "...            ...  ...            ...               ...       ...       ...   \n",
       "44548    -0.411714  ...      -0.214896          0.503794  0.984253  0.690148   \n",
       "44549    -0.274436  ...      -0.214896          0.061491 -0.325547 -0.412060   \n",
       "44550    -1.427569  ...      -0.214896          0.503794 -0.430331 -0.254602   \n",
       "44551    -0.494080  ...      -0.214896          0.061491  0.198373  0.690148   \n",
       "44552     0.000120  ...      -0.214896          0.503794 -0.168371 -0.506535   \n",
       "\n",
       "            Gtp  gender  tartar  hearing(right)  hearing(left)  dental caries  \n",
       "0     -0.257586       0       1             1.0            1.0            0.0  \n",
       "1     -0.435020       0       1             1.0            1.0            0.0  \n",
       "2     -0.356161       1       0             1.0            1.0            0.0  \n",
       "3     -0.435020       1       1             1.0            1.0            0.0  \n",
       "4     -0.356161       0       0             1.0            1.0            0.0  \n",
       "...         ...     ...     ...             ...            ...            ...  \n",
       "44548  0.215573       1       1             1.0            1.0            0.0  \n",
       "44549 -0.474450       1       1             1.0            1.0            0.0  \n",
       "44550 -0.592740       1       1             1.0            1.0            0.0  \n",
       "44551 -0.001292       1       1             1.0            1.0            0.0  \n",
       "44552 -0.395590       1       1             1.0            1.0            0.0  \n",
       "\n",
       "[44553 rows x 24 columns]"
      ]
     },
     "execution_count": 55,
     "metadata": {},
     "output_type": "execute_result"
    }
   ],
   "source": [
    "x_train_s"
   ]
  },
  {
   "cell_type": "code",
   "execution_count": 56,
   "metadata": {},
   "outputs": [],
   "source": [
    "x_train_pca=pca.fit_transform(x_train_s)"
   ]
  },
  {
   "cell_type": "code",
   "execution_count": 57,
   "metadata": {
    "scrolled": false
   },
   "outputs": [
    {
     "data": {
      "text/plain": [
       "array([[-1.9386793 ,  0.13257673],\n",
       "       [-1.24244155,  0.67885741],\n",
       "       [ 0.69600719,  1.2250648 ],\n",
       "       ...,\n",
       "       [-0.38061452, -2.68051596],\n",
       "       [ 1.95413086,  0.24119634],\n",
       "       [ 0.62131427, -1.7935104 ]])"
      ]
     },
     "execution_count": 57,
     "metadata": {},
     "output_type": "execute_result"
    }
   ],
   "source": [
    "x_train_pca"
   ]
  },
  {
   "cell_type": "code",
   "execution_count": 58,
   "metadata": {},
   "outputs": [],
   "source": [
    "x_test_pca=pca.transform(x_test_s)"
   ]
  },
  {
   "cell_type": "code",
   "execution_count": 59,
   "metadata": {
    "scrolled": true
   },
   "outputs": [
    {
     "data": {
      "text/plain": [
       "array([[-0.37661054,  1.28018595],\n",
       "       [ 2.35245033, -0.25692446],\n",
       "       [ 2.06738162, -0.4820721 ],\n",
       "       ...,\n",
       "       [-3.45162878, -0.28447835],\n",
       "       [-0.70328773,  1.03704907],\n",
       "       [ 0.18011698,  0.91709595]])"
      ]
     },
     "execution_count": 59,
     "metadata": {},
     "output_type": "execute_result"
    }
   ],
   "source": [
    "x_test_pca"
   ]
  },
  {
   "cell_type": "markdown",
   "metadata": {},
   "source": [
    "#### 시간축소되지만, 성능 매우 떨어짐"
   ]
  },
  {
   "cell_type": "code",
   "execution_count": 60,
   "metadata": {
    "scrolled": false
   },
   "outputs": [
    {
     "name": "stderr",
     "output_type": "stream",
     "text": [
      "C:\\ProgramData\\Anaconda3\\lib\\site-packages\\sklearn\\utils\\validation.py:993: DataConversionWarning: A column-vector y was passed when a 1d array was expected. Please change the shape of y to (n_samples, ), for example using ravel().\n",
      "  y = column_or_1d(y, warn=True)\n"
     ]
    },
    {
     "name": "stdout",
     "output_type": "stream",
     "text": [
      "model 훈련 점수 :  0.700\n",
      "model 테스트 점수 :  0.702\n",
      "time : 370.6850929260254\n"
     ]
    }
   ],
   "source": [
    "start = time.time()\n",
    "# 작업\n",
    "model5_pca=SVC(kernel='rbf',C=1,gamma=3).fit(x_train_pca,y_train_s)\n",
    "print('model 훈련 점수 : {: .3f}'.format(model5_pca.score (x_train_pca, y_train_s)))\n",
    "print('model 테스트 점수 : {: .3f}'.format(model5_pca.score (x_test_pca, y_test_s)))\n",
    "#\n",
    "print(\"time :\", time.time() - start)"
   ]
  },
  {
   "cell_type": "markdown",
   "metadata": {},
   "source": [
    "## 성능비교"
   ]
  },
  {
   "cell_type": "markdown",
   "metadata": {},
   "source": [
    "## 하드마진"
   ]
  },
  {
   "cell_type": "markdown",
   "metadata": {},
   "source": [
    "### 비교적 성능(연산속도 and 정확도) 좋음(C=1,gamma=3)"
   ]
  },
  {
   "cell_type": "code",
   "execution_count": 23,
   "metadata": {
    "scrolled": false
   },
   "outputs": [
    {
     "name": "stderr",
     "output_type": "stream",
     "text": [
      "C:\\ProgramData\\Anaconda3\\lib\\site-packages\\sklearn\\utils\\validation.py:993: DataConversionWarning: A column-vector y was passed when a 1d array was expected. Please change the shape of y to (n_samples, ), for example using ravel().\n",
      "  y = column_or_1d(y, warn=True)\n"
     ]
    },
    {
     "name": "stdout",
     "output_type": "stream",
     "text": [
      "time : 625.5154197216034\n"
     ]
    }
   ],
   "source": [
    "start = time.time()\n",
    "model5_s=SVC(kernel='rbf',C=1.0,gamma=3).fit(x_train_s,y_train_s)\n",
    "print(\"time :\", time.time() - start)"
   ]
  },
  {
   "cell_type": "code",
   "execution_count": 24,
   "metadata": {
    "scrolled": true
   },
   "outputs": [
    {
     "name": "stdout",
     "output_type": "stream",
     "text": [
      "model 훈련 점수 :  1.000\n",
      "model 테스트 점수 :  1.000\n",
      "time : 369.5849561691284\n"
     ]
    }
   ],
   "source": [
    "start = time.time()\n",
    "print('model 훈련 점수 : {: .3f}'.format(model5_s.score (x_train_s, y_train_s)))\n",
    "print('model 테스트 점수 : {: .3f}'.format(model5_s.score (x_test_s, y_test_s)))\n",
    "print(\"time :\", time.time() - start)"
   ]
  },
  {
   "cell_type": "markdown",
   "metadata": {},
   "source": [
    "### 성능(연산속도 or 정확도) 낮음"
   ]
  },
  {
   "cell_type": "code",
   "execution_count": 25,
   "metadata": {
    "scrolled": true
   },
   "outputs": [
    {
     "name": "stderr",
     "output_type": "stream",
     "text": [
      "C:\\ProgramData\\Anaconda3\\lib\\site-packages\\sklearn\\utils\\validation.py:993: DataConversionWarning: A column-vector y was passed when a 1d array was expected. Please change the shape of y to (n_samples, ), for example using ravel().\n",
      "  y = column_or_1d(y, warn=True)\n"
     ]
    },
    {
     "name": "stdout",
     "output_type": "stream",
     "text": [
      "time : 809.664076089859\n"
     ]
    }
   ],
   "source": [
    "start = time.time()\n",
    "model3_s=SVC(kernel='rbf',C=5,gamma=3).fit(x_train_s,y_train_s)\n",
    "print(\"time :\", time.time() - start)"
   ]
  },
  {
   "cell_type": "code",
   "execution_count": 26,
   "metadata": {
    "scrolled": false
   },
   "outputs": [
    {
     "name": "stdout",
     "output_type": "stream",
     "text": [
      "model 훈련 점수 :  1.000\n",
      "model 테스트 점수 :  1.000\n",
      "time : 347.74681091308594\n"
     ]
    }
   ],
   "source": [
    "start = time.time()\n",
    "print('model 훈련 점수 : {: .3f}'.format(model3_s.score (x_train_s, y_train_s)))\n",
    "print('model 테스트 점수 : {: .3f}'.format(model3_s.score (x_test_s, y_test_s)))\n",
    "print(\"time :\", time.time() - start)"
   ]
  },
  {
   "cell_type": "markdown",
   "metadata": {},
   "source": [
    "## 소프트마진"
   ]
  },
  {
   "cell_type": "code",
   "execution_count": 27,
   "metadata": {
    "scrolled": true
   },
   "outputs": [
    {
     "name": "stderr",
     "output_type": "stream",
     "text": [
      "C:\\ProgramData\\Anaconda3\\lib\\site-packages\\sklearn\\utils\\validation.py:993: DataConversionWarning: A column-vector y was passed when a 1d array was expected. Please change the shape of y to (n_samples, ), for example using ravel().\n",
      "  y = column_or_1d(y, warn=True)\n"
     ]
    },
    {
     "name": "stdout",
     "output_type": "stream",
     "text": [
      "time : 426.0434367656708\n"
     ]
    }
   ],
   "source": [
    "start = time.time()\n",
    "model4_s=SVC(kernel='rbf',C=0.5,gamma=1).fit(x_train_s,y_train_s)\n",
    "print(\"time :\", time.time() - start)"
   ]
  },
  {
   "cell_type": "code",
   "execution_count": 28,
   "metadata": {
    "scrolled": false
   },
   "outputs": [
    {
     "name": "stdout",
     "output_type": "stream",
     "text": [
      "model 훈련 점수 :  0.722\n",
      "model 테스트 점수 :  0.721\n",
      "time : 302.6563632488251\n"
     ]
    }
   ],
   "source": [
    "start = time.time()\n",
    "print('model 훈련 점수 : {: .3f}'.format(model4_s.score (x_train_s, y_train_s)))\n",
    "print('model 테스트 점수 : {: .3f}'.format(model4_s.score (x_test_s, y_test_s)))\n",
    "print(\"time :\", time.time() - start)"
   ]
  },
  {
   "cell_type": "markdown",
   "metadata": {},
   "source": [
    "# 모형 선택"
   ]
  },
  {
   "cell_type": "code",
   "execution_count": 70,
   "metadata": {
    "scrolled": true
   },
   "outputs": [
    {
     "data": {
      "text/plain": [
       "SVC(gamma=3)"
      ]
     },
     "execution_count": 70,
     "metadata": {},
     "output_type": "execute_result"
    }
   ],
   "source": [
    "model5_s"
   ]
  },
  {
   "cell_type": "code",
   "execution_count": 30,
   "metadata": {
    "scrolled": true
   },
   "outputs": [
    {
     "name": "stdout",
     "output_type": "stream",
     "text": [
      "model 테스트 점수 :  1.000\n",
      "time : 58.47619938850403\n"
     ]
    }
   ],
   "source": [
    "start = time.time()\n",
    "\n",
    "print('model 테스트 점수 : {: .3f}'.format(model5_s.score (x_test_s, y_test_s)))\n",
    "\n",
    "print(\"time :\", time.time() - start)"
   ]
  },
  {
   "cell_type": "markdown",
   "metadata": {},
   "source": [
    "### Confusion Matrix"
   ]
  },
  {
   "cell_type": "code",
   "execution_count": 31,
   "metadata": {
    "scrolled": true
   },
   "outputs": [
    {
     "name": "stdout",
     "output_type": "stream",
     "text": [
      "[[28201     0]\n",
      " [    0 16352]]\n",
      "time : 243.31149864196777\n"
     ]
    }
   ],
   "source": [
    "start = time.time()\n",
    "\n",
    "pred=model5_s.predict(x_train_s)\n",
    "print(confusion_matrix( y_train_s, pred))\n",
    "\n",
    "print(\"time :\", time.time() - start)"
   ]
  },
  {
   "cell_type": "code",
   "execution_count": 32,
   "metadata": {
    "scrolled": false
   },
   "outputs": [
    {
     "name": "stdout",
     "output_type": "stream",
     "text": [
      "time : 70.30334401130676\n"
     ]
    }
   ],
   "source": [
    "start = time.time()\n",
    "\n",
    "pred_t=model5_s.predict(x_test_s)\n",
    "confusion_m=confusion_matrix( y_test_s, pred_t)\n",
    "\n",
    "print(\"time :\", time.time() - start)"
   ]
  },
  {
   "cell_type": "code",
   "execution_count": 33,
   "metadata": {
    "scrolled": false
   },
   "outputs": [
    {
     "name": "stdout",
     "output_type": "stream",
     "text": [
      "[[7036    0]\n",
      " [   0 4103]]\n"
     ]
    }
   ],
   "source": [
    "print(confusion_m)"
   ]
  },
  {
   "cell_type": "markdown",
   "metadata": {},
   "source": [
    "### 정밀도 재현율 f1score"
   ]
  },
  {
   "cell_type": "code",
   "execution_count": 78,
   "metadata": {
    "scrolled": false
   },
   "outputs": [
    {
     "name": "stdout",
     "output_type": "stream",
     "text": [
      "0.01601123809814453\n"
     ]
    }
   ],
   "source": [
    "start=time.time()\n",
    "acc=accuracy_score(y_test_s,pred_t)\n",
    "pre=precision_score(y_test_s , pred_t)\n",
    "rec=recall_score(y_test_s , pred_t)\n",
    "f1=f1_score(y_test_s,pred_t)\n",
    "auc=roc_auc_score(y_test_s, pred_t)\n",
    "print(time.time()-start)"
   ]
  },
  {
   "cell_type": "code",
   "execution_count": 79,
   "metadata": {
    "scrolled": true
   },
   "outputs": [
    {
     "name": "stdout",
     "output_type": "stream",
     "text": [
      "정확도 : 1.000\n",
      "정밀도 : 1.000\n",
      "재현율 : 1.000\n",
      "F1_score : 1.000\n",
      "ROC_AUC_score : 1.000\n"
     ]
    }
   ],
   "source": [
    "print('정확도 : {:.3f}'.format(acc))\n",
    "# 정밀도\n",
    "print('정밀도 : {:.3f}'.format(pre))\n",
    "# 재현율\n",
    "print('재현율 : {:.3f}'.format(rec))\n",
    "# f1_score\n",
    "print('F1_score : {:.3f}'.format(f1))\n",
    "# AUC score \n",
    "print('ROC_AUC_score : {:.3f}'.format(auc))"
   ]
  },
  {
   "cell_type": "markdown",
   "metadata": {},
   "source": [
    "## 모델저장"
   ]
  },
  {
   "cell_type": "code",
   "execution_count": 62,
   "metadata": {},
   "outputs": [],
   "source": [
    "import joblib"
   ]
  },
  {
   "cell_type": "code",
   "execution_count": 68,
   "metadata": {},
   "outputs": [
    {
     "data": {
      "text/plain": [
       "['./model5_s.pkl']"
      ]
     },
     "execution_count": 68,
     "metadata": {},
     "output_type": "execute_result"
    }
   ],
   "source": [
    "joblib.dump(model1_s, './model1_s.pkl')\n",
    "joblib.dump(model2_s, './model2_s.pkl')\n",
    "joblib.dump(model3_s, './model3_s.pkl')\n",
    "joblib.dump(model4_s, './model4_s.pkl')\n",
    "joblib.dump(model5_s, './model5_s.pkl')"
   ]
  },
  {
   "cell_type": "code",
   "execution_count": 69,
   "metadata": {
    "scrolled": true
   },
   "outputs": [
    {
     "data": {
      "text/plain": [
       "['./model6_m.pkl']"
      ]
     },
     "execution_count": 69,
     "metadata": {},
     "output_type": "execute_result"
    }
   ],
   "source": [
    "joblib.dump(model1_m, './model1_m.pkl')\n",
    "joblib.dump(model2_m, './model2_m.pkl')\n",
    "joblib.dump(model5_m, './model5_m.pkl')\n",
    "joblib.dump(model6_m, './model6_m.pkl')"
   ]
  },
  {
   "cell_type": "code",
   "execution_count": 71,
   "metadata": {},
   "outputs": [
    {
     "data": {
      "text/plain": [
       "['./model5_pca.pkl']"
      ]
     },
     "execution_count": 71,
     "metadata": {},
     "output_type": "execute_result"
    }
   ],
   "source": [
    "joblib.dump(model5_pca, './model5_pca.pkl')"
   ]
  },
  {
   "cell_type": "markdown",
   "metadata": {},
   "source": [
    "# 최종 모델 평가"
   ]
  },
  {
   "cell_type": "markdown",
   "metadata": {},
   "source": [
    "하이퍼파라미터: kernel=rbf, C=1, gamma=3"
   ]
  },
  {
   "cell_type": "code",
   "execution_count": 72,
   "metadata": {},
   "outputs": [
    {
     "data": {
      "text/plain": [
       "SVC(gamma=3)"
      ]
     },
     "execution_count": 72,
     "metadata": {},
     "output_type": "execute_result"
    }
   ],
   "source": [
    "model5_s"
   ]
  },
  {
   "cell_type": "code",
   "execution_count": 73,
   "metadata": {},
   "outputs": [],
   "source": [
    "import seaborn as sns"
   ]
  },
  {
   "cell_type": "code",
   "execution_count": 74,
   "metadata": {},
   "outputs": [
    {
     "data": {
      "text/html": [
       "<div>\n",
       "<style scoped>\n",
       "    .dataframe tbody tr th:only-of-type {\n",
       "        vertical-align: middle;\n",
       "    }\n",
       "\n",
       "    .dataframe tbody tr th {\n",
       "        vertical-align: top;\n",
       "    }\n",
       "\n",
       "    .dataframe thead th {\n",
       "        text-align: right;\n",
       "    }\n",
       "</style>\n",
       "<table border=\"1\" class=\"dataframe\">\n",
       "  <thead>\n",
       "    <tr style=\"text-align: right;\">\n",
       "      <th></th>\n",
       "      <th>Actual Positive:1</th>\n",
       "      <th>Actual Negative:0</th>\n",
       "    </tr>\n",
       "  </thead>\n",
       "  <tbody>\n",
       "    <tr>\n",
       "      <th>Predict Positive:1</th>\n",
       "      <td>7036</td>\n",
       "      <td>0</td>\n",
       "    </tr>\n",
       "    <tr>\n",
       "      <th>Predict Negative:0</th>\n",
       "      <td>0</td>\n",
       "      <td>4103</td>\n",
       "    </tr>\n",
       "  </tbody>\n",
       "</table>\n",
       "</div>"
      ],
      "text/plain": [
       "                    Actual Positive:1  Actual Negative:0\n",
       "Predict Positive:1               7036                  0\n",
       "Predict Negative:0                  0               4103"
      ]
     },
     "execution_count": 74,
     "metadata": {},
     "output_type": "execute_result"
    }
   ],
   "source": [
    "cm_t = pd.DataFrame(data=confusion_m, columns=['Actual Positive:1', 'Actual Negative:0'], \n",
    "                                 index=['Predict Positive:1', 'Predict Negative:0'])\n",
    "cm_t"
   ]
  },
  {
   "cell_type": "code",
   "execution_count": 88,
   "metadata": {},
   "outputs": [
    {
     "data": {
      "text/plain": [
       "<AxesSubplot:>"
      ]
     },
     "execution_count": 88,
     "metadata": {},
     "output_type": "execute_result"
    },
    {
     "data": {
      "image/png": "[encoded data removed]",
      "text/plain": [
       "<Figure size 432x288 with 2 Axes>"
      ]
     },
     "metadata": {
      "needs_background": "light"
     },
     "output_type": "display_data"
    }
   ],
   "source": [
    "sns.heatmap(cm_t, annot=True, fmt='d', cmap='BuGn_r')"
   ]
  },
  {
   "cell_type": "code",
   "execution_count": 80,
   "metadata": {},
   "outputs": [],
   "source": [
    "score=[acc,pre,rec,f1,auc]"
   ]
  },
  {
   "cell_type": "code",
   "execution_count": 82,
   "metadata": {
    "scrolled": true
   },
   "outputs": [
    {
     "data": {
      "text/html": [
       "<div>\n",
       "<style scoped>\n",
       "    .dataframe tbody tr th:only-of-type {\n",
       "        vertical-align: middle;\n",
       "    }\n",
       "\n",
       "    .dataframe tbody tr th {\n",
       "        vertical-align: top;\n",
       "    }\n",
       "\n",
       "    .dataframe thead th {\n",
       "        text-align: right;\n",
       "    }\n",
       "</style>\n",
       "<table border=\"1\" class=\"dataframe\">\n",
       "  <thead>\n",
       "    <tr style=\"text-align: right;\">\n",
       "      <th></th>\n",
       "      <th>summary</th>\n",
       "    </tr>\n",
       "  </thead>\n",
       "  <tbody>\n",
       "    <tr>\n",
       "      <th>정확도</th>\n",
       "      <td>1.0</td>\n",
       "    </tr>\n",
       "    <tr>\n",
       "      <th>정밀도</th>\n",
       "      <td>1.0</td>\n",
       "    </tr>\n",
       "    <tr>\n",
       "      <th>재현율</th>\n",
       "      <td>1.0</td>\n",
       "    </tr>\n",
       "    <tr>\n",
       "      <th>F1_score</th>\n",
       "      <td>1.0</td>\n",
       "    </tr>\n",
       "    <tr>\n",
       "      <th>ROC_auc_score</th>\n",
       "      <td>1.0</td>\n",
       "    </tr>\n",
       "  </tbody>\n",
       "</table>\n",
       "</div>"
      ],
      "text/plain": [
       "               summary\n",
       "정확도                1.0\n",
       "정밀도                1.0\n",
       "재현율                1.0\n",
       "F1_score           1.0\n",
       "ROC_auc_score      1.0"
      ]
     },
     "execution_count": 82,
     "metadata": {},
     "output_type": "execute_result"
    }
   ],
   "source": [
    "pd.DataFrame(score,index=['정확도','정밀도','재현율','F1_score','ROC_auc_score'],columns=['summary'])"
   ]
  },
  {
   "cell_type": "code",
   "execution_count": 8,
   "metadata": {},
   "outputs": [],
   "source": [
    "# 기본 모델에서 가장 성능이 좋았던 하이퍼 파라미터\n",
    "svm=SVC(kernel='rbf',C=1.0,gamma=3)"
   ]
  },
  {
   "cell_type": "code",
   "execution_count": 12,
   "metadata": {},
   "outputs": [],
   "source": [
    "from sklearn.feature_selection import SelectKBest\n",
    "from sklearn.feature_selection import f_classif"
   ]
  },
  {
   "cell_type": "code",
   "execution_count": 176,
   "metadata": {
    "scrolled": true
   },
   "outputs": [
    {
     "name": "stderr",
     "output_type": "stream",
     "text": [
      "C:\\ProgramData\\Anaconda3\\lib\\site-packages\\sklearn\\utils\\validation.py:993: DataConversionWarning: A column-vector y was passed when a 1d array was expected. Please change the shape of y to (n_samples, ), for example using ravel().\n",
      "  y = column_or_1d(y, warn=True)\n",
      "C:\\ProgramData\\Anaconda3\\lib\\site-packages\\sklearn\\utils\\validation.py:993: DataConversionWarning: A column-vector y was passed when a 1d array was expected. Please change the shape of y to (n_samples, ), for example using ravel().\n",
      "  y = column_or_1d(y, warn=True)\n",
      "C:\\ProgramData\\Anaconda3\\lib\\site-packages\\sklearn\\utils\\validation.py:993: DataConversionWarning: A column-vector y was passed when a 1d array was expected. Please change the shape of y to (n_samples, ), for example using ravel().\n",
      "  y = column_or_1d(y, warn=True)\n",
      "C:\\ProgramData\\Anaconda3\\lib\\site-packages\\sklearn\\utils\\validation.py:993: DataConversionWarning: A column-vector y was passed when a 1d array was expected. Please change the shape of y to (n_samples, ), for example using ravel().\n",
      "  y = column_or_1d(y, warn=True)\n",
      "C:\\ProgramData\\Anaconda3\\lib\\site-packages\\sklearn\\utils\\validation.py:993: DataConversionWarning: A column-vector y was passed when a 1d array was expected. Please change the shape of y to (n_samples, ), for example using ravel().\n",
      "  y = column_or_1d(y, warn=True)\n",
      "C:\\ProgramData\\Anaconda3\\lib\\site-packages\\sklearn\\utils\\validation.py:993: DataConversionWarning: A column-vector y was passed when a 1d array was expected. Please change the shape of y to (n_samples, ), for example using ravel().\n",
      "  y = column_or_1d(y, warn=True)\n",
      "C:\\ProgramData\\Anaconda3\\lib\\site-packages\\sklearn\\utils\\validation.py:993: DataConversionWarning: A column-vector y was passed when a 1d array was expected. Please change the shape of y to (n_samples, ), for example using ravel().\n",
      "  y = column_or_1d(y, warn=True)\n",
      "C:\\ProgramData\\Anaconda3\\lib\\site-packages\\sklearn\\utils\\validation.py:993: DataConversionWarning: A column-vector y was passed when a 1d array was expected. Please change the shape of y to (n_samples, ), for example using ravel().\n",
      "  y = column_or_1d(y, warn=True)\n",
      "C:\\ProgramData\\Anaconda3\\lib\\site-packages\\sklearn\\utils\\validation.py:993: DataConversionWarning: A column-vector y was passed when a 1d array was expected. Please change the shape of y to (n_samples, ), for example using ravel().\n",
      "  y = column_or_1d(y, warn=True)\n",
      "C:\\ProgramData\\Anaconda3\\lib\\site-packages\\sklearn\\utils\\validation.py:993: DataConversionWarning: A column-vector y was passed when a 1d array was expected. Please change the shape of y to (n_samples, ), for example using ravel().\n",
      "  y = column_or_1d(y, warn=True)\n",
      "C:\\ProgramData\\Anaconda3\\lib\\site-packages\\sklearn\\utils\\validation.py:993: DataConversionWarning: A column-vector y was passed when a 1d array was expected. Please change the shape of y to (n_samples, ), for example using ravel().\n",
      "  y = column_or_1d(y, warn=True)\n",
      "C:\\ProgramData\\Anaconda3\\lib\\site-packages\\sklearn\\utils\\validation.py:993: DataConversionWarning: A column-vector y was passed when a 1d array was expected. Please change the shape of y to (n_samples, ), for example using ravel().\n",
      "  y = column_or_1d(y, warn=True)\n",
      "C:\\ProgramData\\Anaconda3\\lib\\site-packages\\sklearn\\utils\\validation.py:993: DataConversionWarning: A column-vector y was passed when a 1d array was expected. Please change the shape of y to (n_samples, ), for example using ravel().\n",
      "  y = column_or_1d(y, warn=True)\n",
      "C:\\ProgramData\\Anaconda3\\lib\\site-packages\\sklearn\\utils\\validation.py:993: DataConversionWarning: A column-vector y was passed when a 1d array was expected. Please change the shape of y to (n_samples, ), for example using ravel().\n",
      "  y = column_or_1d(y, warn=True)\n",
      "C:\\ProgramData\\Anaconda3\\lib\\site-packages\\sklearn\\utils\\validation.py:993: DataConversionWarning: A column-vector y was passed when a 1d array was expected. Please change the shape of y to (n_samples, ), for example using ravel().\n",
      "  y = column_or_1d(y, warn=True)\n",
      "C:\\ProgramData\\Anaconda3\\lib\\site-packages\\sklearn\\utils\\validation.py:993: DataConversionWarning: A column-vector y was passed when a 1d array was expected. Please change the shape of y to (n_samples, ), for example using ravel().\n",
      "  y = column_or_1d(y, warn=True)\n",
      "C:\\ProgramData\\Anaconda3\\lib\\site-packages\\sklearn\\utils\\validation.py:993: DataConversionWarning: A column-vector y was passed when a 1d array was expected. Please change the shape of y to (n_samples, ), for example using ravel().\n",
      "  y = column_or_1d(y, warn=True)\n",
      "C:\\ProgramData\\Anaconda3\\lib\\site-packages\\sklearn\\utils\\validation.py:993: DataConversionWarning: A column-vector y was passed when a 1d array was expected. Please change the shape of y to (n_samples, ), for example using ravel().\n",
      "  y = column_or_1d(y, warn=True)\n",
      "C:\\ProgramData\\Anaconda3\\lib\\site-packages\\sklearn\\utils\\validation.py:993: DataConversionWarning: A column-vector y was passed when a 1d array was expected. Please change the shape of y to (n_samples, ), for example using ravel().\n",
      "  y = column_or_1d(y, warn=True)\n",
      "C:\\ProgramData\\Anaconda3\\lib\\site-packages\\sklearn\\utils\\validation.py:993: DataConversionWarning: A column-vector y was passed when a 1d array was expected. Please change the shape of y to (n_samples, ), for example using ravel().\n",
      "  y = column_or_1d(y, warn=True)\n",
      "C:\\ProgramData\\Anaconda3\\lib\\site-packages\\sklearn\\utils\\validation.py:993: DataConversionWarning: A column-vector y was passed when a 1d array was expected. Please change the shape of y to (n_samples, ), for example using ravel().\n",
      "  y = column_or_1d(y, warn=True)\n",
      "C:\\ProgramData\\Anaconda3\\lib\\site-packages\\sklearn\\utils\\validation.py:993: DataConversionWarning: A column-vector y was passed when a 1d array was expected. Please change the shape of y to (n_samples, ), for example using ravel().\n",
      "  y = column_or_1d(y, warn=True)\n",
      "C:\\ProgramData\\Anaconda3\\lib\\site-packages\\sklearn\\utils\\validation.py:993: DataConversionWarning: A column-vector y was passed when a 1d array was expected. Please change the shape of y to (n_samples, ), for example using ravel().\n",
      "  y = column_or_1d(y, warn=True)\n",
      "C:\\ProgramData\\Anaconda3\\lib\\site-packages\\sklearn\\utils\\validation.py:993: DataConversionWarning: A column-vector y was passed when a 1d array was expected. Please change the shape of y to (n_samples, ), for example using ravel().\n",
      "  y = column_or_1d(y, warn=True)\n",
      "C:\\ProgramData\\Anaconda3\\lib\\site-packages\\sklearn\\utils\\validation.py:993: DataConversionWarning: A column-vector y was passed when a 1d array was expected. Please change the shape of y to (n_samples, ), for example using ravel().\n",
      "  y = column_or_1d(y, warn=True)\n",
      "C:\\ProgramData\\Anaconda3\\lib\\site-packages\\sklearn\\utils\\validation.py:993: DataConversionWarning: A column-vector y was passed when a 1d array was expected. Please change the shape of y to (n_samples, ), for example using ravel().\n",
      "  y = column_or_1d(y, warn=True)\n",
      "C:\\ProgramData\\Anaconda3\\lib\\site-packages\\sklearn\\utils\\validation.py:993: DataConversionWarning: A column-vector y was passed when a 1d array was expected. Please change the shape of y to (n_samples, ), for example using ravel().\n",
      "  y = column_or_1d(y, warn=True)\n",
      "C:\\ProgramData\\Anaconda3\\lib\\site-packages\\sklearn\\utils\\validation.py:993: DataConversionWarning: A column-vector y was passed when a 1d array was expected. Please change the shape of y to (n_samples, ), for example using ravel().\n",
      "  y = column_or_1d(y, warn=True)\n",
      "C:\\ProgramData\\Anaconda3\\lib\\site-packages\\sklearn\\utils\\validation.py:993: DataConversionWarning: A column-vector y was passed when a 1d array was expected. Please change the shape of y to (n_samples, ), for example using ravel().\n",
      "  y = column_or_1d(y, warn=True)\n",
      "C:\\ProgramData\\Anaconda3\\lib\\site-packages\\sklearn\\utils\\validation.py:993: DataConversionWarning: A column-vector y was passed when a 1d array was expected. Please change the shape of y to (n_samples, ), for example using ravel().\n",
      "  y = column_or_1d(y, warn=True)\n",
      "C:\\ProgramData\\Anaconda3\\lib\\site-packages\\sklearn\\utils\\validation.py:993: DataConversionWarning: A column-vector y was passed when a 1d array was expected. Please change the shape of y to (n_samples, ), for example using ravel().\n",
      "  y = column_or_1d(y, warn=True)\n",
      "C:\\ProgramData\\Anaconda3\\lib\\site-packages\\sklearn\\utils\\validation.py:993: DataConversionWarning: A column-vector y was passed when a 1d array was expected. Please change the shape of y to (n_samples, ), for example using ravel().\n",
      "  y = column_or_1d(y, warn=True)\n"
     ]
    },
    {
     "name": "stderr",
     "output_type": "stream",
     "text": [
      "C:\\ProgramData\\Anaconda3\\lib\\site-packages\\sklearn\\utils\\validation.py:993: DataConversionWarning: A column-vector y was passed when a 1d array was expected. Please change the shape of y to (n_samples, ), for example using ravel().\n",
      "  y = column_or_1d(y, warn=True)\n",
      "C:\\ProgramData\\Anaconda3\\lib\\site-packages\\sklearn\\utils\\validation.py:993: DataConversionWarning: A column-vector y was passed when a 1d array was expected. Please change the shape of y to (n_samples, ), for example using ravel().\n",
      "  y = column_or_1d(y, warn=True)\n",
      "C:\\ProgramData\\Anaconda3\\lib\\site-packages\\sklearn\\utils\\validation.py:993: DataConversionWarning: A column-vector y was passed when a 1d array was expected. Please change the shape of y to (n_samples, ), for example using ravel().\n",
      "  y = column_or_1d(y, warn=True)\n",
      "C:\\ProgramData\\Anaconda3\\lib\\site-packages\\sklearn\\utils\\validation.py:993: DataConversionWarning: A column-vector y was passed when a 1d array was expected. Please change the shape of y to (n_samples, ), for example using ravel().\n",
      "  y = column_or_1d(y, warn=True)\n",
      "C:\\ProgramData\\Anaconda3\\lib\\site-packages\\sklearn\\utils\\validation.py:993: DataConversionWarning: A column-vector y was passed when a 1d array was expected. Please change the shape of y to (n_samples, ), for example using ravel().\n",
      "  y = column_or_1d(y, warn=True)\n",
      "C:\\ProgramData\\Anaconda3\\lib\\site-packages\\sklearn\\utils\\validation.py:993: DataConversionWarning: A column-vector y was passed when a 1d array was expected. Please change the shape of y to (n_samples, ), for example using ravel().\n",
      "  y = column_or_1d(y, warn=True)\n",
      "C:\\ProgramData\\Anaconda3\\lib\\site-packages\\sklearn\\utils\\validation.py:993: DataConversionWarning: A column-vector y was passed when a 1d array was expected. Please change the shape of y to (n_samples, ), for example using ravel().\n",
      "  y = column_or_1d(y, warn=True)\n",
      "C:\\ProgramData\\Anaconda3\\lib\\site-packages\\sklearn\\utils\\validation.py:993: DataConversionWarning: A column-vector y was passed when a 1d array was expected. Please change the shape of y to (n_samples, ), for example using ravel().\n",
      "  y = column_or_1d(y, warn=True)\n",
      "C:\\ProgramData\\Anaconda3\\lib\\site-packages\\sklearn\\utils\\validation.py:993: DataConversionWarning: A column-vector y was passed when a 1d array was expected. Please change the shape of y to (n_samples, ), for example using ravel().\n",
      "  y = column_or_1d(y, warn=True)\n",
      "C:\\ProgramData\\Anaconda3\\lib\\site-packages\\sklearn\\utils\\validation.py:993: DataConversionWarning: A column-vector y was passed when a 1d array was expected. Please change the shape of y to (n_samples, ), for example using ravel().\n",
      "  y = column_or_1d(y, warn=True)\n",
      "C:\\ProgramData\\Anaconda3\\lib\\site-packages\\sklearn\\utils\\validation.py:993: DataConversionWarning: A column-vector y was passed when a 1d array was expected. Please change the shape of y to (n_samples, ), for example using ravel().\n",
      "  y = column_or_1d(y, warn=True)\n",
      "C:\\ProgramData\\Anaconda3\\lib\\site-packages\\sklearn\\utils\\validation.py:993: DataConversionWarning: A column-vector y was passed when a 1d array was expected. Please change the shape of y to (n_samples, ), for example using ravel().\n",
      "  y = column_or_1d(y, warn=True)\n",
      "C:\\ProgramData\\Anaconda3\\lib\\site-packages\\sklearn\\utils\\validation.py:993: DataConversionWarning: A column-vector y was passed when a 1d array was expected. Please change the shape of y to (n_samples, ), for example using ravel().\n",
      "  y = column_or_1d(y, warn=True)\n",
      "C:\\ProgramData\\Anaconda3\\lib\\site-packages\\sklearn\\utils\\validation.py:993: DataConversionWarning: A column-vector y was passed when a 1d array was expected. Please change the shape of y to (n_samples, ), for example using ravel().\n",
      "  y = column_or_1d(y, warn=True)\n"
     ]
    },
    {
     "data": {
      "image/png": "[encoded data removed]",
      "text/plain": [
       "<Figure size 432x288 with 1 Axes>"
      ]
     },
     "metadata": {
      "needs_background": "light"
     },
     "output_type": "display_data"
    }
   ],
   "source": [
    "accuracy_list_train = []\n",
    "k=np.arange(1,24,1)\n",
    "for each in k:\n",
    "    # 1~23개의 피처를 이용해  피처 개수마다 서포트벡터머신 적용\n",
    "    x_new = SelectKBest(f_classif, k=each).fit_transform(x_train_s, y_train_s)\n",
    "    svm.fit(x_new,y_train_s)\n",
    "    # 1~23개 이용할 때 마다 계산된 정확도를 저장\n",
    "    accuracy_list_train.append(svm.score(x_new,y_train_s))   "
   ]
  },
  {
   "cell_type": "markdown",
   "metadata": {},
   "source": [
    "## 피처데이터 개수에 따른 정확도"
   ]
  },
  {
   "cell_type": "code",
   "execution_count": 180,
   "metadata": {},
   "outputs": [],
   "source": [
    "select=pd.DataFrame({'features':k,'train accuracy':accuracy_list_train})"
   ]
  },
  {
   "cell_type": "code",
   "execution_count": 181,
   "metadata": {},
   "outputs": [],
   "source": [
    "select.to_csv('./select.csv')"
   ]
  },
  {
   "cell_type": "code",
   "execution_count": 16,
   "metadata": {},
   "outputs": [],
   "source": [
    "select_f=pd.read_csv('./select.csv',index_col=0)"
   ]
  },
  {
   "cell_type": "markdown",
   "metadata": {},
   "source": [
    "### 베스트 feature 9개만으로 정확도가 90%를 넘고, 17개에서 100%(train data 기준)"
   ]
  },
  {
   "cell_type": "code",
   "execution_count": 11,
   "metadata": {},
   "outputs": [],
   "source": [
    "import seaborn as sns\n",
    "import matplotlib.pyplot as plt"
   ]
  },
  {
   "cell_type": "code",
   "execution_count": 17,
   "metadata": {
    "scrolled": true
   },
   "outputs": [
    {
     "data": {
      "text/html": [
       "<div>\n",
       "<style scoped>\n",
       "    .dataframe tbody tr th:only-of-type {\n",
       "        vertical-align: middle;\n",
       "    }\n",
       "\n",
       "    .dataframe tbody tr th {\n",
       "        vertical-align: top;\n",
       "    }\n",
       "\n",
       "    .dataframe thead th {\n",
       "        text-align: right;\n",
       "    }\n",
       "</style>\n",
       "<table border=\"1\" class=\"dataframe\">\n",
       "  <thead>\n",
       "    <tr style=\"text-align: right;\">\n",
       "      <th></th>\n",
       "      <th>features</th>\n",
       "      <th>train accuracy</th>\n",
       "    </tr>\n",
       "  </thead>\n",
       "  <tbody>\n",
       "    <tr>\n",
       "      <th>0</th>\n",
       "      <td>1</td>\n",
       "      <td>0.699212</td>\n",
       "    </tr>\n",
       "    <tr>\n",
       "      <th>1</th>\n",
       "      <td>2</td>\n",
       "      <td>0.701075</td>\n",
       "    </tr>\n",
       "    <tr>\n",
       "      <th>2</th>\n",
       "      <td>3</td>\n",
       "      <td>0.704487</td>\n",
       "    </tr>\n",
       "    <tr>\n",
       "      <th>3</th>\n",
       "      <td>4</td>\n",
       "      <td>0.713375</td>\n",
       "    </tr>\n",
       "    <tr>\n",
       "      <th>4</th>\n",
       "      <td>5</td>\n",
       "      <td>0.746729</td>\n",
       "    </tr>\n",
       "    <tr>\n",
       "      <th>5</th>\n",
       "      <td>6</td>\n",
       "      <td>0.783494</td>\n",
       "    </tr>\n",
       "    <tr>\n",
       "      <th>6</th>\n",
       "      <td>7</td>\n",
       "      <td>0.817902</td>\n",
       "    </tr>\n",
       "    <tr>\n",
       "      <th>7</th>\n",
       "      <td>8</td>\n",
       "      <td>0.873881</td>\n",
       "    </tr>\n",
       "    <tr>\n",
       "      <th>8</th>\n",
       "      <td>9</td>\n",
       "      <td>0.928826</td>\n",
       "    </tr>\n",
       "    <tr>\n",
       "      <th>9</th>\n",
       "      <td>10</td>\n",
       "      <td>0.969273</td>\n",
       "    </tr>\n",
       "    <tr>\n",
       "      <th>10</th>\n",
       "      <td>11</td>\n",
       "      <td>0.992391</td>\n",
       "    </tr>\n",
       "    <tr>\n",
       "      <th>11</th>\n",
       "      <td>12</td>\n",
       "      <td>0.994770</td>\n",
       "    </tr>\n",
       "    <tr>\n",
       "      <th>12</th>\n",
       "      <td>13</td>\n",
       "      <td>0.997553</td>\n",
       "    </tr>\n",
       "    <tr>\n",
       "      <th>13</th>\n",
       "      <td>14</td>\n",
       "      <td>0.999012</td>\n",
       "    </tr>\n",
       "    <tr>\n",
       "      <th>14</th>\n",
       "      <td>15</td>\n",
       "      <td>0.999394</td>\n",
       "    </tr>\n",
       "    <tr>\n",
       "      <th>15</th>\n",
       "      <td>16</td>\n",
       "      <td>0.999865</td>\n",
       "    </tr>\n",
       "    <tr>\n",
       "      <th>16</th>\n",
       "      <td>17</td>\n",
       "      <td>1.000000</td>\n",
       "    </tr>\n",
       "    <tr>\n",
       "      <th>17</th>\n",
       "      <td>18</td>\n",
       "      <td>1.000000</td>\n",
       "    </tr>\n",
       "    <tr>\n",
       "      <th>18</th>\n",
       "      <td>19</td>\n",
       "      <td>1.000000</td>\n",
       "    </tr>\n",
       "    <tr>\n",
       "      <th>19</th>\n",
       "      <td>20</td>\n",
       "      <td>1.000000</td>\n",
       "    </tr>\n",
       "    <tr>\n",
       "      <th>20</th>\n",
       "      <td>21</td>\n",
       "      <td>1.000000</td>\n",
       "    </tr>\n",
       "    <tr>\n",
       "      <th>21</th>\n",
       "      <td>22</td>\n",
       "      <td>1.000000</td>\n",
       "    </tr>\n",
       "    <tr>\n",
       "      <th>22</th>\n",
       "      <td>23</td>\n",
       "      <td>1.000000</td>\n",
       "    </tr>\n",
       "  </tbody>\n",
       "</table>\n",
       "</div>"
      ],
      "text/plain": [
       "    features  train accuracy\n",
       "0          1        0.699212\n",
       "1          2        0.701075\n",
       "2          3        0.704487\n",
       "3          4        0.713375\n",
       "4          5        0.746729\n",
       "5          6        0.783494\n",
       "6          7        0.817902\n",
       "7          8        0.873881\n",
       "8          9        0.928826\n",
       "9         10        0.969273\n",
       "10        11        0.992391\n",
       "11        12        0.994770\n",
       "12        13        0.997553\n",
       "13        14        0.999012\n",
       "14        15        0.999394\n",
       "15        16        0.999865\n",
       "16        17        1.000000\n",
       "17        18        1.000000\n",
       "18        19        1.000000\n",
       "19        20        1.000000\n",
       "20        21        1.000000\n",
       "21        22        1.000000\n",
       "22        23        1.000000"
      ]
     },
     "execution_count": 17,
     "metadata": {},
     "output_type": "execute_result"
    }
   ],
   "source": [
    "select_f"
   ]
  },
  {
   "cell_type": "code",
   "execution_count": 26,
   "metadata": {},
   "outputs": [
    {
     "data": {
      "image/png": "[encoded data removed]",
      "text/plain": [
       "<Figure size 720x576 with 1 Axes>"
      ]
     },
     "metadata": {
      "needs_background": "light"
     },
     "output_type": "display_data"
    }
   ],
   "source": [
    "plt.figure(figsize=(10,8))\n",
    "plt.plot(select_f['features'],select_f['train accuracy'])\n",
    "plt.xlabel(\"features\")\n",
    "plt.ylabel(\"train accuracy\")\n",
    "plt.legend(['train'])\n",
    "plt.show()"
   ]
  },
  {
   "cell_type": "code",
   "execution_count": 21,
   "metadata": {
    "scrolled": true
   },
   "outputs": [
    {
     "name": "stdout",
     "output_type": "stream",
     "text": [
      "x train features: ['age' 'height(cm)' 'weight(kg)' 'waist(cm)' 'systolic' 'relaxation'\n",
      " 'fasting blood sugar' 'triglyceride' 'HDL' 'hemoglobin'\n",
      " 'serum creatinine' 'ALT' 'Gtp' 'gender' 'tartar' 'dental caries']\n",
      "x test features: ['age' 'height(cm)' 'weight(kg)' 'waist(cm)' 'systolic' 'relaxation'\n",
      " 'fasting blood sugar' 'triglyceride' 'HDL' 'hemoglobin'\n",
      " 'serum creatinine' 'ALT' 'Gtp' 'gender' 'tartar' 'dental caries']\n"
     ]
    },
    {
     "name": "stderr",
     "output_type": "stream",
     "text": [
      "C:\\ProgramData\\Anaconda3\\lib\\site-packages\\sklearn\\utils\\validation.py:993: DataConversionWarning: A column-vector y was passed when a 1d array was expected. Please change the shape of y to (n_samples, ), for example using ravel().\n",
      "  y = column_or_1d(y, warn=True)\n",
      "C:\\ProgramData\\Anaconda3\\lib\\site-packages\\sklearn\\utils\\validation.py:993: DataConversionWarning: A column-vector y was passed when a 1d array was expected. Please change the shape of y to (n_samples, ), for example using ravel().\n",
      "  y = column_or_1d(y, warn=True)\n"
     ]
    }
   ],
   "source": [
    "sel = SelectKBest(f_classif, k =16 )\n",
    "x_new = sel.fit_transform(x_train_s, y_train_s)\n",
    "x_new_t=sel.fit_transform(x_test_s,y_test_s)\n",
    "feat_tr = x_train_s.columns.values[sel.get_support()]\n",
    "feat_te = x_test_s.columns.values[sel.get_support()]\n",
    "print(\"x train features:\",feat_tr)\n",
    "print(\"x test features:\",feat_te)"
   ]
  },
  {
   "cell_type": "code",
   "execution_count": 39,
   "metadata": {},
   "outputs": [],
   "source": [
    "x_train_new=x_train_s[feat_tr]"
   ]
  },
  {
   "cell_type": "code",
   "execution_count": 44,
   "metadata": {},
   "outputs": [
    {
     "data": {
      "text/html": [
       "<div>\n",
       "<style scoped>\n",
       "    .dataframe tbody tr th:only-of-type {\n",
       "        vertical-align: middle;\n",
       "    }\n",
       "\n",
       "    .dataframe tbody tr th {\n",
       "        vertical-align: top;\n",
       "    }\n",
       "\n",
       "    .dataframe thead th {\n",
       "        text-align: right;\n",
       "    }\n",
       "</style>\n",
       "<table border=\"1\" class=\"dataframe\">\n",
       "  <thead>\n",
       "    <tr style=\"text-align: right;\">\n",
       "      <th></th>\n",
       "      <th>age</th>\n",
       "      <th>height(cm)</th>\n",
       "      <th>weight(kg)</th>\n",
       "      <th>waist(cm)</th>\n",
       "      <th>systolic</th>\n",
       "      <th>relaxation</th>\n",
       "      <th>fasting blood sugar</th>\n",
       "      <th>triglyceride</th>\n",
       "      <th>HDL</th>\n",
       "      <th>hemoglobin</th>\n",
       "      <th>serum creatinine</th>\n",
       "      <th>ALT</th>\n",
       "      <th>Gtp</th>\n",
       "      <th>gender</th>\n",
       "      <th>tartar</th>\n",
       "      <th>dental caries</th>\n",
       "    </tr>\n",
       "  </thead>\n",
       "  <tbody>\n",
       "    <tr>\n",
       "      <th>0</th>\n",
       "      <td>-0.348302</td>\n",
       "      <td>-1.049853</td>\n",
       "      <td>-0.458800</td>\n",
       "      <td>-0.083771</td>\n",
       "      <td>-0.550024</td>\n",
       "      <td>-0.313914</td>\n",
       "      <td>-0.255217</td>\n",
       "      <td>-0.624508</td>\n",
       "      <td>1.061947</td>\n",
       "      <td>-1.100546</td>\n",
       "      <td>-0.823115</td>\n",
       "      <td>-0.254602</td>\n",
       "      <td>-0.257586</td>\n",
       "      <td>0</td>\n",
       "      <td>1</td>\n",
       "      <td>0.0</td>\n",
       "    </tr>\n",
       "    <tr>\n",
       "      <th>1</th>\n",
       "      <td>-0.348302</td>\n",
       "      <td>-0.506284</td>\n",
       "      <td>-0.458800</td>\n",
       "      <td>-0.116105</td>\n",
       "      <td>-0.184756</td>\n",
       "      <td>-0.623346</td>\n",
       "      <td>1.471806</td>\n",
       "      <td>-0.163686</td>\n",
       "      <td>-1.033346</td>\n",
       "      <td>-1.228353</td>\n",
       "      <td>-1.265418</td>\n",
       "      <td>-0.254602</td>\n",
       "      <td>-0.435020</td>\n",
       "      <td>0</td>\n",
       "      <td>1</td>\n",
       "      <td>0.0</td>\n",
       "    </tr>\n",
       "    <tr>\n",
       "      <th>2</th>\n",
       "      <td>0.892501</td>\n",
       "      <td>0.580854</td>\n",
       "      <td>-0.458800</td>\n",
       "      <td>-0.223885</td>\n",
       "      <td>1.203261</td>\n",
       "      <td>1.026958</td>\n",
       "      <td>-0.495081</td>\n",
       "      <td>0.771922</td>\n",
       "      <td>-0.154675</td>\n",
       "      <td>0.752662</td>\n",
       "      <td>0.503794</td>\n",
       "      <td>-0.349076</td>\n",
       "      <td>-0.356161</td>\n",
       "      <td>1</td>\n",
       "      <td>0</td>\n",
       "      <td>0.0</td>\n",
       "    </tr>\n",
       "    <tr>\n",
       "      <th>3</th>\n",
       "      <td>-0.348302</td>\n",
       "      <td>0.037285</td>\n",
       "      <td>0.321016</td>\n",
       "      <td>0.638353</td>\n",
       "      <td>-1.572773</td>\n",
       "      <td>-1.654787</td>\n",
       "      <td>-0.159271</td>\n",
       "      <td>1.777351</td>\n",
       "      <td>-0.830575</td>\n",
       "      <td>0.049721</td>\n",
       "      <td>0.503794</td>\n",
       "      <td>-0.034160</td>\n",
       "      <td>-0.435020</td>\n",
       "      <td>1</td>\n",
       "      <td>1</td>\n",
       "      <td>0.0</td>\n",
       "    </tr>\n",
       "    <tr>\n",
       "      <th>4</th>\n",
       "      <td>-0.348302</td>\n",
       "      <td>-1.049853</td>\n",
       "      <td>-0.458800</td>\n",
       "      <td>0.422793</td>\n",
       "      <td>-0.111703</td>\n",
       "      <td>-0.210770</td>\n",
       "      <td>-0.926837</td>\n",
       "      <td>-0.736223</td>\n",
       "      <td>0.318456</td>\n",
       "      <td>-1.356160</td>\n",
       "      <td>-1.265418</td>\n",
       "      <td>-0.412060</td>\n",
       "      <td>-0.356161</td>\n",
       "      <td>0</td>\n",
       "      <td>0</td>\n",
       "      <td>0.0</td>\n",
       "    </tr>\n",
       "  </tbody>\n",
       "</table>\n",
       "</div>"
      ],
      "text/plain": [
       "        age  height(cm)  weight(kg)  waist(cm)  systolic  relaxation  \\\n",
       "0 -0.348302   -1.049853   -0.458800  -0.083771 -0.550024   -0.313914   \n",
       "1 -0.348302   -0.506284   -0.458800  -0.116105 -0.184756   -0.623346   \n",
       "2  0.892501    0.580854   -0.458800  -0.223885  1.203261    1.026958   \n",
       "3 -0.348302    0.037285    0.321016   0.638353 -1.572773   -1.654787   \n",
       "4 -0.348302   -1.049853   -0.458800   0.422793 -0.111703   -0.210770   \n",
       "\n",
       "   fasting blood sugar  triglyceride       HDL  hemoglobin  serum creatinine  \\\n",
       "0            -0.255217     -0.624508  1.061947   -1.100546         -0.823115   \n",
       "1             1.471806     -0.163686 -1.033346   -1.228353         -1.265418   \n",
       "2            -0.495081      0.771922 -0.154675    0.752662          0.503794   \n",
       "3            -0.159271      1.777351 -0.830575    0.049721          0.503794   \n",
       "4            -0.926837     -0.736223  0.318456   -1.356160         -1.265418   \n",
       "\n",
       "        ALT       Gtp  gender  tartar  dental caries  \n",
       "0 -0.254602 -0.257586       0       1            0.0  \n",
       "1 -0.254602 -0.435020       0       1            0.0  \n",
       "2 -0.349076 -0.356161       1       0            0.0  \n",
       "3 -0.034160 -0.435020       1       1            0.0  \n",
       "4 -0.412060 -0.356161       0       0            0.0  "
      ]
     },
     "execution_count": 44,
     "metadata": {},
     "output_type": "execute_result"
    }
   ],
   "source": [
    "x_train_new.head()"
   ]
  },
  {
   "cell_type": "code",
   "execution_count": 45,
   "metadata": {},
   "outputs": [
    {
     "data": {
      "text/plain": [
       "(44553, 16)"
      ]
     },
     "execution_count": 45,
     "metadata": {},
     "output_type": "execute_result"
    }
   ],
   "source": [
    "x_train_new.shape"
   ]
  },
  {
   "cell_type": "code",
   "execution_count": 46,
   "metadata": {},
   "outputs": [],
   "source": [
    "x_test_new=x_test_s[feat_te]"
   ]
  },
  {
   "cell_type": "code",
   "execution_count": 47,
   "metadata": {},
   "outputs": [
    {
     "data": {
      "text/html": [
       "<div>\n",
       "<style scoped>\n",
       "    .dataframe tbody tr th:only-of-type {\n",
       "        vertical-align: middle;\n",
       "    }\n",
       "\n",
       "    .dataframe tbody tr th {\n",
       "        vertical-align: top;\n",
       "    }\n",
       "\n",
       "    .dataframe thead th {\n",
       "        text-align: right;\n",
       "    }\n",
       "</style>\n",
       "<table border=\"1\" class=\"dataframe\">\n",
       "  <thead>\n",
       "    <tr style=\"text-align: right;\">\n",
       "      <th></th>\n",
       "      <th>age</th>\n",
       "      <th>height(cm)</th>\n",
       "      <th>weight(kg)</th>\n",
       "      <th>waist(cm)</th>\n",
       "      <th>systolic</th>\n",
       "      <th>relaxation</th>\n",
       "      <th>fasting blood sugar</th>\n",
       "      <th>triglyceride</th>\n",
       "      <th>HDL</th>\n",
       "      <th>hemoglobin</th>\n",
       "      <th>serum creatinine</th>\n",
       "      <th>ALT</th>\n",
       "      <th>Gtp</th>\n",
       "      <th>gender</th>\n",
       "      <th>tartar</th>\n",
       "      <th>dental caries</th>\n",
       "    </tr>\n",
       "  </thead>\n",
       "  <tbody>\n",
       "    <tr>\n",
       "      <th>0</th>\n",
       "      <td>2.960507</td>\n",
       "      <td>-0.506284</td>\n",
       "      <td>-0.068892</td>\n",
       "      <td>0.961692</td>\n",
       "      <td>-0.111703</td>\n",
       "      <td>0.408094</td>\n",
       "      <td>0.608295</td>\n",
       "      <td>-0.833973</td>\n",
       "      <td>0.250866</td>\n",
       "      <td>-0.078086</td>\n",
       "      <td>0.503794</td>\n",
       "      <td>-0.254602</td>\n",
       "      <td>-0.021007</td>\n",
       "      <td>1</td>\n",
       "      <td>0</td>\n",
       "      <td>0.0</td>\n",
       "    </tr>\n",
       "    <tr>\n",
       "      <th>1</th>\n",
       "      <td>-1.175504</td>\n",
       "      <td>0.037285</td>\n",
       "      <td>1.880649</td>\n",
       "      <td>1.716150</td>\n",
       "      <td>1.057153</td>\n",
       "      <td>0.717526</td>\n",
       "      <td>-0.159271</td>\n",
       "      <td>-0.373151</td>\n",
       "      <td>0.048096</td>\n",
       "      <td>0.624854</td>\n",
       "      <td>0.061491</td>\n",
       "      <td>0.312248</td>\n",
       "      <td>-0.119581</td>\n",
       "      <td>1</td>\n",
       "      <td>0</td>\n",
       "      <td>0.0</td>\n",
       "    </tr>\n",
       "    <tr>\n",
       "      <th>2</th>\n",
       "      <td>-0.348302</td>\n",
       "      <td>0.580854</td>\n",
       "      <td>0.710924</td>\n",
       "      <td>-0.116105</td>\n",
       "      <td>1.203261</td>\n",
       "      <td>1.026958</td>\n",
       "      <td>-0.351163</td>\n",
       "      <td>1.232744</td>\n",
       "      <td>-1.371296</td>\n",
       "      <td>1.136084</td>\n",
       "      <td>-0.823115</td>\n",
       "      <td>0.154790</td>\n",
       "      <td>0.649301</td>\n",
       "      <td>1</td>\n",
       "      <td>0</td>\n",
       "      <td>0.0</td>\n",
       "    </tr>\n",
       "    <tr>\n",
       "      <th>3</th>\n",
       "      <td>-0.761903</td>\n",
       "      <td>1.124422</td>\n",
       "      <td>0.321016</td>\n",
       "      <td>-0.223885</td>\n",
       "      <td>2.810438</td>\n",
       "      <td>2.470975</td>\n",
       "      <td>0.032620</td>\n",
       "      <td>0.674172</td>\n",
       "      <td>-0.289855</td>\n",
       "      <td>0.433143</td>\n",
       "      <td>-0.823115</td>\n",
       "      <td>0.879098</td>\n",
       "      <td>0.195858</td>\n",
       "      <td>1</td>\n",
       "      <td>0</td>\n",
       "      <td>0.0</td>\n",
       "    </tr>\n",
       "    <tr>\n",
       "      <th>4</th>\n",
       "      <td>-0.761903</td>\n",
       "      <td>-0.506284</td>\n",
       "      <td>0.710924</td>\n",
       "      <td>1.177251</td>\n",
       "      <td>0.253565</td>\n",
       "      <td>0.408094</td>\n",
       "      <td>0.848159</td>\n",
       "      <td>-0.191615</td>\n",
       "      <td>0.048096</td>\n",
       "      <td>0.049721</td>\n",
       "      <td>0.946097</td>\n",
       "      <td>0.973573</td>\n",
       "      <td>0.314147</td>\n",
       "      <td>1</td>\n",
       "      <td>0</td>\n",
       "      <td>0.0</td>\n",
       "    </tr>\n",
       "  </tbody>\n",
       "</table>\n",
       "</div>"
      ],
      "text/plain": [
       "        age  height(cm)  weight(kg)  waist(cm)  systolic  relaxation  \\\n",
       "0  2.960507   -0.506284   -0.068892   0.961692 -0.111703    0.408094   \n",
       "1 -1.175504    0.037285    1.880649   1.716150  1.057153    0.717526   \n",
       "2 -0.348302    0.580854    0.710924  -0.116105  1.203261    1.026958   \n",
       "3 -0.761903    1.124422    0.321016  -0.223885  2.810438    2.470975   \n",
       "4 -0.761903   -0.506284    0.710924   1.177251  0.253565    0.408094   \n",
       "\n",
       "   fasting blood sugar  triglyceride       HDL  hemoglobin  serum creatinine  \\\n",
       "0             0.608295     -0.833973  0.250866   -0.078086          0.503794   \n",
       "1            -0.159271     -0.373151  0.048096    0.624854          0.061491   \n",
       "2            -0.351163      1.232744 -1.371296    1.136084         -0.823115   \n",
       "3             0.032620      0.674172 -0.289855    0.433143         -0.823115   \n",
       "4             0.848159     -0.191615  0.048096    0.049721          0.946097   \n",
       "\n",
       "        ALT       Gtp  gender  tartar  dental caries  \n",
       "0 -0.254602 -0.021007       1       0            0.0  \n",
       "1  0.312248 -0.119581       1       0            0.0  \n",
       "2  0.154790  0.649301       1       0            0.0  \n",
       "3  0.879098  0.195858       1       0            0.0  \n",
       "4  0.973573  0.314147       1       0            0.0  "
      ]
     },
     "execution_count": 47,
     "metadata": {},
     "output_type": "execute_result"
    }
   ],
   "source": [
    "x_test_new.head()"
   ]
  },
  {
   "cell_type": "code",
   "execution_count": 48,
   "metadata": {},
   "outputs": [
    {
     "data": {
      "text/plain": [
       "(11139, 16)"
      ]
     },
     "execution_count": 48,
     "metadata": {},
     "output_type": "execute_result"
    }
   ],
   "source": [
    "x_test_new.shape"
   ]
  },
  {
   "cell_type": "code",
   "execution_count": 49,
   "metadata": {
    "scrolled": false
   },
   "outputs": [
    {
     "name": "stderr",
     "output_type": "stream",
     "text": [
      "C:\\ProgramData\\Anaconda3\\lib\\site-packages\\sklearn\\utils\\validation.py:993: DataConversionWarning: A column-vector y was passed when a 1d array was expected. Please change the shape of y to (n_samples, ), for example using ravel().\n",
      "  y = column_or_1d(y, warn=True)\n"
     ]
    },
    {
     "name": "stdout",
     "output_type": "stream",
     "text": [
      "431.7355465888977\n"
     ]
    }
   ],
   "source": [
    "start=time.time()\n",
    "model_sel=SVC(kernel='rbf',C=1,gamma=3).fit(x_train_new,y_train_s)\n",
    "print(time.time()-start)"
   ]
  },
  {
   "cell_type": "code",
   "execution_count": 50,
   "metadata": {},
   "outputs": [
    {
     "name": "stdout",
     "output_type": "stream",
     "text": [
      "model 훈련 점수 :  1.000\n",
      "model 테스트 점수 :  1.000\n",
      "321.30212211608887\n"
     ]
    }
   ],
   "source": [
    "start=time.time()\n",
    "score_new_tr=model_sel.score (x_train_new, y_train_s)\n",
    "score_new_te=model_sel.score (x_test_new, y_test_s)\n",
    "print('model 훈련 점수 : {: .3f}'.format(score_new_tr))\n",
    "print('model 테스트 점수 : {: .3f}'.format(score_new_te))\n",
    "print(time.time()-start)"
   ]
  },
  {
   "cell_type": "code",
   "execution_count": 51,
   "metadata": {
    "scrolled": false
   },
   "outputs": [
    {
     "name": "stdout",
     "output_type": "stream",
     "text": [
      "x train features: ['age' 'height(cm)' 'weight(kg)' 'waist(cm)' 'eyesight(left)' 'systolic'\n",
      " 'relaxation' 'fasting blood sugar' 'triglyceride' 'HDL' 'hemoglobin'\n",
      " 'serum creatinine' 'ALT' 'Gtp' 'gender' 'tartar' 'dental caries']\n",
      "x test features: ['age' 'height(cm)' 'weight(kg)' 'waist(cm)' 'eyesight(left)' 'systolic'\n",
      " 'relaxation' 'fasting blood sugar' 'triglyceride' 'HDL' 'hemoglobin'\n",
      " 'serum creatinine' 'ALT' 'Gtp' 'gender' 'tartar' 'dental caries']\n"
     ]
    },
    {
     "name": "stderr",
     "output_type": "stream",
     "text": [
      "C:\\ProgramData\\Anaconda3\\lib\\site-packages\\sklearn\\utils\\validation.py:993: DataConversionWarning: A column-vector y was passed when a 1d array was expected. Please change the shape of y to (n_samples, ), for example using ravel().\n",
      "  y = column_or_1d(y, warn=True)\n",
      "C:\\ProgramData\\Anaconda3\\lib\\site-packages\\sklearn\\utils\\validation.py:993: DataConversionWarning: A column-vector y was passed when a 1d array was expected. Please change the shape of y to (n_samples, ), for example using ravel().\n",
      "  y = column_or_1d(y, warn=True)\n"
     ]
    }
   ],
   "source": [
    "sel2 = SelectKBest(f_classif, k =17 )\n",
    "x_new2 = sel2.fit_transform(x_train_s, y_train_s)\n",
    "x_new_t2=sel2.fit_transform(x_test_s,y_test_s)\n",
    "feat_tr2 = x_train_s.columns.values[sel2.get_support()]\n",
    "feat_te2 = x_test_s.columns.values[sel2.get_support()]\n",
    "print(\"x train features:\",feat_tr2)\n",
    "print(\"x test features:\",feat_te2)"
   ]
  },
  {
   "cell_type": "code",
   "execution_count": 52,
   "metadata": {},
   "outputs": [],
   "source": [
    "x_train_new2=x_train_s[feat_tr2]\n",
    "x_test_new2=x_test_s[feat_te2]"
   ]
  },
  {
   "cell_type": "code",
   "execution_count": 53,
   "metadata": {},
   "outputs": [
    {
     "name": "stderr",
     "output_type": "stream",
     "text": [
      "C:\\ProgramData\\Anaconda3\\lib\\site-packages\\sklearn\\utils\\validation.py:993: DataConversionWarning: A column-vector y was passed when a 1d array was expected. Please change the shape of y to (n_samples, ), for example using ravel().\n",
      "  y = column_or_1d(y, warn=True)\n"
     ]
    },
    {
     "name": "stdout",
     "output_type": "stream",
     "text": [
      "460.4813275337219\n"
     ]
    }
   ],
   "source": [
    "start=time.time()\n",
    "model_sel2=SVC(kernel='rbf',C=1,gamma=3).fit(x_train_new2,y_train_s)\n",
    "print(time.time()-start)"
   ]
  },
  {
   "cell_type": "code",
   "execution_count": 54,
   "metadata": {},
   "outputs": [
    {
     "name": "stdout",
     "output_type": "stream",
     "text": [
      "model 훈련 점수 :  1.000\n",
      "model 테스트 점수 :  1.000\n",
      "327.54679465293884\n"
     ]
    }
   ],
   "source": [
    "start=time.time()\n",
    "score_new_tr2=model_sel2.score (x_train_new2, y_train_s)\n",
    "score_new_te2=model_sel2.score (x_test_new2, y_test_s)\n",
    "print('model 훈련 점수 : {: .3f}'.format(score_new_tr2))\n",
    "print('model 테스트 점수 : {: .3f}'.format(score_new_te2))\n",
    "print(time.time()-start)"
   ]
  },
  {
   "cell_type": "markdown",
   "metadata": {},
   "source": [
    "## 최종결론 : 12개의 변수만으로도 99% 이상의 성능을 낼 수 있으므로 selectkbest함수를 이용해 영향력이 높은 feature를 추출한 후, 선택된 feature들로 모델링하는 것이 성능이 좋다고 판단?"
   ]
  },
  {
   "cell_type": "code",
   "execution_count": 55,
   "metadata": {},
   "outputs": [
    {
     "name": "stdout",
     "output_type": "stream",
     "text": [
      "x train features: ['age' 'height(cm)' 'weight(kg)' 'waist(cm)' 'relaxation'\n",
      " 'fasting blood sugar' 'triglyceride' 'HDL' 'hemoglobin'\n",
      " 'serum creatinine' 'ALT' 'Gtp' 'gender' 'tartar' 'dental caries']\n",
      "x test features: ['age' 'height(cm)' 'weight(kg)' 'waist(cm)' 'relaxation'\n",
      " 'fasting blood sugar' 'triglyceride' 'HDL' 'hemoglobin'\n",
      " 'serum creatinine' 'ALT' 'Gtp' 'gender' 'tartar' 'dental caries']\n"
     ]
    },
    {
     "name": "stderr",
     "output_type": "stream",
     "text": [
      "C:\\ProgramData\\Anaconda3\\lib\\site-packages\\sklearn\\utils\\validation.py:993: DataConversionWarning: A column-vector y was passed when a 1d array was expected. Please change the shape of y to (n_samples, ), for example using ravel().\n",
      "  y = column_or_1d(y, warn=True)\n",
      "C:\\ProgramData\\Anaconda3\\lib\\site-packages\\sklearn\\utils\\validation.py:993: DataConversionWarning: A column-vector y was passed when a 1d array was expected. Please change the shape of y to (n_samples, ), for example using ravel().\n",
      "  y = column_or_1d(y, warn=True)\n"
     ]
    }
   ],
   "source": [
    "sel3 = SelectKBest(f_classif, k =15 )\n",
    "x_new3 = sel3.fit_transform(x_train_s, y_train_s)\n",
    "x_new_t3=sel3.fit_transform(x_test_s,y_test_s)\n",
    "feat_tr3 = x_train_s.columns.values[sel3.get_support()]\n",
    "feat_te3 = x_test_s.columns.values[sel3.get_support()]\n",
    "print(\"x train features:\",feat_tr3)\n",
    "print(\"x test features:\",feat_te3)"
   ]
  },
  {
   "cell_type": "code",
   "execution_count": 56,
   "metadata": {},
   "outputs": [],
   "source": [
    "x_train_new3=x_train_s[feat_tr3]\n",
    "x_test_new3=x_test_s[feat_te3]"
   ]
  },
  {
   "cell_type": "code",
   "execution_count": 57,
   "metadata": {},
   "outputs": [
    {
     "data": {
      "text/plain": [
       "(44553, 15)"
      ]
     },
     "execution_count": 57,
     "metadata": {},
     "output_type": "execute_result"
    }
   ],
   "source": [
    "x_train_new3.shape"
   ]
  },
  {
   "cell_type": "code",
   "execution_count": 58,
   "metadata": {},
   "outputs": [
    {
     "data": {
      "text/plain": [
       "(11139, 15)"
      ]
     },
     "execution_count": 58,
     "metadata": {},
     "output_type": "execute_result"
    }
   ],
   "source": [
    "x_test_new3.shape"
   ]
  },
  {
   "cell_type": "code",
   "execution_count": 61,
   "metadata": {},
   "outputs": [
    {
     "name": "stderr",
     "output_type": "stream",
     "text": [
      "C:\\ProgramData\\Anaconda3\\lib\\site-packages\\sklearn\\utils\\validation.py:993: DataConversionWarning: A column-vector y was passed when a 1d array was expected. Please change the shape of y to (n_samples, ), for example using ravel().\n",
      "  y = column_or_1d(y, warn=True)\n"
     ]
    },
    {
     "name": "stdout",
     "output_type": "stream",
     "text": [
      "381.27207255363464\n"
     ]
    }
   ],
   "source": [
    "start=time.time()\n",
    "model_sel3=SVC(kernel='rbf',C=1,gamma=3).fit(x_train_new3,y_train_s)\n",
    "print(time.time()-start)"
   ]
  },
  {
   "cell_type": "code",
   "execution_count": null,
   "metadata": {},
   "outputs": [],
   "source": [
    "start=time.time()\n",
    "score_new_tr3=model_sel3.score (x_train_new3, y_train_s)\n",
    "score_new_te3=model_sel3.score (x_test_new3, y_test_s)\n",
    "print('model 훈련 점수 : {: .3f}'.format(score_new_tr3))\n",
    "print('model 테스트 점수 : {: .3f}'.format(score_new_te3))\n",
    "print(time.time()-start)"
   ]
  },
  {
   "cell_type": "code",
   "execution_count": null,
   "metadata": {},
   "outputs": [],
   "source": []
  },
  {
   "cell_type": "code",
   "execution_count": 15,
   "metadata": {},
   "outputs": [
    {
     "name": "stdout",
     "output_type": "stream",
     "text": [
      "x train features: ['height(cm)' 'weight(kg)' 'waist(cm)' 'triglyceride' 'HDL' 'hemoglobin'\n",
      " 'serum creatinine' 'Gtp' 'gender']\n",
      "x test features: ['height(cm)' 'weight(kg)' 'waist(cm)' 'triglyceride' 'HDL' 'hemoglobin'\n",
      " 'serum creatinine' 'Gtp' 'gender']\n"
     ]
    },
    {
     "name": "stderr",
     "output_type": "stream",
     "text": [
      "C:\\ProgramData\\Anaconda3\\lib\\site-packages\\sklearn\\utils\\validation.py:993: DataConversionWarning: A column-vector y was passed when a 1d array was expected. Please change the shape of y to (n_samples, ), for example using ravel().\n",
      "  y = column_or_1d(y, warn=True)\n",
      "C:\\ProgramData\\Anaconda3\\lib\\site-packages\\sklearn\\utils\\validation.py:993: DataConversionWarning: A column-vector y was passed when a 1d array was expected. Please change the shape of y to (n_samples, ), for example using ravel().\n",
      "  y = column_or_1d(y, warn=True)\n"
     ]
    }
   ],
   "source": [
    "sel4 = SelectKBest(f_classif, k =9 )\n",
    "x_new4 = sel4.fit_transform(x_train_s, y_train_s)\n",
    "x_new_t4=sel4.fit_transform(x_test_s,y_test_s)\n",
    "feat_tr4 = x_train_s.columns.values[sel4.get_support()]\n",
    "feat_te4 = x_test_s.columns.values[sel4.get_support()]\n",
    "print(\"x train features:\",feat_tr4)\n",
    "print(\"x test features:\",feat_te4)"
   ]
  },
  {
   "cell_type": "code",
   "execution_count": 16,
   "metadata": {},
   "outputs": [],
   "source": [
    "x_train_new4=x_train_s[feat_tr4]\n",
    "x_test_new4=x_test_s[feat_te4]"
   ]
  },
  {
   "cell_type": "code",
   "execution_count": 17,
   "metadata": {},
   "outputs": [
    {
     "data": {
      "text/plain": [
       "(44553, 9)"
      ]
     },
     "execution_count": 17,
     "metadata": {},
     "output_type": "execute_result"
    }
   ],
   "source": [
    "x_train_new4.shape"
   ]
  },
  {
   "cell_type": "code",
   "execution_count": 18,
   "metadata": {},
   "outputs": [
    {
     "data": {
      "text/plain": [
       "(11139, 9)"
      ]
     },
     "execution_count": 18,
     "metadata": {},
     "output_type": "execute_result"
    }
   ],
   "source": [
    "x_test_new4.shape"
   ]
  },
  {
   "cell_type": "code",
   "execution_count": 19,
   "metadata": {},
   "outputs": [
    {
     "name": "stderr",
     "output_type": "stream",
     "text": [
      "C:\\ProgramData\\Anaconda3\\lib\\site-packages\\sklearn\\utils\\validation.py:993: DataConversionWarning: A column-vector y was passed when a 1d array was expected. Please change the shape of y to (n_samples, ), for example using ravel().\n",
      "  y = column_or_1d(y, warn=True)\n"
     ]
    },
    {
     "name": "stdout",
     "output_type": "stream",
     "text": [
      "352.099054813385\n"
     ]
    }
   ],
   "source": [
    "start=time.time()\n",
    "model_sel4=SVC(kernel='rbf',C=1,gamma=3).fit(x_train_new4,y_train_s)\n",
    "print(time.time()-start)"
   ]
  },
  {
   "cell_type": "code",
   "execution_count": 20,
   "metadata": {},
   "outputs": [
    {
     "name": "stdout",
     "output_type": "stream",
     "text": [
      "model 훈련 점수 :  0.929\n",
      "model 테스트 점수 :  0.928\n",
      "240.30412983894348\n"
     ]
    }
   ],
   "source": [
    "start=time.time()\n",
    "score_new_tr4=model_sel4.score (x_train_new4, y_train_s)\n",
    "score_new_te4=model_sel4.score (x_test_new4, y_test_s)\n",
    "print('model 훈련 점수 : {: .3f}'.format(score_new_tr4))\n",
    "print('model 테스트 점수 : {: .3f}'.format(score_new_te4))\n",
    "print(time.time()-start)"
   ]
  },
  {
   "cell_type": "markdown",
   "metadata": {},
   "source": [
    "## 변수선택 함수"
   ]
  },
  {
   "cell_type": "code",
   "execution_count": 18,
   "metadata": {},
   "outputs": [],
   "source": [
    "def sel_f(x_train,y_train,x_test,y_test,k):\n",
    "    sel = SelectKBest(f_classif, k = k )\n",
    "    x_new = sel.fit_transform(x_train_s, y_train_s)\n",
    "    x_new_t=sel.fit_transform(x_test_s,y_test_s)\n",
    "    feat_tr = x_train_s.columns.values[sel.get_support()]\n",
    "    #feat_te = x_test_s.columns.values[sel.get_support()]\n",
    "    #print(\"x train features:\",feat_tr)\n",
    "    #print(\"x test features:\",feat_te)\n",
    "    return feat_tr\n"
   ]
  },
  {
   "cell_type": "code",
   "execution_count": 19,
   "metadata": {
    "scrolled": true
   },
   "outputs": [
    {
     "name": "stderr",
     "output_type": "stream",
     "text": [
      "C:\\ProgramData\\Anaconda3\\lib\\site-packages\\sklearn\\utils\\validation.py:993: DataConversionWarning: A column-vector y was passed when a 1d array was expected. Please change the shape of y to (n_samples, ), for example using ravel().\n",
      "  y = column_or_1d(y, warn=True)\n",
      "C:\\ProgramData\\Anaconda3\\lib\\site-packages\\sklearn\\utils\\validation.py:993: DataConversionWarning: A column-vector y was passed when a 1d array was expected. Please change the shape of y to (n_samples, ), for example using ravel().\n",
      "  y = column_or_1d(y, warn=True)\n"
     ]
    },
    {
     "data": {
      "text/plain": [
       "array(['age', 'height(cm)', 'weight(kg)', 'waist(cm)', 'systolic',\n",
       "       'relaxation', 'fasting blood sugar', 'triglyceride', 'HDL',\n",
       "       'hemoglobin', 'serum creatinine', 'ALT', 'Gtp', 'gender', 'tartar',\n",
       "       'dental caries'], dtype=object)"
      ]
     },
     "execution_count": 19,
     "metadata": {},
     "output_type": "execute_result"
    }
   ],
   "source": [
    "sel_f(x_train_s,y_train_s,x_test_s,y_test_s,16)"
   ]
  },
  {
   "cell_type": "code",
   "execution_count": null,
   "metadata": {},
   "outputs": [],
   "source": []
  },
  {
   "cell_type": "code",
   "execution_count": null,
   "metadata": {},
   "outputs": [],
   "source": []
  },
  {
   "cell_type": "code",
   "execution_count": null,
   "metadata": {},
   "outputs": [],
   "source": []
  },
  {
   "cell_type": "code",
   "execution_count": null,
   "metadata": {},
   "outputs": [],
   "source": []
  },
  {
   "cell_type": "code",
   "execution_count": null,
   "metadata": {},
   "outputs": [],
   "source": []
  },
  {
   "cell_type": "code",
   "execution_count": null,
   "metadata": {},
   "outputs": [],
   "source": []
  },
  {
   "cell_type": "code",
   "execution_count": null,
   "metadata": {},
   "outputs": [],
   "source": []
  },
  {
   "cell_type": "code",
   "execution_count": null,
   "metadata": {},
   "outputs": [],
   "source": []
  },
  {
   "cell_type": "code",
   "execution_count": null,
   "metadata": {},
   "outputs": [],
   "source": []
  },
  {
   "cell_type": "code",
   "execution_count": null,
   "metadata": {},
   "outputs": [],
   "source": []
  },
  {
   "cell_type": "code",
   "execution_count": null,
   "metadata": {},
   "outputs": [],
   "source": []
  },
  {
   "cell_type": "code",
   "execution_count": null,
   "metadata": {},
   "outputs": [],
   "source": []
  },
  {
   "cell_type": "code",
   "execution_count": null,
   "metadata": {},
   "outputs": [],
   "source": []
  },
  {
   "cell_type": "code",
   "execution_count": null,
   "metadata": {},
   "outputs": [],
   "source": []
  },
  {
   "cell_type": "code",
   "execution_count": null,
   "metadata": {},
   "outputs": [],
   "source": []
  },
  {
   "cell_type": "code",
   "execution_count": null,
   "metadata": {},
   "outputs": [],
   "source": []
  },
  {
   "cell_type": "code",
   "execution_count": null,
   "metadata": {},
   "outputs": [],
   "source": []
  },
  {
   "cell_type": "code",
   "execution_count": null,
   "metadata": {},
   "outputs": [],
   "source": []
  },
  {
   "cell_type": "code",
   "execution_count": null,
   "metadata": {},
   "outputs": [],
   "source": []
  },
  {
   "cell_type": "code",
   "execution_count": null,
   "metadata": {},
   "outputs": [],
   "source": []
  },
  {
   "cell_type": "code",
   "execution_count": null,
   "metadata": {},
   "outputs": [],
   "source": []
  },
  {
   "cell_type": "code",
   "execution_count": null,
   "metadata": {},
   "outputs": [],
   "source": []
  },
  {
   "cell_type": "code",
   "execution_count": null,
   "metadata": {},
   "outputs": [],
   "source": []
  },
  {
   "cell_type": "code",
   "execution_count": null,
   "metadata": {},
   "outputs": [],
   "source": []
  },
  {
   "cell_type": "code",
   "execution_count": null,
   "metadata": {},
   "outputs": [],
   "source": []
  },
  {
   "cell_type": "code",
   "execution_count": null,
   "metadata": {},
   "outputs": [],
   "source": []
  },
  {
   "cell_type": "code",
   "execution_count": null,
   "metadata": {},
   "outputs": [],
   "source": []
  },
  {
   "cell_type": "markdown",
   "metadata": {},
   "source": [
    "# 변수 제거 후 재모델링(bmi,wwi)"
   ]
  },
  {
   "cell_type": "code",
   "execution_count": 59,
   "metadata": {},
   "outputs": [
    {
     "data": {
      "text/html": [
       "<div>\n",
       "<style scoped>\n",
       "    .dataframe tbody tr th:only-of-type {\n",
       "        vertical-align: middle;\n",
       "    }\n",
       "\n",
       "    .dataframe tbody tr th {\n",
       "        vertical-align: top;\n",
       "    }\n",
       "\n",
       "    .dataframe thead th {\n",
       "        text-align: right;\n",
       "    }\n",
       "</style>\n",
       "<table border=\"1\" class=\"dataframe\">\n",
       "  <thead>\n",
       "    <tr style=\"text-align: right;\">\n",
       "      <th></th>\n",
       "      <th>age</th>\n",
       "      <th>height(cm)</th>\n",
       "      <th>weight(kg)</th>\n",
       "      <th>waist(cm)</th>\n",
       "      <th>eyesight(left)</th>\n",
       "      <th>eyesight(right)</th>\n",
       "      <th>systolic</th>\n",
       "      <th>relaxation</th>\n",
       "      <th>fasting blood sugar</th>\n",
       "      <th>Cholesterol</th>\n",
       "      <th>...</th>\n",
       "      <th>Urine protein</th>\n",
       "      <th>serum creatinine</th>\n",
       "      <th>AST</th>\n",
       "      <th>ALT</th>\n",
       "      <th>Gtp</th>\n",
       "      <th>gender</th>\n",
       "      <th>tartar</th>\n",
       "      <th>hearing(right)</th>\n",
       "      <th>hearing(left)</th>\n",
       "      <th>dental caries</th>\n",
       "    </tr>\n",
       "  </thead>\n",
       "  <tbody>\n",
       "    <tr>\n",
       "      <th>0</th>\n",
       "      <td>-0.348302</td>\n",
       "      <td>-1.049853</td>\n",
       "      <td>-0.458800</td>\n",
       "      <td>-0.083771</td>\n",
       "      <td>0.385691</td>\n",
       "      <td>-0.016643</td>\n",
       "      <td>-0.550024</td>\n",
       "      <td>-0.313914</td>\n",
       "      <td>-0.255217</td>\n",
       "      <td>0.494320</td>\n",
       "      <td>...</td>\n",
       "      <td>-0.214896</td>\n",
       "      <td>-0.823115</td>\n",
       "      <td>-0.430331</td>\n",
       "      <td>-0.254602</td>\n",
       "      <td>-0.257586</td>\n",
       "      <td>0</td>\n",
       "      <td>1</td>\n",
       "      <td>1.0</td>\n",
       "      <td>1.0</td>\n",
       "      <td>0.0</td>\n",
       "    </tr>\n",
       "    <tr>\n",
       "      <th>1</th>\n",
       "      <td>-0.348302</td>\n",
       "      <td>-0.506284</td>\n",
       "      <td>-0.458800</td>\n",
       "      <td>-0.116105</td>\n",
       "      <td>-0.433770</td>\n",
       "      <td>-0.835046</td>\n",
       "      <td>-0.184756</td>\n",
       "      <td>-0.623346</td>\n",
       "      <td>1.471806</td>\n",
       "      <td>-0.137158</td>\n",
       "      <td>...</td>\n",
       "      <td>-0.214896</td>\n",
       "      <td>-1.265418</td>\n",
       "      <td>-0.220763</td>\n",
       "      <td>-0.254602</td>\n",
       "      <td>-0.435020</td>\n",
       "      <td>0</td>\n",
       "      <td>1</td>\n",
       "      <td>1.0</td>\n",
       "      <td>1.0</td>\n",
       "      <td>0.0</td>\n",
       "    </tr>\n",
       "    <tr>\n",
       "      <th>2</th>\n",
       "      <td>0.892501</td>\n",
       "      <td>0.580854</td>\n",
       "      <td>-0.458800</td>\n",
       "      <td>-0.223885</td>\n",
       "      <td>-0.433770</td>\n",
       "      <td>-0.425844</td>\n",
       "      <td>1.203261</td>\n",
       "      <td>1.026958</td>\n",
       "      <td>-0.495081</td>\n",
       "      <td>1.235620</td>\n",
       "      <td>...</td>\n",
       "      <td>-0.214896</td>\n",
       "      <td>0.503794</td>\n",
       "      <td>-0.273155</td>\n",
       "      <td>-0.349076</td>\n",
       "      <td>-0.356161</td>\n",
       "      <td>1</td>\n",
       "      <td>0</td>\n",
       "      <td>1.0</td>\n",
       "      <td>1.0</td>\n",
       "      <td>0.0</td>\n",
       "    </tr>\n",
       "    <tr>\n",
       "      <th>3</th>\n",
       "      <td>-0.348302</td>\n",
       "      <td>0.037285</td>\n",
       "      <td>0.321016</td>\n",
       "      <td>0.638353</td>\n",
       "      <td>1.000286</td>\n",
       "      <td>1.006362</td>\n",
       "      <td>-1.572773</td>\n",
       "      <td>-1.654787</td>\n",
       "      <td>-0.159271</td>\n",
       "      <td>3.432064</td>\n",
       "      <td>...</td>\n",
       "      <td>-0.214896</td>\n",
       "      <td>0.503794</td>\n",
       "      <td>-0.377939</td>\n",
       "      <td>-0.034160</td>\n",
       "      <td>-0.435020</td>\n",
       "      <td>1</td>\n",
       "      <td>1</td>\n",
       "      <td>1.0</td>\n",
       "      <td>1.0</td>\n",
       "      <td>0.0</td>\n",
       "    </tr>\n",
       "    <tr>\n",
       "      <th>4</th>\n",
       "      <td>-0.348302</td>\n",
       "      <td>-1.049853</td>\n",
       "      <td>-0.458800</td>\n",
       "      <td>0.422793</td>\n",
       "      <td>-0.024040</td>\n",
       "      <td>-0.016643</td>\n",
       "      <td>-0.111703</td>\n",
       "      <td>-0.210770</td>\n",
       "      <td>-0.926837</td>\n",
       "      <td>-0.356803</td>\n",
       "      <td>...</td>\n",
       "      <td>-0.214896</td>\n",
       "      <td>-1.265418</td>\n",
       "      <td>-0.535115</td>\n",
       "      <td>-0.412060</td>\n",
       "      <td>-0.356161</td>\n",
       "      <td>0</td>\n",
       "      <td>0</td>\n",
       "      <td>1.0</td>\n",
       "      <td>1.0</td>\n",
       "      <td>0.0</td>\n",
       "    </tr>\n",
       "    <tr>\n",
       "      <th>...</th>\n",
       "      <td>...</td>\n",
       "      <td>...</td>\n",
       "      <td>...</td>\n",
       "      <td>...</td>\n",
       "      <td>...</td>\n",
       "      <td>...</td>\n",
       "      <td>...</td>\n",
       "      <td>...</td>\n",
       "      <td>...</td>\n",
       "      <td>...</td>\n",
       "      <td>...</td>\n",
       "      <td>...</td>\n",
       "      <td>...</td>\n",
       "      <td>...</td>\n",
       "      <td>...</td>\n",
       "      <td>...</td>\n",
       "      <td>...</td>\n",
       "      <td>...</td>\n",
       "      <td>...</td>\n",
       "      <td>...</td>\n",
       "      <td>...</td>\n",
       "    </tr>\n",
       "    <tr>\n",
       "      <th>44548</th>\n",
       "      <td>0.478900</td>\n",
       "      <td>0.580854</td>\n",
       "      <td>-0.068892</td>\n",
       "      <td>0.638353</td>\n",
       "      <td>0.385691</td>\n",
       "      <td>0.392559</td>\n",
       "      <td>1.933796</td>\n",
       "      <td>1.852111</td>\n",
       "      <td>0.128566</td>\n",
       "      <td>-0.411714</td>\n",
       "      <td>...</td>\n",
       "      <td>-0.214896</td>\n",
       "      <td>0.503794</td>\n",
       "      <td>0.984253</td>\n",
       "      <td>0.690148</td>\n",
       "      <td>0.215573</td>\n",
       "      <td>1</td>\n",
       "      <td>1</td>\n",
       "      <td>1.0</td>\n",
       "      <td>1.0</td>\n",
       "      <td>0.0</td>\n",
       "    </tr>\n",
       "    <tr>\n",
       "      <th>44549</th>\n",
       "      <td>-0.761903</td>\n",
       "      <td>1.124422</td>\n",
       "      <td>0.321016</td>\n",
       "      <td>0.207234</td>\n",
       "      <td>-0.843500</td>\n",
       "      <td>-0.630445</td>\n",
       "      <td>-1.207506</td>\n",
       "      <td>-0.210770</td>\n",
       "      <td>-0.543054</td>\n",
       "      <td>-0.274436</td>\n",
       "      <td>...</td>\n",
       "      <td>-0.214896</td>\n",
       "      <td>0.061491</td>\n",
       "      <td>-0.325547</td>\n",
       "      <td>-0.412060</td>\n",
       "      <td>-0.474450</td>\n",
       "      <td>1</td>\n",
       "      <td>1</td>\n",
       "      <td>1.0</td>\n",
       "      <td>1.0</td>\n",
       "      <td>0.0</td>\n",
       "    </tr>\n",
       "    <tr>\n",
       "      <th>44550</th>\n",
       "      <td>-0.761903</td>\n",
       "      <td>1.124422</td>\n",
       "      <td>0.321016</td>\n",
       "      <td>-1.204680</td>\n",
       "      <td>1.000286</td>\n",
       "      <td>1.006362</td>\n",
       "      <td>-0.403917</td>\n",
       "      <td>-0.623346</td>\n",
       "      <td>-0.207244</td>\n",
       "      <td>-1.427569</td>\n",
       "      <td>...</td>\n",
       "      <td>-0.214896</td>\n",
       "      <td>0.503794</td>\n",
       "      <td>-0.430331</td>\n",
       "      <td>-0.254602</td>\n",
       "      <td>-0.592740</td>\n",
       "      <td>1</td>\n",
       "      <td>1</td>\n",
       "      <td>1.0</td>\n",
       "      <td>1.0</td>\n",
       "      <td>0.0</td>\n",
       "    </tr>\n",
       "    <tr>\n",
       "      <th>44551</th>\n",
       "      <td>0.478900</td>\n",
       "      <td>0.037285</td>\n",
       "      <td>1.880649</td>\n",
       "      <td>2.664611</td>\n",
       "      <td>-0.433770</td>\n",
       "      <td>-1.039647</td>\n",
       "      <td>0.034404</td>\n",
       "      <td>-0.107626</td>\n",
       "      <td>-0.399135</td>\n",
       "      <td>-0.494080</td>\n",
       "      <td>...</td>\n",
       "      <td>-0.214896</td>\n",
       "      <td>0.061491</td>\n",
       "      <td>0.198373</td>\n",
       "      <td>0.690148</td>\n",
       "      <td>-0.001292</td>\n",
       "      <td>1</td>\n",
       "      <td>1</td>\n",
       "      <td>1.0</td>\n",
       "      <td>1.0</td>\n",
       "      <td>0.0</td>\n",
       "    </tr>\n",
       "    <tr>\n",
       "      <th>44552</th>\n",
       "      <td>-1.589105</td>\n",
       "      <td>1.124422</td>\n",
       "      <td>1.100832</td>\n",
       "      <td>1.198807</td>\n",
       "      <td>0.385691</td>\n",
       "      <td>1.006362</td>\n",
       "      <td>0.180511</td>\n",
       "      <td>-0.004482</td>\n",
       "      <td>-1.022783</td>\n",
       "      <td>0.000120</td>\n",
       "      <td>...</td>\n",
       "      <td>-0.214896</td>\n",
       "      <td>0.503794</td>\n",
       "      <td>-0.168371</td>\n",
       "      <td>-0.506535</td>\n",
       "      <td>-0.395590</td>\n",
       "      <td>1</td>\n",
       "      <td>1</td>\n",
       "      <td>1.0</td>\n",
       "      <td>1.0</td>\n",
       "      <td>0.0</td>\n",
       "    </tr>\n",
       "  </tbody>\n",
       "</table>\n",
       "<p>44553 rows × 24 columns</p>\n",
       "</div>"
      ],
      "text/plain": [
       "            age  height(cm)  weight(kg)  waist(cm)  eyesight(left)  \\\n",
       "0     -0.348302   -1.049853   -0.458800  -0.083771        0.385691   \n",
       "1     -0.348302   -0.506284   -0.458800  -0.116105       -0.433770   \n",
       "2      0.892501    0.580854   -0.458800  -0.223885       -0.433770   \n",
       "3     -0.348302    0.037285    0.321016   0.638353        1.000286   \n",
       "4     -0.348302   -1.049853   -0.458800   0.422793       -0.024040   \n",
       "...         ...         ...         ...        ...             ...   \n",
       "44548  0.478900    0.580854   -0.068892   0.638353        0.385691   \n",
       "44549 -0.761903    1.124422    0.321016   0.207234       -0.843500   \n",
       "44550 -0.761903    1.124422    0.321016  -1.204680        1.000286   \n",
       "44551  0.478900    0.037285    1.880649   2.664611       -0.433770   \n",
       "44552 -1.589105    1.124422    1.100832   1.198807        0.385691   \n",
       "\n",
       "       eyesight(right)  systolic  relaxation  fasting blood sugar  \\\n",
       "0            -0.016643 -0.550024   -0.313914            -0.255217   \n",
       "1            -0.835046 -0.184756   -0.623346             1.471806   \n",
       "2            -0.425844  1.203261    1.026958            -0.495081   \n",
       "3             1.006362 -1.572773   -1.654787            -0.159271   \n",
       "4            -0.016643 -0.111703   -0.210770            -0.926837   \n",
       "...                ...       ...         ...                  ...   \n",
       "44548         0.392559  1.933796    1.852111             0.128566   \n",
       "44549        -0.630445 -1.207506   -0.210770            -0.543054   \n",
       "44550         1.006362 -0.403917   -0.623346            -0.207244   \n",
       "44551        -1.039647  0.034404   -0.107626            -0.399135   \n",
       "44552         1.006362  0.180511   -0.004482            -1.022783   \n",
       "\n",
       "       Cholesterol  ...  Urine protein  serum creatinine       AST       ALT  \\\n",
       "0         0.494320  ...      -0.214896         -0.823115 -0.430331 -0.254602   \n",
       "1        -0.137158  ...      -0.214896         -1.265418 -0.220763 -0.254602   \n",
       "2         1.235620  ...      -0.214896          0.503794 -0.273155 -0.349076   \n",
       "3         3.432064  ...      -0.214896          0.503794 -0.377939 -0.034160   \n",
       "4        -0.356803  ...      -0.214896         -1.265418 -0.535115 -0.412060   \n",
       "...            ...  ...            ...               ...       ...       ...   \n",
       "44548    -0.411714  ...      -0.214896          0.503794  0.984253  0.690148   \n",
       "44549    -0.274436  ...      -0.214896          0.061491 -0.325547 -0.412060   \n",
       "44550    -1.427569  ...      -0.214896          0.503794 -0.430331 -0.254602   \n",
       "44551    -0.494080  ...      -0.214896          0.061491  0.198373  0.690148   \n",
       "44552     0.000120  ...      -0.214896          0.503794 -0.168371 -0.506535   \n",
       "\n",
       "            Gtp  gender  tartar  hearing(right)  hearing(left)  dental caries  \n",
       "0     -0.257586       0       1             1.0            1.0            0.0  \n",
       "1     -0.435020       0       1             1.0            1.0            0.0  \n",
       "2     -0.356161       1       0             1.0            1.0            0.0  \n",
       "3     -0.435020       1       1             1.0            1.0            0.0  \n",
       "4     -0.356161       0       0             1.0            1.0            0.0  \n",
       "...         ...     ...     ...             ...            ...            ...  \n",
       "44548  0.215573       1       1             1.0            1.0            0.0  \n",
       "44549 -0.474450       1       1             1.0            1.0            0.0  \n",
       "44550 -0.592740       1       1             1.0            1.0            0.0  \n",
       "44551 -0.001292       1       1             1.0            1.0            0.0  \n",
       "44552 -0.395590       1       1             1.0            1.0            0.0  \n",
       "\n",
       "[44553 rows x 24 columns]"
      ]
     },
     "execution_count": 59,
     "metadata": {},
     "output_type": "execute_result"
    }
   ],
   "source": [
    "x_train_s.drop(['bmi','wwi'],axis=1)"
   ]
  },
  {
   "cell_type": "code",
   "execution_count": 60,
   "metadata": {},
   "outputs": [],
   "source": [
    "x_train_d = x_train_s.drop(['bmi','wwi'],axis=1)\n",
    "x_test_d = x_test_s.drop(['bmi','wwi'],axis=1)\n",
    "y_train_d = y_train_s\n",
    "y_test_d = y_test_s"
   ]
  },
  {
   "cell_type": "code",
   "execution_count": 61,
   "metadata": {},
   "outputs": [
    {
     "data": {
      "text/html": [
       "<div>\n",
       "<style scoped>\n",
       "    .dataframe tbody tr th:only-of-type {\n",
       "        vertical-align: middle;\n",
       "    }\n",
       "\n",
       "    .dataframe tbody tr th {\n",
       "        vertical-align: top;\n",
       "    }\n",
       "\n",
       "    .dataframe thead th {\n",
       "        text-align: right;\n",
       "    }\n",
       "</style>\n",
       "<table border=\"1\" class=\"dataframe\">\n",
       "  <thead>\n",
       "    <tr style=\"text-align: right;\">\n",
       "      <th></th>\n",
       "      <th>age</th>\n",
       "      <th>height(cm)</th>\n",
       "      <th>weight(kg)</th>\n",
       "      <th>waist(cm)</th>\n",
       "      <th>eyesight(left)</th>\n",
       "      <th>eyesight(right)</th>\n",
       "      <th>systolic</th>\n",
       "      <th>relaxation</th>\n",
       "      <th>fasting blood sugar</th>\n",
       "      <th>Cholesterol</th>\n",
       "      <th>...</th>\n",
       "      <th>Urine protein</th>\n",
       "      <th>serum creatinine</th>\n",
       "      <th>AST</th>\n",
       "      <th>ALT</th>\n",
       "      <th>Gtp</th>\n",
       "      <th>gender</th>\n",
       "      <th>tartar</th>\n",
       "      <th>hearing(right)</th>\n",
       "      <th>hearing(left)</th>\n",
       "      <th>dental caries</th>\n",
       "    </tr>\n",
       "  </thead>\n",
       "  <tbody>\n",
       "    <tr>\n",
       "      <th>0</th>\n",
       "      <td>-0.348302</td>\n",
       "      <td>-1.049853</td>\n",
       "      <td>-0.458800</td>\n",
       "      <td>-0.083771</td>\n",
       "      <td>0.385691</td>\n",
       "      <td>-0.016643</td>\n",
       "      <td>-0.550024</td>\n",
       "      <td>-0.313914</td>\n",
       "      <td>-0.255217</td>\n",
       "      <td>0.494320</td>\n",
       "      <td>...</td>\n",
       "      <td>-0.214896</td>\n",
       "      <td>-0.823115</td>\n",
       "      <td>-0.430331</td>\n",
       "      <td>-0.254602</td>\n",
       "      <td>-0.257586</td>\n",
       "      <td>0</td>\n",
       "      <td>1</td>\n",
       "      <td>1.0</td>\n",
       "      <td>1.0</td>\n",
       "      <td>0.0</td>\n",
       "    </tr>\n",
       "    <tr>\n",
       "      <th>1</th>\n",
       "      <td>-0.348302</td>\n",
       "      <td>-0.506284</td>\n",
       "      <td>-0.458800</td>\n",
       "      <td>-0.116105</td>\n",
       "      <td>-0.433770</td>\n",
       "      <td>-0.835046</td>\n",
       "      <td>-0.184756</td>\n",
       "      <td>-0.623346</td>\n",
       "      <td>1.471806</td>\n",
       "      <td>-0.137158</td>\n",
       "      <td>...</td>\n",
       "      <td>-0.214896</td>\n",
       "      <td>-1.265418</td>\n",
       "      <td>-0.220763</td>\n",
       "      <td>-0.254602</td>\n",
       "      <td>-0.435020</td>\n",
       "      <td>0</td>\n",
       "      <td>1</td>\n",
       "      <td>1.0</td>\n",
       "      <td>1.0</td>\n",
       "      <td>0.0</td>\n",
       "    </tr>\n",
       "    <tr>\n",
       "      <th>2</th>\n",
       "      <td>0.892501</td>\n",
       "      <td>0.580854</td>\n",
       "      <td>-0.458800</td>\n",
       "      <td>-0.223885</td>\n",
       "      <td>-0.433770</td>\n",
       "      <td>-0.425844</td>\n",
       "      <td>1.203261</td>\n",
       "      <td>1.026958</td>\n",
       "      <td>-0.495081</td>\n",
       "      <td>1.235620</td>\n",
       "      <td>...</td>\n",
       "      <td>-0.214896</td>\n",
       "      <td>0.503794</td>\n",
       "      <td>-0.273155</td>\n",
       "      <td>-0.349076</td>\n",
       "      <td>-0.356161</td>\n",
       "      <td>1</td>\n",
       "      <td>0</td>\n",
       "      <td>1.0</td>\n",
       "      <td>1.0</td>\n",
       "      <td>0.0</td>\n",
       "    </tr>\n",
       "    <tr>\n",
       "      <th>3</th>\n",
       "      <td>-0.348302</td>\n",
       "      <td>0.037285</td>\n",
       "      <td>0.321016</td>\n",
       "      <td>0.638353</td>\n",
       "      <td>1.000286</td>\n",
       "      <td>1.006362</td>\n",
       "      <td>-1.572773</td>\n",
       "      <td>-1.654787</td>\n",
       "      <td>-0.159271</td>\n",
       "      <td>3.432064</td>\n",
       "      <td>...</td>\n",
       "      <td>-0.214896</td>\n",
       "      <td>0.503794</td>\n",
       "      <td>-0.377939</td>\n",
       "      <td>-0.034160</td>\n",
       "      <td>-0.435020</td>\n",
       "      <td>1</td>\n",
       "      <td>1</td>\n",
       "      <td>1.0</td>\n",
       "      <td>1.0</td>\n",
       "      <td>0.0</td>\n",
       "    </tr>\n",
       "    <tr>\n",
       "      <th>4</th>\n",
       "      <td>-0.348302</td>\n",
       "      <td>-1.049853</td>\n",
       "      <td>-0.458800</td>\n",
       "      <td>0.422793</td>\n",
       "      <td>-0.024040</td>\n",
       "      <td>-0.016643</td>\n",
       "      <td>-0.111703</td>\n",
       "      <td>-0.210770</td>\n",
       "      <td>-0.926837</td>\n",
       "      <td>-0.356803</td>\n",
       "      <td>...</td>\n",
       "      <td>-0.214896</td>\n",
       "      <td>-1.265418</td>\n",
       "      <td>-0.535115</td>\n",
       "      <td>-0.412060</td>\n",
       "      <td>-0.356161</td>\n",
       "      <td>0</td>\n",
       "      <td>0</td>\n",
       "      <td>1.0</td>\n",
       "      <td>1.0</td>\n",
       "      <td>0.0</td>\n",
       "    </tr>\n",
       "  </tbody>\n",
       "</table>\n",
       "<p>5 rows × 24 columns</p>\n",
       "</div>"
      ],
      "text/plain": [
       "        age  height(cm)  weight(kg)  waist(cm)  eyesight(left)  \\\n",
       "0 -0.348302   -1.049853   -0.458800  -0.083771        0.385691   \n",
       "1 -0.348302   -0.506284   -0.458800  -0.116105       -0.433770   \n",
       "2  0.892501    0.580854   -0.458800  -0.223885       -0.433770   \n",
       "3 -0.348302    0.037285    0.321016   0.638353        1.000286   \n",
       "4 -0.348302   -1.049853   -0.458800   0.422793       -0.024040   \n",
       "\n",
       "   eyesight(right)  systolic  relaxation  fasting blood sugar  Cholesterol  \\\n",
       "0        -0.016643 -0.550024   -0.313914            -0.255217     0.494320   \n",
       "1        -0.835046 -0.184756   -0.623346             1.471806    -0.137158   \n",
       "2        -0.425844  1.203261    1.026958            -0.495081     1.235620   \n",
       "3         1.006362 -1.572773   -1.654787            -0.159271     3.432064   \n",
       "4        -0.016643 -0.111703   -0.210770            -0.926837    -0.356803   \n",
       "\n",
       "   ...  Urine protein  serum creatinine       AST       ALT       Gtp  gender  \\\n",
       "0  ...      -0.214896         -0.823115 -0.430331 -0.254602 -0.257586       0   \n",
       "1  ...      -0.214896         -1.265418 -0.220763 -0.254602 -0.435020       0   \n",
       "2  ...      -0.214896          0.503794 -0.273155 -0.349076 -0.356161       1   \n",
       "3  ...      -0.214896          0.503794 -0.377939 -0.034160 -0.435020       1   \n",
       "4  ...      -0.214896         -1.265418 -0.535115 -0.412060 -0.356161       0   \n",
       "\n",
       "   tartar  hearing(right)  hearing(left)  dental caries  \n",
       "0       1             1.0            1.0            0.0  \n",
       "1       1             1.0            1.0            0.0  \n",
       "2       0             1.0            1.0            0.0  \n",
       "3       1             1.0            1.0            0.0  \n",
       "4       0             1.0            1.0            0.0  \n",
       "\n",
       "[5 rows x 24 columns]"
      ]
     },
     "execution_count": 61,
     "metadata": {},
     "output_type": "execute_result"
    }
   ],
   "source": [
    "x_train_d.head()"
   ]
  },
  {
   "cell_type": "code",
   "execution_count": 62,
   "metadata": {},
   "outputs": [
    {
     "name": "stderr",
     "output_type": "stream",
     "text": [
      "C:\\ProgramData\\Anaconda3\\lib\\site-packages\\sklearn\\utils\\validation.py:993: DataConversionWarning: A column-vector y was passed when a 1d array was expected. Please change the shape of y to (n_samples, ), for example using ravel().\n",
      "  y = column_or_1d(y, warn=True)\n"
     ]
    },
    {
     "name": "stdout",
     "output_type": "stream",
     "text": [
      "time : 505.98181080818176\n"
     ]
    }
   ],
   "source": [
    "start = time.time()\n",
    "model5_d=SVC(kernel='rbf',C=1.0,gamma=3).fit(x_train_d,y_train_d)\n",
    "print(\"time :\", time.time() - start)"
   ]
  },
  {
   "cell_type": "code",
   "execution_count": 65,
   "metadata": {
    "scrolled": true
   },
   "outputs": [
    {
     "name": "stdout",
     "output_type": "stream",
     "text": [
      "model 훈련 점수 :  1.000\n",
      "model 테스트 점수 :  0.995\n"
     ]
    }
   ],
   "source": [
    "print('model 훈련 점수 : {: .3f}'.format(model5_d.score (x_train_d, y_train_d)))\n",
    "print('model 테스트 점수 : {: .3f}'.format(model5_d.score (x_test_d, y_test_d)))"
   ]
  },
  {
   "cell_type": "markdown",
   "metadata": {},
   "source": [
    "### Colab 실행결과"
   ]
  },
  {
   "cell_type": "markdown",
   "metadata": {},
   "source": [
    "# "
   ]
  },
  {
   "cell_type": "markdown",
   "metadata": {},
   "source": [
    "## 성능(연산속도 or 정확도) 낮음"
   ]
  },
  {
   "cell_type": "code",
   "execution_count": 63,
   "metadata": {},
   "outputs": [
    {
     "name": "stderr",
     "output_type": "stream",
     "text": [
      "C:\\ProgramData\\Anaconda3\\lib\\site-packages\\sklearn\\utils\\validation.py:993: DataConversionWarning: A column-vector y was passed when a 1d array was expected. Please change the shape of y to (n_samples, ), for example using ravel().\n",
      "  y = column_or_1d(y, warn=True)\n"
     ]
    },
    {
     "name": "stdout",
     "output_type": "stream",
     "text": [
      "time : 343.5571677684784\n"
     ]
    }
   ],
   "source": [
    "start = time.time()\n",
    "model6_d=SVC(kernel='rbf',C=0.5,gamma=1).fit(x_train_d,y_train_d)\n",
    "print(\"time :\", time.time() - start)"
   ]
  },
  {
   "cell_type": "code",
   "execution_count": 66,
   "metadata": {},
   "outputs": [
    {
     "name": "stdout",
     "output_type": "stream",
     "text": [
      "model 훈련 점수 :  0.722\n",
      "model 테스트 점수 :  0.711\n"
     ]
    }
   ],
   "source": [
    "print('model 훈련 점수 : {: .3f}'.format(model6_d.score (x_train_d, y_train_d)))\n",
    "print('model 테스트 점수 : {: .3f}'.format(model6_d.score (x_test_d, y_test_d)))"
   ]
  },
  {
   "cell_type": "code",
   "execution_count": 64,
   "metadata": {},
   "outputs": [
    {
     "name": "stderr",
     "output_type": "stream",
     "text": [
      "C:\\ProgramData\\Anaconda3\\lib\\site-packages\\sklearn\\utils\\validation.py:993: DataConversionWarning: A column-vector y was passed when a 1d array was expected. Please change the shape of y to (n_samples, ), for example using ravel().\n",
      "  y = column_or_1d(y, warn=True)\n"
     ]
    },
    {
     "name": "stdout",
     "output_type": "stream",
     "text": [
      "time : 631.4597039222717\n"
     ]
    }
   ],
   "source": [
    "start = time.time()\n",
    "model3_d=SVC(kernel='rbf',C=5,gamma=3).fit(x_train_d,y_train_d)\n",
    "print(\"time :\", time.time() - start)"
   ]
  },
  {
   "cell_type": "code",
   "execution_count": 68,
   "metadata": {
    "scrolled": true
   },
   "outputs": [
    {
     "name": "stdout",
     "output_type": "stream",
     "text": [
      "model 훈련 점수 :  1.000\n",
      "model 테스트 점수 :  0.998\n"
     ]
    }
   ],
   "source": [
    "print('model 훈련 점수 : {: .3f}'.format(model3_d.score (x_train_d, y_train_d)))\n",
    "print('model 테스트 점수 : {: .3f}'.format(model3_d.score (x_test_d, y_test_d)))"
   ]
  },
  {
   "cell_type": "markdown",
   "metadata": {},
   "source": [
    "## 성능 평가"
   ]
  },
  {
   "cell_type": "code",
   "execution_count": 80,
   "metadata": {},
   "outputs": [
    {
     "data": {
      "text/plain": [
       "24"
      ]
     },
     "execution_count": 80,
     "metadata": {},
     "output_type": "execute_result"
    }
   ],
   "source": [
    "model5_d.n_features_in_"
   ]
  },
  {
   "cell_type": "code",
   "execution_count": 127,
   "metadata": {},
   "outputs": [
    {
     "name": "stdout",
     "output_type": "stream",
     "text": [
      "time : 297.63191056251526\n"
     ]
    }
   ],
   "source": [
    "start = time.time()\n",
    "\n",
    "pred2=model5_d.predict(x_train_d)\n",
    "confusion_m=confusion_matrix( y_train_d, pred2)\n",
    "\n",
    "print(\"time :\", time.time() - start)"
   ]
  },
  {
   "cell_type": "code",
   "execution_count": 128,
   "metadata": {},
   "outputs": [
    {
     "name": "stdout",
     "output_type": "stream",
     "text": [
      "[[28201     0]\n",
      " [    0 16352]]\n"
     ]
    }
   ],
   "source": [
    "print(confusion_m)"
   ]
  },
  {
   "cell_type": "code",
   "execution_count": 74,
   "metadata": {},
   "outputs": [
    {
     "name": "stdout",
     "output_type": "stream",
     "text": [
      "time : 58.323668479919434\n"
     ]
    }
   ],
   "source": [
    "start = time.time()\n",
    "\n",
    "pred_t2=model5_d.predict(x_test_d)\n",
    "confusion_m2=confusion_matrix( y_test_d, pred_t)\n",
    "\n",
    "print(\"time :\", time.time() - start)"
   ]
  },
  {
   "cell_type": "code",
   "execution_count": 129,
   "metadata": {},
   "outputs": [
    {
     "name": "stdout",
     "output_type": "stream",
     "text": [
      "[[7036    0]\n",
      " [  57 4046]]\n"
     ]
    }
   ],
   "source": [
    "print(confusion_m2)"
   ]
  },
  {
   "cell_type": "markdown",
   "metadata": {},
   "source": [
    "### Colab 실행결과"
   ]
  },
  {
   "attachments": {
    "image.png": {
     "image/png": "[encoded data removed]"
    }
   },
   "cell_type": "markdown",
   "metadata": {},
   "source": [
    "![image.png](attachment:image.png)"
   ]
  },
  {
   "cell_type": "markdown",
   "metadata": {},
   "source": [
    "### 테스트 데이터의 정확도, 정밀도, 재현율, f1score"
   ]
  },
  {
   "cell_type": "code",
   "execution_count": 91,
   "metadata": {},
   "outputs": [
    {
     "name": "stdout",
     "output_type": "stream",
     "text": [
      "0.023177623748779297\n"
     ]
    }
   ],
   "source": [
    "start=time.time()\n",
    "acc=accuracy_score(y_test_s,pred_t)\n",
    "pre=precision_score(y_test_s , pred_t)\n",
    "rec=recall_score(y_test_s , pred_t)\n",
    "f1=f1_score(y_test_s,pred_t)\n",
    "auc=roc_auc_score(y_test_s, pred_t)\n",
    "print(time.time()-start)"
   ]
  },
  {
   "cell_type": "code",
   "execution_count": 94,
   "metadata": {
    "scrolled": true
   },
   "outputs": [
    {
     "name": "stdout",
     "output_type": "stream",
     "text": [
      "정확도 : 0.995\n",
      "정밀도 : 1.000\n",
      "재현율 : 0.986\n",
      "F1_score : 0.993\n",
      "ROC_AUC_score : 0.993\n"
     ]
    }
   ],
   "source": [
    "# 정확도\n",
    "print('정확도 : {:.3f}'.format(acc))\n",
    "# 정밀도\n",
    "print('정밀도 : {:.3f}'.format(pre))\n",
    "# 재현율\n",
    "print('재현율 : {:.3f}'.format(rec))\n",
    "# f1_score\n",
    "print('F1_score : {:.3f}'.format(f1))\n",
    "# AUC score \n",
    "print('ROC_AUC_score : {:.3f}'.format(auc))"
   ]
  },
  {
   "cell_type": "markdown",
   "metadata": {},
   "source": [
    "## 모델 저장"
   ]
  },
  {
   "cell_type": "code",
   "execution_count": null,
   "metadata": {},
   "outputs": [],
   "source": [
    "joblib.dump(model5_d, './model5_d.pkl')\n",
    "joblib.dump(model3_d, './model3_d.pkl')\n",
    "joblib.dump(model4_d, './model4_d.pkl')"
   ]
  },
  {
   "cell_type": "markdown",
   "metadata": {},
   "source": [
    "### ROC CURVE"
   ]
  },
  {
   "cell_type": "code",
   "execution_count": null,
   "metadata": {},
   "outputs": [],
   "source": [
    "# 하이퍼파라미터 probability=True를 추가하면 약 2시간 소요"
   ]
  },
  {
   "cell_type": "code",
   "execution_count": null,
   "metadata": {
    "scrolled": true
   },
   "outputs": [],
   "source": [
    "start = time.time()\n",
    "model3_s=SVC(kernel='rbf',C=5,gamma=3,probability=True).fit(x_train_s,y_train_s)\n",
    "\n",
    "print('model 훈련 점수 : {: .3f}'.format(model3_s.score (x_train_s, y_train_s)))\n",
    "print('model 테스트 점수 : {: .3f}'.format(model3_s.score (x_test_s, y_test_s)))\n",
    "print(\"time :\", time.time() - start)"
   ]
  },
  {
   "cell_type": "code",
   "execution_count": null,
   "metadata": {},
   "outputs": [],
   "source": [
    "pred_proba=model3_s.predict_proba(x_test_s)[:,1]\n",
    "fprs,tprs,thresholds=roc_curve(y_test_s,pred_proba)"
   ]
  },
  {
   "cell_type": "code",
   "execution_count": null,
   "metadata": {},
   "outputs": [],
   "source": [
    "from sklearn.metrics import roc_curve\n",
    "import matplotlib.pyplot as plt"
   ]
  },
  {
   "cell_type": "code",
   "execution_count": null,
   "metadata": {
    "scrolled": true
   },
   "outputs": [],
   "source": [
    "plt.plot(fprs,tprs)"
   ]
  }
 ],
 "metadata": {
  "kernelspec": {
   "display_name": "Python 3 (ipykernel)",
   "language": "python",
   "name": "python3"
  },
  "language_info": {
   "codemirror_mode": {
    "name": "ipython",
    "version": 3
   },
   "file_extension": ".py",
   "mimetype": "text/x-python",
   "name": "python",
   "nbconvert_exporter": "python",
   "pygments_lexer": "ipython3",
   "version": "3.9.12"
  }
 },
 "nbformat": 4,
 "nbformat_minor": 4
}
