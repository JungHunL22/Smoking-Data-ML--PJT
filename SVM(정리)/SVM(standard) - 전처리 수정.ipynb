{
 "cells": [
  {
   "cell_type": "code",
   "execution_count": 1,
   "metadata": {
    "execution": {
     "iopub.execute_input": "2022-09-27T02:42:06.419644Z",
     "iopub.status.busy": "2022-09-27T02:42:06.419157Z",
     "iopub.status.idle": "2022-09-27T02:42:07.000417Z",
     "shell.execute_reply": "2022-09-27T02:42:06.999011Z",
     "shell.execute_reply.started": "2022-09-27T02:42:06.419597Z"
    }
   },
   "outputs": [],
   "source": [
    "import pandas as pd\n",
    "import numpy as np\n",
    "from sklearn.preprocessing import LabelEncoder # for encoding\n",
    "from sklearn.preprocessing import MinMaxScaler, RobustScaler, StandardScaler #for standardization\n",
    "from sklearn.model_selection import train_test_split\n",
    "import time"
   ]
  },
  {
   "cell_type": "code",
   "execution_count": 2,
   "metadata": {
    "execution": {
     "iopub.execute_input": "2022-09-27T02:42:08.209431Z",
     "iopub.status.busy": "2022-09-27T02:42:08.209024Z",
     "iopub.status.idle": "2022-09-27T02:42:08.221475Z",
     "shell.execute_reply": "2022-09-27T02:42:08.219997Z",
     "shell.execute_reply.started": "2022-09-27T02:42:08.209399Z"
    }
   },
   "outputs": [],
   "source": [
    "def preprocessing(df_scaling, scaled_form = 'MinMaxScaler()'):\n",
    "    # 불필요한 컬럼 제거\n",
    "    if 'ID' in df_scaling:\n",
    "        df_scaling = df_scaling.drop(\"ID\", axis = 1)\n",
    "        if len(df_scaling.columns) == 1:\n",
    "            return df_scaling\n",
    "        \n",
    "        df_scaling = df_scaling.drop('oral', axis = 1) \n",
    "        # 범주형 피처 레이블 인코딩 \n",
    "        cate_features = df_scaling[['gender','tartar']]\n",
    "\n",
    "        lbe = LabelEncoder()\n",
    "        lbe.fit_transform(df_scaling[\"gender\"])\n",
    "        df_scaling[\"gender\"] = lbe.fit_transform(df_scaling[\"gender\"])\n",
    "\n",
    "        lbe = LabelEncoder()\n",
    "        lbe.fit_transform(df_scaling[\"tartar\"])\n",
    "        df_scaling[\"tartar\"] = lbe.fit_transform(df_scaling[\"tartar\"])\n",
    "        # BMI 지수 계산\n",
    "        # bmi = kg/m^2\n",
    "        df_scaling['bmi'] = df_scaling['weight(kg)']/((df_scaling['height(cm)']*0.01)**2)\n",
    "        # wwi(비만 지수) 지수 계산\n",
    "        df_scaling['wwi'] = df_scaling['waist(cm)']/(df_scaling['weight(kg)'].apply(np.sqrt))\n",
    "\n",
    "\n",
    "        # 정규화 작업\n",
    "        cate_features = df_scaling[['gender', 'tartar', 'hearing(right)', 'hearing(left)', 'dental caries']]\n",
    "        scaled_features = df_scaling.drop(cate_features.columns, axis=1)\n",
    "        if scaled_form == 'StandardScaler()':\n",
    "            # Standard scaler\n",
    "            scaler = StandardScaler()\n",
    "            scaler.fit(scaled_features)\n",
    "            scaled = scaler.transform(scaled_features)\n",
    "            standard_scaled = pd.DataFrame(scaled,columns = scaled_features.columns)\n",
    "            standard_scaled[cate_features.columns] = cate_features\n",
    "\n",
    "            return standard_scaled\n",
    "        else:\n",
    "            # MinMax scaler\n",
    "            scaler_M = MinMaxScaler()\n",
    "            scaler_M.fit(scaled_features)\n",
    "            scaled_M = scaler_M.transform(scaled_features)\n",
    "            min_max_scaled = pd.DataFrame(scaled_M,columns = scaled_features.columns)\n",
    "            min_max_scaled[cate_features.columns] = cate_features\n",
    "\n",
    "            return min_max_scaled"
   ]
  },
  {
   "cell_type": "code",
   "execution_count": 3,
   "metadata": {
    "execution": {
     "iopub.execute_input": "2022-09-27T02:42:12.338846Z",
     "iopub.status.busy": "2022-09-27T02:42:12.338436Z",
     "iopub.status.idle": "2022-09-27T02:42:12.632754Z",
     "shell.execute_reply": "2022-09-27T02:42:12.631426Z",
     "shell.execute_reply.started": "2022-09-27T02:42:12.338815Z"
    },
    "scrolled": true
   },
   "outputs": [],
   "source": [
    "# competition_format\n",
    "x_train = pd.read_csv('./data/Smoking_raw/competition_format/x_train.csv')\n",
    "x_test = pd.read_csv('./data/Smoking_raw/competition_format/x_test.csv')\n",
    "y_train = pd.read_csv('./data/Smoking_raw/competition_format/y_train.csv')\n",
    "y_test = pd.read_csv('./data/Smoking_raw/competition_format/y_test.csv')"
   ]
  },
  {
   "cell_type": "code",
   "execution_count": 4,
   "metadata": {
    "execution": {
     "iopub.execute_input": "2022-09-27T02:42:40.108817Z",
     "iopub.status.busy": "2022-09-27T02:42:40.108386Z",
     "iopub.status.idle": "2022-09-27T02:42:40.224687Z",
     "shell.execute_reply": "2022-09-27T02:42:40.223155Z",
     "shell.execute_reply.started": "2022-09-27T02:42:40.108787Z"
    }
   },
   "outputs": [],
   "source": [
    "x_train_s = preprocessing(x_train,scaled_form ='StandardScaler()')\n",
    "x_test_s = preprocessing(x_test,'StandardScaler()')\n",
    "y_train_s = preprocessing(y_train,'StandardScaler()')\n",
    "y_test_s = preprocessing(y_test,'StandardScaler()')"
   ]
  },
  {
   "cell_type": "code",
   "execution_count": 5,
   "metadata": {},
   "outputs": [
    {
     "data": {
      "text/html": [
       "<div>\n",
       "<style scoped>\n",
       "    .dataframe tbody tr th:only-of-type {\n",
       "        vertical-align: middle;\n",
       "    }\n",
       "\n",
       "    .dataframe tbody tr th {\n",
       "        vertical-align: top;\n",
       "    }\n",
       "\n",
       "    .dataframe thead th {\n",
       "        text-align: right;\n",
       "    }\n",
       "</style>\n",
       "<table border=\"1\" class=\"dataframe\">\n",
       "  <thead>\n",
       "    <tr style=\"text-align: right;\">\n",
       "      <th></th>\n",
       "      <th>age</th>\n",
       "      <th>height(cm)</th>\n",
       "      <th>weight(kg)</th>\n",
       "      <th>waist(cm)</th>\n",
       "      <th>eyesight(left)</th>\n",
       "      <th>eyesight(right)</th>\n",
       "      <th>systolic</th>\n",
       "      <th>relaxation</th>\n",
       "      <th>fasting blood sugar</th>\n",
       "      <th>Cholesterol</th>\n",
       "      <th>...</th>\n",
       "      <th>AST</th>\n",
       "      <th>ALT</th>\n",
       "      <th>Gtp</th>\n",
       "      <th>bmi</th>\n",
       "      <th>wwi</th>\n",
       "      <th>gender</th>\n",
       "      <th>tartar</th>\n",
       "      <th>hearing(right)</th>\n",
       "      <th>hearing(left)</th>\n",
       "      <th>dental caries</th>\n",
       "    </tr>\n",
       "  </thead>\n",
       "  <tbody>\n",
       "    <tr>\n",
       "      <th>0</th>\n",
       "      <td>-0.348302</td>\n",
       "      <td>-1.049853</td>\n",
       "      <td>-0.458800</td>\n",
       "      <td>-0.083771</td>\n",
       "      <td>0.385691</td>\n",
       "      <td>-0.016643</td>\n",
       "      <td>-0.550024</td>\n",
       "      <td>-0.313914</td>\n",
       "      <td>-0.255217</td>\n",
       "      <td>0.494320</td>\n",
       "      <td>...</td>\n",
       "      <td>-0.430331</td>\n",
       "      <td>-0.254602</td>\n",
       "      <td>-0.257586</td>\n",
       "      <td>0.231311</td>\n",
       "      <td>0.502492</td>\n",
       "      <td>0</td>\n",
       "      <td>1</td>\n",
       "      <td>1.0</td>\n",
       "      <td>1.0</td>\n",
       "      <td>0.0</td>\n",
       "    </tr>\n",
       "    <tr>\n",
       "      <th>1</th>\n",
       "      <td>-0.348302</td>\n",
       "      <td>-0.506284</td>\n",
       "      <td>-0.458800</td>\n",
       "      <td>-0.116105</td>\n",
       "      <td>-0.433770</td>\n",
       "      <td>-0.835046</td>\n",
       "      <td>-0.184756</td>\n",
       "      <td>-0.623346</td>\n",
       "      <td>1.471806</td>\n",
       "      <td>-0.137158</td>\n",
       "      <td>...</td>\n",
       "      <td>-0.220763</td>\n",
       "      <td>-0.254602</td>\n",
       "      <td>-0.435020</td>\n",
       "      <td>-0.210748</td>\n",
       "      <td>0.444016</td>\n",
       "      <td>0</td>\n",
       "      <td>1</td>\n",
       "      <td>1.0</td>\n",
       "      <td>1.0</td>\n",
       "      <td>0.0</td>\n",
       "    </tr>\n",
       "    <tr>\n",
       "      <th>2</th>\n",
       "      <td>0.892501</td>\n",
       "      <td>0.580854</td>\n",
       "      <td>-0.458800</td>\n",
       "      <td>-0.223885</td>\n",
       "      <td>-0.433770</td>\n",
       "      <td>-0.425844</td>\n",
       "      <td>1.203261</td>\n",
       "      <td>1.026958</td>\n",
       "      <td>-0.495081</td>\n",
       "      <td>1.235620</td>\n",
       "      <td>...</td>\n",
       "      <td>-0.273155</td>\n",
       "      <td>-0.349076</td>\n",
       "      <td>-0.356161</td>\n",
       "      <td>-0.980727</td>\n",
       "      <td>0.249093</td>\n",
       "      <td>1</td>\n",
       "      <td>0</td>\n",
       "      <td>1.0</td>\n",
       "      <td>1.0</td>\n",
       "      <td>0.0</td>\n",
       "    </tr>\n",
       "    <tr>\n",
       "      <th>3</th>\n",
       "      <td>-0.348302</td>\n",
       "      <td>0.037285</td>\n",
       "      <td>0.321016</td>\n",
       "      <td>0.638353</td>\n",
       "      <td>1.000286</td>\n",
       "      <td>1.006362</td>\n",
       "      <td>-1.572773</td>\n",
       "      <td>-1.654787</td>\n",
       "      <td>-0.159271</td>\n",
       "      <td>3.432064</td>\n",
       "      <td>...</td>\n",
       "      <td>-0.377939</td>\n",
       "      <td>-0.034160</td>\n",
       "      <td>-0.435020</td>\n",
       "      <td>0.443546</td>\n",
       "      <td>0.536052</td>\n",
       "      <td>1</td>\n",
       "      <td>1</td>\n",
       "      <td>1.0</td>\n",
       "      <td>1.0</td>\n",
       "      <td>0.0</td>\n",
       "    </tr>\n",
       "    <tr>\n",
       "      <th>4</th>\n",
       "      <td>-0.348302</td>\n",
       "      <td>-1.049853</td>\n",
       "      <td>-0.458800</td>\n",
       "      <td>0.422793</td>\n",
       "      <td>-0.024040</td>\n",
       "      <td>-0.016643</td>\n",
       "      <td>-0.111703</td>\n",
       "      <td>-0.210770</td>\n",
       "      <td>-0.926837</td>\n",
       "      <td>-0.356803</td>\n",
       "      <td>...</td>\n",
       "      <td>-0.535115</td>\n",
       "      <td>-0.412060</td>\n",
       "      <td>-0.356161</td>\n",
       "      <td>0.231311</td>\n",
       "      <td>1.418627</td>\n",
       "      <td>0</td>\n",
       "      <td>0</td>\n",
       "      <td>1.0</td>\n",
       "      <td>1.0</td>\n",
       "      <td>0.0</td>\n",
       "    </tr>\n",
       "  </tbody>\n",
       "</table>\n",
       "<p>5 rows × 26 columns</p>\n",
       "</div>"
      ],
      "text/plain": [
       "        age  height(cm)  weight(kg)  waist(cm)  eyesight(left)  \\\n",
       "0 -0.348302   -1.049853   -0.458800  -0.083771        0.385691   \n",
       "1 -0.348302   -0.506284   -0.458800  -0.116105       -0.433770   \n",
       "2  0.892501    0.580854   -0.458800  -0.223885       -0.433770   \n",
       "3 -0.348302    0.037285    0.321016   0.638353        1.000286   \n",
       "4 -0.348302   -1.049853   -0.458800   0.422793       -0.024040   \n",
       "\n",
       "   eyesight(right)  systolic  relaxation  fasting blood sugar  Cholesterol  \\\n",
       "0        -0.016643 -0.550024   -0.313914            -0.255217     0.494320   \n",
       "1        -0.835046 -0.184756   -0.623346             1.471806    -0.137158   \n",
       "2        -0.425844  1.203261    1.026958            -0.495081     1.235620   \n",
       "3         1.006362 -1.572773   -1.654787            -0.159271     3.432064   \n",
       "4        -0.016643 -0.111703   -0.210770            -0.926837    -0.356803   \n",
       "\n",
       "   ...       AST       ALT       Gtp       bmi       wwi  gender  tartar  \\\n",
       "0  ... -0.430331 -0.254602 -0.257586  0.231311  0.502492       0       1   \n",
       "1  ... -0.220763 -0.254602 -0.435020 -0.210748  0.444016       0       1   \n",
       "2  ... -0.273155 -0.349076 -0.356161 -0.980727  0.249093       1       0   \n",
       "3  ... -0.377939 -0.034160 -0.435020  0.443546  0.536052       1       1   \n",
       "4  ... -0.535115 -0.412060 -0.356161  0.231311  1.418627       0       0   \n",
       "\n",
       "   hearing(right)  hearing(left)  dental caries  \n",
       "0             1.0            1.0            0.0  \n",
       "1             1.0            1.0            0.0  \n",
       "2             1.0            1.0            0.0  \n",
       "3             1.0            1.0            0.0  \n",
       "4             1.0            1.0            0.0  \n",
       "\n",
       "[5 rows x 26 columns]"
      ]
     },
     "execution_count": 5,
     "metadata": {},
     "output_type": "execute_result"
    }
   ],
   "source": [
    "x_train_s.head()"
   ]
  },
  {
   "cell_type": "markdown",
   "metadata": {},
   "source": [
    "## Standard Scaler"
   ]
  },
  {
   "cell_type": "code",
   "execution_count": 6,
   "metadata": {
    "execution": {
     "iopub.execute_input": "2022-09-27T02:42:53.155640Z",
     "iopub.status.busy": "2022-09-27T02:42:53.155246Z",
     "iopub.status.idle": "2022-09-27T02:42:53.229763Z",
     "shell.execute_reply": "2022-09-27T02:42:53.228488Z",
     "shell.execute_reply.started": "2022-09-27T02:42:53.155611Z"
    }
   },
   "outputs": [],
   "source": [
    "from sklearn.metrics import accuracy_score,f1_score, confusion_matrix, precision_recall_curve\n",
    "from sklearn.metrics import roc_curve,precision_score, recall_score, roc_auc_score\n",
    "from sklearn.svm import SVC\n"
   ]
  },
  {
   "cell_type": "code",
   "execution_count": 7,
   "metadata": {
    "execution": {
     "iopub.execute_input": "2022-09-27T02:37:41.251139Z",
     "iopub.status.busy": "2022-09-27T02:37:41.250428Z"
    }
   },
   "outputs": [
    {
     "name": "stderr",
     "output_type": "stream",
     "text": [
      "C:\\ProgramData\\Anaconda3\\lib\\site-packages\\sklearn\\utils\\validation.py:993: DataConversionWarning: A column-vector y was passed when a 1d array was expected. Please change the shape of y to (n_samples, ), for example using ravel().\n",
      "  y = column_or_1d(y, warn=True)\n"
     ]
    },
    {
     "name": "stdout",
     "output_type": "stream",
     "text": [
      "model 훈련 점수 :  0.743\n",
      "model 테스트 점수 :  0.748\n"
     ]
    }
   ],
   "source": [
    "# 선형 SVM (하드 마진)\n",
    "# C : 값이 클수록 하드마진\n",
    "model1_s=SVC(kernel='linear',C=1.0).fit(x_train_s,y_train_s)\n",
    "\n",
    "print('model 훈련 점수 : {: .3f}'.format(model1_s.score (x_train_s, y_train_s)))\n",
    "print('model 테스트 점수 : {: .3f}'.format(model1_s.score (x_test_s, y_test_s)))"
   ]
  },
  {
   "cell_type": "code",
   "execution_count": 8,
   "metadata": {
    "execution": {
     "iopub.execute_input": "2022-09-27T02:25:46.887579Z",
     "iopub.status.busy": "2022-09-27T02:25:46.886343Z",
     "iopub.status.idle": "2022-09-27T02:27:50.624905Z",
     "shell.execute_reply": "2022-09-27T02:27:50.623484Z",
     "shell.execute_reply.started": "2022-09-27T02:25:46.887536Z"
    }
   },
   "outputs": [
    {
     "name": "stderr",
     "output_type": "stream",
     "text": [
      "C:\\ProgramData\\Anaconda3\\lib\\site-packages\\sklearn\\utils\\validation.py:993: DataConversionWarning: A column-vector y was passed when a 1d array was expected. Please change the shape of y to (n_samples, ), for example using ravel().\n",
      "  y = column_or_1d(y, warn=True)\n"
     ]
    },
    {
     "name": "stdout",
     "output_type": "stream",
     "text": [
      "model 훈련 점수 :  0.743\n",
      "model 테스트 점수 :  0.748\n"
     ]
    }
   ],
   "source": [
    "# C=5\n",
    "model2_s=SVC(kernel='linear',C=5).fit(x_train_s,y_train_s)\n",
    "print('model 훈련 점수 : {: .3f}'.format(model2_s.score (x_train_s, y_train_s)))\n",
    "print('model 테스트 점수 : {: .3f}'.format(model2_s.score (x_test_s, y_test_s)))"
   ]
  },
  {
   "cell_type": "code",
   "execution_count": 10,
   "metadata": {},
   "outputs": [
    {
     "name": "stderr",
     "output_type": "stream",
     "text": [
      "C:\\ProgramData\\Anaconda3\\lib\\site-packages\\sklearn\\utils\\validation.py:993: DataConversionWarning: A column-vector y was passed when a 1d array was expected. Please change the shape of y to (n_samples, ), for example using ravel().\n",
      "  y = column_or_1d(y, warn=True)\n"
     ]
    },
    {
     "name": "stdout",
     "output_type": "stream",
     "text": [
      "model 훈련 점수 :  1.000\n",
      "model 테스트 점수 :  0.998\n"
     ]
    }
   ],
   "source": [
    "model3_s=SVC(kernel='rbf',C=5,gamma=3).fit(x_train_s,y_train_s)\n",
    "\n",
    "print('model 훈련 점수 : {: .3f}'.format(model3_s.score (x_train_s, y_train_s)))\n",
    "print('model 테스트 점수 : {: .3f}'.format(model3_s.score (x_test_s, y_test_s)))"
   ]
  },
  {
   "cell_type": "code",
   "execution_count": 9,
   "metadata": {
    "execution": {
     "iopub.execute_input": "2022-09-27T02:32:10.504904Z",
     "iopub.status.busy": "2022-09-27T02:32:10.504110Z",
     "iopub.status.idle": "2022-09-27T02:32:10.581819Z",
     "shell.execute_reply": "2022-09-27T02:32:10.580293Z",
     "shell.execute_reply.started": "2022-09-27T02:32:10.504808Z"
    },
    "scrolled": true
   },
   "outputs": [
    {
     "name": "stderr",
     "output_type": "stream",
     "text": [
      "C:\\ProgramData\\Anaconda3\\lib\\site-packages\\sklearn\\utils\\validation.py:993: DataConversionWarning: A column-vector y was passed when a 1d array was expected. Please change the shape of y to (n_samples, ), for example using ravel().\n",
      "  y = column_or_1d(y, warn=True)\n"
     ]
    },
    {
     "name": "stdout",
     "output_type": "stream",
     "text": [
      "model 훈련 점수 :  1.000\n",
      "model 테스트 점수 :  0.995\n"
     ]
    }
   ],
   "source": [
    "# rbf\n",
    "# c=1 gamma=3\n",
    "model5_s=SVC(kernel='rbf',C=1.0,gamma=3).fit(x_train_s,y_train_s)\n",
    "\n",
    "print('model 훈련 점수 : {: .3f}'.format(model5_s.score (x_train_s, y_train_s)))\n",
    "print('model 테스트 점수 : {: .3f}'.format(model5_s.score (x_test_s, y_test_s)))"
   ]
  },
  {
   "cell_type": "code",
   "execution_count": 12,
   "metadata": {},
   "outputs": [],
   "source": [
    "pred=model5_s.predict(x_train_s)"
   ]
  },
  {
   "cell_type": "code",
   "execution_count": 13,
   "metadata": {},
   "outputs": [
    {
     "data": {
      "text/plain": [
       "array([[28201,     0],\n",
       "       [    0, 16352]], dtype=int64)"
      ]
     },
     "execution_count": 13,
     "metadata": {},
     "output_type": "execute_result"
    }
   ],
   "source": [
    "confusion_matrix( y_train_s, pred)"
   ]
  },
  {
   "cell_type": "code",
   "execution_count": 14,
   "metadata": {},
   "outputs": [],
   "source": [
    "pred_t=model5_s.predict(x_test_s)"
   ]
  },
  {
   "cell_type": "code",
   "execution_count": 15,
   "metadata": {},
   "outputs": [
    {
     "data": {
      "text/plain": [
       "array([[7036,    0],\n",
       "       [  57, 4046]], dtype=int64)"
      ]
     },
     "execution_count": 15,
     "metadata": {},
     "output_type": "execute_result"
    }
   ],
   "source": [
    "confusion_matrix( y_test_s, pred_t)"
   ]
  },
  {
   "cell_type": "markdown",
   "metadata": {},
   "source": [
    "## min-max Scaler"
   ]
  },
  {
   "cell_type": "code",
   "execution_count": 16,
   "metadata": {
    "execution": {
     "iopub.execute_input": "2022-09-27T02:42:17.498051Z",
     "iopub.status.busy": "2022-09-27T02:42:17.497526Z",
     "iopub.status.idle": "2022-09-27T02:42:17.631199Z",
     "shell.execute_reply": "2022-09-27T02:42:17.630004Z",
     "shell.execute_reply.started": "2022-09-27T02:42:17.498017Z"
    }
   },
   "outputs": [],
   "source": [
    "x_train_m = preprocessing(x_train)\n",
    "x_test_m = preprocessing(x_test)\n",
    "y_train_m = preprocessing(y_train)\n",
    "y_test_m = preprocessing(y_test)"
   ]
  },
  {
   "cell_type": "code",
   "execution_count": 17,
   "metadata": {
    "execution": {
     "iopub.execute_input": "2022-09-27T02:42:44.959151Z",
     "iopub.status.busy": "2022-09-27T02:42:44.958643Z",
     "iopub.status.idle": "2022-09-27T02:42:45.000247Z",
     "shell.execute_reply": "2022-09-27T02:42:44.998920Z",
     "shell.execute_reply.started": "2022-09-27T02:42:44.959104Z"
    }
   },
   "outputs": [
    {
     "data": {
      "text/html": [
       "<div>\n",
       "<style scoped>\n",
       "    .dataframe tbody tr th:only-of-type {\n",
       "        vertical-align: middle;\n",
       "    }\n",
       "\n",
       "    .dataframe tbody tr th {\n",
       "        vertical-align: top;\n",
       "    }\n",
       "\n",
       "    .dataframe thead th {\n",
       "        text-align: right;\n",
       "    }\n",
       "</style>\n",
       "<table border=\"1\" class=\"dataframe\">\n",
       "  <thead>\n",
       "    <tr style=\"text-align: right;\">\n",
       "      <th></th>\n",
       "      <th>age</th>\n",
       "      <th>height(cm)</th>\n",
       "      <th>weight(kg)</th>\n",
       "      <th>waist(cm)</th>\n",
       "      <th>eyesight(left)</th>\n",
       "      <th>eyesight(right)</th>\n",
       "      <th>systolic</th>\n",
       "      <th>relaxation</th>\n",
       "      <th>fasting blood sugar</th>\n",
       "      <th>Cholesterol</th>\n",
       "      <th>...</th>\n",
       "      <th>AST</th>\n",
       "      <th>ALT</th>\n",
       "      <th>Gtp</th>\n",
       "      <th>bmi</th>\n",
       "      <th>wwi</th>\n",
       "      <th>gender</th>\n",
       "      <th>tartar</th>\n",
       "      <th>hearing(right)</th>\n",
       "      <th>hearing(left)</th>\n",
       "      <th>dental caries</th>\n",
       "    </tr>\n",
       "  </thead>\n",
       "  <tbody>\n",
       "    <tr>\n",
       "      <th>0</th>\n",
       "      <td>0.307692</td>\n",
       "      <td>0.416667</td>\n",
       "      <td>0.285714</td>\n",
       "      <td>0.388462</td>\n",
       "      <td>0.112245</td>\n",
       "      <td>0.091837</td>\n",
       "      <td>0.254438</td>\n",
       "      <td>0.311321</td>\n",
       "      <td>0.104575</td>\n",
       "      <td>0.410256</td>\n",
       "      <td>...</td>\n",
       "      <td>0.009195</td>\n",
       "      <td>0.006179</td>\n",
       "      <td>0.026052</td>\n",
       "      <td>0.379885</td>\n",
       "      <td>0.447066</td>\n",
       "      <td>0</td>\n",
       "      <td>1</td>\n",
       "      <td>1.0</td>\n",
       "      <td>1.0</td>\n",
       "      <td>0.0</td>\n",
       "    </tr>\n",
       "    <tr>\n",
       "      <th>1</th>\n",
       "      <td>0.307692</td>\n",
       "      <td>0.500000</td>\n",
       "      <td>0.285714</td>\n",
       "      <td>0.384615</td>\n",
       "      <td>0.071429</td>\n",
       "      <td>0.051020</td>\n",
       "      <td>0.284024</td>\n",
       "      <td>0.283019</td>\n",
       "      <td>0.183007</td>\n",
       "      <td>0.351282</td>\n",
       "      <td>...</td>\n",
       "      <td>0.012261</td>\n",
       "      <td>0.006179</td>\n",
       "      <td>0.017034</td>\n",
       "      <td>0.325362</td>\n",
       "      <td>0.442914</td>\n",
       "      <td>0</td>\n",
       "      <td>1</td>\n",
       "      <td>1.0</td>\n",
       "      <td>1.0</td>\n",
       "      <td>0.0</td>\n",
       "    </tr>\n",
       "    <tr>\n",
       "      <th>2</th>\n",
       "      <td>0.538462</td>\n",
       "      <td>0.666667</td>\n",
       "      <td>0.285714</td>\n",
       "      <td>0.371795</td>\n",
       "      <td>0.071429</td>\n",
       "      <td>0.071429</td>\n",
       "      <td>0.396450</td>\n",
       "      <td>0.433962</td>\n",
       "      <td>0.093682</td>\n",
       "      <td>0.479487</td>\n",
       "      <td>...</td>\n",
       "      <td>0.011494</td>\n",
       "      <td>0.005149</td>\n",
       "      <td>0.021042</td>\n",
       "      <td>0.230392</td>\n",
       "      <td>0.429073</td>\n",
       "      <td>1</td>\n",
       "      <td>0</td>\n",
       "      <td>1.0</td>\n",
       "      <td>1.0</td>\n",
       "      <td>0.0</td>\n",
       "    </tr>\n",
       "    <tr>\n",
       "      <th>3</th>\n",
       "      <td>0.307692</td>\n",
       "      <td>0.583333</td>\n",
       "      <td>0.380952</td>\n",
       "      <td>0.474359</td>\n",
       "      <td>0.142857</td>\n",
       "      <td>0.142857</td>\n",
       "      <td>0.171598</td>\n",
       "      <td>0.188679</td>\n",
       "      <td>0.108932</td>\n",
       "      <td>0.684615</td>\n",
       "      <td>...</td>\n",
       "      <td>0.009962</td>\n",
       "      <td>0.008582</td>\n",
       "      <td>0.017034</td>\n",
       "      <td>0.406062</td>\n",
       "      <td>0.449449</td>\n",
       "      <td>1</td>\n",
       "      <td>1</td>\n",
       "      <td>1.0</td>\n",
       "      <td>1.0</td>\n",
       "      <td>0.0</td>\n",
       "    </tr>\n",
       "    <tr>\n",
       "      <th>4</th>\n",
       "      <td>0.307692</td>\n",
       "      <td>0.416667</td>\n",
       "      <td>0.285714</td>\n",
       "      <td>0.448718</td>\n",
       "      <td>0.091837</td>\n",
       "      <td>0.091837</td>\n",
       "      <td>0.289941</td>\n",
       "      <td>0.320755</td>\n",
       "      <td>0.074074</td>\n",
       "      <td>0.330769</td>\n",
       "      <td>...</td>\n",
       "      <td>0.007663</td>\n",
       "      <td>0.004463</td>\n",
       "      <td>0.021042</td>\n",
       "      <td>0.379885</td>\n",
       "      <td>0.512118</td>\n",
       "      <td>0</td>\n",
       "      <td>0</td>\n",
       "      <td>1.0</td>\n",
       "      <td>1.0</td>\n",
       "      <td>0.0</td>\n",
       "    </tr>\n",
       "  </tbody>\n",
       "</table>\n",
       "<p>5 rows × 26 columns</p>\n",
       "</div>"
      ],
      "text/plain": [
       "        age  height(cm)  weight(kg)  waist(cm)  eyesight(left)  \\\n",
       "0  0.307692    0.416667    0.285714   0.388462        0.112245   \n",
       "1  0.307692    0.500000    0.285714   0.384615        0.071429   \n",
       "2  0.538462    0.666667    0.285714   0.371795        0.071429   \n",
       "3  0.307692    0.583333    0.380952   0.474359        0.142857   \n",
       "4  0.307692    0.416667    0.285714   0.448718        0.091837   \n",
       "\n",
       "   eyesight(right)  systolic  relaxation  fasting blood sugar  Cholesterol  \\\n",
       "0         0.091837  0.254438    0.311321             0.104575     0.410256   \n",
       "1         0.051020  0.284024    0.283019             0.183007     0.351282   \n",
       "2         0.071429  0.396450    0.433962             0.093682     0.479487   \n",
       "3         0.142857  0.171598    0.188679             0.108932     0.684615   \n",
       "4         0.091837  0.289941    0.320755             0.074074     0.330769   \n",
       "\n",
       "   ...       AST       ALT       Gtp       bmi       wwi  gender  tartar  \\\n",
       "0  ...  0.009195  0.006179  0.026052  0.379885  0.447066       0       1   \n",
       "1  ...  0.012261  0.006179  0.017034  0.325362  0.442914       0       1   \n",
       "2  ...  0.011494  0.005149  0.021042  0.230392  0.429073       1       0   \n",
       "3  ...  0.009962  0.008582  0.017034  0.406062  0.449449       1       1   \n",
       "4  ...  0.007663  0.004463  0.021042  0.379885  0.512118       0       0   \n",
       "\n",
       "   hearing(right)  hearing(left)  dental caries  \n",
       "0             1.0            1.0            0.0  \n",
       "1             1.0            1.0            0.0  \n",
       "2             1.0            1.0            0.0  \n",
       "3             1.0            1.0            0.0  \n",
       "4             1.0            1.0            0.0  \n",
       "\n",
       "[5 rows x 26 columns]"
      ]
     },
     "execution_count": 17,
     "metadata": {},
     "output_type": "execute_result"
    }
   ],
   "source": [
    "x_train_m.head()"
   ]
  },
  {
   "cell_type": "code",
   "execution_count": 18,
   "metadata": {
    "execution": {
     "iopub.execute_input": "2022-09-27T02:42:57.607434Z",
     "iopub.status.busy": "2022-09-27T02:42:57.606977Z",
     "iopub.status.idle": "2022-09-27T02:42:57.655993Z",
     "shell.execute_reply": "2022-09-27T02:42:57.653824Z",
     "shell.execute_reply.started": "2022-09-27T02:42:57.607402Z"
    },
    "scrolled": true
   },
   "outputs": [
    {
     "name": "stderr",
     "output_type": "stream",
     "text": [
      "C:\\ProgramData\\Anaconda3\\lib\\site-packages\\sklearn\\utils\\validation.py:993: DataConversionWarning: A column-vector y was passed when a 1d array was expected. Please change the shape of y to (n_samples, ), for example using ravel().\n",
      "  y = column_or_1d(y, warn=True)\n"
     ]
    },
    {
     "name": "stdout",
     "output_type": "stream",
     "text": [
      "model 훈련 점수 :  0.740\n",
      "model 테스트 점수 :  0.738\n"
     ]
    }
   ],
   "source": [
    "# 선형 SVM (하드 마진)\n",
    "model1_m=SVC(kernel='linear',C=1.0).fit(x_train_m,y_train_m)\n",
    "# C : 값이 클스록 하드마진\n",
    "print('model 훈련 점수 : {: .3f}'.format(model1_m.score (x_train_m, y_train_m)))\n",
    "print('model 테스트 점수 : {: .3f}'.format(model1_m.score (x_test_m, y_test_m)))"
   ]
  },
  {
   "cell_type": "code",
   "execution_count": 19,
   "metadata": {},
   "outputs": [
    {
     "name": "stderr",
     "output_type": "stream",
     "text": [
      "C:\\ProgramData\\Anaconda3\\lib\\site-packages\\sklearn\\utils\\validation.py:993: DataConversionWarning: A column-vector y was passed when a 1d array was expected. Please change the shape of y to (n_samples, ), for example using ravel().\n",
      "  y = column_or_1d(y, warn=True)\n"
     ]
    },
    {
     "name": "stdout",
     "output_type": "stream",
     "text": [
      "model 훈련 점수 :  0.742\n",
      "model 테스트 점수 :  0.740\n"
     ]
    }
   ],
   "source": [
    "model2_m=SVC(kernel='linear',C=5).fit(x_train_m,y_train_m)\n",
    "print('model 훈련 점수 : {: .3f}'.format(model2_m.score (x_train_m, y_train_m)))\n",
    "print('model 테스트 점수 : {: .3f}'.format(model2_m.score (x_test_m, y_test_m)))"
   ]
  },
  {
   "cell_type": "code",
   "execution_count": 20,
   "metadata": {},
   "outputs": [
    {
     "name": "stderr",
     "output_type": "stream",
     "text": [
      "C:\\ProgramData\\Anaconda3\\lib\\site-packages\\sklearn\\utils\\validation.py:993: DataConversionWarning: A column-vector y was passed when a 1d array was expected. Please change the shape of y to (n_samples, ), for example using ravel().\n",
      "  y = column_or_1d(y, warn=True)\n"
     ]
    },
    {
     "name": "stdout",
     "output_type": "stream",
     "text": [
      "model 훈련 점수 :  0.763\n",
      "model 테스트 점수 :  0.758\n"
     ]
    }
   ],
   "source": [
    "# rbf\n",
    "model5_m=SVC(kernel='rbf',C=1.0,gamma=3).fit(x_train_m,y_train_m)\n",
    "\n",
    "print('model 훈련 점수 : {: .3f}'.format(model5_m.score (x_train_m, y_train_m)))\n",
    "print('model 테스트 점수 : {: .3f}'.format(model5_m.score (x_test_m, y_test_m)))"
   ]
  },
  {
   "cell_type": "code",
   "execution_count": 21,
   "metadata": {},
   "outputs": [
    {
     "name": "stderr",
     "output_type": "stream",
     "text": [
      "C:\\ProgramData\\Anaconda3\\lib\\site-packages\\sklearn\\utils\\validation.py:993: DataConversionWarning: A column-vector y was passed when a 1d array was expected. Please change the shape of y to (n_samples, ), for example using ravel().\n",
      "  y = column_or_1d(y, warn=True)\n"
     ]
    },
    {
     "name": "stdout",
     "output_type": "stream",
     "text": [
      "model 훈련 점수 :  0.825\n",
      "model 테스트 점수 :  0.743\n"
     ]
    }
   ],
   "source": [
    "model6_m=SVC(kernel='rbf',C=3,gamma=10).fit(x_train_m,y_train_m)\n",
    "\n",
    "print('model 훈련 점수 : {: .3f}'.format(model6_m.score (x_train_m, y_train_m)))\n",
    "print('model 테스트 점수 : {: .3f}'.format(model6_m.score (x_test_m, y_test_m)))"
   ]
  },
  {
   "cell_type": "markdown",
   "metadata": {},
   "source": [
    "## PCA 후 SVM (수행속도 단축?)"
   ]
  },
  {
   "cell_type": "code",
   "execution_count": 22,
   "metadata": {},
   "outputs": [],
   "source": [
    "# 주성분 2개로 축소\n",
    "from sklearn.decomposition import PCA\n",
    "pca = PCA(n_components=2)"
   ]
  },
  {
   "cell_type": "markdown",
   "metadata": {},
   "source": [
    "#### standard scaling 사용"
   ]
  },
  {
   "cell_type": "code",
   "execution_count": 23,
   "metadata": {},
   "outputs": [
    {
     "data": {
      "text/html": [
       "<div>\n",
       "<style scoped>\n",
       "    .dataframe tbody tr th:only-of-type {\n",
       "        vertical-align: middle;\n",
       "    }\n",
       "\n",
       "    .dataframe tbody tr th {\n",
       "        vertical-align: top;\n",
       "    }\n",
       "\n",
       "    .dataframe thead th {\n",
       "        text-align: right;\n",
       "    }\n",
       "</style>\n",
       "<table border=\"1\" class=\"dataframe\">\n",
       "  <thead>\n",
       "    <tr style=\"text-align: right;\">\n",
       "      <th></th>\n",
       "      <th>age</th>\n",
       "      <th>height(cm)</th>\n",
       "      <th>weight(kg)</th>\n",
       "      <th>waist(cm)</th>\n",
       "      <th>eyesight(left)</th>\n",
       "      <th>eyesight(right)</th>\n",
       "      <th>systolic</th>\n",
       "      <th>relaxation</th>\n",
       "      <th>fasting blood sugar</th>\n",
       "      <th>Cholesterol</th>\n",
       "      <th>...</th>\n",
       "      <th>AST</th>\n",
       "      <th>ALT</th>\n",
       "      <th>Gtp</th>\n",
       "      <th>bmi</th>\n",
       "      <th>wwi</th>\n",
       "      <th>gender</th>\n",
       "      <th>tartar</th>\n",
       "      <th>hearing(right)</th>\n",
       "      <th>hearing(left)</th>\n",
       "      <th>dental caries</th>\n",
       "    </tr>\n",
       "  </thead>\n",
       "  <tbody>\n",
       "    <tr>\n",
       "      <th>0</th>\n",
       "      <td>-0.348302</td>\n",
       "      <td>-1.049853</td>\n",
       "      <td>-0.458800</td>\n",
       "      <td>-0.083771</td>\n",
       "      <td>0.385691</td>\n",
       "      <td>-0.016643</td>\n",
       "      <td>-0.550024</td>\n",
       "      <td>-0.313914</td>\n",
       "      <td>-0.255217</td>\n",
       "      <td>0.494320</td>\n",
       "      <td>...</td>\n",
       "      <td>-0.430331</td>\n",
       "      <td>-0.254602</td>\n",
       "      <td>-0.257586</td>\n",
       "      <td>0.231311</td>\n",
       "      <td>0.502492</td>\n",
       "      <td>0</td>\n",
       "      <td>1</td>\n",
       "      <td>1.0</td>\n",
       "      <td>1.0</td>\n",
       "      <td>0.0</td>\n",
       "    </tr>\n",
       "    <tr>\n",
       "      <th>1</th>\n",
       "      <td>-0.348302</td>\n",
       "      <td>-0.506284</td>\n",
       "      <td>-0.458800</td>\n",
       "      <td>-0.116105</td>\n",
       "      <td>-0.433770</td>\n",
       "      <td>-0.835046</td>\n",
       "      <td>-0.184756</td>\n",
       "      <td>-0.623346</td>\n",
       "      <td>1.471806</td>\n",
       "      <td>-0.137158</td>\n",
       "      <td>...</td>\n",
       "      <td>-0.220763</td>\n",
       "      <td>-0.254602</td>\n",
       "      <td>-0.435020</td>\n",
       "      <td>-0.210748</td>\n",
       "      <td>0.444016</td>\n",
       "      <td>0</td>\n",
       "      <td>1</td>\n",
       "      <td>1.0</td>\n",
       "      <td>1.0</td>\n",
       "      <td>0.0</td>\n",
       "    </tr>\n",
       "    <tr>\n",
       "      <th>2</th>\n",
       "      <td>0.892501</td>\n",
       "      <td>0.580854</td>\n",
       "      <td>-0.458800</td>\n",
       "      <td>-0.223885</td>\n",
       "      <td>-0.433770</td>\n",
       "      <td>-0.425844</td>\n",
       "      <td>1.203261</td>\n",
       "      <td>1.026958</td>\n",
       "      <td>-0.495081</td>\n",
       "      <td>1.235620</td>\n",
       "      <td>...</td>\n",
       "      <td>-0.273155</td>\n",
       "      <td>-0.349076</td>\n",
       "      <td>-0.356161</td>\n",
       "      <td>-0.980727</td>\n",
       "      <td>0.249093</td>\n",
       "      <td>1</td>\n",
       "      <td>0</td>\n",
       "      <td>1.0</td>\n",
       "      <td>1.0</td>\n",
       "      <td>0.0</td>\n",
       "    </tr>\n",
       "    <tr>\n",
       "      <th>3</th>\n",
       "      <td>-0.348302</td>\n",
       "      <td>0.037285</td>\n",
       "      <td>0.321016</td>\n",
       "      <td>0.638353</td>\n",
       "      <td>1.000286</td>\n",
       "      <td>1.006362</td>\n",
       "      <td>-1.572773</td>\n",
       "      <td>-1.654787</td>\n",
       "      <td>-0.159271</td>\n",
       "      <td>3.432064</td>\n",
       "      <td>...</td>\n",
       "      <td>-0.377939</td>\n",
       "      <td>-0.034160</td>\n",
       "      <td>-0.435020</td>\n",
       "      <td>0.443546</td>\n",
       "      <td>0.536052</td>\n",
       "      <td>1</td>\n",
       "      <td>1</td>\n",
       "      <td>1.0</td>\n",
       "      <td>1.0</td>\n",
       "      <td>0.0</td>\n",
       "    </tr>\n",
       "    <tr>\n",
       "      <th>4</th>\n",
       "      <td>-0.348302</td>\n",
       "      <td>-1.049853</td>\n",
       "      <td>-0.458800</td>\n",
       "      <td>0.422793</td>\n",
       "      <td>-0.024040</td>\n",
       "      <td>-0.016643</td>\n",
       "      <td>-0.111703</td>\n",
       "      <td>-0.210770</td>\n",
       "      <td>-0.926837</td>\n",
       "      <td>-0.356803</td>\n",
       "      <td>...</td>\n",
       "      <td>-0.535115</td>\n",
       "      <td>-0.412060</td>\n",
       "      <td>-0.356161</td>\n",
       "      <td>0.231311</td>\n",
       "      <td>1.418627</td>\n",
       "      <td>0</td>\n",
       "      <td>0</td>\n",
       "      <td>1.0</td>\n",
       "      <td>1.0</td>\n",
       "      <td>0.0</td>\n",
       "    </tr>\n",
       "    <tr>\n",
       "      <th>...</th>\n",
       "      <td>...</td>\n",
       "      <td>...</td>\n",
       "      <td>...</td>\n",
       "      <td>...</td>\n",
       "      <td>...</td>\n",
       "      <td>...</td>\n",
       "      <td>...</td>\n",
       "      <td>...</td>\n",
       "      <td>...</td>\n",
       "      <td>...</td>\n",
       "      <td>...</td>\n",
       "      <td>...</td>\n",
       "      <td>...</td>\n",
       "      <td>...</td>\n",
       "      <td>...</td>\n",
       "      <td>...</td>\n",
       "      <td>...</td>\n",
       "      <td>...</td>\n",
       "      <td>...</td>\n",
       "      <td>...</td>\n",
       "      <td>...</td>\n",
       "    </tr>\n",
       "    <tr>\n",
       "      <th>44548</th>\n",
       "      <td>0.478900</td>\n",
       "      <td>0.580854</td>\n",
       "      <td>-0.068892</td>\n",
       "      <td>0.638353</td>\n",
       "      <td>0.385691</td>\n",
       "      <td>0.392559</td>\n",
       "      <td>1.933796</td>\n",
       "      <td>1.852111</td>\n",
       "      <td>0.128566</td>\n",
       "      <td>-0.411714</td>\n",
       "      <td>...</td>\n",
       "      <td>0.984253</td>\n",
       "      <td>0.690148</td>\n",
       "      <td>0.215573</td>\n",
       "      <td>-0.482963</td>\n",
       "      <td>1.135535</td>\n",
       "      <td>1</td>\n",
       "      <td>1</td>\n",
       "      <td>1.0</td>\n",
       "      <td>1.0</td>\n",
       "      <td>0.0</td>\n",
       "    </tr>\n",
       "    <tr>\n",
       "      <th>44549</th>\n",
       "      <td>-0.761903</td>\n",
       "      <td>1.124422</td>\n",
       "      <td>0.321016</td>\n",
       "      <td>0.207234</td>\n",
       "      <td>-0.843500</td>\n",
       "      <td>-0.630445</td>\n",
       "      <td>-1.207506</td>\n",
       "      <td>-0.210770</td>\n",
       "      <td>-0.543054</td>\n",
       "      <td>-0.274436</td>\n",
       "      <td>...</td>\n",
       "      <td>-0.325547</td>\n",
       "      <td>-0.412060</td>\n",
       "      <td>-0.474450</td>\n",
       "      <td>-0.377721</td>\n",
       "      <td>-0.185800</td>\n",
       "      <td>1</td>\n",
       "      <td>1</td>\n",
       "      <td>1.0</td>\n",
       "      <td>1.0</td>\n",
       "      <td>0.0</td>\n",
       "    </tr>\n",
       "    <tr>\n",
       "      <th>44550</th>\n",
       "      <td>-0.761903</td>\n",
       "      <td>1.124422</td>\n",
       "      <td>0.321016</td>\n",
       "      <td>-1.204680</td>\n",
       "      <td>1.000286</td>\n",
       "      <td>1.006362</td>\n",
       "      <td>-0.403917</td>\n",
       "      <td>-0.623346</td>\n",
       "      <td>-0.207244</td>\n",
       "      <td>-1.427569</td>\n",
       "      <td>...</td>\n",
       "      <td>-0.430331</td>\n",
       "      <td>-0.254602</td>\n",
       "      <td>-0.592740</td>\n",
       "      <td>-0.377721</td>\n",
       "      <td>-2.549865</td>\n",
       "      <td>1</td>\n",
       "      <td>1</td>\n",
       "      <td>1.0</td>\n",
       "      <td>1.0</td>\n",
       "      <td>0.0</td>\n",
       "    </tr>\n",
       "    <tr>\n",
       "      <th>44551</th>\n",
       "      <td>0.478900</td>\n",
       "      <td>0.037285</td>\n",
       "      <td>1.880649</td>\n",
       "      <td>2.664611</td>\n",
       "      <td>-0.433770</td>\n",
       "      <td>-1.039647</td>\n",
       "      <td>0.034404</td>\n",
       "      <td>-0.107626</td>\n",
       "      <td>-0.399135</td>\n",
       "      <td>-0.494080</td>\n",
       "      <td>...</td>\n",
       "      <td>0.198373</td>\n",
       "      <td>0.690148</td>\n",
       "      <td>-0.001292</td>\n",
       "      <td>2.557101</td>\n",
       "      <td>1.652891</td>\n",
       "      <td>1</td>\n",
       "      <td>1</td>\n",
       "      <td>1.0</td>\n",
       "      <td>1.0</td>\n",
       "      <td>0.0</td>\n",
       "    </tr>\n",
       "    <tr>\n",
       "      <th>44552</th>\n",
       "      <td>-1.589105</td>\n",
       "      <td>1.124422</td>\n",
       "      <td>1.100832</td>\n",
       "      <td>1.198807</td>\n",
       "      <td>0.385691</td>\n",
       "      <td>1.006362</td>\n",
       "      <td>0.180511</td>\n",
       "      <td>-0.004482</td>\n",
       "      <td>-1.022783</td>\n",
       "      <td>0.000120</td>\n",
       "      <td>...</td>\n",
       "      <td>-0.168371</td>\n",
       "      <td>-0.506535</td>\n",
       "      <td>-0.395590</td>\n",
       "      <td>0.561733</td>\n",
       "      <td>0.388184</td>\n",
       "      <td>1</td>\n",
       "      <td>1</td>\n",
       "      <td>1.0</td>\n",
       "      <td>1.0</td>\n",
       "      <td>0.0</td>\n",
       "    </tr>\n",
       "  </tbody>\n",
       "</table>\n",
       "<p>44553 rows × 26 columns</p>\n",
       "</div>"
      ],
      "text/plain": [
       "            age  height(cm)  weight(kg)  waist(cm)  eyesight(left)  \\\n",
       "0     -0.348302   -1.049853   -0.458800  -0.083771        0.385691   \n",
       "1     -0.348302   -0.506284   -0.458800  -0.116105       -0.433770   \n",
       "2      0.892501    0.580854   -0.458800  -0.223885       -0.433770   \n",
       "3     -0.348302    0.037285    0.321016   0.638353        1.000286   \n",
       "4     -0.348302   -1.049853   -0.458800   0.422793       -0.024040   \n",
       "...         ...         ...         ...        ...             ...   \n",
       "44548  0.478900    0.580854   -0.068892   0.638353        0.385691   \n",
       "44549 -0.761903    1.124422    0.321016   0.207234       -0.843500   \n",
       "44550 -0.761903    1.124422    0.321016  -1.204680        1.000286   \n",
       "44551  0.478900    0.037285    1.880649   2.664611       -0.433770   \n",
       "44552 -1.589105    1.124422    1.100832   1.198807        0.385691   \n",
       "\n",
       "       eyesight(right)  systolic  relaxation  fasting blood sugar  \\\n",
       "0            -0.016643 -0.550024   -0.313914            -0.255217   \n",
       "1            -0.835046 -0.184756   -0.623346             1.471806   \n",
       "2            -0.425844  1.203261    1.026958            -0.495081   \n",
       "3             1.006362 -1.572773   -1.654787            -0.159271   \n",
       "4            -0.016643 -0.111703   -0.210770            -0.926837   \n",
       "...                ...       ...         ...                  ...   \n",
       "44548         0.392559  1.933796    1.852111             0.128566   \n",
       "44549        -0.630445 -1.207506   -0.210770            -0.543054   \n",
       "44550         1.006362 -0.403917   -0.623346            -0.207244   \n",
       "44551        -1.039647  0.034404   -0.107626            -0.399135   \n",
       "44552         1.006362  0.180511   -0.004482            -1.022783   \n",
       "\n",
       "       Cholesterol  ...       AST       ALT       Gtp       bmi       wwi  \\\n",
       "0         0.494320  ... -0.430331 -0.254602 -0.257586  0.231311  0.502492   \n",
       "1        -0.137158  ... -0.220763 -0.254602 -0.435020 -0.210748  0.444016   \n",
       "2         1.235620  ... -0.273155 -0.349076 -0.356161 -0.980727  0.249093   \n",
       "3         3.432064  ... -0.377939 -0.034160 -0.435020  0.443546  0.536052   \n",
       "4        -0.356803  ... -0.535115 -0.412060 -0.356161  0.231311  1.418627   \n",
       "...            ...  ...       ...       ...       ...       ...       ...   \n",
       "44548    -0.411714  ...  0.984253  0.690148  0.215573 -0.482963  1.135535   \n",
       "44549    -0.274436  ... -0.325547 -0.412060 -0.474450 -0.377721 -0.185800   \n",
       "44550    -1.427569  ... -0.430331 -0.254602 -0.592740 -0.377721 -2.549865   \n",
       "44551    -0.494080  ...  0.198373  0.690148 -0.001292  2.557101  1.652891   \n",
       "44552     0.000120  ... -0.168371 -0.506535 -0.395590  0.561733  0.388184   \n",
       "\n",
       "       gender  tartar  hearing(right)  hearing(left)  dental caries  \n",
       "0           0       1             1.0            1.0            0.0  \n",
       "1           0       1             1.0            1.0            0.0  \n",
       "2           1       0             1.0            1.0            0.0  \n",
       "3           1       1             1.0            1.0            0.0  \n",
       "4           0       0             1.0            1.0            0.0  \n",
       "...       ...     ...             ...            ...            ...  \n",
       "44548       1       1             1.0            1.0            0.0  \n",
       "44549       1       1             1.0            1.0            0.0  \n",
       "44550       1       1             1.0            1.0            0.0  \n",
       "44551       1       1             1.0            1.0            0.0  \n",
       "44552       1       1             1.0            1.0            0.0  \n",
       "\n",
       "[44553 rows x 26 columns]"
      ]
     },
     "execution_count": 23,
     "metadata": {},
     "output_type": "execute_result"
    }
   ],
   "source": [
    "x_train_s"
   ]
  },
  {
   "cell_type": "code",
   "execution_count": 24,
   "metadata": {},
   "outputs": [],
   "source": [
    "x_train_pca=pca.fit_transform(x_train_s)"
   ]
  },
  {
   "cell_type": "code",
   "execution_count": 25,
   "metadata": {
    "scrolled": true
   },
   "outputs": [
    {
     "data": {
      "text/plain": [
       "array([[-1.64803822,  0.61271505],\n",
       "       [-1.11547122,  1.08826135],\n",
       "       [ 0.33437829,  0.82075445],\n",
       "       ...,\n",
       "       [-0.79788726, -3.44431672],\n",
       "       [ 2.98627439,  1.46984087],\n",
       "       [ 0.80609413, -1.28753026]])"
      ]
     },
     "execution_count": 25,
     "metadata": {},
     "output_type": "execute_result"
    }
   ],
   "source": [
    "x_train_pca"
   ]
  },
  {
   "cell_type": "code",
   "execution_count": 26,
   "metadata": {},
   "outputs": [],
   "source": [
    "x_test_pca=pca.fit_transform(x_test_s)"
   ]
  },
  {
   "cell_type": "code",
   "execution_count": 27,
   "metadata": {},
   "outputs": [
    {
     "data": {
      "text/plain": [
       "array([[ 0.05177001,  2.29535896],\n",
       "       [ 3.17031619, -0.05768663],\n",
       "       [ 1.96994521, -1.03264272],\n",
       "       ...,\n",
       "       [-3.83114962, -0.13066743],\n",
       "       [-0.82225634,  0.94523652],\n",
       "       [ 0.45255854,  1.23121222]])"
      ]
     },
     "execution_count": 27,
     "metadata": {},
     "output_type": "execute_result"
    }
   ],
   "source": [
    "x_test_pca"
   ]
  },
  {
   "cell_type": "markdown",
   "metadata": {},
   "source": [
    "#### 시간축소되지만, 성능 매우 떨어짐"
   ]
  },
  {
   "cell_type": "code",
   "execution_count": 28,
   "metadata": {},
   "outputs": [
    {
     "name": "stderr",
     "output_type": "stream",
     "text": [
      "C:\\ProgramData\\Anaconda3\\lib\\site-packages\\sklearn\\utils\\validation.py:993: DataConversionWarning: A column-vector y was passed when a 1d array was expected. Please change the shape of y to (n_samples, ), for example using ravel().\n",
      "  y = column_or_1d(y, warn=True)\n"
     ]
    },
    {
     "name": "stdout",
     "output_type": "stream",
     "text": [
      "model 훈련 점수 :  0.701\n",
      "model 테스트 점수 :  0.702\n",
      "time : 552.3651204109192\n"
     ]
    }
   ],
   "source": [
    "start = time.time()\n",
    "# 작업\n",
    "model3_pca=SVC(kernel='rbf',C=5,gamma=3).fit(x_train_pca,y_train_s)\n",
    "print('model 훈련 점수 : {: .3f}'.format(model3_pca.score (x_train_pca, y_train_s)))\n",
    "print('model 테스트 점수 : {: .3f}'.format(model3_pca.score (x_test_pca, y_test_s)))\n",
    "#\n",
    "print(\"time :\", time.time() - start)"
   ]
  },
  {
   "cell_type": "markdown",
   "metadata": {},
   "source": [
    "## 성능비교"
   ]
  },
  {
   "cell_type": "markdown",
   "metadata": {},
   "source": [
    "## 비교적 성능(연산속도 and 정확도) 좋음"
   ]
  },
  {
   "cell_type": "code",
   "execution_count": 54,
   "metadata": {
    "scrolled": true
   },
   "outputs": [
    {
     "name": "stderr",
     "output_type": "stream",
     "text": [
      "C:\\ProgramData\\Anaconda3\\lib\\site-packages\\sklearn\\utils\\validation.py:993: DataConversionWarning: A column-vector y was passed when a 1d array was expected. Please change the shape of y to (n_samples, ), for example using ravel().\n",
      "  y = column_or_1d(y, warn=True)\n"
     ]
    },
    {
     "name": "stdout",
     "output_type": "stream",
     "text": [
      "time : 769.8891303539276\n"
     ]
    }
   ],
   "source": [
    "start = time.time()\n",
    "model5_s=SVC(kernel='rbf',C=1.0,gamma=3).fit(x_train_s,y_train_s)\n",
    "print(\"time :\", time.time() - start)"
   ]
  },
  {
   "cell_type": "code",
   "execution_count": 55,
   "metadata": {},
   "outputs": [
    {
     "name": "stdout",
     "output_type": "stream",
     "text": [
      "model 훈련 점수 :  1.000\n",
      "model 테스트 점수 :  0.995\n"
     ]
    }
   ],
   "source": [
    "print('model 훈련 점수 : {: .3f}'.format(model5_s.score (x_train_s, y_train_s)))\n",
    "print('model 테스트 점수 : {: .3f}'.format(model5_s.score (x_test_s, y_test_s)))"
   ]
  },
  {
   "cell_type": "markdown",
   "metadata": {},
   "source": [
    "### Colab 실행결과"
   ]
  },
  {
   "attachments": {
    "image-3.png": {
     "image/png": "[encoded data removed]"
    }
   },
   "cell_type": "markdown",
   "metadata": {},
   "source": [
    "![image-3.png](attachment:image-3.png)"
   ]
  },
  {
   "cell_type": "markdown",
   "metadata": {},
   "source": [
    "## 성능(연산속도 or 정확도) 낮음"
   ]
  },
  {
   "cell_type": "code",
   "execution_count": 42,
   "metadata": {},
   "outputs": [
    {
     "name": "stderr",
     "output_type": "stream",
     "text": [
      "C:\\ProgramData\\Anaconda3\\lib\\site-packages\\sklearn\\utils\\validation.py:993: DataConversionWarning: A column-vector y was passed when a 1d array was expected. Please change the shape of y to (n_samples, ), for example using ravel().\n",
      "  y = column_or_1d(y, warn=True)\n"
     ]
    },
    {
     "name": "stdout",
     "output_type": "stream",
     "text": [
      "time : 772.9215950965881\n"
     ]
    }
   ],
   "source": [
    "start = time.time()\n",
    "model3_s=SVC(kernel='rbf',C=5,gamma=3).fit(x_train_s,y_train_s)\n",
    "print(\"time :\", time.time() - start)"
   ]
  },
  {
   "cell_type": "code",
   "execution_count": 45,
   "metadata": {
    "scrolled": true
   },
   "outputs": [
    {
     "name": "stdout",
     "output_type": "stream",
     "text": [
      "model 훈련 점수 :  1.000\n",
      "model 테스트 점수 :  0.998\n"
     ]
    }
   ],
   "source": [
    "print('model 훈련 점수 : {: .3f}'.format(model3_s.score (x_train_s, y_train_s)))\n",
    "print('model 테스트 점수 : {: .3f}'.format(model3_s.score (x_test_s, y_test_s)))"
   ]
  },
  {
   "cell_type": "code",
   "execution_count": 43,
   "metadata": {},
   "outputs": [
    {
     "name": "stderr",
     "output_type": "stream",
     "text": [
      "C:\\ProgramData\\Anaconda3\\lib\\site-packages\\sklearn\\utils\\validation.py:993: DataConversionWarning: A column-vector y was passed when a 1d array was expected. Please change the shape of y to (n_samples, ), for example using ravel().\n",
      "  y = column_or_1d(y, warn=True)\n"
     ]
    },
    {
     "name": "stdout",
     "output_type": "stream",
     "text": [
      "time : 472.0197231769562\n"
     ]
    }
   ],
   "source": [
    "start = time.time()\n",
    "model4_s=SVC(kernel='rbf',C=0.5,gamma=1).fit(x_train_s,y_train_s)\n",
    "print(\"time :\", time.time() - start)"
   ]
  },
  {
   "cell_type": "code",
   "execution_count": 52,
   "metadata": {
    "scrolled": true
   },
   "outputs": [
    {
     "name": "stdout",
     "output_type": "stream",
     "text": [
      "model 훈련 점수 :  0.677\n",
      "model 테스트 점수 :  0.671\n"
     ]
    }
   ],
   "source": [
    "print('model 훈련 점수 : {: .3f}'.format(model4_s.score (x_train_s, y_train_s)))\n",
    "print('model 테스트 점수 : {: .3f}'.format(model4_s.score (x_test_s, y_test_s)))"
   ]
  },
  {
   "cell_type": "markdown",
   "metadata": {},
   "source": [
    "# 모형 선택"
   ]
  },
  {
   "cell_type": "code",
   "execution_count": 81,
   "metadata": {},
   "outputs": [
    {
     "data": {
      "text/plain": [
       "26"
      ]
     },
     "execution_count": 81,
     "metadata": {},
     "output_type": "execute_result"
    }
   ],
   "source": [
    "model5_s.n_features_in_"
   ]
  },
  {
   "cell_type": "code",
   "execution_count": 30,
   "metadata": {},
   "outputs": [
    {
     "name": "stdout",
     "output_type": "stream",
     "text": [
      "model 테스트 점수 :  0.995\n",
      "time : 63.62654399871826\n"
     ]
    }
   ],
   "source": [
    "start = time.time()\n",
    "\n",
    "print('model 테스트 점수 : {: .3f}'.format(model5_s.score (x_test_s, y_test_s)))\n",
    "\n",
    "print(\"time :\", time.time() - start)"
   ]
  },
  {
   "cell_type": "markdown",
   "metadata": {},
   "source": [
    "### Confusion Matrix"
   ]
  },
  {
   "cell_type": "code",
   "execution_count": 31,
   "metadata": {},
   "outputs": [
    {
     "name": "stdout",
     "output_type": "stream",
     "text": [
      "[[28201     0]\n",
      " [    0 16352]]\n",
      "time : 301.40771102905273\n"
     ]
    }
   ],
   "source": [
    "start = time.time()\n",
    "\n",
    "pred=model5_s.predict(x_train_s)\n",
    "print(confusion_matrix( y_train_s, pred))\n",
    "\n",
    "print(\"time :\", time.time() - start)"
   ]
  },
  {
   "cell_type": "code",
   "execution_count": 38,
   "metadata": {},
   "outputs": [
    {
     "name": "stdout",
     "output_type": "stream",
     "text": [
      "time : 67.08004236221313\n"
     ]
    }
   ],
   "source": [
    "start = time.time()\n",
    "\n",
    "pred_t=model5_s.predict(x_test_s)\n",
    "confusion_m=confusion_matrix( y_test_s, pred_t)\n",
    "\n",
    "print(\"time :\", time.time() - start)"
   ]
  },
  {
   "cell_type": "code",
   "execution_count": 40,
   "metadata": {},
   "outputs": [
    {
     "name": "stdout",
     "output_type": "stream",
     "text": [
      "[[7036    0]\n",
      " [  57 4046]]\n"
     ]
    }
   ],
   "source": [
    "print(confusion_m)"
   ]
  },
  {
   "cell_type": "markdown",
   "metadata": {},
   "source": [
    "### Colab 실행결과"
   ]
  },
  {
   "attachments": {
    "image.png": {
     "image/png": "[encoded data removed]"
    }
   },
   "cell_type": "markdown",
   "metadata": {},
   "source": [
    "![image.png](attachment:image.png)"
   ]
  },
  {
   "cell_type": "markdown",
   "metadata": {},
   "source": [
    "### 정밀도 재현율 f1score"
   ]
  },
  {
   "cell_type": "code",
   "execution_count": 35,
   "metadata": {},
   "outputs": [
    {
     "name": "stdout",
     "output_type": "stream",
     "text": [
      "0.027619600296020508\n"
     ]
    }
   ],
   "source": [
    "start=time.time()\n",
    "pre=precision_score(y_test_s , pred_t)\n",
    "rec=recall_score(y_test_s , pred_t)\n",
    "f1=f1_score(y_test_s,pred_t)\n",
    "auc=roc_auc_score(y_test_s, pred_t)\n",
    "print(time.time()-start)"
   ]
  },
  {
   "cell_type": "code",
   "execution_count": 37,
   "metadata": {
    "scrolled": true
   },
   "outputs": [
    {
     "name": "stdout",
     "output_type": "stream",
     "text": [
      "정밀도 : 1.000\n",
      "재현율 : 0.986\n",
      "F1_score : 0.993\n",
      "ROC_AUC_score : 0.993\n"
     ]
    }
   ],
   "source": [
    "# 정밀도\n",
    "print('정밀도 : {:.3f}'.format(pre))\n",
    "# 재현율\n",
    "print('재현율 : {:.3f}'.format(rec))\n",
    "# f1_score\n",
    "print('F1_score : {:.3f}'.format(f1))\n",
    "# AUC score \n",
    "print('ROC_AUC_score : {:.3f}'.format(auc))"
   ]
  },
  {
   "cell_type": "markdown",
   "metadata": {},
   "source": [
    "## 모델저장"
   ]
  },
  {
   "cell_type": "code",
   "execution_count": 75,
   "metadata": {},
   "outputs": [],
   "source": [
    "import joblib"
   ]
  },
  {
   "cell_type": "code",
   "execution_count": 76,
   "metadata": {},
   "outputs": [
    {
     "data": {
      "text/plain": [
       "['./model4_s.pkl']"
      ]
     },
     "execution_count": 76,
     "metadata": {},
     "output_type": "execute_result"
    }
   ],
   "source": [
    "joblib.dump(model5_s, './model5_s.pkl')\n",
    "joblib.dump(model3_s, './model3_s.pkl')\n",
    "joblib.dump(model4_s, './model4_s.pkl')"
   ]
  },
  {
   "cell_type": "markdown",
   "metadata": {},
   "source": [
    "# 변수 제거 후 재모델링(bmi,wwi)"
   ]
  },
  {
   "cell_type": "code",
   "execution_count": 59,
   "metadata": {},
   "outputs": [
    {
     "data": {
      "text/html": [
       "<div>\n",
       "<style scoped>\n",
       "    .dataframe tbody tr th:only-of-type {\n",
       "        vertical-align: middle;\n",
       "    }\n",
       "\n",
       "    .dataframe tbody tr th {\n",
       "        vertical-align: top;\n",
       "    }\n",
       "\n",
       "    .dataframe thead th {\n",
       "        text-align: right;\n",
       "    }\n",
       "</style>\n",
       "<table border=\"1\" class=\"dataframe\">\n",
       "  <thead>\n",
       "    <tr style=\"text-align: right;\">\n",
       "      <th></th>\n",
       "      <th>age</th>\n",
       "      <th>height(cm)</th>\n",
       "      <th>weight(kg)</th>\n",
       "      <th>waist(cm)</th>\n",
       "      <th>eyesight(left)</th>\n",
       "      <th>eyesight(right)</th>\n",
       "      <th>systolic</th>\n",
       "      <th>relaxation</th>\n",
       "      <th>fasting blood sugar</th>\n",
       "      <th>Cholesterol</th>\n",
       "      <th>...</th>\n",
       "      <th>Urine protein</th>\n",
       "      <th>serum creatinine</th>\n",
       "      <th>AST</th>\n",
       "      <th>ALT</th>\n",
       "      <th>Gtp</th>\n",
       "      <th>gender</th>\n",
       "      <th>tartar</th>\n",
       "      <th>hearing(right)</th>\n",
       "      <th>hearing(left)</th>\n",
       "      <th>dental caries</th>\n",
       "    </tr>\n",
       "  </thead>\n",
       "  <tbody>\n",
       "    <tr>\n",
       "      <th>0</th>\n",
       "      <td>-0.348302</td>\n",
       "      <td>-1.049853</td>\n",
       "      <td>-0.458800</td>\n",
       "      <td>-0.083771</td>\n",
       "      <td>0.385691</td>\n",
       "      <td>-0.016643</td>\n",
       "      <td>-0.550024</td>\n",
       "      <td>-0.313914</td>\n",
       "      <td>-0.255217</td>\n",
       "      <td>0.494320</td>\n",
       "      <td>...</td>\n",
       "      <td>-0.214896</td>\n",
       "      <td>-0.823115</td>\n",
       "      <td>-0.430331</td>\n",
       "      <td>-0.254602</td>\n",
       "      <td>-0.257586</td>\n",
       "      <td>0</td>\n",
       "      <td>1</td>\n",
       "      <td>1.0</td>\n",
       "      <td>1.0</td>\n",
       "      <td>0.0</td>\n",
       "    </tr>\n",
       "    <tr>\n",
       "      <th>1</th>\n",
       "      <td>-0.348302</td>\n",
       "      <td>-0.506284</td>\n",
       "      <td>-0.458800</td>\n",
       "      <td>-0.116105</td>\n",
       "      <td>-0.433770</td>\n",
       "      <td>-0.835046</td>\n",
       "      <td>-0.184756</td>\n",
       "      <td>-0.623346</td>\n",
       "      <td>1.471806</td>\n",
       "      <td>-0.137158</td>\n",
       "      <td>...</td>\n",
       "      <td>-0.214896</td>\n",
       "      <td>-1.265418</td>\n",
       "      <td>-0.220763</td>\n",
       "      <td>-0.254602</td>\n",
       "      <td>-0.435020</td>\n",
       "      <td>0</td>\n",
       "      <td>1</td>\n",
       "      <td>1.0</td>\n",
       "      <td>1.0</td>\n",
       "      <td>0.0</td>\n",
       "    </tr>\n",
       "    <tr>\n",
       "      <th>2</th>\n",
       "      <td>0.892501</td>\n",
       "      <td>0.580854</td>\n",
       "      <td>-0.458800</td>\n",
       "      <td>-0.223885</td>\n",
       "      <td>-0.433770</td>\n",
       "      <td>-0.425844</td>\n",
       "      <td>1.203261</td>\n",
       "      <td>1.026958</td>\n",
       "      <td>-0.495081</td>\n",
       "      <td>1.235620</td>\n",
       "      <td>...</td>\n",
       "      <td>-0.214896</td>\n",
       "      <td>0.503794</td>\n",
       "      <td>-0.273155</td>\n",
       "      <td>-0.349076</td>\n",
       "      <td>-0.356161</td>\n",
       "      <td>1</td>\n",
       "      <td>0</td>\n",
       "      <td>1.0</td>\n",
       "      <td>1.0</td>\n",
       "      <td>0.0</td>\n",
       "    </tr>\n",
       "    <tr>\n",
       "      <th>3</th>\n",
       "      <td>-0.348302</td>\n",
       "      <td>0.037285</td>\n",
       "      <td>0.321016</td>\n",
       "      <td>0.638353</td>\n",
       "      <td>1.000286</td>\n",
       "      <td>1.006362</td>\n",
       "      <td>-1.572773</td>\n",
       "      <td>-1.654787</td>\n",
       "      <td>-0.159271</td>\n",
       "      <td>3.432064</td>\n",
       "      <td>...</td>\n",
       "      <td>-0.214896</td>\n",
       "      <td>0.503794</td>\n",
       "      <td>-0.377939</td>\n",
       "      <td>-0.034160</td>\n",
       "      <td>-0.435020</td>\n",
       "      <td>1</td>\n",
       "      <td>1</td>\n",
       "      <td>1.0</td>\n",
       "      <td>1.0</td>\n",
       "      <td>0.0</td>\n",
       "    </tr>\n",
       "    <tr>\n",
       "      <th>4</th>\n",
       "      <td>-0.348302</td>\n",
       "      <td>-1.049853</td>\n",
       "      <td>-0.458800</td>\n",
       "      <td>0.422793</td>\n",
       "      <td>-0.024040</td>\n",
       "      <td>-0.016643</td>\n",
       "      <td>-0.111703</td>\n",
       "      <td>-0.210770</td>\n",
       "      <td>-0.926837</td>\n",
       "      <td>-0.356803</td>\n",
       "      <td>...</td>\n",
       "      <td>-0.214896</td>\n",
       "      <td>-1.265418</td>\n",
       "      <td>-0.535115</td>\n",
       "      <td>-0.412060</td>\n",
       "      <td>-0.356161</td>\n",
       "      <td>0</td>\n",
       "      <td>0</td>\n",
       "      <td>1.0</td>\n",
       "      <td>1.0</td>\n",
       "      <td>0.0</td>\n",
       "    </tr>\n",
       "    <tr>\n",
       "      <th>...</th>\n",
       "      <td>...</td>\n",
       "      <td>...</td>\n",
       "      <td>...</td>\n",
       "      <td>...</td>\n",
       "      <td>...</td>\n",
       "      <td>...</td>\n",
       "      <td>...</td>\n",
       "      <td>...</td>\n",
       "      <td>...</td>\n",
       "      <td>...</td>\n",
       "      <td>...</td>\n",
       "      <td>...</td>\n",
       "      <td>...</td>\n",
       "      <td>...</td>\n",
       "      <td>...</td>\n",
       "      <td>...</td>\n",
       "      <td>...</td>\n",
       "      <td>...</td>\n",
       "      <td>...</td>\n",
       "      <td>...</td>\n",
       "      <td>...</td>\n",
       "    </tr>\n",
       "    <tr>\n",
       "      <th>44548</th>\n",
       "      <td>0.478900</td>\n",
       "      <td>0.580854</td>\n",
       "      <td>-0.068892</td>\n",
       "      <td>0.638353</td>\n",
       "      <td>0.385691</td>\n",
       "      <td>0.392559</td>\n",
       "      <td>1.933796</td>\n",
       "      <td>1.852111</td>\n",
       "      <td>0.128566</td>\n",
       "      <td>-0.411714</td>\n",
       "      <td>...</td>\n",
       "      <td>-0.214896</td>\n",
       "      <td>0.503794</td>\n",
       "      <td>0.984253</td>\n",
       "      <td>0.690148</td>\n",
       "      <td>0.215573</td>\n",
       "      <td>1</td>\n",
       "      <td>1</td>\n",
       "      <td>1.0</td>\n",
       "      <td>1.0</td>\n",
       "      <td>0.0</td>\n",
       "    </tr>\n",
       "    <tr>\n",
       "      <th>44549</th>\n",
       "      <td>-0.761903</td>\n",
       "      <td>1.124422</td>\n",
       "      <td>0.321016</td>\n",
       "      <td>0.207234</td>\n",
       "      <td>-0.843500</td>\n",
       "      <td>-0.630445</td>\n",
       "      <td>-1.207506</td>\n",
       "      <td>-0.210770</td>\n",
       "      <td>-0.543054</td>\n",
       "      <td>-0.274436</td>\n",
       "      <td>...</td>\n",
       "      <td>-0.214896</td>\n",
       "      <td>0.061491</td>\n",
       "      <td>-0.325547</td>\n",
       "      <td>-0.412060</td>\n",
       "      <td>-0.474450</td>\n",
       "      <td>1</td>\n",
       "      <td>1</td>\n",
       "      <td>1.0</td>\n",
       "      <td>1.0</td>\n",
       "      <td>0.0</td>\n",
       "    </tr>\n",
       "    <tr>\n",
       "      <th>44550</th>\n",
       "      <td>-0.761903</td>\n",
       "      <td>1.124422</td>\n",
       "      <td>0.321016</td>\n",
       "      <td>-1.204680</td>\n",
       "      <td>1.000286</td>\n",
       "      <td>1.006362</td>\n",
       "      <td>-0.403917</td>\n",
       "      <td>-0.623346</td>\n",
       "      <td>-0.207244</td>\n",
       "      <td>-1.427569</td>\n",
       "      <td>...</td>\n",
       "      <td>-0.214896</td>\n",
       "      <td>0.503794</td>\n",
       "      <td>-0.430331</td>\n",
       "      <td>-0.254602</td>\n",
       "      <td>-0.592740</td>\n",
       "      <td>1</td>\n",
       "      <td>1</td>\n",
       "      <td>1.0</td>\n",
       "      <td>1.0</td>\n",
       "      <td>0.0</td>\n",
       "    </tr>\n",
       "    <tr>\n",
       "      <th>44551</th>\n",
       "      <td>0.478900</td>\n",
       "      <td>0.037285</td>\n",
       "      <td>1.880649</td>\n",
       "      <td>2.664611</td>\n",
       "      <td>-0.433770</td>\n",
       "      <td>-1.039647</td>\n",
       "      <td>0.034404</td>\n",
       "      <td>-0.107626</td>\n",
       "      <td>-0.399135</td>\n",
       "      <td>-0.494080</td>\n",
       "      <td>...</td>\n",
       "      <td>-0.214896</td>\n",
       "      <td>0.061491</td>\n",
       "      <td>0.198373</td>\n",
       "      <td>0.690148</td>\n",
       "      <td>-0.001292</td>\n",
       "      <td>1</td>\n",
       "      <td>1</td>\n",
       "      <td>1.0</td>\n",
       "      <td>1.0</td>\n",
       "      <td>0.0</td>\n",
       "    </tr>\n",
       "    <tr>\n",
       "      <th>44552</th>\n",
       "      <td>-1.589105</td>\n",
       "      <td>1.124422</td>\n",
       "      <td>1.100832</td>\n",
       "      <td>1.198807</td>\n",
       "      <td>0.385691</td>\n",
       "      <td>1.006362</td>\n",
       "      <td>0.180511</td>\n",
       "      <td>-0.004482</td>\n",
       "      <td>-1.022783</td>\n",
       "      <td>0.000120</td>\n",
       "      <td>...</td>\n",
       "      <td>-0.214896</td>\n",
       "      <td>0.503794</td>\n",
       "      <td>-0.168371</td>\n",
       "      <td>-0.506535</td>\n",
       "      <td>-0.395590</td>\n",
       "      <td>1</td>\n",
       "      <td>1</td>\n",
       "      <td>1.0</td>\n",
       "      <td>1.0</td>\n",
       "      <td>0.0</td>\n",
       "    </tr>\n",
       "  </tbody>\n",
       "</table>\n",
       "<p>44553 rows × 24 columns</p>\n",
       "</div>"
      ],
      "text/plain": [
       "            age  height(cm)  weight(kg)  waist(cm)  eyesight(left)  \\\n",
       "0     -0.348302   -1.049853   -0.458800  -0.083771        0.385691   \n",
       "1     -0.348302   -0.506284   -0.458800  -0.116105       -0.433770   \n",
       "2      0.892501    0.580854   -0.458800  -0.223885       -0.433770   \n",
       "3     -0.348302    0.037285    0.321016   0.638353        1.000286   \n",
       "4     -0.348302   -1.049853   -0.458800   0.422793       -0.024040   \n",
       "...         ...         ...         ...        ...             ...   \n",
       "44548  0.478900    0.580854   -0.068892   0.638353        0.385691   \n",
       "44549 -0.761903    1.124422    0.321016   0.207234       -0.843500   \n",
       "44550 -0.761903    1.124422    0.321016  -1.204680        1.000286   \n",
       "44551  0.478900    0.037285    1.880649   2.664611       -0.433770   \n",
       "44552 -1.589105    1.124422    1.100832   1.198807        0.385691   \n",
       "\n",
       "       eyesight(right)  systolic  relaxation  fasting blood sugar  \\\n",
       "0            -0.016643 -0.550024   -0.313914            -0.255217   \n",
       "1            -0.835046 -0.184756   -0.623346             1.471806   \n",
       "2            -0.425844  1.203261    1.026958            -0.495081   \n",
       "3             1.006362 -1.572773   -1.654787            -0.159271   \n",
       "4            -0.016643 -0.111703   -0.210770            -0.926837   \n",
       "...                ...       ...         ...                  ...   \n",
       "44548         0.392559  1.933796    1.852111             0.128566   \n",
       "44549        -0.630445 -1.207506   -0.210770            -0.543054   \n",
       "44550         1.006362 -0.403917   -0.623346            -0.207244   \n",
       "44551        -1.039647  0.034404   -0.107626            -0.399135   \n",
       "44552         1.006362  0.180511   -0.004482            -1.022783   \n",
       "\n",
       "       Cholesterol  ...  Urine protein  serum creatinine       AST       ALT  \\\n",
       "0         0.494320  ...      -0.214896         -0.823115 -0.430331 -0.254602   \n",
       "1        -0.137158  ...      -0.214896         -1.265418 -0.220763 -0.254602   \n",
       "2         1.235620  ...      -0.214896          0.503794 -0.273155 -0.349076   \n",
       "3         3.432064  ...      -0.214896          0.503794 -0.377939 -0.034160   \n",
       "4        -0.356803  ...      -0.214896         -1.265418 -0.535115 -0.412060   \n",
       "...            ...  ...            ...               ...       ...       ...   \n",
       "44548    -0.411714  ...      -0.214896          0.503794  0.984253  0.690148   \n",
       "44549    -0.274436  ...      -0.214896          0.061491 -0.325547 -0.412060   \n",
       "44550    -1.427569  ...      -0.214896          0.503794 -0.430331 -0.254602   \n",
       "44551    -0.494080  ...      -0.214896          0.061491  0.198373  0.690148   \n",
       "44552     0.000120  ...      -0.214896          0.503794 -0.168371 -0.506535   \n",
       "\n",
       "            Gtp  gender  tartar  hearing(right)  hearing(left)  dental caries  \n",
       "0     -0.257586       0       1             1.0            1.0            0.0  \n",
       "1     -0.435020       0       1             1.0            1.0            0.0  \n",
       "2     -0.356161       1       0             1.0            1.0            0.0  \n",
       "3     -0.435020       1       1             1.0            1.0            0.0  \n",
       "4     -0.356161       0       0             1.0            1.0            0.0  \n",
       "...         ...     ...     ...             ...            ...            ...  \n",
       "44548  0.215573       1       1             1.0            1.0            0.0  \n",
       "44549 -0.474450       1       1             1.0            1.0            0.0  \n",
       "44550 -0.592740       1       1             1.0            1.0            0.0  \n",
       "44551 -0.001292       1       1             1.0            1.0            0.0  \n",
       "44552 -0.395590       1       1             1.0            1.0            0.0  \n",
       "\n",
       "[44553 rows x 24 columns]"
      ]
     },
     "execution_count": 59,
     "metadata": {},
     "output_type": "execute_result"
    }
   ],
   "source": [
    "x_train_s.drop(['bmi','wwi'],axis=1)"
   ]
  },
  {
   "cell_type": "code",
   "execution_count": 60,
   "metadata": {},
   "outputs": [],
   "source": [
    "x_train_d = x_train_s.drop(['bmi','wwi'],axis=1)\n",
    "x_test_d = x_test_s.drop(['bmi','wwi'],axis=1)\n",
    "y_train_d = y_train_s\n",
    "y_test_d = y_test_s"
   ]
  },
  {
   "cell_type": "code",
   "execution_count": 61,
   "metadata": {},
   "outputs": [
    {
     "data": {
      "text/html": [
       "<div>\n",
       "<style scoped>\n",
       "    .dataframe tbody tr th:only-of-type {\n",
       "        vertical-align: middle;\n",
       "    }\n",
       "\n",
       "    .dataframe tbody tr th {\n",
       "        vertical-align: top;\n",
       "    }\n",
       "\n",
       "    .dataframe thead th {\n",
       "        text-align: right;\n",
       "    }\n",
       "</style>\n",
       "<table border=\"1\" class=\"dataframe\">\n",
       "  <thead>\n",
       "    <tr style=\"text-align: right;\">\n",
       "      <th></th>\n",
       "      <th>age</th>\n",
       "      <th>height(cm)</th>\n",
       "      <th>weight(kg)</th>\n",
       "      <th>waist(cm)</th>\n",
       "      <th>eyesight(left)</th>\n",
       "      <th>eyesight(right)</th>\n",
       "      <th>systolic</th>\n",
       "      <th>relaxation</th>\n",
       "      <th>fasting blood sugar</th>\n",
       "      <th>Cholesterol</th>\n",
       "      <th>...</th>\n",
       "      <th>Urine protein</th>\n",
       "      <th>serum creatinine</th>\n",
       "      <th>AST</th>\n",
       "      <th>ALT</th>\n",
       "      <th>Gtp</th>\n",
       "      <th>gender</th>\n",
       "      <th>tartar</th>\n",
       "      <th>hearing(right)</th>\n",
       "      <th>hearing(left)</th>\n",
       "      <th>dental caries</th>\n",
       "    </tr>\n",
       "  </thead>\n",
       "  <tbody>\n",
       "    <tr>\n",
       "      <th>0</th>\n",
       "      <td>-0.348302</td>\n",
       "      <td>-1.049853</td>\n",
       "      <td>-0.458800</td>\n",
       "      <td>-0.083771</td>\n",
       "      <td>0.385691</td>\n",
       "      <td>-0.016643</td>\n",
       "      <td>-0.550024</td>\n",
       "      <td>-0.313914</td>\n",
       "      <td>-0.255217</td>\n",
       "      <td>0.494320</td>\n",
       "      <td>...</td>\n",
       "      <td>-0.214896</td>\n",
       "      <td>-0.823115</td>\n",
       "      <td>-0.430331</td>\n",
       "      <td>-0.254602</td>\n",
       "      <td>-0.257586</td>\n",
       "      <td>0</td>\n",
       "      <td>1</td>\n",
       "      <td>1.0</td>\n",
       "      <td>1.0</td>\n",
       "      <td>0.0</td>\n",
       "    </tr>\n",
       "    <tr>\n",
       "      <th>1</th>\n",
       "      <td>-0.348302</td>\n",
       "      <td>-0.506284</td>\n",
       "      <td>-0.458800</td>\n",
       "      <td>-0.116105</td>\n",
       "      <td>-0.433770</td>\n",
       "      <td>-0.835046</td>\n",
       "      <td>-0.184756</td>\n",
       "      <td>-0.623346</td>\n",
       "      <td>1.471806</td>\n",
       "      <td>-0.137158</td>\n",
       "      <td>...</td>\n",
       "      <td>-0.214896</td>\n",
       "      <td>-1.265418</td>\n",
       "      <td>-0.220763</td>\n",
       "      <td>-0.254602</td>\n",
       "      <td>-0.435020</td>\n",
       "      <td>0</td>\n",
       "      <td>1</td>\n",
       "      <td>1.0</td>\n",
       "      <td>1.0</td>\n",
       "      <td>0.0</td>\n",
       "    </tr>\n",
       "    <tr>\n",
       "      <th>2</th>\n",
       "      <td>0.892501</td>\n",
       "      <td>0.580854</td>\n",
       "      <td>-0.458800</td>\n",
       "      <td>-0.223885</td>\n",
       "      <td>-0.433770</td>\n",
       "      <td>-0.425844</td>\n",
       "      <td>1.203261</td>\n",
       "      <td>1.026958</td>\n",
       "      <td>-0.495081</td>\n",
       "      <td>1.235620</td>\n",
       "      <td>...</td>\n",
       "      <td>-0.214896</td>\n",
       "      <td>0.503794</td>\n",
       "      <td>-0.273155</td>\n",
       "      <td>-0.349076</td>\n",
       "      <td>-0.356161</td>\n",
       "      <td>1</td>\n",
       "      <td>0</td>\n",
       "      <td>1.0</td>\n",
       "      <td>1.0</td>\n",
       "      <td>0.0</td>\n",
       "    </tr>\n",
       "    <tr>\n",
       "      <th>3</th>\n",
       "      <td>-0.348302</td>\n",
       "      <td>0.037285</td>\n",
       "      <td>0.321016</td>\n",
       "      <td>0.638353</td>\n",
       "      <td>1.000286</td>\n",
       "      <td>1.006362</td>\n",
       "      <td>-1.572773</td>\n",
       "      <td>-1.654787</td>\n",
       "      <td>-0.159271</td>\n",
       "      <td>3.432064</td>\n",
       "      <td>...</td>\n",
       "      <td>-0.214896</td>\n",
       "      <td>0.503794</td>\n",
       "      <td>-0.377939</td>\n",
       "      <td>-0.034160</td>\n",
       "      <td>-0.435020</td>\n",
       "      <td>1</td>\n",
       "      <td>1</td>\n",
       "      <td>1.0</td>\n",
       "      <td>1.0</td>\n",
       "      <td>0.0</td>\n",
       "    </tr>\n",
       "    <tr>\n",
       "      <th>4</th>\n",
       "      <td>-0.348302</td>\n",
       "      <td>-1.049853</td>\n",
       "      <td>-0.458800</td>\n",
       "      <td>0.422793</td>\n",
       "      <td>-0.024040</td>\n",
       "      <td>-0.016643</td>\n",
       "      <td>-0.111703</td>\n",
       "      <td>-0.210770</td>\n",
       "      <td>-0.926837</td>\n",
       "      <td>-0.356803</td>\n",
       "      <td>...</td>\n",
       "      <td>-0.214896</td>\n",
       "      <td>-1.265418</td>\n",
       "      <td>-0.535115</td>\n",
       "      <td>-0.412060</td>\n",
       "      <td>-0.356161</td>\n",
       "      <td>0</td>\n",
       "      <td>0</td>\n",
       "      <td>1.0</td>\n",
       "      <td>1.0</td>\n",
       "      <td>0.0</td>\n",
       "    </tr>\n",
       "  </tbody>\n",
       "</table>\n",
       "<p>5 rows × 24 columns</p>\n",
       "</div>"
      ],
      "text/plain": [
       "        age  height(cm)  weight(kg)  waist(cm)  eyesight(left)  \\\n",
       "0 -0.348302   -1.049853   -0.458800  -0.083771        0.385691   \n",
       "1 -0.348302   -0.506284   -0.458800  -0.116105       -0.433770   \n",
       "2  0.892501    0.580854   -0.458800  -0.223885       -0.433770   \n",
       "3 -0.348302    0.037285    0.321016   0.638353        1.000286   \n",
       "4 -0.348302   -1.049853   -0.458800   0.422793       -0.024040   \n",
       "\n",
       "   eyesight(right)  systolic  relaxation  fasting blood sugar  Cholesterol  \\\n",
       "0        -0.016643 -0.550024   -0.313914            -0.255217     0.494320   \n",
       "1        -0.835046 -0.184756   -0.623346             1.471806    -0.137158   \n",
       "2        -0.425844  1.203261    1.026958            -0.495081     1.235620   \n",
       "3         1.006362 -1.572773   -1.654787            -0.159271     3.432064   \n",
       "4        -0.016643 -0.111703   -0.210770            -0.926837    -0.356803   \n",
       "\n",
       "   ...  Urine protein  serum creatinine       AST       ALT       Gtp  gender  \\\n",
       "0  ...      -0.214896         -0.823115 -0.430331 -0.254602 -0.257586       0   \n",
       "1  ...      -0.214896         -1.265418 -0.220763 -0.254602 -0.435020       0   \n",
       "2  ...      -0.214896          0.503794 -0.273155 -0.349076 -0.356161       1   \n",
       "3  ...      -0.214896          0.503794 -0.377939 -0.034160 -0.435020       1   \n",
       "4  ...      -0.214896         -1.265418 -0.535115 -0.412060 -0.356161       0   \n",
       "\n",
       "   tartar  hearing(right)  hearing(left)  dental caries  \n",
       "0       1             1.0            1.0            0.0  \n",
       "1       1             1.0            1.0            0.0  \n",
       "2       0             1.0            1.0            0.0  \n",
       "3       1             1.0            1.0            0.0  \n",
       "4       0             1.0            1.0            0.0  \n",
       "\n",
       "[5 rows x 24 columns]"
      ]
     },
     "execution_count": 61,
     "metadata": {},
     "output_type": "execute_result"
    }
   ],
   "source": [
    "x_train_d.head()"
   ]
  },
  {
   "cell_type": "code",
   "execution_count": 62,
   "metadata": {},
   "outputs": [
    {
     "name": "stderr",
     "output_type": "stream",
     "text": [
      "C:\\ProgramData\\Anaconda3\\lib\\site-packages\\sklearn\\utils\\validation.py:993: DataConversionWarning: A column-vector y was passed when a 1d array was expected. Please change the shape of y to (n_samples, ), for example using ravel().\n",
      "  y = column_or_1d(y, warn=True)\n"
     ]
    },
    {
     "name": "stdout",
     "output_type": "stream",
     "text": [
      "time : 505.98181080818176\n"
     ]
    }
   ],
   "source": [
    "start = time.time()\n",
    "model5_d=SVC(kernel='rbf',C=1.0,gamma=3).fit(x_train_d,y_train_d)\n",
    "print(\"time :\", time.time() - start)"
   ]
  },
  {
   "cell_type": "code",
   "execution_count": 65,
   "metadata": {
    "scrolled": true
   },
   "outputs": [
    {
     "name": "stdout",
     "output_type": "stream",
     "text": [
      "model 훈련 점수 :  1.000\n",
      "model 테스트 점수 :  0.995\n"
     ]
    }
   ],
   "source": [
    "print('model 훈련 점수 : {: .3f}'.format(model5_d.score (x_train_d, y_train_d)))\n",
    "print('model 테스트 점수 : {: .3f}'.format(model5_d.score (x_test_d, y_test_d)))"
   ]
  },
  {
   "cell_type": "markdown",
   "metadata": {},
   "source": [
    "### Colab 실행결과"
   ]
  },
  {
   "cell_type": "markdown",
   "metadata": {},
   "source": [
    "# "
   ]
  },
  {
   "cell_type": "markdown",
   "metadata": {},
   "source": [
    "## 성능(연산속도 or 정확도) 낮음"
   ]
  },
  {
   "cell_type": "code",
   "execution_count": 63,
   "metadata": {},
   "outputs": [
    {
     "name": "stderr",
     "output_type": "stream",
     "text": [
      "C:\\ProgramData\\Anaconda3\\lib\\site-packages\\sklearn\\utils\\validation.py:993: DataConversionWarning: A column-vector y was passed when a 1d array was expected. Please change the shape of y to (n_samples, ), for example using ravel().\n",
      "  y = column_or_1d(y, warn=True)\n"
     ]
    },
    {
     "name": "stdout",
     "output_type": "stream",
     "text": [
      "time : 343.5571677684784\n"
     ]
    }
   ],
   "source": [
    "start = time.time()\n",
    "model6_d=SVC(kernel='rbf',C=0.5,gamma=1).fit(x_train_d,y_train_d)\n",
    "print(\"time :\", time.time() - start)"
   ]
  },
  {
   "cell_type": "code",
   "execution_count": 66,
   "metadata": {},
   "outputs": [
    {
     "name": "stdout",
     "output_type": "stream",
     "text": [
      "model 훈련 점수 :  0.722\n",
      "model 테스트 점수 :  0.711\n"
     ]
    }
   ],
   "source": [
    "print('model 훈련 점수 : {: .3f}'.format(model6_d.score (x_train_d, y_train_d)))\n",
    "print('model 테스트 점수 : {: .3f}'.format(model6_d.score (x_test_d, y_test_d)))"
   ]
  },
  {
   "cell_type": "code",
   "execution_count": 64,
   "metadata": {},
   "outputs": [
    {
     "name": "stderr",
     "output_type": "stream",
     "text": [
      "C:\\ProgramData\\Anaconda3\\lib\\site-packages\\sklearn\\utils\\validation.py:993: DataConversionWarning: A column-vector y was passed when a 1d array was expected. Please change the shape of y to (n_samples, ), for example using ravel().\n",
      "  y = column_or_1d(y, warn=True)\n"
     ]
    },
    {
     "name": "stdout",
     "output_type": "stream",
     "text": [
      "time : 631.4597039222717\n"
     ]
    }
   ],
   "source": [
    "start = time.time()\n",
    "model3_d=SVC(kernel='rbf',C=5,gamma=3).fit(x_train_d,y_train_d)\n",
    "print(\"time :\", time.time() - start)"
   ]
  },
  {
   "cell_type": "code",
   "execution_count": 68,
   "metadata": {
    "scrolled": true
   },
   "outputs": [
    {
     "name": "stdout",
     "output_type": "stream",
     "text": [
      "model 훈련 점수 :  1.000\n",
      "model 테스트 점수 :  0.998\n"
     ]
    }
   ],
   "source": [
    "print('model 훈련 점수 : {: .3f}'.format(model3_d.score (x_train_d, y_train_d)))\n",
    "print('model 테스트 점수 : {: .3f}'.format(model3_d.score (x_test_d, y_test_d)))"
   ]
  },
  {
   "cell_type": "markdown",
   "metadata": {},
   "source": [
    "## 성능 평가"
   ]
  },
  {
   "cell_type": "code",
   "execution_count": 80,
   "metadata": {},
   "outputs": [
    {
     "data": {
      "text/plain": [
       "24"
      ]
     },
     "execution_count": 80,
     "metadata": {},
     "output_type": "execute_result"
    }
   ],
   "source": [
    "model5_d.n_features_in_"
   ]
  },
  {
   "cell_type": "code",
   "execution_count": 127,
   "metadata": {},
   "outputs": [
    {
     "name": "stdout",
     "output_type": "stream",
     "text": [
      "time : 297.63191056251526\n"
     ]
    }
   ],
   "source": [
    "start = time.time()\n",
    "\n",
    "pred2=model5_d.predict(x_train_d)\n",
    "confusion_m=confusion_matrix( y_train_d, pred2)\n",
    "\n",
    "print(\"time :\", time.time() - start)"
   ]
  },
  {
   "cell_type": "code",
   "execution_count": 128,
   "metadata": {},
   "outputs": [
    {
     "name": "stdout",
     "output_type": "stream",
     "text": [
      "[[28201     0]\n",
      " [    0 16352]]\n"
     ]
    }
   ],
   "source": [
    "print(confusion_m)"
   ]
  },
  {
   "cell_type": "code",
   "execution_count": 74,
   "metadata": {},
   "outputs": [
    {
     "name": "stdout",
     "output_type": "stream",
     "text": [
      "time : 58.323668479919434\n"
     ]
    }
   ],
   "source": [
    "start = time.time()\n",
    "\n",
    "pred_t2=model5_d.predict(x_test_d)\n",
    "confusion_m2=confusion_matrix( y_test_d, pred_t)\n",
    "\n",
    "print(\"time :\", time.time() - start)"
   ]
  },
  {
   "cell_type": "code",
   "execution_count": 129,
   "metadata": {},
   "outputs": [
    {
     "name": "stdout",
     "output_type": "stream",
     "text": [
      "[[7036    0]\n",
      " [  57 4046]]\n"
     ]
    }
   ],
   "source": [
    "print(confusion_m2)"
   ]
  },
  {
   "cell_type": "markdown",
   "metadata": {},
   "source": [
    "### Colab 실행결과"
   ]
  },
  {
   "attachments": {
    "image.png": {
     "image/png": "[encoded data removed]"
    }
   },
   "cell_type": "markdown",
   "metadata": {},
   "source": [
    "![image.png](attachment:image.png)"
   ]
  },
  {
   "cell_type": "markdown",
   "metadata": {},
   "source": [
    "### 테스트 데이터의 정확도, 정밀도, 재현율, f1score"
   ]
  },
  {
   "cell_type": "code",
   "execution_count": 91,
   "metadata": {},
   "outputs": [
    {
     "name": "stdout",
     "output_type": "stream",
     "text": [
      "0.023177623748779297\n"
     ]
    }
   ],
   "source": [
    "start=time.time()\n",
    "acc=accuracy_score(y_test_s,pred_t)\n",
    "pre=precision_score(y_test_s , pred_t)\n",
    "rec=recall_score(y_test_s , pred_t)\n",
    "f1=f1_score(y_test_s,pred_t)\n",
    "auc=roc_auc_score(y_test_s, pred_t)\n",
    "print(time.time()-start)"
   ]
  },
  {
   "cell_type": "code",
   "execution_count": 94,
   "metadata": {
    "scrolled": true
   },
   "outputs": [
    {
     "name": "stdout",
     "output_type": "stream",
     "text": [
      "정확도 : 0.995\n",
      "정밀도 : 1.000\n",
      "재현율 : 0.986\n",
      "F1_score : 0.993\n",
      "ROC_AUC_score : 0.993\n"
     ]
    }
   ],
   "source": [
    "# 정확도\n",
    "print('정확도 : {:.3f}'.format(acc))\n",
    "# 정밀도\n",
    "print('정밀도 : {:.3f}'.format(pre))\n",
    "# 재현율\n",
    "print('재현율 : {:.3f}'.format(rec))\n",
    "# f1_score\n",
    "print('F1_score : {:.3f}'.format(f1))\n",
    "# AUC score \n",
    "print('ROC_AUC_score : {:.3f}'.format(auc))"
   ]
  },
  {
   "cell_type": "markdown",
   "metadata": {},
   "source": [
    "## 모델 저장"
   ]
  },
  {
   "cell_type": "code",
   "execution_count": null,
   "metadata": {},
   "outputs": [],
   "source": [
    "joblib.dump(model5_d, './model5_d.pkl')\n",
    "joblib.dump(model3_d, './model3_d.pkl')\n",
    "joblib.dump(model4_d, './model4_d.pkl')"
   ]
  },
  {
   "cell_type": "markdown",
   "metadata": {},
   "source": [
    "# 최종 모델"
   ]
  },
  {
   "cell_type": "markdown",
   "metadata": {},
   "source": [
    "하이퍼파라미터: kernel=rbf, C=1, gamma=3"
   ]
  },
  {
   "cell_type": "code",
   "execution_count": 82,
   "metadata": {},
   "outputs": [
    {
     "data": {
      "text/plain": [
       "SVC(gamma=3)"
      ]
     },
     "execution_count": 82,
     "metadata": {},
     "output_type": "execute_result"
    }
   ],
   "source": [
    "model5_d"
   ]
  },
  {
   "cell_type": "code",
   "execution_count": 88,
   "metadata": {},
   "outputs": [],
   "source": [
    "import seaborn as sns"
   ]
  },
  {
   "cell_type": "code",
   "execution_count": 125,
   "metadata": {},
   "outputs": [
    {
     "data": {
      "text/html": [
       "<div>\n",
       "<style scoped>\n",
       "    .dataframe tbody tr th:only-of-type {\n",
       "        vertical-align: middle;\n",
       "    }\n",
       "\n",
       "    .dataframe tbody tr th {\n",
       "        vertical-align: top;\n",
       "    }\n",
       "\n",
       "    .dataframe thead th {\n",
       "        text-align: right;\n",
       "    }\n",
       "</style>\n",
       "<table border=\"1\" class=\"dataframe\">\n",
       "  <thead>\n",
       "    <tr style=\"text-align: right;\">\n",
       "      <th></th>\n",
       "      <th>Actual Positive:1</th>\n",
       "      <th>Actual Negative:0</th>\n",
       "    </tr>\n",
       "  </thead>\n",
       "  <tbody>\n",
       "    <tr>\n",
       "      <th>Predict Positive:1</th>\n",
       "      <td>7036</td>\n",
       "      <td>0</td>\n",
       "    </tr>\n",
       "    <tr>\n",
       "      <th>Predict Negative:0</th>\n",
       "      <td>57</td>\n",
       "      <td>4046</td>\n",
       "    </tr>\n",
       "  </tbody>\n",
       "</table>\n",
       "</div>"
      ],
      "text/plain": [
       "                    Actual Positive:1  Actual Negative:0\n",
       "Predict Positive:1               7036                  0\n",
       "Predict Negative:0                 57               4046"
      ]
     },
     "execution_count": 125,
     "metadata": {},
     "output_type": "execute_result"
    }
   ],
   "source": [
    "cm_t = pd.DataFrame(data=confusion_m, columns=['Actual Positive:1', 'Actual Negative:0'], \n",
    "                                 index=['Predict Positive:1', 'Predict Negative:0'])\n",
    "cm_t"
   ]
  },
  {
   "cell_type": "code",
   "execution_count": 126,
   "metadata": {},
   "outputs": [
    {
     "data": {
      "text/plain": [
       "<AxesSubplot:>"
      ]
     },
     "execution_count": 126,
     "metadata": {},
     "output_type": "execute_result"
    },
    {
     "data": {
      "image/png": "[encoded data removed]",
      "text/plain": [
       "<Figure size 432x288 with 2 Axes>"
      ]
     },
     "metadata": {
      "needs_background": "light"
     },
     "output_type": "display_data"
    }
   ],
   "source": [
    "sns.heatmap(cm_t, annot=True, fmt='d', cmap='YlGnBu')"
   ]
  },
  {
   "cell_type": "code",
   "execution_count": 120,
   "metadata": {},
   "outputs": [],
   "source": [
    "score=[acc,pre,rec,f1,auc]"
   ]
  },
  {
   "cell_type": "code",
   "execution_count": 121,
   "metadata": {},
   "outputs": [
    {
     "data": {
      "text/plain": [
       "[0.9948828440614059,\n",
       " 1.0,\n",
       " 0.9861077260541068,\n",
       " 0.9930052767210702,\n",
       " 0.9930538630270533]"
      ]
     },
     "execution_count": 121,
     "metadata": {},
     "output_type": "execute_result"
    }
   ],
   "source": [
    "score"
   ]
  },
  {
   "cell_type": "code",
   "execution_count": 133,
   "metadata": {},
   "outputs": [
    {
     "data": {
      "text/html": [
       "<div>\n",
       "<style scoped>\n",
       "    .dataframe tbody tr th:only-of-type {\n",
       "        vertical-align: middle;\n",
       "    }\n",
       "\n",
       "    .dataframe tbody tr th {\n",
       "        vertical-align: top;\n",
       "    }\n",
       "\n",
       "    .dataframe thead th {\n",
       "        text-align: right;\n",
       "    }\n",
       "</style>\n",
       "<table border=\"1\" class=\"dataframe\">\n",
       "  <thead>\n",
       "    <tr style=\"text-align: right;\">\n",
       "      <th></th>\n",
       "      <th>summary</th>\n",
       "    </tr>\n",
       "  </thead>\n",
       "  <tbody>\n",
       "    <tr>\n",
       "      <th>정확도</th>\n",
       "      <td>0.994883</td>\n",
       "    </tr>\n",
       "    <tr>\n",
       "      <th>정밀도</th>\n",
       "      <td>1.000000</td>\n",
       "    </tr>\n",
       "    <tr>\n",
       "      <th>재현율</th>\n",
       "      <td>0.986108</td>\n",
       "    </tr>\n",
       "    <tr>\n",
       "      <th>F1_score</th>\n",
       "      <td>0.993005</td>\n",
       "    </tr>\n",
       "    <tr>\n",
       "      <th>ROC_auc_score</th>\n",
       "      <td>0.993054</td>\n",
       "    </tr>\n",
       "  </tbody>\n",
       "</table>\n",
       "</div>"
      ],
      "text/plain": [
       "                summary\n",
       "정확도            0.994883\n",
       "정밀도            1.000000\n",
       "재현율            0.986108\n",
       "F1_score       0.993005\n",
       "ROC_auc_score  0.993054"
      ]
     },
     "execution_count": 133,
     "metadata": {},
     "output_type": "execute_result"
    }
   ],
   "source": [
    "pd.DataFrame(score,index=['정확도','정밀도','재현율','F1_score','ROC_auc_score'],columns=['summary'])"
   ]
  },
  {
   "cell_type": "code",
   "execution_count": 137,
   "metadata": {},
   "outputs": [],
   "source": [
    "pr=pred_t2.astype(float)"
   ]
  },
  {
   "cell_type": "code",
   "execution_count": 138,
   "metadata": {},
   "outputs": [
    {
     "data": {
      "text/plain": [
       "11139"
      ]
     },
     "execution_count": 138,
     "metadata": {},
     "output_type": "execute_result"
    }
   ],
   "source": [
    "len(pr)"
   ]
  },
  {
   "cell_type": "code",
   "execution_count": null,
   "metadata": {},
   "outputs": [],
   "source": []
  },
  {
   "cell_type": "code",
   "execution_count": null,
   "metadata": {},
   "outputs": [],
   "source": []
  },
  {
   "cell_type": "code",
   "execution_count": null,
   "metadata": {},
   "outputs": [],
   "source": []
  },
  {
   "cell_type": "code",
   "execution_count": null,
   "metadata": {},
   "outputs": [],
   "source": []
  },
  {
   "cell_type": "code",
   "execution_count": null,
   "metadata": {},
   "outputs": [],
   "source": []
  },
  {
   "cell_type": "code",
   "execution_count": null,
   "metadata": {},
   "outputs": [],
   "source": []
  },
  {
   "cell_type": "code",
   "execution_count": null,
   "metadata": {},
   "outputs": [],
   "source": []
  },
  {
   "cell_type": "code",
   "execution_count": null,
   "metadata": {},
   "outputs": [],
   "source": []
  },
  {
   "cell_type": "code",
   "execution_count": null,
   "metadata": {},
   "outputs": [],
   "source": []
  },
  {
   "cell_type": "code",
   "execution_count": null,
   "metadata": {},
   "outputs": [],
   "source": []
  },
  {
   "cell_type": "code",
   "execution_count": null,
   "metadata": {},
   "outputs": [],
   "source": []
  },
  {
   "cell_type": "code",
   "execution_count": null,
   "metadata": {},
   "outputs": [],
   "source": []
  },
  {
   "cell_type": "code",
   "execution_count": null,
   "metadata": {},
   "outputs": [],
   "source": []
  },
  {
   "cell_type": "markdown",
   "metadata": {},
   "source": [
    "### ROC CURVE"
   ]
  },
  {
   "cell_type": "code",
   "execution_count": null,
   "metadata": {},
   "outputs": [],
   "source": [
    "# 하이퍼파라미터 probability=True를 추가하면 약 2시간 소요"
   ]
  },
  {
   "cell_type": "code",
   "execution_count": null,
   "metadata": {
    "scrolled": true
   },
   "outputs": [],
   "source": [
    "start = time.time()\n",
    "model3_s=SVC(kernel='rbf',C=5,gamma=3,probability=True).fit(x_train_s,y_train_s)\n",
    "\n",
    "print('model 훈련 점수 : {: .3f}'.format(model3_s.score (x_train_s, y_train_s)))\n",
    "print('model 테스트 점수 : {: .3f}'.format(model3_s.score (x_test_s, y_test_s)))\n",
    "print(\"time :\", time.time() - start)"
   ]
  },
  {
   "cell_type": "code",
   "execution_count": null,
   "metadata": {},
   "outputs": [],
   "source": [
    "pred_proba=model3_s.predict_proba(x_test_s)[:,1]\n",
    "fprs,tprs,thresholds=roc_curve(y_test_s,pred_proba)"
   ]
  },
  {
   "cell_type": "code",
   "execution_count": null,
   "metadata": {},
   "outputs": [],
   "source": [
    "from sklearn.metrics import roc_curve\n",
    "import matplotlib.pyplot as plt"
   ]
  },
  {
   "cell_type": "code",
   "execution_count": null,
   "metadata": {
    "scrolled": true
   },
   "outputs": [],
   "source": [
    "plt.plot(fprs,tprs)"
   ]
  }
 ],
 "metadata": {
  "kernelspec": {
   "display_name": "Python 3 (ipykernel)",
   "language": "python",
   "name": "python3"
  },
  "language_info": {
   "codemirror_mode": {
    "name": "ipython",
    "version": 3
   },
   "file_extension": ".py",
   "mimetype": "text/x-python",
   "name": "python",
   "nbconvert_exporter": "python",
   "pygments_lexer": "ipython3",
   "version": "3.9.12"
  }
 },
 "nbformat": 4,
 "nbformat_minor": 4
}
